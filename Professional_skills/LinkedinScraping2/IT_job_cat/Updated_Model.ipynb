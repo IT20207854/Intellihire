{
 "cells": [
  {
   "attachments": {},
   "cell_type": "markdown",
   "metadata": {},
   "source": [
    "Multi class Text Classification Model to Predict Desired Job Category"
   ]
  },
  {
   "cell_type": "code",
   "execution_count": 1,
   "metadata": {},
   "outputs": [],
   "source": [
    "from ScrapeLinkedin import *\n",
    "#import libraries \n",
    "import pandas as pd \n",
    "import numpy as np\n",
    "import matplotlib.pyplot as plt\n",
    "import seaborn as sns\n",
    "\n",
    "\n",
    "from sklearn.preprocessing import MinMaxScaler\n",
    "from sklearn import metrics\n",
    "from sklearn import svm\n",
    "from sklearn.ensemble import RandomForestClassifier\n",
    "from sklearn.model_selection import train_test_split\n",
    "\n",
    "import warnings\n",
    "%matplotlib inline\n",
    "warnings.filterwarnings('ignore')"
   ]
  },
  {
   "cell_type": "code",
   "execution_count": 2,
   "metadata": {},
   "outputs": [
    {
     "name": "stdout",
     "output_type": "stream",
     "text": [
      "['Linux', 'HTML', 'Image Processing', 'Artificial Intelligence', 'Big Data Analytics', 'Project Management', 'E-commerce SEO', 'Entrepreneurship', 'Social Entrepreneurship', 'Mobile Application Development', 'Business Strategy', 'Consulting', 'Cyber-security', 'Information Security Consultancy', 'Online Marketing Analysis', 'PHP', 'IT Consulting', 'Social Media Consulting', 'E-commerce Consulting', 'Start-up Consulting']\n"
     ]
    }
   ],
   "source": [
    "print(Skills)"
   ]
  },
  {
   "attachments": {},
   "cell_type": "markdown",
   "metadata": {},
   "source": [
    "Retrieve and read the Dataset"
   ]
  },
  {
   "cell_type": "code",
   "execution_count": 3,
   "metadata": {},
   "outputs": [],
   "source": [
    "path = \"new_dataset.csv\" # Define the path"
   ]
  },
  {
   "cell_type": "code",
   "execution_count": 4,
   "metadata": {},
   "outputs": [],
   "source": [
    "#read csv file\n",
    "Df_dataset = pd.read_csv(path)"
   ]
  },
  {
   "cell_type": "code",
   "execution_count": 5,
   "metadata": {},
   "outputs": [
    {
     "data": {
      "text/html": [
       "<div>\n",
       "<style scoped>\n",
       "    .dataframe tbody tr th:only-of-type {\n",
       "        vertical-align: middle;\n",
       "    }\n",
       "\n",
       "    .dataframe tbody tr th {\n",
       "        vertical-align: top;\n",
       "    }\n",
       "\n",
       "    .dataframe thead th {\n",
       "        text-align: right;\n",
       "    }\n",
       "</style>\n",
       "<table border=\"1\" class=\"dataframe\">\n",
       "  <thead>\n",
       "    <tr style=\"text-align: right;\">\n",
       "      <th></th>\n",
       "      <th>index</th>\n",
       "      <th>category</th>\n",
       "      <th>role</th>\n",
       "      <th>clean_skills</th>\n",
       "    </tr>\n",
       "  </thead>\n",
       "  <tbody>\n",
       "    <tr>\n",
       "      <th>0</th>\n",
       "      <td>1</td>\n",
       "      <td>Executive  Leadership</td>\n",
       "      <td>Chief information officer (CIO)</td>\n",
       "      <td>['Strategic leadership','Business acumen','IT ...</td>\n",
       "    </tr>\n",
       "    <tr>\n",
       "      <th>1</th>\n",
       "      <td>2</td>\n",
       "      <td>Executive  Leadership</td>\n",
       "      <td>Chief information security officer</td>\n",
       "      <td>['Cybersecurity expertise','Information securi...</td>\n",
       "    </tr>\n",
       "    <tr>\n",
       "      <th>2</th>\n",
       "      <td>3</td>\n",
       "      <td>Executive  Leadership</td>\n",
       "      <td>Chief technology officer (CTO)</td>\n",
       "      <td>['Technology trends knowledge','Strategic plan...</td>\n",
       "    </tr>\n",
       "    <tr>\n",
       "      <th>3</th>\n",
       "      <td>4</td>\n",
       "      <td>Management and Strategy</td>\n",
       "      <td>IT manager</td>\n",
       "      <td>['Team management and leadership','Project man...</td>\n",
       "    </tr>\n",
       "    <tr>\n",
       "      <th>4</th>\n",
       "      <td>5</td>\n",
       "      <td>Management and Strategy</td>\n",
       "      <td>IT director</td>\n",
       "      <td>['Strategic planning and vision','IT governanc...</td>\n",
       "    </tr>\n",
       "  </tbody>\n",
       "</table>\n",
       "</div>"
      ],
      "text/plain": [
       "   index                 category                                 role   \n",
       "0      1    Executive  Leadership      Chief information officer (CIO)  \\\n",
       "1      2    Executive  Leadership  Chief information security officer    \n",
       "2      3    Executive  Leadership       Chief technology officer (CTO)   \n",
       "3      4  Management and Strategy                           IT manager   \n",
       "4      5  Management and Strategy                          IT director   \n",
       "\n",
       "                                        clean_skills  \n",
       "0  ['Strategic leadership','Business acumen','IT ...  \n",
       "1  ['Cybersecurity expertise','Information securi...  \n",
       "2  ['Technology trends knowledge','Strategic plan...  \n",
       "3  ['Team management and leadership','Project man...  \n",
       "4  ['Strategic planning and vision','IT governanc...  "
      ]
     },
     "execution_count": 5,
     "metadata": {},
     "output_type": "execute_result"
    }
   ],
   "source": [
    "#To view the first few rows,\n",
    "Df_dataset.head()"
   ]
  },
  {
   "cell_type": "code",
   "execution_count": 6,
   "metadata": {},
   "outputs": [
    {
     "data": {
      "text/html": [
       "<div>\n",
       "<style scoped>\n",
       "    .dataframe tbody tr th:only-of-type {\n",
       "        vertical-align: middle;\n",
       "    }\n",
       "\n",
       "    .dataframe tbody tr th {\n",
       "        vertical-align: top;\n",
       "    }\n",
       "\n",
       "    .dataframe thead th {\n",
       "        text-align: right;\n",
       "    }\n",
       "</style>\n",
       "<table border=\"1\" class=\"dataframe\">\n",
       "  <thead>\n",
       "    <tr style=\"text-align: right;\">\n",
       "      <th></th>\n",
       "      <th>index</th>\n",
       "      <th>category</th>\n",
       "      <th>role</th>\n",
       "      <th>clean_skills</th>\n",
       "    </tr>\n",
       "  </thead>\n",
       "  <tbody>\n",
       "    <tr>\n",
       "      <th>66</th>\n",
       "      <td>67</td>\n",
       "      <td>Product and Project Management</td>\n",
       "      <td>Technical product manager</td>\n",
       "      <td>['Proficiency in product management methodolog...</td>\n",
       "    </tr>\n",
       "    <tr>\n",
       "      <th>67</th>\n",
       "      <td>68</td>\n",
       "      <td>Product and Project Management</td>\n",
       "      <td>Product manager</td>\n",
       "      <td>['Proficiency in product management methodolog...</td>\n",
       "    </tr>\n",
       "    <tr>\n",
       "      <th>68</th>\n",
       "      <td>69</td>\n",
       "      <td>Product and Project Management</td>\n",
       "      <td>Project manager</td>\n",
       "      <td>['Proficiency in project management methodolog...</td>\n",
       "    </tr>\n",
       "    <tr>\n",
       "      <th>69</th>\n",
       "      <td>70</td>\n",
       "      <td>Managent and Strategy</td>\n",
       "      <td>Program manager</td>\n",
       "      <td>['Proficiency in program management methodolog...</td>\n",
       "    </tr>\n",
       "    <tr>\n",
       "      <th>70</th>\n",
       "      <td>71</td>\n",
       "      <td>Managent and Strategy</td>\n",
       "      <td>Portfolio manager</td>\n",
       "      <td>['Proficiency in portfolio management methodol...</td>\n",
       "    </tr>\n",
       "  </tbody>\n",
       "</table>\n",
       "</div>"
      ],
      "text/plain": [
       "    index                        category                       role   \n",
       "66     67  Product and Project Management  Technical product manager  \\\n",
       "67     68  Product and Project Management            Product manager   \n",
       "68     69  Product and Project Management            Project manager   \n",
       "69     70           Managent and Strategy            Program manager   \n",
       "70     71           Managent and Strategy          Portfolio manager   \n",
       "\n",
       "                                         clean_skills  \n",
       "66  ['Proficiency in product management methodolog...  \n",
       "67  ['Proficiency in product management methodolog...  \n",
       "68  ['Proficiency in project management methodolog...  \n",
       "69  ['Proficiency in program management methodolog...  \n",
       "70  ['Proficiency in portfolio management methodol...  "
      ]
     },
     "execution_count": 6,
     "metadata": {},
     "output_type": "execute_result"
    }
   ],
   "source": [
    "#To view the last few rows,\n",
    "Df_dataset.tail()"
   ]
  },
  {
   "cell_type": "code",
   "execution_count": 7,
   "metadata": {},
   "outputs": [
    {
     "data": {
      "text/plain": [
       "array(['index', 'category', 'role', 'clean_skills'], dtype=object)"
      ]
     },
     "execution_count": 7,
     "metadata": {},
     "output_type": "execute_result"
    }
   ],
   "source": [
    "#get the column headings of the data set\n",
    "Df_dataset.columns.values"
   ]
  },
  {
   "cell_type": "code",
   "execution_count": 8,
   "metadata": {},
   "outputs": [
    {
     "data": {
      "text/plain": [
       "index            int64\n",
       "category        object\n",
       "role            object\n",
       "clean_skills    object\n",
       "dtype: object"
      ]
     },
     "execution_count": 8,
     "metadata": {},
     "output_type": "execute_result"
    }
   ],
   "source": [
    "#Explore the data types of the columns\n",
    "Df_dataset.dtypes"
   ]
  },
  {
   "cell_type": "code",
   "execution_count": 9,
   "metadata": {},
   "outputs": [
    {
     "name": "stdout",
     "output_type": "stream",
     "text": [
      "Column\t\t\t\t\t Null Values%\n",
      "A total of 0 deleted !\n"
     ]
    }
   ],
   "source": [
    "#check for the columns which have missing values more than 30%\n",
    "col_num=0\n",
    "TotalObjects =Df_dataset.shape[0]\n",
    "print (\"Column\\t\\t\\t\\t\\t Null Values%\")\n",
    "for x in Df_dataset:\n",
    "    nullCount =Df_dataset[x].isnull().sum();\n",
    "    nullPercent = nullCount*100 / (TotalObjects)\n",
    "    if nullCount > 0 and nullPercent > 30 :\n",
    "       col_num=col_num+1\n",
    "       Df_dataset.drop(x, axis=1,inplace=True)\n",
    "       print(str(x)+\"\\t\\t\\t\\t\\t \"+str(nullPercent))\n",
    "print (\"A total of \"+str(col_num)+\" deleted !\") "
   ]
  },
  {
   "cell_type": "code",
   "execution_count": 10,
   "metadata": {},
   "outputs": [
    {
     "name": "stdout",
     "output_type": "stream",
     "text": [
      "<class 'pandas.core.frame.DataFrame'>\n",
      "RangeIndex: 71 entries, 0 to 70\n",
      "Data columns (total 4 columns):\n",
      " #   Column        Non-Null Count  Dtype \n",
      "---  ------        --------------  ----- \n",
      " 0   index         71 non-null     int64 \n",
      " 1   category      71 non-null     object\n",
      " 2   role          71 non-null     object\n",
      " 3   clean_skills  71 non-null     object\n",
      "dtypes: int64(1), object(3)\n",
      "memory usage: 2.3+ KB\n"
     ]
    }
   ],
   "source": [
    "#To get an idea about the null values\n",
    "Df_dataset.info()"
   ]
  },
  {
   "cell_type": "code",
   "execution_count": 11,
   "metadata": {},
   "outputs": [
    {
     "data": {
      "text/plain": [
       "index           0\n",
       "category        0\n",
       "role            0\n",
       "clean_skills    0\n",
       "dtype: int64"
      ]
     },
     "execution_count": 11,
     "metadata": {},
     "output_type": "execute_result"
    }
   ],
   "source": [
    "#Getting the null value count\n",
    "Df_dataset.isnull().sum()"
   ]
  },
  {
   "cell_type": "code",
   "execution_count": 12,
   "metadata": {},
   "outputs": [
    {
     "data": {
      "text/plain": [
       "array(['Executive  Leadership', 'Management and Strategy',\n",
       "       'Architecture and Design', 'Insfastructure and Operations',\n",
       "       'Development and Engineering', 'Data Management',\n",
       "       'Data and Analytics', 'Security and Privacy',\n",
       "       'Software Development and Engineering',\n",
       "       'User Experience and Design', 'Product and Project Management',\n",
       "       'Managent and Strategy'], dtype=object)"
      ]
     },
     "execution_count": 12,
     "metadata": {},
     "output_type": "execute_result"
    }
   ],
   "source": [
    "pd.unique(Df_dataset['category'].values) "
   ]
  },
  {
   "cell_type": "code",
   "execution_count": 13,
   "metadata": {},
   "outputs": [],
   "source": [
    "import os\n",
    "import pandas as pd\n",
    "import numpy as np\n",
    "from scipy.stats import randint\n",
    "import seaborn as sns # used for plot interactive graph.\n",
    "import matplotlib.pyplot as plt\n",
    "import seaborn as sns\n",
    "from io import StringIO\n",
    "from sklearn.feature_extraction.text import TfidfVectorizer\n",
    "from sklearn.feature_selection import chi2\n",
    "from IPython.display import display\n",
    "from sklearn.model_selection import train_test_split\n",
    "from sklearn.feature_extraction.text import TfidfTransformer\n",
    "from sklearn.naive_bayes import MultinomialNB\n",
    "from sklearn.linear_model import LogisticRegression\n",
    "from sklearn.ensemble import RandomForestClassifier\n",
    "from sklearn.svm import LinearSVC\n",
    "from sklearn.model_selection import cross_val_score\n",
    "from sklearn.metrics import confusion_matrix\n",
    "from sklearn import metrics"
   ]
  },
  {
   "cell_type": "code",
   "execution_count": 14,
   "metadata": {},
   "outputs": [
    {
     "name": "stdout",
     "output_type": "stream",
     "text": [
      "(71, 4)\n"
     ]
    }
   ],
   "source": [
    "# loading data\n",
    "df = pd.read_csv('new_dataset.csv') # create a dataframe to store data\n",
    "print(df.shape)"
   ]
  },
  {
   "cell_type": "code",
   "execution_count": 15,
   "metadata": {},
   "outputs": [
    {
     "data": {
      "text/html": [
       "<div>\n",
       "<style scoped>\n",
       "    .dataframe tbody tr th:only-of-type {\n",
       "        vertical-align: middle;\n",
       "    }\n",
       "\n",
       "    .dataframe tbody tr th {\n",
       "        vertical-align: top;\n",
       "    }\n",
       "\n",
       "    .dataframe thead th {\n",
       "        text-align: right;\n",
       "    }\n",
       "</style>\n",
       "<table border=\"1\" class=\"dataframe\">\n",
       "  <thead>\n",
       "    <tr style=\"text-align: right;\">\n",
       "      <th></th>\n",
       "      <th>0</th>\n",
       "      <th>1</th>\n",
       "      <th>2</th>\n",
       "    </tr>\n",
       "  </thead>\n",
       "  <tbody>\n",
       "    <tr>\n",
       "      <th>index</th>\n",
       "      <td>1</td>\n",
       "      <td>2</td>\n",
       "      <td>3</td>\n",
       "    </tr>\n",
       "    <tr>\n",
       "      <th>category</th>\n",
       "      <td>Executive  Leadership</td>\n",
       "      <td>Executive  Leadership</td>\n",
       "      <td>Executive  Leadership</td>\n",
       "    </tr>\n",
       "    <tr>\n",
       "      <th>role</th>\n",
       "      <td>Chief information officer (CIO)</td>\n",
       "      <td>Chief information security officer</td>\n",
       "      <td>Chief technology officer (CTO)</td>\n",
       "    </tr>\n",
       "    <tr>\n",
       "      <th>clean_skills</th>\n",
       "      <td>['Strategic leadership','Business acumen','IT ...</td>\n",
       "      <td>['Cybersecurity expertise','Information securi...</td>\n",
       "      <td>['Technology trends knowledge','Strategic plan...</td>\n",
       "    </tr>\n",
       "  </tbody>\n",
       "</table>\n",
       "</div>"
      ],
      "text/plain": [
       "                                                              0   \n",
       "index                                                         1  \\\n",
       "category                                  Executive  Leadership   \n",
       "role                            Chief information officer (CIO)   \n",
       "clean_skills  ['Strategic leadership','Business acumen','IT ...   \n",
       "\n",
       "                                                              1   \n",
       "index                                                         2  \\\n",
       "category                                  Executive  Leadership   \n",
       "role                        Chief information security officer    \n",
       "clean_skills  ['Cybersecurity expertise','Information securi...   \n",
       "\n",
       "                                                              2  \n",
       "index                                                         3  \n",
       "category                                  Executive  Leadership  \n",
       "role                             Chief technology officer (CTO)  \n",
       "clean_skills  ['Technology trends knowledge','Strategic plan...  "
      ]
     },
     "execution_count": 15,
     "metadata": {},
     "output_type": "execute_result"
    }
   ],
   "source": [
    "df.head(3).T"
   ]
  },
  {
   "cell_type": "code",
   "execution_count": 16,
   "metadata": {},
   "outputs": [
    {
     "data": {
      "text/html": [
       "<div>\n",
       "<style scoped>\n",
       "    .dataframe tbody tr th:only-of-type {\n",
       "        vertical-align: middle;\n",
       "    }\n",
       "\n",
       "    .dataframe tbody tr th {\n",
       "        vertical-align: top;\n",
       "    }\n",
       "\n",
       "    .dataframe thead th {\n",
       "        text-align: right;\n",
       "    }\n",
       "</style>\n",
       "<table border=\"1\" class=\"dataframe\">\n",
       "  <thead>\n",
       "    <tr style=\"text-align: right;\">\n",
       "      <th></th>\n",
       "      <th>clean_skills</th>\n",
       "      <th>category</th>\n",
       "    </tr>\n",
       "  </thead>\n",
       "  <tbody>\n",
       "    <tr>\n",
       "      <th>0</th>\n",
       "      <td>['Strategic leadership','Business acumen','IT ...</td>\n",
       "      <td>Executive  Leadership</td>\n",
       "    </tr>\n",
       "    <tr>\n",
       "      <th>1</th>\n",
       "      <td>['Cybersecurity expertise','Information securi...</td>\n",
       "      <td>Executive  Leadership</td>\n",
       "    </tr>\n",
       "    <tr>\n",
       "      <th>2</th>\n",
       "      <td>['Technology trends knowledge','Strategic plan...</td>\n",
       "      <td>Executive  Leadership</td>\n",
       "    </tr>\n",
       "    <tr>\n",
       "      <th>3</th>\n",
       "      <td>['Team management and leadership','Project man...</td>\n",
       "      <td>Management and Strategy</td>\n",
       "    </tr>\n",
       "    <tr>\n",
       "      <th>4</th>\n",
       "      <td>['Strategic planning and vision','IT governanc...</td>\n",
       "      <td>Management and Strategy</td>\n",
       "    </tr>\n",
       "    <tr>\n",
       "      <th>...</th>\n",
       "      <td>...</td>\n",
       "      <td>...</td>\n",
       "    </tr>\n",
       "    <tr>\n",
       "      <th>66</th>\n",
       "      <td>['Proficiency in product management methodolog...</td>\n",
       "      <td>Product and Project Management</td>\n",
       "    </tr>\n",
       "    <tr>\n",
       "      <th>67</th>\n",
       "      <td>['Proficiency in product management methodolog...</td>\n",
       "      <td>Product and Project Management</td>\n",
       "    </tr>\n",
       "    <tr>\n",
       "      <th>68</th>\n",
       "      <td>['Proficiency in project management methodolog...</td>\n",
       "      <td>Product and Project Management</td>\n",
       "    </tr>\n",
       "    <tr>\n",
       "      <th>69</th>\n",
       "      <td>['Proficiency in program management methodolog...</td>\n",
       "      <td>Managent and Strategy</td>\n",
       "    </tr>\n",
       "    <tr>\n",
       "      <th>70</th>\n",
       "      <td>['Proficiency in portfolio management methodol...</td>\n",
       "      <td>Managent and Strategy</td>\n",
       "    </tr>\n",
       "  </tbody>\n",
       "</table>\n",
       "<p>71 rows × 2 columns</p>\n",
       "</div>"
      ],
      "text/plain": [
       "                                         clean_skills   \n",
       "0   ['Strategic leadership','Business acumen','IT ...  \\\n",
       "1   ['Cybersecurity expertise','Information securi...   \n",
       "2   ['Technology trends knowledge','Strategic plan...   \n",
       "3   ['Team management and leadership','Project man...   \n",
       "4   ['Strategic planning and vision','IT governanc...   \n",
       "..                                                ...   \n",
       "66  ['Proficiency in product management methodolog...   \n",
       "67  ['Proficiency in product management methodolog...   \n",
       "68  ['Proficiency in project management methodolog...   \n",
       "69  ['Proficiency in program management methodolog...   \n",
       "70  ['Proficiency in portfolio management methodol...   \n",
       "\n",
       "                          category  \n",
       "0            Executive  Leadership  \n",
       "1            Executive  Leadership  \n",
       "2            Executive  Leadership  \n",
       "3          Management and Strategy  \n",
       "4          Management and Strategy  \n",
       "..                             ...  \n",
       "66  Product and Project Management  \n",
       "67  Product and Project Management  \n",
       "68  Product and Project Management  \n",
       "69           Managent and Strategy  \n",
       "70           Managent and Strategy  \n",
       "\n",
       "[71 rows x 2 columns]"
      ]
     },
     "execution_count": 16,
     "metadata": {},
     "output_type": "execute_result"
    }
   ],
   "source": [
    "# Create a new dataframe with two columns\n",
    "df1 = df[['clean_skills', 'category']].copy() #create a dataframe to store skills and category column\n",
    "df1"
   ]
  },
  {
   "cell_type": "code",
   "execution_count": 17,
   "metadata": {},
   "outputs": [
    {
     "name": "stdout",
     "output_type": "stream",
     "text": [
      "(71, 2)\n"
     ]
    },
    {
     "data": {
      "text/html": [
       "<div>\n",
       "<style scoped>\n",
       "    .dataframe tbody tr th:only-of-type {\n",
       "        vertical-align: middle;\n",
       "    }\n",
       "\n",
       "    .dataframe tbody tr th {\n",
       "        vertical-align: top;\n",
       "    }\n",
       "\n",
       "    .dataframe thead th {\n",
       "        text-align: right;\n",
       "    }\n",
       "</style>\n",
       "<table border=\"1\" class=\"dataframe\">\n",
       "  <thead>\n",
       "    <tr style=\"text-align: right;\">\n",
       "      <th></th>\n",
       "      <th>0</th>\n",
       "      <th>1</th>\n",
       "      <th>2</th>\n",
       "    </tr>\n",
       "  </thead>\n",
       "  <tbody>\n",
       "    <tr>\n",
       "      <th>clean_skills</th>\n",
       "      <td>['Strategic leadership','Business acumen','IT ...</td>\n",
       "      <td>['Cybersecurity expertise','Information securi...</td>\n",
       "      <td>['Technology trends knowledge','Strategic plan...</td>\n",
       "    </tr>\n",
       "    <tr>\n",
       "      <th>category</th>\n",
       "      <td>Executive  Leadership</td>\n",
       "      <td>Executive  Leadership</td>\n",
       "      <td>Executive  Leadership</td>\n",
       "    </tr>\n",
       "  </tbody>\n",
       "</table>\n",
       "</div>"
      ],
      "text/plain": [
       "                                                              0   \n",
       "clean_skills  ['Strategic leadership','Business acumen','IT ...  \\\n",
       "category                                  Executive  Leadership   \n",
       "\n",
       "                                                              1   \n",
       "clean_skills  ['Cybersecurity expertise','Information securi...  \\\n",
       "category                                  Executive  Leadership   \n",
       "\n",
       "                                                              2  \n",
       "clean_skills  ['Technology trends knowledge','Strategic plan...  \n",
       "category                                  Executive  Leadership  "
      ]
     },
     "execution_count": 17,
     "metadata": {},
     "output_type": "execute_result"
    }
   ],
   "source": [
    "print(df1.shape)\n",
    "df1.head(3).T"
   ]
  },
  {
   "cell_type": "code",
   "execution_count": 18,
   "metadata": {},
   "outputs": [
    {
     "data": {
      "text/plain": [
       "array([['Executive  Leadership'],\n",
       "       ['Management and Strategy'],\n",
       "       ['Architecture and Design'],\n",
       "       ['Insfastructure and Operations'],\n",
       "       ['Development and Engineering'],\n",
       "       ['Data Management'],\n",
       "       ['Data and Analytics'],\n",
       "       ['Security and Privacy'],\n",
       "       ['Software Development and Engineering'],\n",
       "       ['User Experience and Design'],\n",
       "       ['Product and Project Management'],\n",
       "       ['Managent and Strategy']], dtype=object)"
      ]
     },
     "execution_count": 18,
     "metadata": {},
     "output_type": "execute_result"
    }
   ],
   "source": [
    "pd.DataFrame(df1.category.unique()).values   # check for unique categories"
   ]
  },
  {
   "cell_type": "code",
   "execution_count": 19,
   "metadata": {},
   "outputs": [
    {
     "data": {
      "text/html": [
       "<div>\n",
       "<style scoped>\n",
       "    .dataframe tbody tr th:only-of-type {\n",
       "        vertical-align: middle;\n",
       "    }\n",
       "\n",
       "    .dataframe tbody tr th {\n",
       "        vertical-align: top;\n",
       "    }\n",
       "\n",
       "    .dataframe thead th {\n",
       "        text-align: right;\n",
       "    }\n",
       "</style>\n",
       "<table border=\"1\" class=\"dataframe\">\n",
       "  <thead>\n",
       "    <tr style=\"text-align: right;\">\n",
       "      <th></th>\n",
       "      <th>0</th>\n",
       "    </tr>\n",
       "  </thead>\n",
       "  <tbody>\n",
       "    <tr>\n",
       "      <th>0</th>\n",
       "      <td>Executive  Leadership</td>\n",
       "    </tr>\n",
       "    <tr>\n",
       "      <th>1</th>\n",
       "      <td>Management and Strategy</td>\n",
       "    </tr>\n",
       "    <tr>\n",
       "      <th>2</th>\n",
       "      <td>Architecture and Design</td>\n",
       "    </tr>\n",
       "    <tr>\n",
       "      <th>3</th>\n",
       "      <td>Insfastructure and Operations</td>\n",
       "    </tr>\n",
       "    <tr>\n",
       "      <th>4</th>\n",
       "      <td>Development and Engineering</td>\n",
       "    </tr>\n",
       "    <tr>\n",
       "      <th>5</th>\n",
       "      <td>Data Management</td>\n",
       "    </tr>\n",
       "    <tr>\n",
       "      <th>6</th>\n",
       "      <td>Data and Analytics</td>\n",
       "    </tr>\n",
       "    <tr>\n",
       "      <th>7</th>\n",
       "      <td>Security and Privacy</td>\n",
       "    </tr>\n",
       "    <tr>\n",
       "      <th>8</th>\n",
       "      <td>Software Development and Engineering</td>\n",
       "    </tr>\n",
       "    <tr>\n",
       "      <th>9</th>\n",
       "      <td>User Experience and Design</td>\n",
       "    </tr>\n",
       "    <tr>\n",
       "      <th>10</th>\n",
       "      <td>Product and Project Management</td>\n",
       "    </tr>\n",
       "    <tr>\n",
       "      <th>11</th>\n",
       "      <td>Managent and Strategy</td>\n",
       "    </tr>\n",
       "  </tbody>\n",
       "</table>\n",
       "</div>"
      ],
      "text/plain": [
       "                                       0\n",
       "0                  Executive  Leadership\n",
       "1                Management and Strategy\n",
       "2                Architecture and Design\n",
       "3          Insfastructure and Operations\n",
       "4            Development and Engineering\n",
       "5                        Data Management\n",
       "6                     Data and Analytics\n",
       "7                   Security and Privacy\n",
       "8   Software Development and Engineering\n",
       "9             User Experience and Design\n",
       "10        Product and Project Management\n",
       "11                 Managent and Strategy"
      ]
     },
     "execution_count": 19,
     "metadata": {},
     "output_type": "execute_result"
    }
   ],
   "source": [
    "pd.DataFrame(df1.category.unique())  #24 unique job categories"
   ]
  },
  {
   "cell_type": "code",
   "execution_count": 20,
   "metadata": {},
   "outputs": [],
   "source": [
    "# Create a new column 'category_id' with encoded categories \n",
    "df1['category_id'] = df1['category'].factorize()[0]\n",
    "category_id_df = df1[['category', 'category_id']].drop_duplicates()"
   ]
  },
  {
   "cell_type": "code",
   "execution_count": 21,
   "metadata": {},
   "outputs": [
    {
     "data": {
      "text/html": [
       "<div>\n",
       "<style scoped>\n",
       "    .dataframe tbody tr th:only-of-type {\n",
       "        vertical-align: middle;\n",
       "    }\n",
       "\n",
       "    .dataframe tbody tr th {\n",
       "        vertical-align: top;\n",
       "    }\n",
       "\n",
       "    .dataframe thead th {\n",
       "        text-align: right;\n",
       "    }\n",
       "</style>\n",
       "<table border=\"1\" class=\"dataframe\">\n",
       "  <thead>\n",
       "    <tr style=\"text-align: right;\">\n",
       "      <th></th>\n",
       "      <th>clean_skills</th>\n",
       "      <th>category</th>\n",
       "      <th>category_id</th>\n",
       "    </tr>\n",
       "  </thead>\n",
       "  <tbody>\n",
       "    <tr>\n",
       "      <th>0</th>\n",
       "      <td>['Strategic leadership','Business acumen','IT ...</td>\n",
       "      <td>Executive  Leadership</td>\n",
       "      <td>0</td>\n",
       "    </tr>\n",
       "    <tr>\n",
       "      <th>1</th>\n",
       "      <td>['Cybersecurity expertise','Information securi...</td>\n",
       "      <td>Executive  Leadership</td>\n",
       "      <td>0</td>\n",
       "    </tr>\n",
       "    <tr>\n",
       "      <th>2</th>\n",
       "      <td>['Technology trends knowledge','Strategic plan...</td>\n",
       "      <td>Executive  Leadership</td>\n",
       "      <td>0</td>\n",
       "    </tr>\n",
       "    <tr>\n",
       "      <th>3</th>\n",
       "      <td>['Team management and leadership','Project man...</td>\n",
       "      <td>Management and Strategy</td>\n",
       "      <td>1</td>\n",
       "    </tr>\n",
       "    <tr>\n",
       "      <th>4</th>\n",
       "      <td>['Strategic planning and vision','IT governanc...</td>\n",
       "      <td>Management and Strategy</td>\n",
       "      <td>1</td>\n",
       "    </tr>\n",
       "  </tbody>\n",
       "</table>\n",
       "</div>"
      ],
      "text/plain": [
       "                                        clean_skills                 category   \n",
       "0  ['Strategic leadership','Business acumen','IT ...    Executive  Leadership  \\\n",
       "1  ['Cybersecurity expertise','Information securi...    Executive  Leadership   \n",
       "2  ['Technology trends knowledge','Strategic plan...    Executive  Leadership   \n",
       "3  ['Team management and leadership','Project man...  Management and Strategy   \n",
       "4  ['Strategic planning and vision','IT governanc...  Management and Strategy   \n",
       "\n",
       "   category_id  \n",
       "0            0  \n",
       "1            0  \n",
       "2            0  \n",
       "3            1  \n",
       "4            1  "
      ]
     },
     "execution_count": 21,
     "metadata": {},
     "output_type": "execute_result"
    }
   ],
   "source": [
    "# Dictionaries for future use\n",
    "category_to_id = dict(category_id_df.values)\n",
    "id_to_category = dict(category_id_df[['category_id', 'category']].values)\n",
    "# Created new dataframe\n",
    "df1.head()"
   ]
  },
  {
   "cell_type": "code",
   "execution_count": 22,
   "metadata": {},
   "outputs": [
    {
     "data": {
      "image/png": "[encoded data removed]",
      "text/plain": [
       "<Figure size 800x600 with 1 Axes>"
      ]
     },
     "metadata": {},
     "output_type": "display_data"
    }
   ],
   "source": [
    "fig = plt.figure(figsize=(8,6))\n",
    "colors = ['grey','grey','grey','grey','grey','grey','grey','grey','grey',\n",
    "    'grey','darkblue','darkblue','darkblue']\n",
    "df1.groupby('category').clean_skills.count().sort_values().plot.barh(\n",
    "    ylim=0, color=colors, title= 'NUMBER OF SKILLS')\n",
    "plt.xlabel('Number of ocurrences', fontsize = 10);"
   ]
  },
  {
   "attachments": {},
   "cell_type": "markdown",
   "metadata": {},
   "source": [
    "Text Preprocessing"
   ]
  },
  {
   "cell_type": "code",
   "execution_count": 23,
   "metadata": {},
   "outputs": [
    {
     "name": "stdout",
     "output_type": "stream",
     "text": [
      "Each of the 71 skill is represented by 204 features (TF-IDF score of unigrams and bigrams)\n"
     ]
    }
   ],
   "source": [
    "#transform texts into vectors using TFIDF\n",
    "#min_df - remove the words which has occurred in less than ‘min_df’ number of files.\n",
    "#sublinear_tf - If true -> scale the frequency in logarythemic scale\n",
    "#Stop words - remove stop words that predefined in english language\n",
    "tfidf = TfidfVectorizer(sublinear_tf=True, min_df=5,\n",
    "                        ngram_range=(1, 2),  # consider both unigrams and bigrams\n",
    "                        stop_words='english')\n",
    "# Transform each complaint into a vector\n",
    "features = tfidf.fit_transform(df1.clean_skills).toarray()\n",
    "labels = df1.category_id\n",
    "print(\"Each of the %d skill is represented by %d features (TF-IDF score of unigrams and bigrams)\" %(features.shape))"
   ]
  },
  {
   "cell_type": "code",
   "execution_count": 24,
   "metadata": {},
   "outputs": [
    {
     "name": "stdout",
     "output_type": "stream",
     "text": [
      "n==> Architecture and Design:\n",
      "  * Most Correlated Unigrams are: computing, architecture, solutions\n",
      "  * Most Correlated Bigrams are: cloud computing, security compliance, performance optimization\n",
      "n==> Data Management:\n",
      "  * Most Correlated Unigrams are: sql, database, tuning\n",
      "  * Most Correlated Bigrams are: collaboration development, development teams, performance monitoring\n",
      "n==> Data and Analytics:\n",
      "  * Most Correlated Unigrams are: querying, data, visualization\n",
      "  * Most Correlated Bigrams are: understanding database, sql querying, data visualization\n",
      "n==> Development and Engineering:\n",
      "  * Most Correlated Unigrams are: requirements, assurance, business\n",
      "  * Most Correlated Bigrams are: languages python, collaboration stakeholders, quality assurance\n",
      "n==> Executive  Leadership:\n",
      "  * Most Correlated Unigrams are: leadership, strategic, technology\n",
      "  * Most Correlated Bigrams are: security tools, risk assessment, project management\n",
      "n==> Insfastructure and Operations:\n",
      "  * Most Correlated Unigrams are: network, administration, support\n",
      "  * Most Correlated Bigrams are: security compliance, network security, hardware software\n",
      "n==> Management and Strategy:\n",
      "  * Most Correlated Unigrams are: leadership, budgeting, stakeholder\n",
      "  * Most Correlated Bigrams are: communication interpersonal, technology evaluation, stakeholder management\n",
      "n==> Managent and Strategy:\n",
      "  * Most Correlated Unigrams are: risk, strategic, mitigation\n",
      "  * Most Correlated Bigrams are: communication skills, management methodologies, practices understanding\n",
      "n==> Product and Project Management:\n",
      "  * Most Correlated Unigrams are: presentation, trends, customer\n",
      "  * Most Correlated Bigrams are: practices understanding, presentation skills, management methodologies\n",
      "n==> Security and Privacy:\n",
      "  * Most Correlated Unigrams are: incident, response, secure\n",
      "  * Most Correlated Bigrams are: security tools, familiarity security, incident response\n",
      "n==> Software Development and Engineering:\n",
      "  * Most Correlated Unigrams are: java, debugging, version\n",
      "  * Most Correlated Bigrams are: development methodologies, version control, software development\n",
      "n==> User Experience and Design:\n",
      "  * Most Correlated Unigrams are: end, design, user\n",
      "  * Most Correlated Bigrams are: best practices, practices knowledge, design principles\n"
     ]
    }
   ],
   "source": [
    "# Finding the three most correlated terms with each of the product categories\n",
    "N = 3 # top 3 most correlated terms\n",
    "for category, category_id in sorted(category_to_id.items()):\n",
    "  features_chi2 = chi2(features, labels == category_id)\n",
    "  indices = np.argsort(features_chi2[0])  # computes the chi-squared statistic and p-values for each feature against the selected labels.\n",
    "  feature_names = np.array(tfidf.get_feature_names_out())[indices]  # chi-squared scores in ascending order. \n",
    "\n",
    "  unigrams = [v for v in feature_names if len(v.split(' ')) == 1]\n",
    "  bigrams = [v for v in feature_names if len(v.split(' ')) == 2]\n",
    "  print(\"n==> %s:\" %(category))\n",
    "  print(\"  * Most Correlated Unigrams are: %s\" %(', '.join(unigrams[-N:])))\n",
    "  print(\"  * Most Correlated Bigrams are: %s\" %(', '.join(bigrams[-N:])))"
   ]
  },
  {
   "attachments": {},
   "cell_type": "markdown",
   "metadata": {},
   "source": [
    "Split the data to train and test sets"
   ]
  },
  {
   "cell_type": "code",
   "execution_count": 25,
   "metadata": {},
   "outputs": [],
   "source": [
    "#  for train - 75% of data \n",
    "X = df1['clean_skills'] # Collection of documents\n",
    "y = df1['category'] # Target or the labels we want to predict (i.e., the 13 different complaints of products)\n",
    "X_train, X_test, y_train, y_test = train_test_split(X, y, test_size=0.25,random_state = 0)"
   ]
  },
  {
   "attachments": {},
   "cell_type": "markdown",
   "metadata": {},
   "source": [
    "List and loop thorugh the list for classifications models"
   ]
  },
  {
   "cell_type": "code",
   "execution_count": 26,
   "metadata": {},
   "outputs": [],
   "source": [
    "from xgboost import XGBClassifier\n",
    "models = [\n",
    "    RandomForestClassifier(n_estimators=100, max_depth=5, random_state=0),\n",
    "    LinearSVC(),\n",
    "    MultinomialNB(),\n",
    "    LogisticRegression(random_state=0),\n",
    "    XGBClassifier()\n",
    "]"
   ]
  },
  {
   "cell_type": "code",
   "execution_count": 27,
   "metadata": {},
   "outputs": [],
   "source": [
    "# 5 Cross-validation\n",
    "CV = 5\n",
    "cv_df = pd.DataFrame(index=range(CV * len(models)))\n",
    "entries = []\n",
    "for model in models:\n",
    "  model_name = model.__class__.__name__\n",
    "  accuracies = cross_val_score(model, features, labels, scoring='accuracy', cv=CV)\n",
    "  for fold_idx, accuracy in enumerate(accuracies):\n",
    "    entries.append((model_name, fold_idx, accuracy))\n",
    "cv_df = pd.DataFrame(entries, columns=['model_name', 'fold_idx', 'accuracy'])"
   ]
  },
  {
   "cell_type": "code",
   "execution_count": 28,
   "metadata": {},
   "outputs": [
    {
     "data": {
      "text/html": [
       "<div>\n",
       "<style scoped>\n",
       "    .dataframe tbody tr th:only-of-type {\n",
       "        vertical-align: middle;\n",
       "    }\n",
       "\n",
       "    .dataframe tbody tr th {\n",
       "        vertical-align: top;\n",
       "    }\n",
       "\n",
       "    .dataframe thead th {\n",
       "        text-align: right;\n",
       "    }\n",
       "</style>\n",
       "<table border=\"1\" class=\"dataframe\">\n",
       "  <thead>\n",
       "    <tr style=\"text-align: right;\">\n",
       "      <th></th>\n",
       "      <th>model_name</th>\n",
       "      <th>fold_idx</th>\n",
       "      <th>accuracy</th>\n",
       "    </tr>\n",
       "  </thead>\n",
       "  <tbody>\n",
       "    <tr>\n",
       "      <th>0</th>\n",
       "      <td>RandomForestClassifier</td>\n",
       "      <td>0</td>\n",
       "      <td>0.466667</td>\n",
       "    </tr>\n",
       "    <tr>\n",
       "      <th>1</th>\n",
       "      <td>RandomForestClassifier</td>\n",
       "      <td>1</td>\n",
       "      <td>0.714286</td>\n",
       "    </tr>\n",
       "    <tr>\n",
       "      <th>2</th>\n",
       "      <td>RandomForestClassifier</td>\n",
       "      <td>2</td>\n",
       "      <td>0.714286</td>\n",
       "    </tr>\n",
       "    <tr>\n",
       "      <th>3</th>\n",
       "      <td>RandomForestClassifier</td>\n",
       "      <td>3</td>\n",
       "      <td>0.428571</td>\n",
       "    </tr>\n",
       "    <tr>\n",
       "      <th>4</th>\n",
       "      <td>RandomForestClassifier</td>\n",
       "      <td>4</td>\n",
       "      <td>0.571429</td>\n",
       "    </tr>\n",
       "    <tr>\n",
       "      <th>5</th>\n",
       "      <td>LinearSVC</td>\n",
       "      <td>0</td>\n",
       "      <td>0.466667</td>\n",
       "    </tr>\n",
       "    <tr>\n",
       "      <th>6</th>\n",
       "      <td>LinearSVC</td>\n",
       "      <td>1</td>\n",
       "      <td>0.714286</td>\n",
       "    </tr>\n",
       "    <tr>\n",
       "      <th>7</th>\n",
       "      <td>LinearSVC</td>\n",
       "      <td>2</td>\n",
       "      <td>0.857143</td>\n",
       "    </tr>\n",
       "    <tr>\n",
       "      <th>8</th>\n",
       "      <td>LinearSVC</td>\n",
       "      <td>3</td>\n",
       "      <td>0.428571</td>\n",
       "    </tr>\n",
       "    <tr>\n",
       "      <th>9</th>\n",
       "      <td>LinearSVC</td>\n",
       "      <td>4</td>\n",
       "      <td>0.714286</td>\n",
       "    </tr>\n",
       "    <tr>\n",
       "      <th>10</th>\n",
       "      <td>MultinomialNB</td>\n",
       "      <td>0</td>\n",
       "      <td>0.466667</td>\n",
       "    </tr>\n",
       "    <tr>\n",
       "      <th>11</th>\n",
       "      <td>MultinomialNB</td>\n",
       "      <td>1</td>\n",
       "      <td>0.642857</td>\n",
       "    </tr>\n",
       "    <tr>\n",
       "      <th>12</th>\n",
       "      <td>MultinomialNB</td>\n",
       "      <td>2</td>\n",
       "      <td>0.714286</td>\n",
       "    </tr>\n",
       "    <tr>\n",
       "      <th>13</th>\n",
       "      <td>MultinomialNB</td>\n",
       "      <td>3</td>\n",
       "      <td>0.428571</td>\n",
       "    </tr>\n",
       "    <tr>\n",
       "      <th>14</th>\n",
       "      <td>MultinomialNB</td>\n",
       "      <td>4</td>\n",
       "      <td>0.500000</td>\n",
       "    </tr>\n",
       "    <tr>\n",
       "      <th>15</th>\n",
       "      <td>LogisticRegression</td>\n",
       "      <td>0</td>\n",
       "      <td>0.466667</td>\n",
       "    </tr>\n",
       "    <tr>\n",
       "      <th>16</th>\n",
       "      <td>LogisticRegression</td>\n",
       "      <td>1</td>\n",
       "      <td>0.714286</td>\n",
       "    </tr>\n",
       "    <tr>\n",
       "      <th>17</th>\n",
       "      <td>LogisticRegression</td>\n",
       "      <td>2</td>\n",
       "      <td>0.785714</td>\n",
       "    </tr>\n",
       "    <tr>\n",
       "      <th>18</th>\n",
       "      <td>LogisticRegression</td>\n",
       "      <td>3</td>\n",
       "      <td>0.428571</td>\n",
       "    </tr>\n",
       "    <tr>\n",
       "      <th>19</th>\n",
       "      <td>LogisticRegression</td>\n",
       "      <td>4</td>\n",
       "      <td>0.500000</td>\n",
       "    </tr>\n",
       "    <tr>\n",
       "      <th>20</th>\n",
       "      <td>XGBClassifier</td>\n",
       "      <td>0</td>\n",
       "      <td>0.400000</td>\n",
       "    </tr>\n",
       "    <tr>\n",
       "      <th>21</th>\n",
       "      <td>XGBClassifier</td>\n",
       "      <td>1</td>\n",
       "      <td>0.428571</td>\n",
       "    </tr>\n",
       "    <tr>\n",
       "      <th>22</th>\n",
       "      <td>XGBClassifier</td>\n",
       "      <td>2</td>\n",
       "      <td>0.571429</td>\n",
       "    </tr>\n",
       "    <tr>\n",
       "      <th>23</th>\n",
       "      <td>XGBClassifier</td>\n",
       "      <td>3</td>\n",
       "      <td>0.285714</td>\n",
       "    </tr>\n",
       "    <tr>\n",
       "      <th>24</th>\n",
       "      <td>XGBClassifier</td>\n",
       "      <td>4</td>\n",
       "      <td>0.500000</td>\n",
       "    </tr>\n",
       "  </tbody>\n",
       "</table>\n",
       "</div>"
      ],
      "text/plain": [
       "                model_name  fold_idx  accuracy\n",
       "0   RandomForestClassifier         0  0.466667\n",
       "1   RandomForestClassifier         1  0.714286\n",
       "2   RandomForestClassifier         2  0.714286\n",
       "3   RandomForestClassifier         3  0.428571\n",
       "4   RandomForestClassifier         4  0.571429\n",
       "5                LinearSVC         0  0.466667\n",
       "6                LinearSVC         1  0.714286\n",
       "7                LinearSVC         2  0.857143\n",
       "8                LinearSVC         3  0.428571\n",
       "9                LinearSVC         4  0.714286\n",
       "10           MultinomialNB         0  0.466667\n",
       "11           MultinomialNB         1  0.642857\n",
       "12           MultinomialNB         2  0.714286\n",
       "13           MultinomialNB         3  0.428571\n",
       "14           MultinomialNB         4  0.500000\n",
       "15      LogisticRegression         0  0.466667\n",
       "16      LogisticRegression         1  0.714286\n",
       "17      LogisticRegression         2  0.785714\n",
       "18      LogisticRegression         3  0.428571\n",
       "19      LogisticRegression         4  0.500000\n",
       "20           XGBClassifier         0  0.400000\n",
       "21           XGBClassifier         1  0.428571\n",
       "22           XGBClassifier         2  0.571429\n",
       "23           XGBClassifier         3  0.285714\n",
       "24           XGBClassifier         4  0.500000"
      ]
     },
     "execution_count": 28,
     "metadata": {},
     "output_type": "execute_result"
    }
   ],
   "source": [
    "cv_df"
   ]
  },
  {
   "cell_type": "code",
   "execution_count": 29,
   "metadata": {},
   "outputs": [
    {
     "name": "stdout",
     "output_type": "stream",
     "text": [
      "Model: LinearSVC\n",
      "Mean Accuracy: 0.636\n",
      "Standard Deviation: 0.182\n",
      "\n",
      "Model: LogisticRegression\n",
      "Mean Accuracy: 0.579\n",
      "Standard Deviation: 0.160\n",
      "\n",
      "Model: MultinomialNB\n",
      "Mean Accuracy: 0.550\n",
      "Standard Deviation: 0.122\n",
      "\n",
      "Model: RandomForestClassifier\n",
      "Mean Accuracy: 0.579\n",
      "Standard Deviation: 0.134\n",
      "\n",
      "Model: XGBClassifier\n",
      "Mean Accuracy: 0.437\n",
      "Standard Deviation: 0.108\n",
      "\n"
     ]
    }
   ],
   "source": [
    "mean_accuracy = cv_df.groupby('model_name')['accuracy'].mean()\n",
    "std_deviation = cv_df.groupby('model_name')['accuracy'].std()\n",
    "\n",
    "for model_name, accuracy, std_dev in zip(mean_accuracy.index, mean_accuracy, std_deviation):\n",
    "    print(f\"Model: {model_name}\")\n",
    "    print(f\"Mean Accuracy: {accuracy:.3f}\")\n",
    "    print(f\"Standard Deviation: {std_dev:.3f}\")\n",
    "    print()\n"
   ]
  },
  {
   "cell_type": "code",
   "execution_count": 30,
   "metadata": {},
   "outputs": [
    {
     "name": "stdout",
     "output_type": "stream",
     "text": [
      "Model: RandomForestClassifier\n",
      "Mean Accuracy: 0.5790\n",
      "Standard Deviation of Accuracy: 0.1199\n",
      "\n",
      "Model: LinearSVC\n",
      "Mean Accuracy: 0.6638\n",
      "Standard Deviation of Accuracy: 0.1314\n",
      "\n",
      "Model: MultinomialNB\n",
      "Mean Accuracy: 0.5505\n",
      "Standard Deviation of Accuracy: 0.1094\n",
      "\n",
      "Model: LogisticRegression\n",
      "Mean Accuracy: 0.5790\n",
      "Standard Deviation of Accuracy: 0.1432\n",
      "\n",
      "Model: XGBClassifier\n",
      "Mean Accuracy: 0.4371\n",
      "Standard Deviation of Accuracy: 0.0963\n",
      "\n"
     ]
    }
   ],
   "source": [
    "from sklearn.svm import LinearSVC\n",
    "from sklearn.model_selection import GridSearchCV\n",
    "\n",
    "# List of models including LinearSVC\n",
    "models = [\n",
    "    RandomForestClassifier(n_estimators=100, max_depth=5, random_state=0),\n",
    "    LinearSVC(),\n",
    "    MultinomialNB(),\n",
    "    LogisticRegression(random_state=0),\n",
    "    XGBClassifier()\n",
    "]\n",
    "\n",
    "# Hyperparameter grid for LinearSVC\n",
    "svc_param_grid = {\n",
    "    'C': [0.01, 0.1, 1, 10, 100],\n",
    "    'loss': ['hinge', 'squared_hinge']\n",
    "}\n",
    "\n",
    "# Loop through models and perform cross-validation\n",
    "cv_results = []\n",
    "for model in models:\n",
    "    model_name = model.__class__.__name__\n",
    "   \n",
    "    if model_name == 'LinearSVC':\n",
    "        param_grid = svc_param_grid\n",
    "    else:\n",
    "        param_grid = {}\n",
    "\n",
    "    grid_model = GridSearchCV(estimator=model, param_grid=param_grid, scoring='accuracy', cv=CV)\n",
    "    accuracies = cross_val_score(grid_model, features, labels, scoring='accuracy', cv=CV)\n",
    "    \n",
    "    mean_accuracy = np.mean(accuracies)\n",
    "    std_accuracy = np.std(accuracies)\n",
    "    \n",
    "    cv_results.append((model_name, mean_accuracy, std_accuracy))\n",
    "\n",
    "# Display results\n",
    "for model_name, mean_accuracy, std_accuracy in cv_results:\n",
    "    print(f\"Model: {model_name}\")\n",
    "    print(f\"Mean Accuracy: {mean_accuracy:.4f}\")\n",
    "    print(f\"Standard Deviation of Accuracy: {std_accuracy:.4f}\\n\")\n"
   ]
  },
  {
   "cell_type": "code",
   "execution_count": 31,
   "metadata": {},
   "outputs": [
    {
     "data": {
      "image/png": "[encoded data removed]",
      "text/plain": [
       "<Figure size 800x500 with 1 Axes>"
      ]
     },
     "metadata": {},
     "output_type": "display_data"
    }
   ],
   "source": [
    "plt.figure(figsize=(8,5))\n",
    "sns.boxplot(x='model_name', y='accuracy', \n",
    "            data=cv_df, \n",
    "            color='lightblue', \n",
    "            showmeans=True)\n",
    "plt.title(\"MEAN ACCURACY (cv = 5)n\", size=14);"
   ]
  },
  {
   "attachments": {},
   "cell_type": "markdown",
   "metadata": {},
   "source": [
    "Text Classification model evaluation"
   ]
  },
  {
   "cell_type": "code",
   "execution_count": 32,
   "metadata": {},
   "outputs": [],
   "source": [
    "X_train, X_test, y_train, y_test,indices_train,indices_test = train_test_split(features, \n",
    "                                                               labels, \n",
    "                                                               df1.index, test_size=0.25, \n",
    "                                                               random_state=1)\n",
    "model = LinearSVC()\n",
    "model.fit(X_train, y_train)\n",
    "y_pred = model.predict(X_test)"
   ]
  },
  {
   "cell_type": "code",
   "execution_count": 33,
   "metadata": {},
   "outputs": [
    {
     "data": {
      "image/png": "[encoded data removed]",
      "text/plain": [
       "<Figure size 800x800 with 2 Axes>"
      ]
     },
     "metadata": {},
     "output_type": "display_data"
    }
   ],
   "source": [
    "#confusion matrix to check miss classified predictions\n",
    "conf_mat = confusion_matrix(y_test, y_pred)\n",
    "fig, ax = plt.subplots(figsize=(8,8))\n",
    "sns.heatmap(conf_mat, annot=True, cmap=\"Blues\", fmt='d',\n",
    "            xticklabels=category_id_df.category.values, \n",
    "            yticklabels=category_id_df.category.values)\n",
    "plt.ylabel('Actual')\n",
    "plt.xlabel('Predicted')\n",
    "plt.title(\"CONFUSION MATRIX - LinearSVCn\", size=16);"
   ]
  },
  {
   "attachments": {},
   "cell_type": "markdown",
   "metadata": {},
   "source": [
    "Prediction"
   ]
  },
  {
   "cell_type": "code",
   "execution_count": 34,
   "metadata": {},
   "outputs": [],
   "source": [
    "X_train, X_test, y_train, y_test = train_test_split(X, y, \n",
    "                                                    test_size=0.25,\n",
    "                                                    random_state = 0)"
   ]
  },
  {
   "cell_type": "code",
   "execution_count": 36,
   "metadata": {},
   "outputs": [],
   "source": [
    "tfidf = TfidfVectorizer(sublinear_tf=True, min_df=5,\n",
    "                        ngram_range=(1, 2), \n",
    "                        stop_words='english')\n",
    "fitted_vectorizer = tfidf.fit(X_train)\n",
    "tfidf_vectorizer_vectors = fitted_vectorizer.transform(X_train)"
   ]
  },
  {
   "cell_type": "code",
   "execution_count": 37,
   "metadata": {},
   "outputs": [],
   "source": [
    "model = LinearSVC().fit(tfidf_vectorizer_vectors, y_train)"
   ]
  },
  {
   "cell_type": "code",
   "execution_count": 76,
   "metadata": {},
   "outputs": [
    {
     "name": "stdout",
     "output_type": "stream",
     "text": [
      "['Linux', 'HTML', 'Image Processing', 'Artificial Intelligence', 'Big Data Analytics', 'Project Management', 'E-commerce SEO', 'Entrepreneurship', 'Social Entrepreneurship', 'Mobile Application Development', 'Business Strategy', 'Consulting', 'Cyber-security', 'Information Security Consultancy', 'Online Marketing Analysis', 'PHP', 'IT Consulting', 'Social Media Consulting', 'E-commerce Consulting', 'Start-up Consulting']\n"
     ]
    }
   ],
   "source": [
    "# # Open the file in read mode\n",
    "# with open('output.txt', 'r') as file:\n",
    "#     # Read the lines from the file\n",
    "#     lines = file.readlines()\n",
    "\n",
    "# # Remove newline characters and whitespace from each line\n",
    "# lines = [line.strip() for line in lines]\n",
    "\n",
    "# # Process the lines and store them in a list\n",
    "# my_list = lines\n",
    "\n",
    "# # Print the list\n",
    "# print(my_list)"
   ]
  },
  {
   "cell_type": "code",
   "execution_count": 38,
   "metadata": {},
   "outputs": [
    {
     "name": "stdout",
     "output_type": "stream",
     "text": [
      "Linux, HTML, Image Processing, Artificial Intelligence, Big Data Analytics, Project Management, E-commerce SEO, Entrepreneurship, Social Entrepreneurship, Mobile Application Development, Business Strategy, Consulting, Cyber-security, Information Security Consultancy, Online Marketing Analysis, PHP, IT Consulting, Social Media Consulting, E-commerce Consulting, Start-up Consulting\n"
     ]
    }
   ],
   "source": [
    "#my_list = ['item1', 'item2', 'item3']\n",
    "\n",
    "# Convert the list to a string with comma-separated elements\n",
    "list_string = ', '.join(Skills)\n",
    "\n",
    "print(list_string)"
   ]
  },
  {
   "cell_type": "code",
   "execution_count": 39,
   "metadata": {},
   "outputs": [
    {
     "name": "stdout",
     "output_type": "stream",
     "text": [
      "['Executive  Leadership']\n"
     ]
    }
   ],
   "source": [
    "skills = list_string\n",
    "print(model.predict(fitted_vectorizer.transform([skills])))"
   ]
  },
  {
   "cell_type": "code",
   "execution_count": 40,
   "metadata": {},
   "outputs": [],
   "source": [
    "import pickle\n",
    "\n",
    "# Make pickle file of our model\n",
    "\n",
    "pickle.dump(model, open(\"model.pkl\", \"wb\"))"
   ]
  },
  {
   "cell_type": "code",
   "execution_count": 41,
   "metadata": {},
   "outputs": [],
   "source": [
    "model = pickle.load(open(\"model.pkl\", \"rb\"))"
   ]
  },
  {
   "cell_type": "code",
   "execution_count": 42,
   "metadata": {},
   "outputs": [
    {
     "name": "stdout",
     "output_type": "stream",
     "text": [
      "['Executive  Leadership']\n"
     ]
    }
   ],
   "source": [
    "skills = list_string\n",
    "print(model.predict(fitted_vectorizer.transform([skills])))"
   ]
  }
 ],
 "metadata": {
  "kernelspec": {
   "display_name": "Python 3",
   "language": "python",
   "name": "python3"
  },
  "language_info": {
   "codemirror_mode": {
    "name": "ipython",
    "version": 3
   },
   "file_extension": ".py",
   "mimetype": "text/x-python",
   "name": "python",
   "nbconvert_exporter": "python",
   "pygments_lexer": "ipython3",
   "version": "3.9.6"
  },
  "orig_nbformat": 4
 },
 "nbformat": 4,
 "nbformat_minor": 2
}
