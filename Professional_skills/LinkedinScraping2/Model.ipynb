{
 "cells": [
  {
   "attachments": {},
   "cell_type": "markdown",
   "metadata": {},
   "source": [
    "Multi class Text Classification Model to Predict Desired Job Category"
   ]
  },
  {
   "cell_type": "code",
   "execution_count": 82,
   "metadata": {},
   "outputs": [],
   "source": [
    "#import libraries \n",
    "import pandas as pd \n",
    "import numpy as np\n",
    "import matplotlib.pyplot as plt\n",
    "import seaborn as sns\n",
    "\n",
    "\n",
    "from sklearn.preprocessing import MinMaxScaler\n",
    "from sklearn import metrics\n",
    "from sklearn import svm\n",
    "from sklearn.ensemble import RandomForestClassifier\n",
    "from sklearn.model_selection import train_test_split\n",
    "\n",
    "import warnings\n",
    "%matplotlib inline\n",
    "warnings.filterwarnings('ignore')"
   ]
  },
  {
   "attachments": {},
   "cell_type": "markdown",
   "metadata": {},
   "source": [
    "Retrieve and read the Dataset"
   ]
  },
  {
   "cell_type": "code",
   "execution_count": 83,
   "metadata": {},
   "outputs": [],
   "source": [
    "path = \"linkedin_model.csv\" # Define the path"
   ]
  },
  {
   "cell_type": "code",
   "execution_count": 84,
   "metadata": {},
   "outputs": [],
   "source": [
    "#read csv file\n",
    "Df_dataset = pd.read_csv(path)"
   ]
  },
  {
   "cell_type": "code",
   "execution_count": 85,
   "metadata": {},
   "outputs": [
    {
     "data": {
      "text/html": [
       "<div>\n",
       "<style scoped>\n",
       "    .dataframe tbody tr th:only-of-type {\n",
       "        vertical-align: middle;\n",
       "    }\n",
       "\n",
       "    .dataframe tbody tr th {\n",
       "        vertical-align: top;\n",
       "    }\n",
       "\n",
       "    .dataframe thead th {\n",
       "        text-align: right;\n",
       "    }\n",
       "</style>\n",
       "<table border=\"1\" class=\"dataframe\">\n",
       "  <thead>\n",
       "    <tr style=\"text-align: right;\">\n",
       "      <th></th>\n",
       "      <th>index</th>\n",
       "      <th>category</th>\n",
       "      <th>clean_skills</th>\n",
       "    </tr>\n",
       "  </thead>\n",
       "  <tbody>\n",
       "    <tr>\n",
       "      <th>0</th>\n",
       "      <td>1</td>\n",
       "      <td>HR</td>\n",
       "      <td>['Performance Management', 'Human Resources', ...</td>\n",
       "    </tr>\n",
       "    <tr>\n",
       "      <th>1</th>\n",
       "      <td>2</td>\n",
       "      <td>HR</td>\n",
       "      <td>['Talent Acquisition', 'Employee Engagement', ...</td>\n",
       "    </tr>\n",
       "    <tr>\n",
       "      <th>2</th>\n",
       "      <td>3</td>\n",
       "      <td>HR</td>\n",
       "      <td>['Human Resources', 'Recruiting', 'Team Manage...</td>\n",
       "    </tr>\n",
       "    <tr>\n",
       "      <th>3</th>\n",
       "      <td>4</td>\n",
       "      <td>HR</td>\n",
       "      <td>['']</td>\n",
       "    </tr>\n",
       "    <tr>\n",
       "      <th>4</th>\n",
       "      <td>5</td>\n",
       "      <td>HR</td>\n",
       "      <td>['Team Management', 'Human Resources', 'Employ...</td>\n",
       "    </tr>\n",
       "  </tbody>\n",
       "</table>\n",
       "</div>"
      ],
      "text/plain": [
       "   index category                                       clean_skills\n",
       "0      1       HR  ['Performance Management', 'Human Resources', ...\n",
       "1      2       HR  ['Talent Acquisition', 'Employee Engagement', ...\n",
       "2      3       HR  ['Human Resources', 'Recruiting', 'Team Manage...\n",
       "3      4       HR                                               ['']\n",
       "4      5       HR  ['Team Management', 'Human Resources', 'Employ..."
      ]
     },
     "execution_count": 85,
     "metadata": {},
     "output_type": "execute_result"
    }
   ],
   "source": [
    "#To view the first few rows,\n",
    "Df_dataset.head()"
   ]
  },
  {
   "cell_type": "code",
   "execution_count": 86,
   "metadata": {},
   "outputs": [
    {
     "data": {
      "text/html": [
       "<div>\n",
       "<style scoped>\n",
       "    .dataframe tbody tr th:only-of-type {\n",
       "        vertical-align: middle;\n",
       "    }\n",
       "\n",
       "    .dataframe tbody tr th {\n",
       "        vertical-align: top;\n",
       "    }\n",
       "\n",
       "    .dataframe thead th {\n",
       "        text-align: right;\n",
       "    }\n",
       "</style>\n",
       "<table border=\"1\" class=\"dataframe\">\n",
       "  <thead>\n",
       "    <tr style=\"text-align: right;\">\n",
       "      <th></th>\n",
       "      <th>index</th>\n",
       "      <th>category</th>\n",
       "      <th>clean_skills</th>\n",
       "    </tr>\n",
       "  </thead>\n",
       "  <tbody>\n",
       "    <tr>\n",
       "      <th>1246</th>\n",
       "      <td>1753</td>\n",
       "      <td>Aviation</td>\n",
       "      <td>['']</td>\n",
       "    </tr>\n",
       "    <tr>\n",
       "      <th>1247</th>\n",
       "      <td>1754</td>\n",
       "      <td>Aviation</td>\n",
       "      <td>['']</td>\n",
       "    </tr>\n",
       "    <tr>\n",
       "      <th>1248</th>\n",
       "      <td>1755</td>\n",
       "      <td>Aviation</td>\n",
       "      <td>['Management', 'Goal Seek', 'Customer Service']</td>\n",
       "    </tr>\n",
       "    <tr>\n",
       "      <th>1249</th>\n",
       "      <td>1756</td>\n",
       "      <td>Aviation</td>\n",
       "      <td>['Tally ERP', 'Workshops']</td>\n",
       "    </tr>\n",
       "    <tr>\n",
       "      <th>1250</th>\n",
       "      <td>1757</td>\n",
       "      <td>Aviation</td>\n",
       "      <td>['Six Sigma', 'Management', 'Teamwork']</td>\n",
       "    </tr>\n",
       "  </tbody>\n",
       "</table>\n",
       "</div>"
      ],
      "text/plain": [
       "      index  category                                     clean_skills\n",
       "1246   1753  Aviation                                             ['']\n",
       "1247   1754  Aviation                                             ['']\n",
       "1248   1755  Aviation  ['Management', 'Goal Seek', 'Customer Service']\n",
       "1249   1756  Aviation                       ['Tally ERP', 'Workshops']\n",
       "1250   1757  Aviation          ['Six Sigma', 'Management', 'Teamwork']"
      ]
     },
     "execution_count": 86,
     "metadata": {},
     "output_type": "execute_result"
    }
   ],
   "source": [
    "#To view the last few rows,\n",
    "Df_dataset.tail()"
   ]
  },
  {
   "cell_type": "code",
   "execution_count": 87,
   "metadata": {},
   "outputs": [
    {
     "data": {
      "text/plain": [
       "array(['index', 'category', 'clean_skills'], dtype=object)"
      ]
     },
     "execution_count": 87,
     "metadata": {},
     "output_type": "execute_result"
    }
   ],
   "source": [
    "#get the column headings of the data set\n",
    "Df_dataset.columns.values"
   ]
  },
  {
   "cell_type": "code",
   "execution_count": 88,
   "metadata": {},
   "outputs": [
    {
     "data": {
      "text/plain": [
       "index            int64\n",
       "category        object\n",
       "clean_skills    object\n",
       "dtype: object"
      ]
     },
     "execution_count": 88,
     "metadata": {},
     "output_type": "execute_result"
    }
   ],
   "source": [
    "#Explore the data types of the columns\n",
    "Df_dataset.dtypes"
   ]
  },
  {
   "cell_type": "code",
   "execution_count": 89,
   "metadata": {},
   "outputs": [
    {
     "name": "stdout",
     "output_type": "stream",
     "text": [
      "Column\t\t\t\t\t Null Values%\n",
      "A total of 0 deleted !\n"
     ]
    }
   ],
   "source": [
    "#check for the columns which have missing values more than 30%\n",
    "col_num=0\n",
    "TotalObjects =Df_dataset.shape[0]\n",
    "print (\"Column\\t\\t\\t\\t\\t Null Values%\")\n",
    "for x in Df_dataset:\n",
    "    nullCount =Df_dataset[x].isnull().sum();\n",
    "    nullPercent = nullCount*100 / (TotalObjects)\n",
    "    if nullCount > 0 and nullPercent > 30 :\n",
    "       col_num=col_num+1\n",
    "       Df_dataset.drop(x, axis=1,inplace=True)\n",
    "       print(str(x)+\"\\t\\t\\t\\t\\t \"+str(nullPercent))\n",
    "print (\"A total of \"+str(col_num)+\" deleted !\") "
   ]
  },
  {
   "cell_type": "code",
   "execution_count": 90,
   "metadata": {},
   "outputs": [
    {
     "name": "stdout",
     "output_type": "stream",
     "text": [
      "<class 'pandas.core.frame.DataFrame'>\n",
      "RangeIndex: 1251 entries, 0 to 1250\n",
      "Data columns (total 3 columns):\n",
      " #   Column        Non-Null Count  Dtype \n",
      "---  ------        --------------  ----- \n",
      " 0   index         1251 non-null   int64 \n",
      " 1   category      1251 non-null   object\n",
      " 2   clean_skills  1251 non-null   object\n",
      "dtypes: int64(1), object(2)\n",
      "memory usage: 29.4+ KB\n"
     ]
    }
   ],
   "source": [
    "#To get an idea about the null values\n",
    "Df_dataset.info()"
   ]
  },
  {
   "cell_type": "code",
   "execution_count": 91,
   "metadata": {},
   "outputs": [
    {
     "data": {
      "text/plain": [
       "index           0\n",
       "category        0\n",
       "clean_skills    0\n",
       "dtype: int64"
      ]
     },
     "execution_count": 91,
     "metadata": {},
     "output_type": "execute_result"
    }
   ],
   "source": [
    "#Getting the null value count\n",
    "Df_dataset.isnull().sum()"
   ]
  },
  {
   "cell_type": "code",
   "execution_count": 92,
   "metadata": {},
   "outputs": [
    {
     "data": {
      "text/plain": [
       "array(['HR', 'Designing', 'Managment', 'Information Technology',\n",
       "       'Education', 'Advocate', 'Business Development',\n",
       "       'Health & Fitness', 'Agricultural', 'BPO', 'Sales', 'Consultant',\n",
       "       'Digital Media', 'Building & Construction', 'Automobile',\n",
       "       'Banking', 'Engineering', 'Food & Beverages', 'Finance', 'Apparel',\n",
       "       'Accountant', 'Architects', 'Public Relations', 'Arts', 'Aviation'],\n",
       "      dtype=object)"
      ]
     },
     "execution_count": 92,
     "metadata": {},
     "output_type": "execute_result"
    }
   ],
   "source": [
    "pd.unique(Df_dataset['category'].values) "
   ]
  },
  {
   "cell_type": "code",
   "execution_count": 93,
   "metadata": {},
   "outputs": [],
   "source": [
    "import os\n",
    "import pandas as pd\n",
    "import numpy as np\n",
    "from scipy.stats import randint\n",
    "import seaborn as sns # used for plot interactive graph.\n",
    "import matplotlib.pyplot as plt\n",
    "import seaborn as sns\n",
    "from io import StringIO\n",
    "from sklearn.feature_extraction.text import TfidfVectorizer\n",
    "from sklearn.feature_selection import chi2\n",
    "from IPython.display import display\n",
    "from sklearn.model_selection import train_test_split\n",
    "from sklearn.feature_extraction.text import TfidfTransformer\n",
    "from sklearn.naive_bayes import MultinomialNB\n",
    "from sklearn.linear_model import LogisticRegression\n",
    "from sklearn.ensemble import RandomForestClassifier\n",
    "from sklearn.svm import LinearSVC\n",
    "from sklearn.model_selection import cross_val_score\n",
    "from sklearn.metrics import confusion_matrix\n",
    "from sklearn import metrics"
   ]
  },
  {
   "cell_type": "code",
   "execution_count": 94,
   "metadata": {},
   "outputs": [
    {
     "name": "stdout",
     "output_type": "stream",
     "text": [
      "(1251, 3)\n"
     ]
    }
   ],
   "source": [
    "# loading data\n",
    "df = pd.read_csv('linkedin_model.csv') # create a dataframe to store data\n",
    "print(df.shape)"
   ]
  },
  {
   "cell_type": "code",
   "execution_count": 95,
   "metadata": {},
   "outputs": [
    {
     "data": {
      "text/html": [
       "<div>\n",
       "<style scoped>\n",
       "    .dataframe tbody tr th:only-of-type {\n",
       "        vertical-align: middle;\n",
       "    }\n",
       "\n",
       "    .dataframe tbody tr th {\n",
       "        vertical-align: top;\n",
       "    }\n",
       "\n",
       "    .dataframe thead th {\n",
       "        text-align: right;\n",
       "    }\n",
       "</style>\n",
       "<table border=\"1\" class=\"dataframe\">\n",
       "  <thead>\n",
       "    <tr style=\"text-align: right;\">\n",
       "      <th></th>\n",
       "      <th>0</th>\n",
       "      <th>1</th>\n",
       "      <th>2</th>\n",
       "    </tr>\n",
       "  </thead>\n",
       "  <tbody>\n",
       "    <tr>\n",
       "      <th>index</th>\n",
       "      <td>1</td>\n",
       "      <td>2</td>\n",
       "      <td>3</td>\n",
       "    </tr>\n",
       "    <tr>\n",
       "      <th>category</th>\n",
       "      <td>HR</td>\n",
       "      <td>HR</td>\n",
       "      <td>HR</td>\n",
       "    </tr>\n",
       "    <tr>\n",
       "      <th>clean_skills</th>\n",
       "      <td>['Performance Management', 'Human Resources', ...</td>\n",
       "      <td>['Talent Acquisition', 'Employee Engagement', ...</td>\n",
       "      <td>['Human Resources', 'Recruiting', 'Team Manage...</td>\n",
       "    </tr>\n",
       "  </tbody>\n",
       "</table>\n",
       "</div>"
      ],
      "text/plain": [
       "                                                              0   \n",
       "index                                                         1  \\\n",
       "category                                                     HR   \n",
       "clean_skills  ['Performance Management', 'Human Resources', ...   \n",
       "\n",
       "                                                              1   \n",
       "index                                                         2  \\\n",
       "category                                                     HR   \n",
       "clean_skills  ['Talent Acquisition', 'Employee Engagement', ...   \n",
       "\n",
       "                                                              2  \n",
       "index                                                         3  \n",
       "category                                                     HR  \n",
       "clean_skills  ['Human Resources', 'Recruiting', 'Team Manage...  "
      ]
     },
     "execution_count": 95,
     "metadata": {},
     "output_type": "execute_result"
    }
   ],
   "source": [
    "df.head(3).T"
   ]
  },
  {
   "cell_type": "code",
   "execution_count": 96,
   "metadata": {},
   "outputs": [
    {
     "data": {
      "text/html": [
       "<div>\n",
       "<style scoped>\n",
       "    .dataframe tbody tr th:only-of-type {\n",
       "        vertical-align: middle;\n",
       "    }\n",
       "\n",
       "    .dataframe tbody tr th {\n",
       "        vertical-align: top;\n",
       "    }\n",
       "\n",
       "    .dataframe thead th {\n",
       "        text-align: right;\n",
       "    }\n",
       "</style>\n",
       "<table border=\"1\" class=\"dataframe\">\n",
       "  <thead>\n",
       "    <tr style=\"text-align: right;\">\n",
       "      <th></th>\n",
       "      <th>clean_skills</th>\n",
       "      <th>category</th>\n",
       "    </tr>\n",
       "  </thead>\n",
       "  <tbody>\n",
       "    <tr>\n",
       "      <th>0</th>\n",
       "      <td>['Performance Management', 'Human Resources', ...</td>\n",
       "      <td>HR</td>\n",
       "    </tr>\n",
       "    <tr>\n",
       "      <th>1</th>\n",
       "      <td>['Talent Acquisition', 'Employee Engagement', ...</td>\n",
       "      <td>HR</td>\n",
       "    </tr>\n",
       "    <tr>\n",
       "      <th>2</th>\n",
       "      <td>['Human Resources', 'Recruiting', 'Team Manage...</td>\n",
       "      <td>HR</td>\n",
       "    </tr>\n",
       "    <tr>\n",
       "      <th>3</th>\n",
       "      <td>['']</td>\n",
       "      <td>HR</td>\n",
       "    </tr>\n",
       "    <tr>\n",
       "      <th>4</th>\n",
       "      <td>['Team Management', 'Human Resources', 'Employ...</td>\n",
       "      <td>HR</td>\n",
       "    </tr>\n",
       "    <tr>\n",
       "      <th>...</th>\n",
       "      <td>...</td>\n",
       "      <td>...</td>\n",
       "    </tr>\n",
       "    <tr>\n",
       "      <th>1246</th>\n",
       "      <td>['']</td>\n",
       "      <td>Aviation</td>\n",
       "    </tr>\n",
       "    <tr>\n",
       "      <th>1247</th>\n",
       "      <td>['']</td>\n",
       "      <td>Aviation</td>\n",
       "    </tr>\n",
       "    <tr>\n",
       "      <th>1248</th>\n",
       "      <td>['Management', 'Goal Seek', 'Customer Service']</td>\n",
       "      <td>Aviation</td>\n",
       "    </tr>\n",
       "    <tr>\n",
       "      <th>1249</th>\n",
       "      <td>['Tally ERP', 'Workshops']</td>\n",
       "      <td>Aviation</td>\n",
       "    </tr>\n",
       "    <tr>\n",
       "      <th>1250</th>\n",
       "      <td>['Six Sigma', 'Management', 'Teamwork']</td>\n",
       "      <td>Aviation</td>\n",
       "    </tr>\n",
       "  </tbody>\n",
       "</table>\n",
       "<p>1251 rows × 2 columns</p>\n",
       "</div>"
      ],
      "text/plain": [
       "                                           clean_skills  category\n",
       "0     ['Performance Management', 'Human Resources', ...        HR\n",
       "1     ['Talent Acquisition', 'Employee Engagement', ...        HR\n",
       "2     ['Human Resources', 'Recruiting', 'Team Manage...        HR\n",
       "3                                                  ['']        HR\n",
       "4     ['Team Management', 'Human Resources', 'Employ...        HR\n",
       "...                                                 ...       ...\n",
       "1246                                               ['']  Aviation\n",
       "1247                                               ['']  Aviation\n",
       "1248    ['Management', 'Goal Seek', 'Customer Service']  Aviation\n",
       "1249                         ['Tally ERP', 'Workshops']  Aviation\n",
       "1250            ['Six Sigma', 'Management', 'Teamwork']  Aviation\n",
       "\n",
       "[1251 rows x 2 columns]"
      ]
     },
     "execution_count": 96,
     "metadata": {},
     "output_type": "execute_result"
    }
   ],
   "source": [
    "# Create a new dataframe with two columns\n",
    "df1 = df[['clean_skills', 'category']].copy() #create a dataframe to store skills and category column\n",
    "df1"
   ]
  },
  {
   "cell_type": "code",
   "execution_count": 97,
   "metadata": {},
   "outputs": [
    {
     "name": "stdout",
     "output_type": "stream",
     "text": [
      "(1251, 2)\n"
     ]
    },
    {
     "data": {
      "text/html": [
       "<div>\n",
       "<style scoped>\n",
       "    .dataframe tbody tr th:only-of-type {\n",
       "        vertical-align: middle;\n",
       "    }\n",
       "\n",
       "    .dataframe tbody tr th {\n",
       "        vertical-align: top;\n",
       "    }\n",
       "\n",
       "    .dataframe thead th {\n",
       "        text-align: right;\n",
       "    }\n",
       "</style>\n",
       "<table border=\"1\" class=\"dataframe\">\n",
       "  <thead>\n",
       "    <tr style=\"text-align: right;\">\n",
       "      <th></th>\n",
       "      <th>0</th>\n",
       "      <th>1</th>\n",
       "      <th>2</th>\n",
       "    </tr>\n",
       "  </thead>\n",
       "  <tbody>\n",
       "    <tr>\n",
       "      <th>clean_skills</th>\n",
       "      <td>['Performance Management', 'Human Resources', ...</td>\n",
       "      <td>['Talent Acquisition', 'Employee Engagement', ...</td>\n",
       "      <td>['Human Resources', 'Recruiting', 'Team Manage...</td>\n",
       "    </tr>\n",
       "    <tr>\n",
       "      <th>category</th>\n",
       "      <td>HR</td>\n",
       "      <td>HR</td>\n",
       "      <td>HR</td>\n",
       "    </tr>\n",
       "  </tbody>\n",
       "</table>\n",
       "</div>"
      ],
      "text/plain": [
       "                                                              0   \n",
       "clean_skills  ['Performance Management', 'Human Resources', ...  \\\n",
       "category                                                     HR   \n",
       "\n",
       "                                                              1   \n",
       "clean_skills  ['Talent Acquisition', 'Employee Engagement', ...  \\\n",
       "category                                                     HR   \n",
       "\n",
       "                                                              2  \n",
       "clean_skills  ['Human Resources', 'Recruiting', 'Team Manage...  \n",
       "category                                                     HR  "
      ]
     },
     "execution_count": 97,
     "metadata": {},
     "output_type": "execute_result"
    }
   ],
   "source": [
    "print(df1.shape)\n",
    "df1.head(3).T"
   ]
  },
  {
   "cell_type": "code",
   "execution_count": 98,
   "metadata": {},
   "outputs": [
    {
     "data": {
      "text/plain": [
       "array([['HR'],\n",
       "       ['Designing'],\n",
       "       ['Managment'],\n",
       "       ['Information Technology'],\n",
       "       ['Education'],\n",
       "       ['Advocate'],\n",
       "       ['Business Development'],\n",
       "       ['Health & Fitness'],\n",
       "       ['Agricultural'],\n",
       "       ['BPO'],\n",
       "       ['Sales'],\n",
       "       ['Consultant'],\n",
       "       ['Digital Media'],\n",
       "       ['Building & Construction'],\n",
       "       ['Automobile'],\n",
       "       ['Banking'],\n",
       "       ['Engineering'],\n",
       "       ['Food & Beverages'],\n",
       "       ['Finance'],\n",
       "       ['Apparel'],\n",
       "       ['Accountant'],\n",
       "       ['Architects'],\n",
       "       ['Public Relations'],\n",
       "       ['Arts'],\n",
       "       ['Aviation']], dtype=object)"
      ]
     },
     "execution_count": 98,
     "metadata": {},
     "output_type": "execute_result"
    }
   ],
   "source": [
    "pd.DataFrame(df1.category.unique()).values   # check for unique categories"
   ]
  },
  {
   "cell_type": "code",
   "execution_count": 99,
   "metadata": {},
   "outputs": [
    {
     "data": {
      "text/html": [
       "<div>\n",
       "<style scoped>\n",
       "    .dataframe tbody tr th:only-of-type {\n",
       "        vertical-align: middle;\n",
       "    }\n",
       "\n",
       "    .dataframe tbody tr th {\n",
       "        vertical-align: top;\n",
       "    }\n",
       "\n",
       "    .dataframe thead th {\n",
       "        text-align: right;\n",
       "    }\n",
       "</style>\n",
       "<table border=\"1\" class=\"dataframe\">\n",
       "  <thead>\n",
       "    <tr style=\"text-align: right;\">\n",
       "      <th></th>\n",
       "      <th>0</th>\n",
       "    </tr>\n",
       "  </thead>\n",
       "  <tbody>\n",
       "    <tr>\n",
       "      <th>0</th>\n",
       "      <td>HR</td>\n",
       "    </tr>\n",
       "    <tr>\n",
       "      <th>1</th>\n",
       "      <td>Designing</td>\n",
       "    </tr>\n",
       "    <tr>\n",
       "      <th>2</th>\n",
       "      <td>Managment</td>\n",
       "    </tr>\n",
       "    <tr>\n",
       "      <th>3</th>\n",
       "      <td>Information Technology</td>\n",
       "    </tr>\n",
       "    <tr>\n",
       "      <th>4</th>\n",
       "      <td>Education</td>\n",
       "    </tr>\n",
       "    <tr>\n",
       "      <th>5</th>\n",
       "      <td>Advocate</td>\n",
       "    </tr>\n",
       "    <tr>\n",
       "      <th>6</th>\n",
       "      <td>Business Development</td>\n",
       "    </tr>\n",
       "    <tr>\n",
       "      <th>7</th>\n",
       "      <td>Health &amp; Fitness</td>\n",
       "    </tr>\n",
       "    <tr>\n",
       "      <th>8</th>\n",
       "      <td>Agricultural</td>\n",
       "    </tr>\n",
       "    <tr>\n",
       "      <th>9</th>\n",
       "      <td>BPO</td>\n",
       "    </tr>\n",
       "    <tr>\n",
       "      <th>10</th>\n",
       "      <td>Sales</td>\n",
       "    </tr>\n",
       "    <tr>\n",
       "      <th>11</th>\n",
       "      <td>Consultant</td>\n",
       "    </tr>\n",
       "    <tr>\n",
       "      <th>12</th>\n",
       "      <td>Digital Media</td>\n",
       "    </tr>\n",
       "    <tr>\n",
       "      <th>13</th>\n",
       "      <td>Building &amp; Construction</td>\n",
       "    </tr>\n",
       "    <tr>\n",
       "      <th>14</th>\n",
       "      <td>Automobile</td>\n",
       "    </tr>\n",
       "    <tr>\n",
       "      <th>15</th>\n",
       "      <td>Banking</td>\n",
       "    </tr>\n",
       "    <tr>\n",
       "      <th>16</th>\n",
       "      <td>Engineering</td>\n",
       "    </tr>\n",
       "    <tr>\n",
       "      <th>17</th>\n",
       "      <td>Food &amp; Beverages</td>\n",
       "    </tr>\n",
       "    <tr>\n",
       "      <th>18</th>\n",
       "      <td>Finance</td>\n",
       "    </tr>\n",
       "    <tr>\n",
       "      <th>19</th>\n",
       "      <td>Apparel</td>\n",
       "    </tr>\n",
       "    <tr>\n",
       "      <th>20</th>\n",
       "      <td>Accountant</td>\n",
       "    </tr>\n",
       "    <tr>\n",
       "      <th>21</th>\n",
       "      <td>Architects</td>\n",
       "    </tr>\n",
       "    <tr>\n",
       "      <th>22</th>\n",
       "      <td>Public Relations</td>\n",
       "    </tr>\n",
       "    <tr>\n",
       "      <th>23</th>\n",
       "      <td>Arts</td>\n",
       "    </tr>\n",
       "    <tr>\n",
       "      <th>24</th>\n",
       "      <td>Aviation</td>\n",
       "    </tr>\n",
       "  </tbody>\n",
       "</table>\n",
       "</div>"
      ],
      "text/plain": [
       "                          0\n",
       "0                        HR\n",
       "1                 Designing\n",
       "2                 Managment\n",
       "3    Information Technology\n",
       "4                 Education\n",
       "5                  Advocate\n",
       "6      Business Development\n",
       "7          Health & Fitness\n",
       "8              Agricultural\n",
       "9                       BPO\n",
       "10                    Sales\n",
       "11               Consultant\n",
       "12            Digital Media\n",
       "13  Building & Construction\n",
       "14               Automobile\n",
       "15                  Banking\n",
       "16              Engineering\n",
       "17         Food & Beverages\n",
       "18                  Finance\n",
       "19                  Apparel\n",
       "20               Accountant\n",
       "21               Architects\n",
       "22         Public Relations\n",
       "23                     Arts\n",
       "24                 Aviation"
      ]
     },
     "execution_count": 99,
     "metadata": {},
     "output_type": "execute_result"
    }
   ],
   "source": [
    "pd.DataFrame(df1.category.unique())  #24 unique job categories"
   ]
  },
  {
   "cell_type": "code",
   "execution_count": 100,
   "metadata": {},
   "outputs": [],
   "source": [
    "# Create a new column 'category_id' with encoded categories \n",
    "df1['category_id'] = df1['category'].factorize()[0]\n",
    "category_id_df = df1[['category', 'category_id']].drop_duplicates()"
   ]
  },
  {
   "cell_type": "code",
   "execution_count": 101,
   "metadata": {},
   "outputs": [
    {
     "data": {
      "text/html": [
       "<div>\n",
       "<style scoped>\n",
       "    .dataframe tbody tr th:only-of-type {\n",
       "        vertical-align: middle;\n",
       "    }\n",
       "\n",
       "    .dataframe tbody tr th {\n",
       "        vertical-align: top;\n",
       "    }\n",
       "\n",
       "    .dataframe thead th {\n",
       "        text-align: right;\n",
       "    }\n",
       "</style>\n",
       "<table border=\"1\" class=\"dataframe\">\n",
       "  <thead>\n",
       "    <tr style=\"text-align: right;\">\n",
       "      <th></th>\n",
       "      <th>clean_skills</th>\n",
       "      <th>category</th>\n",
       "      <th>category_id</th>\n",
       "    </tr>\n",
       "  </thead>\n",
       "  <tbody>\n",
       "    <tr>\n",
       "      <th>0</th>\n",
       "      <td>['Performance Management', 'Human Resources', ...</td>\n",
       "      <td>HR</td>\n",
       "      <td>0</td>\n",
       "    </tr>\n",
       "    <tr>\n",
       "      <th>1</th>\n",
       "      <td>['Talent Acquisition', 'Employee Engagement', ...</td>\n",
       "      <td>HR</td>\n",
       "      <td>0</td>\n",
       "    </tr>\n",
       "    <tr>\n",
       "      <th>2</th>\n",
       "      <td>['Human Resources', 'Recruiting', 'Team Manage...</td>\n",
       "      <td>HR</td>\n",
       "      <td>0</td>\n",
       "    </tr>\n",
       "    <tr>\n",
       "      <th>3</th>\n",
       "      <td>['']</td>\n",
       "      <td>HR</td>\n",
       "      <td>0</td>\n",
       "    </tr>\n",
       "    <tr>\n",
       "      <th>4</th>\n",
       "      <td>['Team Management', 'Human Resources', 'Employ...</td>\n",
       "      <td>HR</td>\n",
       "      <td>0</td>\n",
       "    </tr>\n",
       "  </tbody>\n",
       "</table>\n",
       "</div>"
      ],
      "text/plain": [
       "                                        clean_skills category  category_id\n",
       "0  ['Performance Management', 'Human Resources', ...       HR            0\n",
       "1  ['Talent Acquisition', 'Employee Engagement', ...       HR            0\n",
       "2  ['Human Resources', 'Recruiting', 'Team Manage...       HR            0\n",
       "3                                               ['']       HR            0\n",
       "4  ['Team Management', 'Human Resources', 'Employ...       HR            0"
      ]
     },
     "execution_count": 101,
     "metadata": {},
     "output_type": "execute_result"
    }
   ],
   "source": [
    "# Dictionaries for future use\n",
    "category_to_id = dict(category_id_df.values)\n",
    "id_to_category = dict(category_id_df[['category_id', 'category']].values)\n",
    "# Created new dataframe\n",
    "df1.head()"
   ]
  },
  {
   "cell_type": "code",
   "execution_count": 102,
   "metadata": {},
   "outputs": [
    {
     "data": {
      "image/png": "[encoded data removed]",
      "text/plain": [
       "<Figure size 800x600 with 1 Axes>"
      ]
     },
     "metadata": {},
     "output_type": "display_data"
    }
   ],
   "source": [
    "fig = plt.figure(figsize=(8,6))\n",
    "colors = ['grey','grey','grey','grey','grey','grey','grey','grey','grey',\n",
    "    'grey','darkblue','darkblue','darkblue']\n",
    "df1.groupby('category').clean_skills.count().sort_values().plot.barh(\n",
    "    ylim=0, color=colors, title= 'NUMBER OF SKILLS')\n",
    "plt.xlabel('Number of ocurrences', fontsize = 10);"
   ]
  },
  {
   "attachments": {},
   "cell_type": "markdown",
   "metadata": {},
   "source": [
    "Text Preprocessing"
   ]
  },
  {
   "cell_type": "code",
   "execution_count": 103,
   "metadata": {},
   "outputs": [
    {
     "name": "stdout",
     "output_type": "stream",
     "text": [
      "Each of the 1251 skill is represented by 816 features (TF-IDF score of unigrams and bigrams)\n"
     ]
    }
   ],
   "source": [
    "#transform texts into vectors using TFIDF\n",
    "#min_df - remove the words which has occurred in less than ‘min_df’ number of files.\n",
    "#sublinear_tf - If true -> scale the frequency in logarythemic scale\n",
    "#Stop words - remove stop words that predefined in english language\n",
    "tfidf = TfidfVectorizer(sublinear_tf=True, min_df=5,\n",
    "                        ngram_range=(1, 2),  # consider both unigrams and bigrams\n",
    "                        stop_words='english')\n",
    "# Transform each complaint into a vector\n",
    "features = tfidf.fit_transform(df1.clean_skills).toarray()\n",
    "labels = df1.category_id\n",
    "print(\"Each of the %d skill is represented by %d features (TF-IDF score of unigrams and bigrams)\" %(features.shape))"
   ]
  },
  {
   "cell_type": "code",
   "execution_count": 104,
   "metadata": {},
   "outputs": [
    {
     "name": "stdout",
     "output_type": "stream",
     "text": [
      "n==> Accountant:\n",
      "  * Most Correlated Unigrams are: income, accounting, tax\n",
      "  * Most Correlated Bigrams are: tax accounting, accounting tax, income tax\n",
      "n==> Advocate:\n",
      "  * Most Correlated Unigrams are: advice, litigation, legal\n",
      "  * Most Correlated Bigrams are: legal writing, litigation legal, legal advice\n",
      "n==> Agricultural:\n",
      "  * Most Correlated Unigrams are: farming, farms, agriculture\n",
      "  * Most Correlated Bigrams are: operating systems, food safety, rural development\n",
      "n==> Apparel:\n",
      "  * Most Correlated Unigrams are: merchandising, apparel, textiles\n",
      "  * Most Correlated Bigrams are: supply chain, fashion design, excel management\n",
      "n==> Architects:\n",
      "  * Most Correlated Unigrams are: architectural, sketchup, architecture\n",
      "  * Most Correlated Bigrams are: design architecture, sustainable design, architectural design\n",
      "n==> Arts:\n",
      "  * Most Correlated Unigrams are: arts, teaching, art\n",
      "  * Most Correlated Bigrams are: interior design, sales marketing, higher education\n",
      "n==> Automobile:\n",
      "  * Most Correlated Unigrams are: mechanical, automobile, automotive\n",
      "  * Most Correlated Bigrams are: negotiation team, photoshop microsoft, mechanical engineering\n",
      "n==> Aviation:\n",
      "  * Most Correlated Unigrams are: maintenance, aircraft, aviation\n",
      "  * Most Correlated Bigrams are: management hospitality, operations management, aircraft maintenance\n",
      "n==> BPO:\n",
      "  * Most Correlated Unigrams are: centers, outsourcing, bpo\n",
      "  * Most Correlated Bigrams are: service delivery, team management, development team\n",
      "n==> Banking:\n",
      "  * Most Correlated Unigrams are: finance, credit, banking\n",
      "  * Most Correlated Bigrams are: management banking, commercial banking, credit risk\n",
      "n==> Building & Construction:\n",
      "  * Most Correlated Unigrams are: contract, surveying, construction\n",
      "  * Most Correlated Bigrams are: contract management, management contract, construction management\n",
      "n==> Business Development:\n",
      "  * Most Correlated Unigrams are: competitive, business, sales\n",
      "  * Most Correlated Bigrams are: management sales, strategy sales, business development\n",
      "n==> Consultant:\n",
      "  * Most Correlated Unigrams are: solution, gaap, placement\n",
      "  * Most Correlated Bigrams are: resources recruiting, management sourcing, solution selling\n",
      "n==> Designing:\n",
      "  * Most Correlated Unigrams are: design, indesign, sketching\n",
      "  * Most Correlated Bigrams are: interior design, graphic design, design project\n",
      "n==> Digital Media:\n",
      "  * Most Correlated Unigrams are: engine, facebook, digital\n",
      "  * Most Correlated Bigrams are: facebook marketing, search engine, digital marketing\n",
      "n==> Education:\n",
      "  * Most Correlated Unigrams are: education, staff, educational\n",
      "  * Most Correlated Bigrams are: market strategy, google analytics, leadership development\n",
      "n==> Engineering:\n",
      "  * Most Correlated Unigrams are: publishing, autocad, engineering\n",
      "  * Most Correlated Bigrams are: management systems, project engineering, engineering project\n",
      "n==> Finance:\n",
      "  * Most Correlated Unigrams are: banking, finance, financial\n",
      "  * Most Correlated Bigrams are: financial modeling, investment banking, financial analysis\n",
      "n==> Food & Beverages:\n",
      "  * Most Correlated Unigrams are: food, hospitality, beverage\n",
      "  * Most Correlated Bigrams are: menu development, pre opening, food beverage\n",
      "n==> HR:\n",
      "  * Most Correlated Unigrams are: employee, human, talent\n",
      "  * Most Correlated Bigrams are: management human, talent management, human resources\n",
      "n==> Health & Fitness:\n",
      "  * Most Correlated Unigrams are: wellness, nutrition, fitness\n",
      "  * Most Correlated Bigrams are: strength training, fitness training, personal training\n",
      "n==> Information Technology:\n",
      "  * Most Correlated Unigrams are: itil, information, security\n",
      "  * Most Correlated Bigrams are: enterprise architecture, programming language, information security\n",
      "n==> Managment:\n",
      "  * Most Correlated Unigrams are: java, language, programming\n",
      "  * Most Correlated Bigrams are: microsoft powerpoint, programming language, web development\n",
      "n==> Public Relations:\n",
      "  * Most Correlated Unigrams are: releases, communications, relations\n",
      "  * Most Correlated Bigrams are: corporate communications, media relations, public relations\n",
      "n==> Sales:\n",
      "  * Most Correlated Unigrams are: market, sales, energy\n",
      "  * Most Correlated Bigrams are: analysis market, market research, strategy business\n"
     ]
    }
   ],
   "source": [
    "# Finding the three most correlated terms with each of the product categories\n",
    "N = 3 # top 3 most correlated terms\n",
    "for category, category_id in sorted(category_to_id.items()):\n",
    "  features_chi2 = chi2(features, labels == category_id)\n",
    "  indices = np.argsort(features_chi2[0])  # computes the chi-squared statistic and p-values for each feature against the selected labels.\n",
    "  feature_names = np.array(tfidf.get_feature_names_out())[indices]  # chi-squared scores in ascending order. \n",
    "\n",
    "  unigrams = [v for v in feature_names if len(v.split(' ')) == 1]\n",
    "  bigrams = [v for v in feature_names if len(v.split(' ')) == 2]\n",
    "  print(\"n==> %s:\" %(category))\n",
    "  print(\"  * Most Correlated Unigrams are: %s\" %(', '.join(unigrams[-N:])))\n",
    "  print(\"  * Most Correlated Bigrams are: %s\" %(', '.join(bigrams[-N:])))"
   ]
  },
  {
   "attachments": {},
   "cell_type": "markdown",
   "metadata": {},
   "source": [
    "Split the data to train and test sets"
   ]
  },
  {
   "cell_type": "code",
   "execution_count": 105,
   "metadata": {},
   "outputs": [],
   "source": [
    "#  for train - 75% of data \n",
    "X = df1['clean_skills'] # Collection of documents\n",
    "y = df1['category'] # Target or the labels we want to predict (i.e., the 13 different complaints of products)\n",
    "X_train, X_test, y_train, y_test = train_test_split(X, y, test_size=0.25,random_state = 0)"
   ]
  },
  {
   "attachments": {},
   "cell_type": "markdown",
   "metadata": {},
   "source": [
    "List and loop thorugh the list for classifications models"
   ]
  },
  {
   "cell_type": "code",
   "execution_count": 106,
   "metadata": {},
   "outputs": [],
   "source": [
    "from xgboost import XGBClassifier\n",
    "models = [\n",
    "    RandomForestClassifier(n_estimators=100, max_depth=5, random_state=0),\n",
    "    LinearSVC(),\n",
    "    MultinomialNB(),\n",
    "    LogisticRegression(random_state=0),\n",
    "    XGBClassifier()\n",
    "]"
   ]
  },
  {
   "cell_type": "code",
   "execution_count": 107,
   "metadata": {},
   "outputs": [],
   "source": [
    "# 5 Cross-validation\n",
    "CV = 5\n",
    "cv_df = pd.DataFrame(index=range(CV * len(models)))\n",
    "entries = []\n",
    "for model in models:\n",
    "  model_name = model.__class__.__name__\n",
    "  accuracies = cross_val_score(model, features, labels, scoring='accuracy', cv=CV)\n",
    "  for fold_idx, accuracy in enumerate(accuracies):\n",
    "    entries.append((model_name, fold_idx, accuracy))\n",
    "cv_df = pd.DataFrame(entries, columns=['model_name', 'fold_idx', 'accuracy'])"
   ]
  },
  {
   "cell_type": "code",
   "execution_count": 108,
   "metadata": {},
   "outputs": [
    {
     "data": {
      "text/html": [
       "<div>\n",
       "<style scoped>\n",
       "    .dataframe tbody tr th:only-of-type {\n",
       "        vertical-align: middle;\n",
       "    }\n",
       "\n",
       "    .dataframe tbody tr th {\n",
       "        vertical-align: top;\n",
       "    }\n",
       "\n",
       "    .dataframe thead th {\n",
       "        text-align: right;\n",
       "    }\n",
       "</style>\n",
       "<table border=\"1\" class=\"dataframe\">\n",
       "  <thead>\n",
       "    <tr style=\"text-align: right;\">\n",
       "      <th></th>\n",
       "      <th>model_name</th>\n",
       "      <th>fold_idx</th>\n",
       "      <th>accuracy</th>\n",
       "    </tr>\n",
       "  </thead>\n",
       "  <tbody>\n",
       "    <tr>\n",
       "      <th>0</th>\n",
       "      <td>RandomForestClassifier</td>\n",
       "      <td>0</td>\n",
       "      <td>0.342629</td>\n",
       "    </tr>\n",
       "    <tr>\n",
       "      <th>1</th>\n",
       "      <td>RandomForestClassifier</td>\n",
       "      <td>1</td>\n",
       "      <td>0.348000</td>\n",
       "    </tr>\n",
       "    <tr>\n",
       "      <th>2</th>\n",
       "      <td>RandomForestClassifier</td>\n",
       "      <td>2</td>\n",
       "      <td>0.332000</td>\n",
       "    </tr>\n",
       "    <tr>\n",
       "      <th>3</th>\n",
       "      <td>RandomForestClassifier</td>\n",
       "      <td>3</td>\n",
       "      <td>0.272000</td>\n",
       "    </tr>\n",
       "    <tr>\n",
       "      <th>4</th>\n",
       "      <td>RandomForestClassifier</td>\n",
       "      <td>4</td>\n",
       "      <td>0.228000</td>\n",
       "    </tr>\n",
       "    <tr>\n",
       "      <th>5</th>\n",
       "      <td>LinearSVC</td>\n",
       "      <td>0</td>\n",
       "      <td>0.394422</td>\n",
       "    </tr>\n",
       "    <tr>\n",
       "      <th>6</th>\n",
       "      <td>LinearSVC</td>\n",
       "      <td>1</td>\n",
       "      <td>0.408000</td>\n",
       "    </tr>\n",
       "    <tr>\n",
       "      <th>7</th>\n",
       "      <td>LinearSVC</td>\n",
       "      <td>2</td>\n",
       "      <td>0.336000</td>\n",
       "    </tr>\n",
       "    <tr>\n",
       "      <th>8</th>\n",
       "      <td>LinearSVC</td>\n",
       "      <td>3</td>\n",
       "      <td>0.300000</td>\n",
       "    </tr>\n",
       "    <tr>\n",
       "      <th>9</th>\n",
       "      <td>LinearSVC</td>\n",
       "      <td>4</td>\n",
       "      <td>0.268000</td>\n",
       "    </tr>\n",
       "    <tr>\n",
       "      <th>10</th>\n",
       "      <td>MultinomialNB</td>\n",
       "      <td>0</td>\n",
       "      <td>0.370518</td>\n",
       "    </tr>\n",
       "    <tr>\n",
       "      <th>11</th>\n",
       "      <td>MultinomialNB</td>\n",
       "      <td>1</td>\n",
       "      <td>0.388000</td>\n",
       "    </tr>\n",
       "    <tr>\n",
       "      <th>12</th>\n",
       "      <td>MultinomialNB</td>\n",
       "      <td>2</td>\n",
       "      <td>0.300000</td>\n",
       "    </tr>\n",
       "    <tr>\n",
       "      <th>13</th>\n",
       "      <td>MultinomialNB</td>\n",
       "      <td>3</td>\n",
       "      <td>0.316000</td>\n",
       "    </tr>\n",
       "    <tr>\n",
       "      <th>14</th>\n",
       "      <td>MultinomialNB</td>\n",
       "      <td>4</td>\n",
       "      <td>0.248000</td>\n",
       "    </tr>\n",
       "    <tr>\n",
       "      <th>15</th>\n",
       "      <td>LogisticRegression</td>\n",
       "      <td>0</td>\n",
       "      <td>0.374502</td>\n",
       "    </tr>\n",
       "    <tr>\n",
       "      <th>16</th>\n",
       "      <td>LogisticRegression</td>\n",
       "      <td>1</td>\n",
       "      <td>0.404000</td>\n",
       "    </tr>\n",
       "    <tr>\n",
       "      <th>17</th>\n",
       "      <td>LogisticRegression</td>\n",
       "      <td>2</td>\n",
       "      <td>0.356000</td>\n",
       "    </tr>\n",
       "    <tr>\n",
       "      <th>18</th>\n",
       "      <td>LogisticRegression</td>\n",
       "      <td>3</td>\n",
       "      <td>0.304000</td>\n",
       "    </tr>\n",
       "    <tr>\n",
       "      <th>19</th>\n",
       "      <td>LogisticRegression</td>\n",
       "      <td>4</td>\n",
       "      <td>0.244000</td>\n",
       "    </tr>\n",
       "    <tr>\n",
       "      <th>20</th>\n",
       "      <td>XGBClassifier</td>\n",
       "      <td>0</td>\n",
       "      <td>0.326693</td>\n",
       "    </tr>\n",
       "    <tr>\n",
       "      <th>21</th>\n",
       "      <td>XGBClassifier</td>\n",
       "      <td>1</td>\n",
       "      <td>0.384000</td>\n",
       "    </tr>\n",
       "    <tr>\n",
       "      <th>22</th>\n",
       "      <td>XGBClassifier</td>\n",
       "      <td>2</td>\n",
       "      <td>0.312000</td>\n",
       "    </tr>\n",
       "    <tr>\n",
       "      <th>23</th>\n",
       "      <td>XGBClassifier</td>\n",
       "      <td>3</td>\n",
       "      <td>0.248000</td>\n",
       "    </tr>\n",
       "    <tr>\n",
       "      <th>24</th>\n",
       "      <td>XGBClassifier</td>\n",
       "      <td>4</td>\n",
       "      <td>0.208000</td>\n",
       "    </tr>\n",
       "  </tbody>\n",
       "</table>\n",
       "</div>"
      ],
      "text/plain": [
       "                model_name  fold_idx  accuracy\n",
       "0   RandomForestClassifier         0  0.342629\n",
       "1   RandomForestClassifier         1  0.348000\n",
       "2   RandomForestClassifier         2  0.332000\n",
       "3   RandomForestClassifier         3  0.272000\n",
       "4   RandomForestClassifier         4  0.228000\n",
       "5                LinearSVC         0  0.394422\n",
       "6                LinearSVC         1  0.408000\n",
       "7                LinearSVC         2  0.336000\n",
       "8                LinearSVC         3  0.300000\n",
       "9                LinearSVC         4  0.268000\n",
       "10           MultinomialNB         0  0.370518\n",
       "11           MultinomialNB         1  0.388000\n",
       "12           MultinomialNB         2  0.300000\n",
       "13           MultinomialNB         3  0.316000\n",
       "14           MultinomialNB         4  0.248000\n",
       "15      LogisticRegression         0  0.374502\n",
       "16      LogisticRegression         1  0.404000\n",
       "17      LogisticRegression         2  0.356000\n",
       "18      LogisticRegression         3  0.304000\n",
       "19      LogisticRegression         4  0.244000\n",
       "20           XGBClassifier         0  0.326693\n",
       "21           XGBClassifier         1  0.384000\n",
       "22           XGBClassifier         2  0.312000\n",
       "23           XGBClassifier         3  0.248000\n",
       "24           XGBClassifier         4  0.208000"
      ]
     },
     "execution_count": 108,
     "metadata": {},
     "output_type": "execute_result"
    }
   ],
   "source": [
    "cv_df"
   ]
  },
  {
   "cell_type": "code",
   "execution_count": 109,
   "metadata": {},
   "outputs": [
    {
     "name": "stdout",
     "output_type": "stream",
     "text": [
      "Model: LinearSVC\n",
      "Mean Accuracy: 0.341\n",
      "Standard Deviation: 0.060\n",
      "\n",
      "Model: LogisticRegression\n",
      "Mean Accuracy: 0.337\n",
      "Standard Deviation: 0.063\n",
      "\n",
      "Model: MultinomialNB\n",
      "Mean Accuracy: 0.325\n",
      "Standard Deviation: 0.056\n",
      "\n",
      "Model: RandomForestClassifier\n",
      "Mean Accuracy: 0.305\n",
      "Standard Deviation: 0.052\n",
      "\n",
      "Model: XGBClassifier\n",
      "Mean Accuracy: 0.296\n",
      "Standard Deviation: 0.069\n",
      "\n"
     ]
    }
   ],
   "source": [
    "mean_accuracy = cv_df.groupby('model_name')['accuracy'].mean()\n",
    "std_deviation = cv_df.groupby('model_name')['accuracy'].std()\n",
    "\n",
    "for model_name, accuracy, std_dev in zip(mean_accuracy.index, mean_accuracy, std_deviation):\n",
    "    print(f\"Model: {model_name}\")\n",
    "    print(f\"Mean Accuracy: {accuracy:.3f}\")\n",
    "    print(f\"Standard Deviation: {std_dev:.3f}\")\n",
    "    print()\n"
   ]
  },
  {
   "cell_type": "code",
   "execution_count": 110,
   "metadata": {},
   "outputs": [
    {
     "data": {
      "image/png": "[encoded data removed]",
      "text/plain": [
       "<Figure size 800x500 with 1 Axes>"
      ]
     },
     "metadata": {},
     "output_type": "display_data"
    }
   ],
   "source": [
    "plt.figure(figsize=(8,5))\n",
    "sns.boxplot(x='model_name', y='accuracy', \n",
    "            data=cv_df, \n",
    "            color='lightblue', \n",
    "            showmeans=True)\n",
    "plt.title(\"MEAN ACCURACY (cv = 5)n\", size=14);"
   ]
  },
  {
   "attachments": {},
   "cell_type": "markdown",
   "metadata": {},
   "source": [
    "Text Classification model evaluation"
   ]
  },
  {
   "cell_type": "code",
   "execution_count": 111,
   "metadata": {},
   "outputs": [],
   "source": [
    "X_train, X_test, y_train, y_test,indices_train,indices_test = train_test_split(features, \n",
    "                                                               labels, \n",
    "                                                               df1.index, test_size=0.25, \n",
    "                                                               random_state=1)\n",
    "model = LinearSVC()\n",
    "model.fit(X_train, y_train)\n",
    "y_pred = model.predict(X_test)"
   ]
  },
  {
   "cell_type": "code",
   "execution_count": 112,
   "metadata": {},
   "outputs": [
    {
     "name": "stdout",
     "output_type": "stream",
     "text": [
      "CLASSIFICATIION METRICS\n",
      "                         precision    recall  f1-score   support\n",
      "\n",
      "                     HR       0.56      0.45      0.50        11\n",
      "              Designing       0.20      0.06      0.10        16\n",
      "              Managment       0.10      0.08      0.09        13\n",
      " Information Technology       0.50      0.43      0.46        14\n",
      "              Education       0.38      0.20      0.26        15\n",
      "               Advocate       0.71      0.36      0.48        14\n",
      "   Business Development       0.26      0.31      0.29        16\n",
      "       Health & Fitness       1.00      0.91      0.95        11\n",
      "           Agricultural       0.67      0.40      0.50        10\n",
      "                    BPO       1.00      0.30      0.46        10\n",
      "                  Sales       0.29      0.13      0.18        15\n",
      "             Consultant       1.00      0.15      0.27        13\n",
      "          Digital Media       0.50      0.43      0.46        14\n",
      "Building & Construction       0.56      0.38      0.45        13\n",
      "             Automobile       0.04      0.62      0.08         8\n",
      "                Banking       0.30      0.30      0.30        10\n",
      "            Engineering       0.43      0.25      0.32        12\n",
      "       Food & Beverages       0.83      0.33      0.48        15\n",
      "                Finance       0.14      0.06      0.09        16\n",
      "                Apparel       0.50      0.25      0.33        12\n",
      "             Accountant       0.75      0.53      0.62        17\n",
      "             Architects       0.50      0.67      0.57         9\n",
      "       Public Relations       0.83      1.00      0.91        10\n",
      "                   Arts       0.00      0.00      0.00        10\n",
      "               Aviation       0.67      0.44      0.53         9\n",
      "\n",
      "               accuracy                           0.34       313\n",
      "              macro avg       0.51      0.36      0.39       313\n",
      "           weighted avg       0.50      0.34      0.38       313\n",
      "\n"
     ]
    }
   ],
   "source": [
    "# Classification report\n",
    "#greater no of occurance -> high f1\n",
    "print('CLASSIFICATIION METRICS')\n",
    "print(metrics.classification_report(y_test, y_pred, \n",
    "                                    target_names= df1['category'].unique()))"
   ]
  },
  {
   "cell_type": "code",
   "execution_count": 113,
   "metadata": {},
   "outputs": [
    {
     "data": {
      "image/png": "[encoded data removed]",
      "text/plain": [
       "<Figure size 800x800 with 2 Axes>"
      ]
     },
     "metadata": {},
     "output_type": "display_data"
    }
   ],
   "source": [
    "#confusion matrix to check miss classified predictions\n",
    "conf_mat = confusion_matrix(y_test, y_pred)\n",
    "fig, ax = plt.subplots(figsize=(8,8))\n",
    "sns.heatmap(conf_mat, annot=True, cmap=\"Blues\", fmt='d',\n",
    "            xticklabels=category_id_df.category.values, \n",
    "            yticklabels=category_id_df.category.values)\n",
    "plt.ylabel('Actual')\n",
    "plt.xlabel('Predicted')\n",
    "plt.title(\"CONFUSION MATRIX - LinearSVCn\", size=16);"
   ]
  },
  {
   "attachments": {},
   "cell_type": "markdown",
   "metadata": {},
   "source": [
    "Prediction"
   ]
  },
  {
   "cell_type": "code",
   "execution_count": 114,
   "metadata": {},
   "outputs": [],
   "source": [
    "X_train, X_test, y_train, y_test = train_test_split(X, y, \n",
    "                                                    test_size=0.25,\n",
    "                                                    random_state = 0)"
   ]
  },
  {
   "cell_type": "code",
   "execution_count": 115,
   "metadata": {},
   "outputs": [],
   "source": [
    "tfidf = TfidfVectorizer(sublinear_tf=True, min_df=5,\n",
    "                        ngram_range=(1, 2), \n",
    "                        stop_words='english')\n",
    "fitted_vectorizer = tfidf.fit(X_train)\n",
    "tfidf_vectorizer_vectors = fitted_vectorizer.transform(X_train)"
   ]
  },
  {
   "cell_type": "code",
   "execution_count": 116,
   "metadata": {},
   "outputs": [],
   "source": [
    "model = LinearSVC().fit(tfidf_vectorizer_vectors, y_train)"
   ]
  },
  {
   "cell_type": "code",
   "execution_count": 117,
   "metadata": {},
   "outputs": [
    {
     "name": "stdout",
     "output_type": "stream",
     "text": [
      "['Linux', 'HTML', 'Image Processing', 'Artificial Intelligence', 'Big Data Analytics', 'Project Management', 'E-commerce SEO', 'Entrepreneurship', 'Social Entrepreneurship', 'Mobile Application Development', 'Business Strategy', 'Consulting', 'Cyber-security', 'Information Security Consultancy', 'Online Marketing Analysis', 'PHP', 'IT Consulting', 'Social Media Consulting', 'E-commerce Consulting', 'Start-up Consulting']\n"
     ]
    }
   ],
   "source": [
    "# Open the file in read mode\n",
    "with open('output.txt', 'r') as file:\n",
    "    # Read the lines from the file\n",
    "    lines = file.readlines()\n",
    "\n",
    "# Remove newline characters and whitespace from each line\n",
    "lines = [line.strip() for line in lines]\n",
    "\n",
    "# Process the lines and store them in a list\n",
    "my_list = lines\n",
    "\n",
    "# Print the list\n",
    "print(my_list)"
   ]
  },
  {
   "cell_type": "code",
   "execution_count": 118,
   "metadata": {},
   "outputs": [
    {
     "name": "stdout",
     "output_type": "stream",
     "text": [
      "Linux, HTML, Image Processing, Artificial Intelligence, Big Data Analytics, Project Management, E-commerce SEO, Entrepreneurship, Social Entrepreneurship, Mobile Application Development, Business Strategy, Consulting, Cyber-security, Information Security Consultancy, Online Marketing Analysis, PHP, IT Consulting, Social Media Consulting, E-commerce Consulting, Start-up Consulting\n"
     ]
    }
   ],
   "source": [
    "#my_list = ['item1', 'item2', 'item3']\n",
    "\n",
    "# Convert the list to a string with comma-separated elements\n",
    "list_string = ', '.join(my_list)\n",
    "\n",
    "print(list_string)"
   ]
  },
  {
   "cell_type": "code",
   "execution_count": 119,
   "metadata": {},
   "outputs": [
    {
     "name": "stdout",
     "output_type": "stream",
     "text": [
      "['Information Technology']\n"
     ]
    }
   ],
   "source": [
    "skills = list_string\n",
    "print(model.predict(fitted_vectorizer.transform([skills])))"
   ]
  }
 ],
 "metadata": {
  "kernelspec": {
   "display_name": "Python 3",
   "language": "python",
   "name": "python3"
  },
  "language_info": {
   "codemirror_mode": {
    "name": "ipython",
    "version": 3
   },
   "file_extension": ".py",
   "mimetype": "text/x-python",
   "name": "python",
   "nbconvert_exporter": "python",
   "pygments_lexer": "ipython3",
   "version": "3.9.6"
  },
  "orig_nbformat": 4
 },
 "nbformat": 4,
 "nbformat_minor": 2
}
