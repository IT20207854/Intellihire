{
 "cells": [
  {
   "cell_type": "markdown",
   "id": "22d8d4a4",
   "metadata": {},
   "source": [
    "# Installation of Libraries "
   ]
  },
  {
   "cell_type": "code",
   "execution_count": 1,
   "id": "3a59d9c1",
   "metadata": {},
   "outputs": [
    {
     "name": "stderr",
     "output_type": "stream",
     "text": [
      "c:\\Users\\PC\\anaconda3\\envs\\install_demo3\\lib\\site-packages\\fuzzywuzzy\\fuzz.py:11: UserWarning: Using slow pure-python SequenceMatcher. Install python-Levenshtein to remove this warning\n",
      "  warnings.warn('Using slow pure-python SequenceMatcher. Install python-Levenshtein to remove this warning')\n"
     ]
    }
   ],
   "source": [
    "# import required libraries\n",
    "import numpy as np\n",
    "import pandas as pd\n",
    "import seaborn as sns\n",
    "import PyPDF2\n",
    "import re\n",
    "import matplotlib.pyplot as plt\n",
    "\n",
    "from nltk.stem import WordNetLemmatizer\n",
    "from nltk.corpus import stopwords\n",
    "\n",
    "from fuzzywuzzy import fuzz\n",
    "\n",
    "from scipy import stats\n",
    "from gensim.models import Word2Vec\n",
    "from gensim.models import KeyedVectors\n",
    "from tqdm import tqdm\n",
    "import seaborn as sns\n",
    "import warnings\n",
    "warnings.filterwarnings(\"ignore\")\n",
    "from sklearn.metrics.pairwise import cosine_similarity, euclidean_distances\n",
    "from sklearn.feature_extraction.text import TfidfVectorizer\n",
    "from sklearn.metrics import mean_squared_error\n",
    "from sklearn.model_selection import KFold\n",
    "from sklearn.model_selection import train_test_split\n",
    "from sklearn.preprocessing import StandardScaler\n",
    "from sklearn.metrics import mean_squared_error as mse, r2_score, mean_absolute_error as mae\n",
    "from sklearn.linear_model import  Ridge\n",
    "from sklearn.neighbors import KNeighborsRegressor\n",
    "from sklearn.model_selection import GridSearchCV\n",
    "from sklearn.model_selection import KFold\n",
    "from sklearn.tree import DecisionTreeRegressor\n",
    "from sklearn.linear_model import LinearRegression\n",
    "from sklearn.ensemble import RandomForestRegressor\n",
    "from sklearn.feature_selection import SequentialFeatureSelector\n",
    "import xgboost as xgb\n",
    "from sklearn.svm import SVR\n",
    "from sklearn.model_selection import cross_val_score\n",
    "from sklearn.feature_extraction.text import CountVectorizer\n",
    "from sklearn.feature_extraction.text import TfidfVectorizer\n",
    "from sklearn.neighbors import KNeighborsRegressor\n",
    "from sklearn.metrics import mean_squared_error\n",
    "\n",
    "\n",
    "\n",
    "\n",
    "\n"
   ]
  },
  {
   "cell_type": "code",
   "execution_count": 2,
   "id": "1ca31ac0",
   "metadata": {},
   "outputs": [],
   "source": [
    "# convert text content of a PDF file into a single string\n",
    "\n",
    "import PyPDF2\n",
    "\n",
    "def pdf2Text(filename):\n",
    "    ''' load pdf and return the text'''\n",
    "    text = ''\n",
    "    # open the pdf file\n",
    "    with open(filename, 'rb') as file:\n",
    "        # create a PDF reader object\n",
    "        reader = PyPDF2.PdfReader(file)\n",
    "\n",
    "        # loop over each page\n",
    "        for page in reader.pages:\n",
    "            # extract text from the page and concat\n",
    "            text += page.extract_text()\n",
    "\n",
    "    # return all texts\n",
    "    return text"
   ]
  },
  {
   "cell_type": "code",
   "execution_count": 3,
   "id": "2a41c6a5",
   "metadata": {},
   "outputs": [],
   "source": [
    "#assign extracted pdf to a variable\n",
    "\n",
    "jd = pdf2Text('D:\\\\Research Docs\\\\dataset\\\\Job description.pdf')\n",
    "# print(jd)"
   ]
  },
  {
   "cell_type": "code",
   "execution_count": 4,
   "id": "a0f51561",
   "metadata": {},
   "outputs": [],
   "source": [
    "\n",
    "# create a dataframe of train data\n",
    "csvData = pd.read_csv('D:\\\\Research Docs\\\\dataset\\\\train.csv')"
   ]
  },
  {
   "cell_type": "code",
   "execution_count": 5,
   "id": "ab186397",
   "metadata": {},
   "outputs": [
    {
     "data": {
      "text/plain": [
       "Index(['CandidateID', 'Match Percentage'], dtype='object')"
      ]
     },
     "execution_count": 5,
     "metadata": {},
     "output_type": "execute_result"
    }
   ],
   "source": [
    "\n",
    "#get column names\n",
    "csvData.columns"
   ]
  },
  {
   "cell_type": "code",
   "execution_count": 6,
   "id": "75a4c1bb",
   "metadata": {},
   "outputs": [
    {
     "name": "stdout",
     "output_type": "stream",
     "text": [
      "<class 'pandas.core.frame.DataFrame'>\n",
      "RangeIndex: 90 entries, 0 to 89\n",
      "Data columns (total 2 columns):\n",
      " #   Column            Non-Null Count  Dtype  \n",
      "---  ------            --------------  -----  \n",
      " 0   CandidateID       90 non-null     object \n",
      " 1   Match Percentage  90 non-null     float64\n",
      "dtypes: float64(1), object(1)\n",
      "memory usage: 1.5+ KB\n"
     ]
    }
   ],
   "source": [
    "csvData.info()"
   ]
  },
  {
   "cell_type": "code",
   "execution_count": 7,
   "id": "b283b53f",
   "metadata": {},
   "outputs": [
    {
     "data": {
      "text/html": [
       "<div>\n",
       "<style scoped>\n",
       "    .dataframe tbody tr th:only-of-type {\n",
       "        vertical-align: middle;\n",
       "    }\n",
       "\n",
       "    .dataframe tbody tr th {\n",
       "        vertical-align: top;\n",
       "    }\n",
       "\n",
       "    .dataframe thead th {\n",
       "        text-align: right;\n",
       "    }\n",
       "</style>\n",
       "<table border=\"1\" class=\"dataframe\">\n",
       "  <thead>\n",
       "    <tr style=\"text-align: right;\">\n",
       "      <th></th>\n",
       "      <th>Match Percentage</th>\n",
       "    </tr>\n",
       "  </thead>\n",
       "  <tbody>\n",
       "    <tr>\n",
       "      <th>count</th>\n",
       "      <td>90.000000</td>\n",
       "    </tr>\n",
       "    <tr>\n",
       "      <th>mean</th>\n",
       "      <td>39.645333</td>\n",
       "    </tr>\n",
       "    <tr>\n",
       "      <th>std</th>\n",
       "      <td>16.032770</td>\n",
       "    </tr>\n",
       "    <tr>\n",
       "      <th>min</th>\n",
       "      <td>4.810000</td>\n",
       "    </tr>\n",
       "    <tr>\n",
       "      <th>25%</th>\n",
       "      <td>35.937500</td>\n",
       "    </tr>\n",
       "    <tr>\n",
       "      <th>50%</th>\n",
       "      <td>44.650000</td>\n",
       "    </tr>\n",
       "    <tr>\n",
       "      <th>75%</th>\n",
       "      <td>50.542500</td>\n",
       "    </tr>\n",
       "    <tr>\n",
       "      <th>max</th>\n",
       "      <td>69.210000</td>\n",
       "    </tr>\n",
       "  </tbody>\n",
       "</table>\n",
       "</div>"
      ],
      "text/plain": [
       "       Match Percentage\n",
       "count         90.000000\n",
       "mean          39.645333\n",
       "std           16.032770\n",
       "min            4.810000\n",
       "25%           35.937500\n",
       "50%           44.650000\n",
       "75%           50.542500\n",
       "max           69.210000"
      ]
     },
     "execution_count": 7,
     "metadata": {},
     "output_type": "execute_result"
    }
   ],
   "source": [
    "csvData.describe()"
   ]
  },
  {
   "cell_type": "code",
   "execution_count": 8,
   "id": "d460a338",
   "metadata": {},
   "outputs": [
    {
     "name": "stdout",
     "output_type": "stream",
     "text": [
      "0\n"
     ]
    }
   ],
   "source": [
    "\n",
    "#check duplicates\n",
    "print(csvData.duplicated().sum())"
   ]
  },
  {
   "cell_type": "code",
   "execution_count": 9,
   "id": "a55e7b0b",
   "metadata": {},
   "outputs": [
    {
     "data": {
      "image/png": "[encoded data removed]",
      "text/plain": [
       "<Figure size 640x480 with 1 Axes>"
      ]
     },
     "metadata": {},
     "output_type": "display_data"
    }
   ],
   "source": [
    "#plot distribution of matching percentage\n",
    "\n",
    "sns.kdeplot(csvData['Match Percentage'].values)\n",
    "plt.title('PDF of Match Percentage')\n",
    "plt.show()"
   ]
  },
  {
   "cell_type": "code",
   "execution_count": 10,
   "id": "1cdeaf27",
   "metadata": {},
   "outputs": [
    {
     "data": {
      "text/html": [
       "<div>\n",
       "<style scoped>\n",
       "    .dataframe tbody tr th:only-of-type {\n",
       "        vertical-align: middle;\n",
       "    }\n",
       "\n",
       "    .dataframe tbody tr th {\n",
       "        vertical-align: top;\n",
       "    }\n",
       "\n",
       "    .dataframe thead th {\n",
       "        text-align: right;\n",
       "    }\n",
       "</style>\n",
       "<table border=\"1\" class=\"dataframe\">\n",
       "  <thead>\n",
       "    <tr style=\"text-align: right;\">\n",
       "      <th></th>\n",
       "      <th>CandidateID</th>\n",
       "      <th>Match Percentage</th>\n",
       "    </tr>\n",
       "  </thead>\n",
       "  <tbody>\n",
       "    <tr>\n",
       "      <th>0</th>\n",
       "      <td>candidate_011</td>\n",
       "      <td>13.60</td>\n",
       "    </tr>\n",
       "    <tr>\n",
       "      <th>1</th>\n",
       "      <td>candidate_113</td>\n",
       "      <td>36.63</td>\n",
       "    </tr>\n",
       "    <tr>\n",
       "      <th>2</th>\n",
       "      <td>candidate_123</td>\n",
       "      <td>54.93</td>\n",
       "    </tr>\n",
       "    <tr>\n",
       "      <th>3</th>\n",
       "      <td>candidate_012</td>\n",
       "      <td>41.46</td>\n",
       "    </tr>\n",
       "    <tr>\n",
       "      <th>4</th>\n",
       "      <td>candidate_002</td>\n",
       "      <td>48.91</td>\n",
       "    </tr>\n",
       "  </tbody>\n",
       "</table>\n",
       "</div>"
      ],
      "text/plain": [
       "     CandidateID  Match Percentage\n",
       "0  candidate_011             13.60\n",
       "1  candidate_113             36.63\n",
       "2  candidate_123             54.93\n",
       "3  candidate_012             41.46\n",
       "4  candidate_002             48.91"
      ]
     },
     "execution_count": 10,
     "metadata": {},
     "output_type": "execute_result"
    }
   ],
   "source": [
    "#get frist few rows of dataset\n",
    "csvData.head()"
   ]
  },
  {
   "cell_type": "code",
   "execution_count": 11,
   "id": "c8a6fd51",
   "metadata": {},
   "outputs": [
    {
     "name": "stdout",
     "output_type": "stream",
     "text": [
      "LIAM ANDREWS\n",
      "FRESHER\n",
      "WORK EXPERIENCE\n",
      "Intern Trainee, Jan 2020 to Apr 2020DICTIS\n",
      "Responsible for performing and helping in decision\n",
      "making. \n",
      "ACADEMIC PROFILE\n",
      "B.Tech(Civil) Garodia Institute of Technosciences,\n",
      "2020 EXECUTIVE\n",
      "SUMMARY\n",
      "Fresher with strong statistical and\n",
      "analytic capabilities. Someone who\n",
      "is driven by the passion for\n",
      "problem solving. Though I am from\n",
      "Civil Engineering background I\n",
      "have always been fascinated with\n",
      "data and how Machine Learning is\n",
      "evolving with iit.\n",
      "PERSONAL\n",
      "SKILLS\n",
      "Data Analyst, Data Mining, Data\n",
      "Visualization, Machine Learning,\n",
      "Linear Regression, Statistical\n",
      "Modeling, Predictive Modeling, SQL\n",
      "Server, Oracle, Python.\n",
      "PROJECTS\n",
      "Railway Signals Determiner using\n",
      "relay weight system.\n",
      "EXTRA-CURRICULARS\n",
      "Data Preprocessing with Python\n",
      "Data Visualization with Power BI\n",
      "\n",
      "\n",
      "********************************************************************************\n",
      "\n",
      "\n",
      "Ellie Mackey\n",
      "FRESHER INTERN\n",
      "Executive Profile\n",
      "Actively seeking job. An enthusiast, with a\n",
      "Master's degree in Electronics &\n",
      "Telecommunication, very keen to learn &\n",
      "eagerly looking for opportunities.\n",
      "Other Activities\n",
      "MACHINE LEARNING with Python.\n",
      "Projects\n",
      "Mine and analyze data from databases to\n",
      "drive optimization and improvement of\n",
      "product development, marketing\n",
      "techniques and business strategies.Skills\n",
      "Data science, Deep learning, Neural\n",
      "Networks, Artificial Intelligence, Natural\n",
      "Language Processing, Pattern Recognition,\n",
      "Machine Learning, Predictive Analytics,\n",
      "Logistic regression. Work Experience\n",
      "BB House of Developers \n",
      "Intern Trainee, Nov 2019 - Feb 2020 \n",
      "Learned the in's and out's of software development of machine\n",
      "learning projects.\n",
      "Education\n",
      "B.CA St. Subhash College, Hyderabad 2020.\n",
      "\n",
      "\n",
      "********************************************************************************\n",
      "\n",
      "\n",
      "Telco \n",
      "Trainee Intern, May 2018 - Dec 2018 \n",
      "Data Handling for clients and giving them insights\n",
      "and reports based on that.\n",
      "B.Tech(Bio-Tech) Sai Charan Singh University,\n",
      "Ludhiana, 2017 \n",
      "M.Tech(Data Science) Sai Charan Singh University,\n",
      "Ludhiana, 2019WORK EXPERIENCE\n",
      "EDUCATIONFELIX WINSTON\n",
      "FRESHER\n",
      "Fresher having knowledge in machine learning and natural language processing. Looking to join a role where I can learn\n",
      "from an well informed environment, experiment and produce promising results and work with different kinds of data.\n",
      "Data Analyst, Machine Learning, Data Mining, Data Science, Natural Language Processing, Data Visualization, Data\n",
      "Analysis.ABOUT\n",
      "SKILLS\n",
      "Data Management Using Automated ML scripts.\n",
      "Understanding Neural Networks Nanyang University.PROJECTS\n",
      "ACTIVITES\n",
      "\n",
      "\n",
      "********************************************************************************\n",
      "\n",
      "\n",
      "JIMMY GARTNER\n",
      "DA T A  M A N A G E R\n",
      "PROFESSIONAL PROFILE\n",
      "I am looking for an opportunity to work as\n",
      "a Data Scientist. Possessing right and\n",
      "accurate skills at collecting, analyzing,\n",
      "interpreting large datasets and\n",
      "performing data management tasks.\n",
      "Under the guidance of company's\n",
      "professionals I can contribute to\n",
      "company's success using my extensive\n",
      "analytical skills. \n",
      "ACHIEVEMENTS AND EXTRA\n",
      "CURRICULARS\n",
      "Firebase Engineer level 2\n",
      "GCP Architect Proficiency 1\n",
      "Big Data Analytics Crash course\n",
      "P R O J E C T S\n",
      "Video Recommender System \n",
      "NLP text extraction from online scripturesPROFICIENT SKILLS\n",
      "Business Analytics, Data Analysis, Machine\n",
      "Learning, SQL, Firebase, AWS, GCP, Cloud\n",
      "Infrastructure, Python, Text Mining,\n",
      "Database Management and Processing,\n",
      "Time Series Analysis, Research Analysis, EMPLOYMENT HISTORY\n",
      "Pricing Engine, Vehicle Allocation Problem, Optimising Route\n",
      "Mechanism development with the help of big data analytics.Associate Data Scientist, Aug 2020 to Till DateE Express\n",
      "EDUCATIONAL HISTORY\n",
      "B.Sc (Statistics) in 2019Lucknow University\n",
      "\n",
      "\n",
      "********************************************************************************\n",
      "\n",
      "\n",
      "AMZ Loans and Mortgages\n",
      "ERC Analytics, Jun 2019 to till date\n",
      "Handling data of employees and finding retention\n",
      "factors and employee satisfaction. Worked Closely\n",
      "with the HR team to find a balance that was\n",
      "beneficial for both employees and the Company.\n",
      "B.Tech/B.E. (Electronics/Telecommunication) from\n",
      "Nagpur University in 2019WORK EXPERIENCE\n",
      "EDUCATIONMASON QUADRADO\n",
      "ASSOCIATE ANALYST\n",
      "Certified Data analyst with a degree in Electronics Engineering, I have hands on experience in analyzing & interpreting\n",
      "data with good numerical accuracy. \n",
      "Python, Machine Learning, MySQL, Data Mining, Deep Learning, Data Analysis, Computer Vision, Flask API, Predictive\n",
      "Modeling, AWS, Scikit-Learn, Numpy, Statistical Analysis, Multivariate Analysis, Decision Trees, Random Forest, Xgboost,\n",
      "NLP.ABOUT\n",
      "SKILLS\n",
      "Deep Learning based pattern matching. \n",
      "Auto-Color Grading using Python\n",
      "Google Cloud CertifiedPROJECT\n",
      "OTHER QUALIFICATION\n",
      "\n",
      "\n",
      "********************************************************************************\n",
      "\n",
      "\n"
     ]
    }
   ],
   "source": [
    "# view first five resumes\n",
    "for sampleResume in csvData.CandidateID.head().values:\n",
    "    # load resume pdf\n",
    "    print(pdf2Text('D:\\Research Docs\\dataset\\\\trainResumes\\\\'+sampleResume+'.pdf'))\n",
    "    print('\\n\\n'+'*'*80+'\\n\\n')"
   ]
  },
  {
   "cell_type": "markdown",
   "id": "ea88a7d9",
   "metadata": {},
   "source": [
    "###  univariate and bivariate analyses are fundamental statistical techniques used to understand and interpret data. \n"
   ]
  },
  {
   "cell_type": "code",
   "execution_count": 12,
   "id": "59393d05",
   "metadata": {},
   "outputs": [],
   "source": [
    "resumeStrLen = []\n",
    "resumeWordLen = []\n",
    "\n",
    "# loop over all resumes\n",
    "\n",
    "for sampleResume in csvData.CandidateID.values:\n",
    "    \n",
    "    # get character length of the resume\n",
    "    \n",
    "    resumeStrLen.append(len(pdf2Text('D:\\Research Docs\\dataset\\\\trainResumes\\\\'+sampleResume+'.pdf')))\n",
    "    \n",
    "    # get word length of the resume\n",
    "    \n",
    "    resumeWordLen.append(len(pdf2Text('D:\\Research Docs\\dataset\\\\trainResumes\\\\'+sampleResume+'.pdf').split()))"
   ]
  },
  {
   "cell_type": "code",
   "execution_count": 13,
   "id": "23439330",
   "metadata": {},
   "outputs": [],
   "source": [
    "##With the PDF of resumes's word length and character length, we can be certain that there are no irregularities in the resumes."
   ]
  },
  {
   "cell_type": "code",
   "execution_count": 14,
   "id": "4b84c5ef",
   "metadata": {},
   "outputs": [
    {
     "name": "stdout",
     "output_type": "stream",
     "text": [
      "Min resume character length 525\n",
      "Max resume character length 1539\n"
     ]
    },
    {
     "data": {
      "image/png": "[encoded data removed]",
      "text/plain": [
       "<Figure size 640x480 with 1 Axes>"
      ]
     },
     "metadata": {},
     "output_type": "display_data"
    }
   ],
   "source": [
    "print('Min resume character length '+str(min(resumeStrLen)))\n",
    "print('Max resume character length '+str(max(resumeStrLen)))\n",
    "sns.kdeplot(resumeStrLen)\n",
    "plt.title('PDF of Resume character length')\n",
    "plt.show()"
   ]
  },
  {
   "cell_type": "code",
   "execution_count": 15,
   "id": "5a838a38",
   "metadata": {},
   "outputs": [
    {
     "name": "stdout",
     "output_type": "stream",
     "text": [
      "Spearman Rank Correlation Coefficient is 0.18769627151171253\n"
     ]
    },
    {
     "data": {
      "image/png": "[encoded data removed]",
      "text/plain": [
       "<Figure size 640x480 with 1 Axes>"
      ]
     },
     "metadata": {},
     "output_type": "display_data"
    }
   ],
   "source": [
    "#statistical measure that quantifies the strength and direction of the monotonic relationship between two variables\n",
    "\n",
    "print('Spearman Rank Correlation Coefficient is', stats.spearmanr(resumeStrLen, csvData['Match Percentage']).correlation)\n",
    "plt.scatter(resumeStrLen, csvData['Match Percentage'])\n",
    "plt.title('Correlation between Resume character length and Match Percentage')\n",
    "plt.xlabel('Resume character length')\n",
    "plt.ylabel('Match Percentage')\n",
    "plt.show()"
   ]
  },
  {
   "cell_type": "markdown",
   "id": "d938d941",
   "metadata": {},
   "source": [
    "# Data Cleaning"
   ]
  },
  {
   "cell_type": "code",
   "execution_count": 16,
   "id": "338ddf57",
   "metadata": {},
   "outputs": [],
   "source": [
    "#concatenate words fucntion\n",
    "\n",
    "def concat(s):\n",
    "    '''Concatenate words like \"D A T A  S C I E N C E\" to get \"DATA SCIENCE\"'''\n",
    "    \n",
    "    # add spaces at both end for better processing\n",
    "    \n",
    "    s = ' '+s+' '\n",
    "    \n",
    "    while True:\n",
    "        \n",
    "        # search if more than two alphabets are separated by space\n",
    "        \n",
    "        x = re.search(r\"(\\s[a-zA-Z]){2,}\\s\", s)\n",
    "        \n",
    "        if x==None:\n",
    "            \n",
    "            break\n",
    "        # replace to get the concatenation\n",
    "        \n",
    "        s = s.replace(x.group(),' '+x.group().replace(' ','')+' ')\n",
    "        \n",
    "    return s"
   ]
  },
  {
   "cell_type": "code",
   "execution_count": 17,
   "id": "953a0c05",
   "metadata": {},
   "outputs": [],
   "source": [
    "# functions to preprocess text\n",
    "\n",
    "#concatenation\n",
    "#convertion of specific from\n",
    "#stop word removal\n",
    "#conversion of special symbols\n",
    "#lemmatizer to reduce the inflections\n",
    "#removal of space\n",
    "\n",
    "def preprocess_text(x, removeStopWords=False):\n",
    "    # convert to lower case\n",
    "    x = str(x).lower()\n",
    "    # replace unusual quotes with '\n",
    "    x = x.replace(\"′\", \"'\").replace(\"’\", \"'\")\n",
    "    # replace new line with space\n",
    "    x = x.replace(\"\\n\", \" \")\n",
    "    # concatenate\n",
    "    x = concat(x)\n",
    "    # remove links\n",
    "    x = re.sub(r\"http\\S+\", \"\", x)\n",
    "    \n",
    "    # convert education degrees like B.Tech or BTech to a specified form\n",
    "    x = re.sub(r\"\\s+b[.]?[ ]?tech[(. /]{1}\", \" btech bachelor of technology \", x)\n",
    "    x = re.sub(r\"\\s+m[.]?[ ]?tech[(. ]{1}\", \" mtech master of technology \", x)\n",
    "    x = re.sub(r\"\\s+b[.]?[ ]?a[(. ]{1}\", \" ba bachelor of arts \", x)\n",
    "    x = re.sub(r\"\\s+m[.]?[ ]?a[(. ]{1}\", \" ma master of arts \", x)\n",
    "    x = re.sub(r\"\\s+b[.]?[ ]?sc[(. ]{1}\", \" bsc bachelor of science \", x)\n",
    "    x = re.sub(r\"\\s+m[.]?[ ]?sc[(. ]{1}\", \" msc master of science \", x)\n",
    "    x = re.sub(r\"\\s+b[.]?[ ]?e[(. ]{1}\", \" beng bachelor of engineering \", x)\n",
    "    x = re.sub(r\"\\s+m[.]?[ ]?e[(. ]{1}\", \" meng master of engineering \", x)\n",
    "    x = re.sub(r\"\\s+b[.]?[ ]?c[.]?[ ]?a[(. ]{1}\", \" bca bachelor of computer applications \", x)\n",
    "    x = re.sub(r\"\\s+m[.]?[ ]?c[.]?[ ]?a[(. ]{1}\", \" mca master of computer applications \", x)\n",
    "    x = re.sub(r\"\\s+b[.]?[ ]?b[.]?[ ]?a[(. ]{1}\", \" bba bachelor of business administration \", x)\n",
    "    x = re.sub(r\"\\s+m[.]?[ ]?b[.]?[ ]?a[(. ]{1}\", \" mba master of business administration \", x)\n",
    "    \n",
    "    # convert skills with special symbols to words\n",
    "    x = x.replace(\"c++\", \"cplusplus\")\n",
    "    x = x.replace(\"c#\", \"csharp\")\n",
    "    x = x.replace(\".net\", \"dotnet\")\n",
    "    \n",
    "    # replace non alpha numeric character with space\n",
    "    x = re.sub('\\W', ' ', x)\n",
    "    \n",
    "    # if remove stop words flag set then remove them\n",
    "    z = []\n",
    "    for i in x.split():\n",
    "        if not (removeStopWords and i in stopwords.words('english')):\n",
    "            # use lemmatizer to reduce the inflections\n",
    "            lemmatizer = WordNetLemmatizer()\n",
    "            i = lemmatizer.lemmatize(i)\n",
    "            z.append(i)\n",
    "    z = ' '.join(z)\n",
    "    \n",
    "    # strip white spaces\n",
    "    z = z.strip()\n",
    "    return z"
   ]
  },
  {
   "cell_type": "code",
   "execution_count": 18,
   "id": "99a72340",
   "metadata": {},
   "outputs": [
    {
     "name": "stdout",
     "output_type": "stream",
     "text": [
      "machine learning engineering 13585abc knowledge innovation focus researching building designing self running artificial intelligence ai system automate predictive model responsible design create ai algorithm capable learning making prediction define machine learning ml experience qualification bachelor master degree mention course per requirement 0 2 year work experience providing analytics solution commercial setting technical expertise must machine learning clustering logistic regression classification different library scikit learn numpy panda matplotlib seaborn deep learning framework tensorflow kera pytorch application neural network model cnn rnn gans familiar natural language processing associated library like nltk spacy beautiful soup pyspark hadoop big data pipeline data science methodology exploratory data analysis feature engineering model selection deployment model scale model evaluation deploying nlp architecture computer vision model production considered plus transformer advance technique nlp familiar computer vision model object detection ocr opencv analytical tool reduce medium data transfer web framework like django database like mongodb nosql graphql sql firebase aws azure google cloud platform job type full time\n"
     ]
    }
   ],
   "source": [
    "# preprocess job description\n",
    "\n",
    "\n",
    "jd_processed = preprocess_text(jd, removeStopWords=True)\n",
    "print(jd_processed)"
   ]
  },
  {
   "cell_type": "code",
   "execution_count": 19,
   "id": "ea84378a",
   "metadata": {},
   "outputs": [],
   "source": [
    "# preprocess all resumes\n",
    "resumes = []\n",
    "for candidateID in csvData.CandidateID.values:\n",
    "    # load resume pdf\n",
    "    resume = pdf2Text('D:\\Research Docs\\dataset\\\\trainResumes\\\\'+candidateID+'.pdf')\n",
    "    # preprocess\n",
    "    resume_processed = preprocess_text(resume, removeStopWords=True)\n",
    "    resumes.append(resume_processed)"
   ]
  },
  {
   "cell_type": "code",
   "execution_count": 20,
   "id": "41606c09",
   "metadata": {},
   "outputs": [
    {
     "name": "stdout",
     "output_type": "stream",
     "text": [
      "liam andrew fresher work experience intern trainee jan 2020 apr 2020dictis responsible performing helping decision making academic profile btech bachelor technology civil garodia institute technosciences 2020 executive summary fresher strong statistical analytic capability someone driven passion problem solving though civil engineering background always fascinated data machine learning evolving iit personal skill data analyst data mining data visualization machine learning linear regression statistical modeling predictive modeling sql server oracle python project railway signal determiner using relay weight system extra curriculars data preprocessing python data visualization power bi\n",
      "\n",
      "\n",
      "********************************************************************************\n",
      "\n",
      "\n",
      "ellie mackey fresher intern executive profile actively seeking job enthusiast master degree electronics telecommunication keen learn eagerly looking opportunity activity machine learning python project mine analyze data database drive optimization improvement product development marketing technique business strategy skill data science deep learning neural network artificial intelligence natural language processing pattern recognition machine learning predictive analytics logistic regression work experience bb house developer intern trainee nov 2019 feb 2020 learned software development machine learning project education bca bachelor computer application st subhash college hyderabad 2020\n",
      "\n",
      "\n",
      "********************************************************************************\n",
      "\n",
      "\n",
      "telco trainee intern may 2018 dec 2018 data handling client giving insight report based btech bachelor technology bio tech sai charan singh university ludhiana 2017 mtech master technology data science sai charan singh university ludhiana 2019work experience educationfelix winston fresher fresher knowledge machine learning natural language processing looking join role learn well informed environment experiment produce promising result work different kind data data analyst machine learning data mining data science natural language processing data visualization data analysis skill data management using automated ml script understanding neural network nanyang university project activites\n",
      "\n",
      "\n",
      "********************************************************************************\n",
      "\n",
      "\n",
      "jimmy gartner da ta manager professional profile looking opportunity work data scientist possessing right accurate skill collecting analyzing interpreting large datasets performing data management task guidance company professional contribute company success using extensive analytical skill achievement extra curriculars firebase engineer level 2 gcp architect proficiency 1 big data analytics crash course project video recommender system nlp text extraction online scripturesproficient skill business analytics data analysis machine learning sql firebase aws gcp cloud infrastructure python text mining database management processing time series analysis research analysis employment history pricing engine vehicle allocation problem optimising route mechanism development help big data analytics associate data scientist aug 2020 till datee express educational history bsc bachelor science statistic 2019lucknow university\n",
      "\n",
      "\n",
      "********************************************************************************\n",
      "\n",
      "\n",
      "amz loan mortgage erc analytics jun 2019 till date handling data employee finding retention factor employee satisfaction worked closely hr team find balance beneficial employee company btech bachelor technology beng bachelor engineering electronics telecommunication nagpur university 2019work experience educationmason quadrado associate analyst certified data analyst degree electronics engineering hand experience analyzing interpreting data good numerical accuracy python machine learning mysql data mining deep learning data analysis computer vision flask api predictive modeling aws scikit learn numpy statistical analysis multivariate analysis decision tree random forest xgboost nlp skill deep learning based pattern matching auto color grading using python google cloud certifiedproject qualification\n",
      "\n",
      "\n",
      "********************************************************************************\n",
      "\n",
      "\n"
     ]
    }
   ],
   "source": [
    "for i in range(5):\n",
    "    print(resumes[i])\n",
    "    print('\\n\\n'+'*'*80+'\\n\\n')"
   ]
  },
  {
   "cell_type": "code",
   "execution_count": 21,
   "id": "1f0abb96",
   "metadata": {},
   "outputs": [],
   "source": [
    "# creating structured data frame\n",
    "data = pd.DataFrame({'job_description': [jd_processed]*len(csvData), 'processed_resume': resumes, 'match_percentage': csvData['Match Percentage']})"
   ]
  },
  {
   "cell_type": "code",
   "execution_count": 22,
   "id": "01185df9",
   "metadata": {},
   "outputs": [
    {
     "name": "stdout",
     "output_type": "stream",
     "text": [
      "                                     job_description   \n",
      "0  machine learning engineering 13585abc knowledg...  \\\n",
      "1  machine learning engineering 13585abc knowledg...   \n",
      "2  machine learning engineering 13585abc knowledg...   \n",
      "3  machine learning engineering 13585abc knowledg...   \n",
      "4  machine learning engineering 13585abc knowledg...   \n",
      "\n",
      "                                    processed_resume  match_percentage  \n",
      "0  liam andrew fresher work experience intern tra...             13.60  \n",
      "1  ellie mackey fresher intern executive profile ...             36.63  \n",
      "2  telco trainee intern may 2018 dec 2018 data ha...             54.93  \n",
      "3  jimmy gartner da ta manager professional profi...             41.46  \n",
      "4  amz loan mortgage erc analytics jun 2019 till ...             48.91  \n"
     ]
    }
   ],
   "source": [
    "print(data.head())"
   ]
  },
  {
   "cell_type": "code",
   "execution_count": 23,
   "id": "f3798573",
   "metadata": {},
   "outputs": [],
   "source": [
    "def feature_extract(data):\n",
    "    '''extract features'''\n",
    "    # number of words in resume\n",
    "    data['resume_word_num'] = data.processed_resume.apply(lambda x: len(x.split()))\n",
    "    # number of unique words in job description and resumes \n",
    "    data['total_unique_word_num'] = data.apply(lambda x: len(set(x.job_description.split()).union(set(x.processed_resume.split()))) ,axis=1)\n",
    "    # number of common words in job description and resumes\n",
    "    data['common_word_num'] = data.apply(lambda x: len(set(x.job_description.split()).intersection(set(x.processed_resume.split()))) ,axis=1)\n",
    "    # number of common words divided by total number of unique words combined in both job description and resumes\n",
    "    data['common_word_ratio'] = data['common_word_num'] / data.apply(lambda x: len(set(x.job_description.split()).union(set(x.processed_resume.split()))) ,axis=1)\n",
    "    # number of common words divided by minimum number of unique words between job description and resumes\n",
    "    data['common_word_ratio_min'] = data['common_word_num'] / data.apply(lambda x: min(len(set(x.job_description.split())), len(set(x.processed_resume.split()))) ,axis=1) \n",
    "    # number of common words divided by maximum number of unique words between job description and resumes\n",
    "    data['common_word_ratio_max'] = data['common_word_num'] / data.apply(lambda x: max(len(set(x.job_description.split())), len(set(x.processed_resume.split()))) ,axis=1) \n",
    "    \n",
    "    # applying the Fuzz WRatio algorithm to calculate similarity scores between the \"job_description\" and \"processed_resume\" columns in a pandas DataFrame\n",
    "    data[\"fuzz_ratio\"] = data.apply(lambda x: fuzz.WRatio(x.job_description, x.processed_resume), axis=1)\n",
    "    # Fuzz partial ratio\n",
    "    data[\"fuzz_partial_ratio\"] = data.apply(lambda x: fuzz.partial_ratio(x.job_description, x.processed_resume), axis=1)\n",
    "    # Fuzz token set ratio\n",
    "    data[\"fuzz_token_set_ratio\"] = data.apply(lambda x: fuzz.token_set_ratio(x.job_description, x.processed_resume), axis=1)\n",
    "    # Fuzz token sort ratio\n",
    "    data[\"fuzz_token_sort_ratio\"] = data.apply(lambda x: fuzz.token_sort_ratio(x.job_description, x.processed_resume), axis=1)\n",
    "    \n",
    "    # is fresher\n",
    "    data['is_fresher'] = data.processed_resume.apply(lambda x: int('fresher' in x.split()))\n",
    "    \n",
    "    \n",
    "    # fill na fields with 0\n",
    "    data.fillna(0, inplace=True)\n",
    "    return data"
   ]
  },
  {
   "cell_type": "code",
   "execution_count": 24,
   "id": "96874a8b",
   "metadata": {},
   "outputs": [],
   "source": [
    "# get features\n",
    "data_feature = feature_extract(data)"
   ]
  },
  {
   "cell_type": "code",
   "execution_count": 25,
   "id": "4b206ac5",
   "metadata": {},
   "outputs": [
    {
     "data": {
      "text/html": [
       "<div>\n",
       "<style scoped>\n",
       "    .dataframe tbody tr th:only-of-type {\n",
       "        vertical-align: middle;\n",
       "    }\n",
       "\n",
       "    .dataframe tbody tr th {\n",
       "        vertical-align: top;\n",
       "    }\n",
       "\n",
       "    .dataframe thead th {\n",
       "        text-align: right;\n",
       "    }\n",
       "</style>\n",
       "<table border=\"1\" class=\"dataframe\">\n",
       "  <thead>\n",
       "    <tr style=\"text-align: right;\">\n",
       "      <th></th>\n",
       "      <th>job_description</th>\n",
       "      <th>processed_resume</th>\n",
       "      <th>match_percentage</th>\n",
       "      <th>resume_word_num</th>\n",
       "      <th>total_unique_word_num</th>\n",
       "      <th>common_word_num</th>\n",
       "      <th>common_word_ratio</th>\n",
       "      <th>common_word_ratio_min</th>\n",
       "      <th>common_word_ratio_max</th>\n",
       "      <th>fuzz_ratio</th>\n",
       "      <th>fuzz_partial_ratio</th>\n",
       "      <th>fuzz_token_set_ratio</th>\n",
       "      <th>fuzz_token_sort_ratio</th>\n",
       "      <th>is_fresher</th>\n",
       "    </tr>\n",
       "  </thead>\n",
       "  <tbody>\n",
       "    <tr>\n",
       "      <th>0</th>\n",
       "      <td>machine learning engineering 13585abc knowledg...</td>\n",
       "      <td>liam andrew fresher work experience intern tra...</td>\n",
       "      <td>13.60</td>\n",
       "      <td>86</td>\n",
       "      <td>192</td>\n",
       "      <td>13</td>\n",
       "      <td>0.067708</td>\n",
       "      <td>0.180556</td>\n",
       "      <td>0.097744</td>\n",
       "      <td>86</td>\n",
       "      <td>17</td>\n",
       "      <td>31</td>\n",
       "      <td>1</td>\n",
       "      <td>1</td>\n",
       "    </tr>\n",
       "    <tr>\n",
       "      <th>1</th>\n",
       "      <td>machine learning engineering 13585abc knowledg...</td>\n",
       "      <td>ellie mackey fresher intern executive profile ...</td>\n",
       "      <td>36.63</td>\n",
       "      <td>84</td>\n",
       "      <td>180</td>\n",
       "      <td>27</td>\n",
       "      <td>0.150000</td>\n",
       "      <td>0.364865</td>\n",
       "      <td>0.203008</td>\n",
       "      <td>86</td>\n",
       "      <td>8</td>\n",
       "      <td>55</td>\n",
       "      <td>3</td>\n",
       "      <td>1</td>\n",
       "    </tr>\n",
       "    <tr>\n",
       "      <th>2</th>\n",
       "      <td>machine learning engineering 13585abc knowledg...</td>\n",
       "      <td>telco trainee intern may 2018 dec 2018 data ha...</td>\n",
       "      <td>54.93</td>\n",
       "      <td>91</td>\n",
       "      <td>183</td>\n",
       "      <td>18</td>\n",
       "      <td>0.098361</td>\n",
       "      <td>0.264706</td>\n",
       "      <td>0.135338</td>\n",
       "      <td>86</td>\n",
       "      <td>17</td>\n",
       "      <td>42</td>\n",
       "      <td>3</td>\n",
       "      <td>1</td>\n",
       "    </tr>\n",
       "    <tr>\n",
       "      <th>3</th>\n",
       "      <td>machine learning engineering 13585abc knowledg...</td>\n",
       "      <td>jimmy gartner da ta manager professional profi...</td>\n",
       "      <td>41.46</td>\n",
       "      <td>115</td>\n",
       "      <td>207</td>\n",
       "      <td>21</td>\n",
       "      <td>0.101449</td>\n",
       "      <td>0.221053</td>\n",
       "      <td>0.157895</td>\n",
       "      <td>29</td>\n",
       "      <td>19</td>\n",
       "      <td>31</td>\n",
       "      <td>1</td>\n",
       "      <td>0</td>\n",
       "    </tr>\n",
       "    <tr>\n",
       "      <th>4</th>\n",
       "      <td>machine learning engineering 13585abc knowledg...</td>\n",
       "      <td>amz loan mortgage erc analytics jun 2019 till ...</td>\n",
       "      <td>48.91</td>\n",
       "      <td>101</td>\n",
       "      <td>196</td>\n",
       "      <td>21</td>\n",
       "      <td>0.107143</td>\n",
       "      <td>0.250000</td>\n",
       "      <td>0.157895</td>\n",
       "      <td>86</td>\n",
       "      <td>6</td>\n",
       "      <td>39</td>\n",
       "      <td>1</td>\n",
       "      <td>0</td>\n",
       "    </tr>\n",
       "  </tbody>\n",
       "</table>\n",
       "</div>"
      ],
      "text/plain": [
       "                                     job_description   \n",
       "0  machine learning engineering 13585abc knowledg...  \\\n",
       "1  machine learning engineering 13585abc knowledg...   \n",
       "2  machine learning engineering 13585abc knowledg...   \n",
       "3  machine learning engineering 13585abc knowledg...   \n",
       "4  machine learning engineering 13585abc knowledg...   \n",
       "\n",
       "                                    processed_resume  match_percentage   \n",
       "0  liam andrew fresher work experience intern tra...             13.60  \\\n",
       "1  ellie mackey fresher intern executive profile ...             36.63   \n",
       "2  telco trainee intern may 2018 dec 2018 data ha...             54.93   \n",
       "3  jimmy gartner da ta manager professional profi...             41.46   \n",
       "4  amz loan mortgage erc analytics jun 2019 till ...             48.91   \n",
       "\n",
       "   resume_word_num  total_unique_word_num  common_word_num  common_word_ratio   \n",
       "0               86                    192               13           0.067708  \\\n",
       "1               84                    180               27           0.150000   \n",
       "2               91                    183               18           0.098361   \n",
       "3              115                    207               21           0.101449   \n",
       "4              101                    196               21           0.107143   \n",
       "\n",
       "   common_word_ratio_min  common_word_ratio_max  fuzz_ratio   \n",
       "0               0.180556               0.097744          86  \\\n",
       "1               0.364865               0.203008          86   \n",
       "2               0.264706               0.135338          86   \n",
       "3               0.221053               0.157895          29   \n",
       "4               0.250000               0.157895          86   \n",
       "\n",
       "   fuzz_partial_ratio  fuzz_token_set_ratio  fuzz_token_sort_ratio  is_fresher  \n",
       "0                  17                    31                      1           1  \n",
       "1                   8                    55                      3           1  \n",
       "2                  17                    42                      3           1  \n",
       "3                  19                    31                      1           0  \n",
       "4                   6                    39                      1           0  "
      ]
     },
     "execution_count": 25,
     "metadata": {},
     "output_type": "execute_result"
    }
   ],
   "source": [
    "data_feature.head()"
   ]
  },
  {
   "cell_type": "code",
   "execution_count": 26,
   "id": "521caad0",
   "metadata": {},
   "outputs": [],
   "source": [
    "# remove common_word_ratio and common_word_ratio_max columns\n",
    "data_feature.drop(columns=['common_word_ratio', 'common_word_ratio_max'], inplace=True)"
   ]
  },
  {
   "cell_type": "code",
   "execution_count": 27,
   "id": "1d4479c7",
   "metadata": {},
   "outputs": [
    {
     "name": "stdout",
     "output_type": "stream",
     "text": [
      "(90, 12)\n"
     ]
    }
   ],
   "source": [
    "print(data_feature.shape)"
   ]
  },
  {
   "cell_type": "code",
   "execution_count": 28,
   "id": "d8a357cf",
   "metadata": {},
   "outputs": [],
   "source": [
    "# Step 1: Prepare the Dataset\n",
    "X =data_feature.drop('match_percentage', axis=1)\n",
    "y = data_feature['match_percentage']\n"
   ]
  },
  {
   "cell_type": "code",
   "execution_count": 29,
   "id": "ca43a038",
   "metadata": {},
   "outputs": [],
   "source": [
    "# do train test split\n",
    "X_train, X_test, y_train_, y_test = train_test_split(X, y, test_size=0.30, random_state=1)"
   ]
  },
  {
   "cell_type": "code",
   "execution_count": 30,
   "id": "ca836ac4",
   "metadata": {},
   "outputs": [],
   "source": [
    "# get train and test indices\n",
    "train_indices = X_train.index\n",
    "test_indices = X_test.index"
   ]
  },
  {
   "cell_type": "code",
   "execution_count": 31,
   "id": "9b43cf11",
   "metadata": {},
   "outputs": [
    {
     "name": "stdout",
     "output_type": "stream",
     "text": [
      "Length of train indices: 63\n",
      "Length of test indices: 27\n"
     ]
    }
   ],
   "source": [
    "# Get the length of the train indices\n",
    "train_length = len(train_indices)\n",
    "\n",
    "# Get the length of the test indices\n",
    "test_length = len(test_indices)\n",
    "\n",
    "print(\"Length of train indices:\", train_length)\n",
    "print(\"Length of test indices:\", test_length)\n"
   ]
  },
  {
   "cell_type": "markdown",
   "id": "75aaa362",
   "metadata": {},
   "source": [
    "# TFIDF Vectorizer"
   ]
  },
  {
   "cell_type": "code",
   "execution_count": 32,
   "id": "865f3864",
   "metadata": {},
   "outputs": [],
   "source": [
    "from scipy.sparse import hstack\n",
    "\n",
    "\n",
    "vectorizer1 = TfidfVectorizer()\n",
    "\n",
    "# # Fit and transform the job description and processed resume data into TF-IDF features\n",
    "# X_transformed = vectorizer1.fit_transform(X['job_description'] + \" \" + X['processed_resume'])\n",
    "job_transformed = vectorizer1.fit_transform(X['job_description'])\n",
    "resume_transformed = vectorizer1.fit_transform(X['processed_resume'])\n",
    "\n",
    "# Combine the transformed data horizontally\n",
    "X_transformed = hstack((job_transformed, resume_transformed))                         "
   ]
  },
  {
   "cell_type": "code",
   "execution_count": 33,
   "id": "732b9675",
   "metadata": {},
   "outputs": [
    {
     "name": "stdout",
     "output_type": "stream",
     "text": [
      "(90, 2177)\n"
     ]
    }
   ],
   "source": [
    "print(X_transformed.shape)"
   ]
  },
  {
   "cell_type": "markdown",
   "id": "cdb46247",
   "metadata": {},
   "source": [
    "# Linear Regression"
   ]
  },
  {
   "cell_type": "code",
   "execution_count": 34,
   "id": "d5177de7",
   "metadata": {},
   "outputs": [
    {
     "name": "stdout",
     "output_type": "stream",
     "text": [
      "Mean Squared Error: 125.29010291018638\n",
      "Model Score (Training): 0.9999793302961713\n",
      "Model Score (Test): 0.4842588328630194\n"
     ]
    }
   ],
   "source": [
    "model = Ridge(alpha=1e-15, fit_intercept=False, normalize=True, solver='sag')\n",
    "\n",
    "kf = KFold(n_splits=5)\n",
    "\n",
    "mse_scores = []\n",
    "\n",
    "for train_index, test_index in kf.split(X_transformed):\n",
    "    \n",
    "    X_train, X_test = X_transformed[train_index], X_transformed[test_index]\n",
    "    y_train, y_test = y[train_index], y[test_index]\n",
    "    \n",
    "    #linear model with l2 regularizer \n",
    "    \n",
    "   \n",
    "    \n",
    "    # Train the model\n",
    "    \n",
    "    model.fit(X_train, y_train)\n",
    "\n",
    "    # Predict the matching percentages for the test set\n",
    "    \n",
    "    y_pred = model.predict(X_test)\n",
    "\n",
    "    # Evaluate the model\n",
    "    \n",
    "    mse = mean_squared_error(y_test, y_pred)\n",
    "    mse_scores.append(mse)\n",
    "\n",
    "# Calculate the mean MSE across all folds\n",
    "\n",
    "mean_mse = np.mean(mse_scores)\n",
    "\n",
    "#print mean squred error\n",
    "\n",
    "print(\"Mean Squared Error:\", mean_mse)\n",
    "\n",
    "# Calculate the score of the model on the training data\n",
    "\n",
    "train_score = model.score(X_train, y_train)\n",
    "\n",
    "# Calculate the score of the model on the test data\n",
    "\n",
    "test_score = model.score(X_test, y_test)\n",
    "\n",
    "# Print the scores\n",
    "print(\"Model Score (Training):\", train_score)\n",
    "\n",
    "\n",
    "print(\"Model Score (Test):\", test_score)\n"
   ]
  },
  {
   "cell_type": "code",
   "execution_count": 35,
   "id": "bdee8ec6",
   "metadata": {},
   "outputs": [
    {
     "name": "stdout",
     "output_type": "stream",
     "text": [
      "{'alpha': 1e-15}\n",
      "-146.72208042196692\n"
     ]
    }
   ],
   "source": [
    "from sklearn.linear_model import Ridge\n",
    "from sklearn.model_selection import GridSearchCV\n",
    " \n",
    " #optimum alpha for Ridge Regularization \n",
    "ridge=Ridge()\n",
    "parameters={'alpha':[1e-15,1e-10,1e-8,1e-3,1e-2,1,5,10,20,30,35,40,45,50,55,100]}\n",
    "ridge_regressor=GridSearchCV(ridge,parameters,scoring='neg_mean_squared_error',cv=5)\n",
    "ridge_regressor.fit(X_train,y_train)\n",
    "\n",
    "print(ridge_regressor.best_params_)\n",
    "print(ridge_regressor.best_score_)\n"
   ]
  },
  {
   "cell_type": "code",
   "execution_count": 36,
   "id": "8522e3ba",
   "metadata": {},
   "outputs": [
    {
     "data": {
      "text/plain": [
       "0.48600416897042387"
      ]
     },
     "execution_count": 36,
     "metadata": {},
     "output_type": "execute_result"
    }
   ],
   "source": [
    "from sklearn.model_selection import GridSearchCV\n",
    "param_grid = {\n",
    "    'alpha': [1e-15,1e-10,1e-8,1e-3,1e-2,1,5,10,20,30,35,40,45,50,55,100],\n",
    "    'solver': ['auto', 'svd', 'cholesky', 'lsqr', 'sparse_cg', 'sag', 'saga']\n",
    "}\n",
    "grid_search =GridSearchCV(estimator=model ,param_grid =param_grid ,cv =5)\n",
    "grid_search.fit(X_train,y_train)\n",
    "best_param =grid_search.best_params_\n",
    "grid_search.score(X_test,y_test)"
   ]
  },
  {
   "cell_type": "code",
   "execution_count": 37,
   "id": "5a720c63",
   "metadata": {},
   "outputs": [
    {
     "name": "stdout",
     "output_type": "stream",
     "text": [
      "0.9999896031606806\n",
      "Ridge(alpha=0.001, fit_intercept=False, normalize=True, solver='sag')\n",
      "{'alpha': 0.001, 'solver': 'sag'}\n"
     ]
    }
   ],
   "source": [
    "print( grid_search.score(X_train,y_train))\n",
    "best_model = grid_search.best_estimator_\n",
    "print(best_model)\n",
    "print(best_param)"
   ]
  },
  {
   "cell_type": "markdown",
   "id": "0d182120",
   "metadata": {},
   "source": [
    "# KNN Regression\n"
   ]
  },
  {
   "cell_type": "markdown",
   "id": "ae9c2237",
   "metadata": {},
   "source": [
    "=============\n"
   ]
  },
  {
   "cell_type": "code",
   "execution_count": 38,
   "id": "ee1d1d39",
   "metadata": {},
   "outputs": [
    {
     "name": "stdout",
     "output_type": "stream",
     "text": [
      "Mean Squared Error: 186.63337224482225\n",
      "Model Score (Training): 1.0\n",
      "Model Score (Test): 0.13413128621263126\n"
     ]
    }
   ],
   "source": [
    "\n",
    "\n",
    "#model\n",
    "knn_model = KNeighborsRegressor(metric='manhattan', n_neighbors=9, p=1, weights='distance')\n",
    "\n",
    "#k-fold validation\n",
    "kf = KFold(n_splits=5)\n",
    "\n",
    "mse_scores = []\n",
    "for train_index, test_index in kf.split(X_transformed):\n",
    "    X_train, X_test = X_transformed[train_index], X_transformed[test_index]\n",
    "    y_train, y_test = y[train_index], y[test_index]\n",
    "\n",
    "    # Train the model\n",
    "    knn_model.fit(X_train, y_train)\n",
    "\n",
    "    # Predict the matching percentages for the test set\n",
    "    y_pred = knn_model.predict(X_test)\n",
    "\n",
    "    # Evaluate the model\n",
    "    mse = mean_squared_error(y_test, y_pred)\n",
    "    mse_scores.append(mse)\n",
    "\n",
    "# Calculate the mean MSE across all folds\n",
    "mean_mse = np.mean(mse_scores)\n",
    "print(\"Mean Squared Error:\", mean_mse)\n",
    "\n",
    "# Calculate the score of the model on the training data\n",
    "train_score = knn_model.score(X_train, y_train)\n",
    "\n",
    "# Calculate the score of the model on the test data\n",
    "test_score = knn_model.score(X_test, y_test)\n",
    "\n",
    "# Print the scores\n",
    "print(\"Model Score (Training):\", train_score)\n",
    "print(\"Model Score (Test):\", test_score)\n"
   ]
  },
  {
   "cell_type": "code",
   "execution_count": 39,
   "id": "09a1c15e",
   "metadata": {},
   "outputs": [
    {
     "data": {
      "text/plain": [
       "0.19756205505308244"
      ]
     },
     "execution_count": 39,
     "metadata": {},
     "output_type": "execute_result"
    }
   ],
   "source": [
    "from sklearn.model_selection import GridSearchCV\n",
    "param_grid = {\n",
    "     'n_neighbors': [3, 5, 7],\n",
    "    'weights': ['uniform', 'distance'],\n",
    "    'metric': ['euclidean', 'manhattan','cosine'],\n",
    "    'p': [1, 2]\n",
    "}\n",
    "grid_search =GridSearchCV(estimator=knn_model ,param_grid =param_grid ,cv =5)\n",
    "grid_search.fit(X_train,y_train)\n",
    "best_param =grid_search.best_params_\n",
    "grid_search.score(X_test,y_test)"
   ]
  },
  {
   "cell_type": "code",
   "execution_count": 40,
   "id": "9d100e58",
   "metadata": {},
   "outputs": [
    {
     "name": "stdout",
     "output_type": "stream",
     "text": [
      "1.0\n",
      "KNeighborsRegressor(metric='manhattan', n_neighbors=7, p=1, weights='distance')\n",
      "{'metric': 'manhattan', 'n_neighbors': 7, 'p': 1, 'weights': 'distance'}\n"
     ]
    }
   ],
   "source": [
    "print( grid_search.score(X_train,y_train))\n",
    "best_model = grid_search.best_estimator_\n",
    "print(best_model)\n",
    "print(best_param)"
   ]
  },
  {
   "cell_type": "markdown",
   "id": "07bef1e2",
   "metadata": {},
   "source": [
    "# Decision Tree Regressor"
   ]
  },
  {
   "cell_type": "code",
   "execution_count": 41,
   "id": "be3392c4",
   "metadata": {},
   "outputs": [
    {
     "name": "stdout",
     "output_type": "stream",
     "text": [
      "Mean Squared Error: 252.94665880166917\n",
      "Model Score (Training): 0.8387825536065272\n",
      "Model Score (Test): 0.33136704627127334\n"
     ]
    }
   ],
   "source": [
    "\n",
    "\n",
    "# Step 3: Build the Machine Learning Model and Perform Cross-Validation\n",
    "dt_model = DecisionTreeRegressor(max_depth=10, min_samples_leaf=4)\n",
    "\n",
    "\n",
    "kf = KFold(n_splits=5, random_state=42, shuffle=True)\n",
    "\n",
    "mse_scores = []\n",
    "for train_index, test_index in kf.split(X_transformed):\n",
    "    X_train, X_test = X_transformed[train_index], X_transformed[test_index]\n",
    "    y_train, y_test = y[train_index], y[test_index]\n",
    "\n",
    "    # Train the model\n",
    "    dt_model.fit(X_train, y_train)\n",
    "\n",
    "    # Predict the matching percentages for the test set\n",
    "    y_pred = dt_model.predict(X_test)\n",
    "\n",
    "    # Evaluate the model\n",
    "    mse = mean_squared_error(y_test, y_pred)\n",
    "    mse_scores.append(mse)\n",
    "\n",
    "# Calculate the mean MSE across all folds\n",
    "mean_mse = np.mean(mse_scores)\n",
    "\n",
    "print(\"Mean Squared Error:\", mean_mse)\n",
    "\n",
    "\n",
    "# Calculate the score of the model on the training data\n",
    "train_score = dt_model.score(X_train, y_train)\n",
    "\n",
    "# Calculate the score of the model on the test data\n",
    "test_score = dt_model.score(X_test, y_test)\n",
    "\n",
    "# Print the scores\n",
    "print(\"Model Score (Training):\", train_score)\n",
    "print(\"Model Score (Test):\", test_score)\n",
    "\n"
   ]
  },
  {
   "cell_type": "code",
   "execution_count": 42,
   "id": "4d8785f5",
   "metadata": {},
   "outputs": [
    {
     "data": {
      "text/plain": [
       "0.21401652985137698"
      ]
     },
     "execution_count": 42,
     "metadata": {},
     "output_type": "execute_result"
    }
   ],
   "source": [
    "from sklearn.model_selection import GridSearchCV\n",
    "param_grid = {\n",
    "     'max_depth': [None, 5, 10],              # Maximum depth of the tree\n",
    "    'min_samples_split': [2, 5, 10],  \n",
    "}\n",
    "grid_search =GridSearchCV(estimator=dt_model ,param_grid =param_grid ,cv =5)\n",
    "grid_search.fit(X_train,y_train)\n",
    "best_param =grid_search.best_params_\n",
    "grid_search.score(X_test,y_test)"
   ]
  },
  {
   "cell_type": "code",
   "execution_count": 43,
   "id": "f29debe0",
   "metadata": {},
   "outputs": [
    {
     "name": "stdout",
     "output_type": "stream",
     "text": [
      "0.8387825536065272\n",
      "DecisionTreeRegressor(min_samples_leaf=4)\n",
      "{'max_depth': None, 'min_samples_split': 2}\n"
     ]
    }
   ],
   "source": [
    "print( grid_search.score(X_train,y_train))\n",
    "best_model = grid_search.best_estimator_\n",
    "print(best_model)\n",
    "print(best_param)"
   ]
  },
  {
   "cell_type": "markdown",
   "id": "5cfbc950",
   "metadata": {},
   "source": [
    "# Support Vector Regression (RBF)"
   ]
  },
  {
   "cell_type": "code",
   "execution_count": 44,
   "id": "dfd7f434",
   "metadata": {},
   "outputs": [
    {
     "name": "stdout",
     "output_type": "stream",
     "text": [
      "Mean Squared Error: 251.2924552785703\n",
      "Model Score (Training): 0.14752231264092974\n",
      "Model Score (Test): -0.07191951340305969\n"
     ]
    }
   ],
   "source": [
    "\n",
    "\n",
    "# Step 3: Build the Machine Learning Model and Perform Cross-Validation\n",
    "scr_model = SVR(C=10, epsilon=1, gamma=0.1, kernel='rbf')\n",
    "\n",
    "\n",
    "kf = KFold(n_splits=5, random_state=42, shuffle=True)\n",
    "\n",
    "mse_scores = []\n",
    "for train_index, test_index in kf.split(X_transformed):\n",
    "    X_train, X_test = X_transformed[train_index], X_transformed[test_index]\n",
    "    y_train, y_test = y[train_index], y[test_index]\n",
    "\n",
    "    # Train the model\n",
    "    scr_model.fit(X_train, y_train)\n",
    "\n",
    "    # Predict the matching percentages for the test set\n",
    "    y_pred = scr_model.predict(X_test)\n",
    "\n",
    "    # Evaluate the model\n",
    "    mse = mean_squared_error(y_test, y_pred)\n",
    "    mse_scores.append(mse)\n",
    "\n",
    "# Calculate the mean MSE across all folds\n",
    "mean_mse = np.mean(mse_scores)\n",
    "\n",
    "print(\"Mean Squared Error:\", mean_mse)\n",
    "\n",
    "# Calculate the score of the model on the training data\n",
    "train_score = scr_model.score(X_train, y_train)\n",
    "\n",
    "# Calculate the score of the model on the test data\n",
    "test_score = scr_model.score(X_test, y_test)\n",
    "\n",
    "# Print the scores\n",
    "print(\"Model Score (Training):\", train_score)\n",
    "print(\"Model Score (Test):\", test_score)\n",
    "\n"
   ]
  },
  {
   "cell_type": "code",
   "execution_count": 45,
   "id": "ef7cc3e2",
   "metadata": {},
   "outputs": [
    {
     "data": {
      "text/plain": [
       "0.014847603142140064"
      ]
     },
     "execution_count": 45,
     "metadata": {},
     "output_type": "execute_result"
    }
   ],
   "source": [
    "from sklearn.model_selection import GridSearchCV\n",
    "param_grid = {\n",
    "       'C': [0.1, 1, 10],                # Regularization parameter\n",
    "    'gamma': [0.1, 1, 10],             # Kernel coefficient for 'rbf' kernel\n",
    "    'epsilon': [0.01, 0.1, 1]  \n",
    "}\n",
    "grid_search =GridSearchCV(estimator=scr_model ,param_grid =param_grid ,cv =5)\n",
    "grid_search.fit(X_train,y_train)\n",
    "best_param =grid_search.best_params_\n",
    "grid_search.score(X_test,y_test)"
   ]
  },
  {
   "cell_type": "code",
   "execution_count": 46,
   "id": "419fdf45",
   "metadata": {},
   "outputs": [
    {
     "name": "stdout",
     "output_type": "stream",
     "text": [
      "0.5693895582852315\n",
      "SVR(C=10, epsilon=1, gamma=1)\n",
      "{'C': 10, 'epsilon': 1, 'gamma': 1}\n"
     ]
    }
   ],
   "source": [
    "print( grid_search.score(X_train,y_train))\n",
    "best_model = grid_search.best_estimator_\n",
    "print(best_model)\n",
    "print(best_param)"
   ]
  },
  {
   "cell_type": "markdown",
   "id": "f64c0ec0",
   "metadata": {},
   "source": [
    "# Support Vector (Linear Kernel)"
   ]
  },
  {
   "cell_type": "code",
   "execution_count": 47,
   "id": "2291e7b2",
   "metadata": {},
   "outputs": [
    {
     "name": "stdout",
     "output_type": "stream",
     "text": [
      "Mean Squared Error: 181.5650102788942\n",
      "Model Score (Training): 0.6950190591221729\n",
      "Model Score (Test): 0.23485981669592604\n"
     ]
    }
   ],
   "source": [
    "\n",
    "\n",
    "# Step 3: Build the Machine Learning Model and Perform Cross-Validation\n",
    "svr_model_linear = SVR(C=10, epsilon=0.01, kernel='linear')\n",
    "\n",
    "\n",
    "kf = KFold(n_splits=5, random_state=42, shuffle=True)\n",
    "\n",
    "mse_scores = []\n",
    "for train_index, test_index in kf.split(X_transformed):\n",
    "    X_train, X_test = X_transformed[train_index], X_transformed[test_index]\n",
    "    y_train, y_test = y[train_index], y[test_index]\n",
    "\n",
    "    # Train the model\n",
    "    svr_model_linear.fit(X_train, y_train)\n",
    "\n",
    "    # Predict the matching percentages for the test set\n",
    "    y_pred = svr_model_linear.predict(X_test)\n",
    "\n",
    "    # Evaluate the model\n",
    "    mse = mean_squared_error(y_test, y_pred)\n",
    "    mse_scores.append(mse)\n",
    "\n",
    "# Calculate the mean MSE across all folds\n",
    "mean_mse = np.mean(mse_scores)\n",
    "\n",
    "print(\"Mean Squared Error:\", mean_mse)\n",
    "\n",
    "# Calculate the score of the model on the training data\n",
    "train_score = svr_model_linear.score(X_train, y_train)\n",
    "\n",
    "# Calculate the score of the model on the test data\n",
    "test_score = svr_model_linear.score(X_test, y_test)\n",
    "\n",
    "# Print the scores\n",
    "print(\"Model Score (Training):\", train_score)\n",
    "print(\"Model Score (Test):\", test_score)\n",
    "\n"
   ]
  },
  {
   "cell_type": "code",
   "execution_count": 48,
   "id": "5a9c2151",
   "metadata": {},
   "outputs": [
    {
     "data": {
      "text/plain": [
       "0.23485981669592604"
      ]
     },
     "execution_count": 48,
     "metadata": {},
     "output_type": "execute_result"
    }
   ],
   "source": [
    "from sklearn.model_selection import GridSearchCV\n",
    "param_grid = {\n",
    "   'C': [0.1, 1, 10],              # Regularization parameter\n",
    "    'epsilon': [0.01, 0.1, 1]     \n",
    "}\n",
    "grid_search =GridSearchCV(estimator=svr_model_linear ,param_grid =param_grid ,cv =5)\n",
    "grid_search.fit(X_train,y_train)\n",
    "best_param =grid_search.best_params_\n",
    "grid_search.score(X_test,y_test)"
   ]
  },
  {
   "cell_type": "code",
   "execution_count": 49,
   "id": "c769617f",
   "metadata": {},
   "outputs": [
    {
     "name": "stdout",
     "output_type": "stream",
     "text": [
      "0.6950190591221729\n",
      "SVR(C=10, epsilon=0.01, kernel='linear')\n",
      "{'C': 10, 'epsilon': 0.01}\n"
     ]
    }
   ],
   "source": [
    "print( grid_search.score(X_train,y_train))\n",
    "best_model = grid_search.best_estimator_\n",
    "print(best_model)\n",
    "print(best_param)"
   ]
  },
  {
   "cell_type": "markdown",
   "id": "23e2060e",
   "metadata": {},
   "source": [
    "# Random Forest Regressor"
   ]
  },
  {
   "cell_type": "code",
   "execution_count": 50,
   "id": "710f2a8a",
   "metadata": {},
   "outputs": [
    {
     "name": "stdout",
     "output_type": "stream",
     "text": [
      "Mean Squared Error: 184.45502908755552\n",
      "Model Score (Training): 0.905261924387241\n",
      "Model Score (Test): 0.3167266031294005\n"
     ]
    }
   ],
   "source": [
    "\n",
    "# Step 3: Build the Machine Learning Model and Perform Cross-Validation\n",
    "rfr_model = RandomForestRegressor(max_depth=20, n_estimators=50)\n",
    "\n",
    "kf = KFold(n_splits=5, random_state=42, shuffle=True)\n",
    "\n",
    "mse_scores = []\n",
    "for train_index, test_index in kf.split(X_transformed):\n",
    "    X_train, X_test = X_transformed[train_index], X_transformed[test_index]\n",
    "    y_train, y_test = y[train_index], y[test_index]\n",
    "\n",
    "    # Train the model\n",
    "    rfr_model.fit(X_train, y_train)\n",
    "\n",
    "    # Predict the matching percentages for the test set\n",
    "    y_pred = rfr_model.predict(X_test)\n",
    "\n",
    "    # Evaluate the model\n",
    "    mse = mean_squared_error(y_test, y_pred)\n",
    "    mse_scores.append(mse)\n",
    "\n",
    "# Calculate the mean MSE across all folds\n",
    "mean_mse = np.mean(mse_scores)\n",
    "\n",
    "print(\"Mean Squared Error:\", mean_mse)\n",
    "# Calculate the score of the model on the training data\n",
    "train_score = rfr_model.score(X_train, y_train)\n",
    "\n",
    "# Calculate the score of the model on the test data\n",
    "test_score = rfr_model.score(X_test, y_test)\n",
    "\n",
    "# Print the scores\n",
    "print(\"Model Score (Training):\", train_score)\n",
    "print(\"Model Score (Test):\", test_score)\n",
    "\n"
   ]
  },
  {
   "cell_type": "code",
   "execution_count": 51,
   "id": "2cb93824",
   "metadata": {},
   "outputs": [
    {
     "data": {
      "text/plain": [
       "0.2361190515403082"
      ]
     },
     "execution_count": 51,
     "metadata": {},
     "output_type": "execute_result"
    }
   ],
   "source": [
    "from sklearn.model_selection import GridSearchCV\n",
    "param_grid = {\n",
    "  'n_estimators': [50, 70, 100, 150],              # Number of trees in the forest\n",
    "    'max_depth': [10, 15, 20],                    # Maximum depth of each tree\n",
    "    'min_samples_split': [2, 3, 5],               # Minimum number of samples required to split an internal node\n",
    "      \n",
    "}\n",
    "grid_search =GridSearchCV(estimator=rfr_model ,param_grid =param_grid ,cv =5)\n",
    "grid_search.fit(X_train,y_train)\n",
    "best_param =grid_search.best_params_\n",
    "grid_search.score(X_test,y_test)"
   ]
  },
  {
   "cell_type": "code",
   "execution_count": 52,
   "id": "6eea172d",
   "metadata": {},
   "outputs": [
    {
     "name": "stdout",
     "output_type": "stream",
     "text": [
      "0.8885317551994356\n",
      "RandomForestRegressor(max_depth=15, min_samples_split=5)\n",
      "{'max_depth': 15, 'min_samples_split': 5, 'n_estimators': 100}\n"
     ]
    }
   ],
   "source": [
    "print( grid_search.score(X_train,y_train))\n",
    "best_model = grid_search.best_estimator_\n",
    "print(best_model)\n",
    "print(best_param)"
   ]
  },
  {
   "cell_type": "markdown",
   "id": "9742dd41",
   "metadata": {},
   "source": [
    "# XGBoost Regressor\n"
   ]
  },
  {
   "cell_type": "code",
   "execution_count": 53,
   "id": "31fe30f0",
   "metadata": {},
   "outputs": [
    {
     "name": "stdout",
     "output_type": "stream",
     "text": [
      "Mean Squared Error: 255.76561695794777\n",
      "Model Score (Training): 0.9999999994310345\n",
      "Model Score (Test): 0.1250933246439685\n"
     ]
    }
   ],
   "source": [
    "\n",
    "\n",
    "# Step 3: Build the Machine Learning Model and Perform Cross-Validation\n",
    "xgb_model = xgb.XGBRegressor()\n",
    "\n",
    "kf = KFold(n_splits=5, random_state=42, shuffle=True)\n",
    "\n",
    "mse_scores = []\n",
    "for train_index, test_index in kf.split(X_transformed):\n",
    "    X_train, X_test = X_transformed[train_index], X_transformed[test_index]\n",
    "    y_train, y_test = y[train_index], y[test_index]\n",
    "\n",
    "    # Train the model\n",
    "    xgb_model.fit(X_train, y_train)\n",
    "\n",
    "    # Predict the matching percentages for the test set\n",
    "    y_pred = xgb_model.predict(X_test)\n",
    "\n",
    "    # Evaluate the model\n",
    "    mse = mean_squared_error(y_test, y_pred)\n",
    "    mse_scores.append(mse)\n",
    "\n",
    "# Calculate the mean MSE across all folds\n",
    "mean_mse = np.mean(mse_scores)\n",
    "\n",
    "print(\"Mean Squared Error:\", mean_mse)\n",
    "\n",
    "\n",
    "# Calculate the score of the model on the training data\n",
    "train_score = xgb_model.score(X_train, y_train)\n",
    "\n",
    "# Calculate the score of the model on the test data\n",
    "test_score = xgb_model.score(X_test, y_test)\n",
    "\n",
    "# Print the scores\n",
    "print(\"Model Score (Training):\", train_score)\n",
    "print(\"Model Score (Test):\", test_score)\n",
    "\n"
   ]
  },
  {
   "cell_type": "code",
   "execution_count": 54,
   "id": "18207f56",
   "metadata": {},
   "outputs": [
    {
     "data": {
      "text/plain": [
       "0.21609718657894916"
      ]
     },
     "execution_count": 54,
     "metadata": {},
     "output_type": "execute_result"
    }
   ],
   "source": [
    "from sklearn.model_selection import GridSearchCV\n",
    "param_grid = {\n",
    " 'n_estimators': [50, 70, 100, 150],          # Number of boosting stages\n",
    "    'learning_rate': [0.01, 1, 0.01],       # Learning rate (shrinkage)\n",
    "    'max_depth': [2, 3, 5, 7],\n",
    "    'reg_lambda': [  0.001, 1000, 0.001]              # Minimum number of samples required to split an internal node\n",
    "      \n",
    "}\n",
    "grid_search =GridSearchCV(estimator=xgb_model ,param_grid =param_grid ,cv =5)\n",
    "grid_search.fit(X_train,y_train)\n",
    "best_param =grid_search.best_params_\n",
    "grid_search.score(X_test,y_test)"
   ]
  },
  {
   "cell_type": "code",
   "execution_count": 55,
   "id": "c85df51d",
   "metadata": {},
   "outputs": [
    {
     "name": "stdout",
     "output_type": "stream",
     "text": [
      "0.923381571800341\n",
      "XGBRegressor(base_score=None, booster=None, callbacks=None,\n",
      "             colsample_bylevel=None, colsample_bynode=None,\n",
      "             colsample_bytree=None, early_stopping_rounds=None,\n",
      "             enable_categorical=False, eval_metric=None, feature_types=None,\n",
      "             gamma=None, gpu_id=None, grow_policy=None, importance_type=None,\n",
      "             interaction_constraints=None, learning_rate=1, max_bin=None,\n",
      "             max_cat_threshold=None, max_cat_to_onehot=None,\n",
      "             max_delta_step=None, max_depth=2, max_leaves=None,\n",
      "             min_child_weight=None, missing=nan, monotone_constraints=None,\n",
      "             n_estimators=150, n_jobs=None, num_parallel_tree=None,\n",
      "             predictor=None, random_state=None, ...)\n",
      "{'learning_rate': 1, 'max_depth': 2, 'n_estimators': 150, 'reg_lambda': 1000}\n"
     ]
    }
   ],
   "source": [
    "print( grid_search.score(X_train,y_train))\n",
    "best_model = grid_search.best_estimator_\n",
    "print(best_model)\n",
    "print(best_param)"
   ]
  },
  {
   "cell_type": "code",
   "execution_count": 63,
   "id": "5793b03c",
   "metadata": {},
   "outputs": [
    {
     "name": "stdout",
     "output_type": "stream",
     "text": [
      "Mean Squared Error: 197.84184943886586\n",
      "Model Score (Training): 0.5637175724118737\n",
      "Model Score (Test): 0.3334156568984755\n"
     ]
    }
   ],
   "source": [
    "from sklearn.feature_extraction.text import TfidfVectorizer\n",
    "import xgboost \n",
    "from sklearn.metrics import mean_squared_error\n",
    "from sklearn.model_selection import KFold\n",
    "from sklearn.ensemble import StackingRegressor\n",
    "from sklearn.linear_model import Ridge\n",
    "\n",
    "# Step 1: Prepare the Dataset\n",
    "X = data[['job_description', 'processed_resume']]\n",
    "y = data['match_percentage']\n",
    "\n",
    "# Step 2: TF-IDF Encoding\n",
    "vectorizer1 = TfidfVectorizer()\n",
    "X_transformed = vectorizer1.fit_transform(X['job_description'] + \" \" + X['processed_resume'])\n",
    "\n",
    "# Step 3: Build the Base Models\n",
    "base_models = [\n",
    "#     ('Ridge', Ridge(alpha=0.1, fit_intercept=False, normalize=True, solver='lsqr')),\n",
    "     ('svr_model_linear' , SVR(C=10, epsilon=0.01, kernel='linear')),\n",
    "     ('rfr_model',  RandomForestRegressor(max_depth=20, n_estimators=50)),\n",
    "     ('dt_model', DecisionTreeRegressor(max_depth=10, min_samples_leaf=4) ),\n",
    "     ('scr_model',SVR(C=10, epsilon=1, gamma=0.1, kernel='rbf') )\n",
    "\n",
    "]\n",
    "\n",
    "# Step 4: Build the Stacking Model\n",
    "stacking_model = StackingRegressor(\n",
    "    estimators=base_models,\n",
    "    final_estimator = KNeighborsRegressor(metric='manhattan', n_neighbors=9, p=1, weights='distance')\n",
    ")\n",
    "\n",
    "# Step 5: Perform Cross-Validation\n",
    "kf = KFold(n_splits=5, random_state=42, shuffle=True)\n",
    "\n",
    "mse_scores = []\n",
    "for train_index, test_index in kf.split(X_transformed):\n",
    "    X_train, X_test = X_transformed[train_index], X_transformed[test_index]\n",
    "    y_train, y_test = y[train_index], y[test_index]\n",
    "\n",
    "    # Train the stacking model\n",
    "    stacking_model.fit(X_train, y_train)\n",
    "\n",
    "    # Predict the matching percentages for the test set\n",
    "    y_pred = stacking_model.predict(X_test)\n",
    "\n",
    "    # Evaluate the model\n",
    "    mse = mean_squared_error(y_test, y_pred)\n",
    "    mse_scores.append(mse)\n",
    "\n",
    "# Calculate the mean MSE across all folds\n",
    "mean_mse = np.mean(mse_scores)\n",
    "\n",
    "print(\"Mean Squared Error:\", mean_mse)\n",
    "\n",
    "# Calculate the score of the stacking model on the training data\n",
    "train_score = stacking_model.score(X_train, y_train)\n",
    "\n",
    "# Calculate the score of the stacking model on the test data\n",
    "test_score = stacking_model.score(X_test, y_test)\n",
    "\n",
    "# Print the scores\n",
    "print(\"Model Score (Training):\", train_score)\n",
    "print(\"Model Score (Test):\", test_score)\n"
   ]
  },
  {
   "cell_type": "code",
   "execution_count": 65,
   "id": "5789b899",
   "metadata": {},
   "outputs": [
    {
     "name": "stdout",
     "output_type": "stream",
     "text": [
      "Matching Percentage Prediction: [28.20599427]\n",
      "Matching Percentage Prediction: [29.30779989]\n",
      "Matching Percentage Prediction: [39.45164546]\n"
     ]
    }
   ],
   "source": [
    "import os\n",
    "from sklearn.feature_extraction.text import TfidfVectorizer\n",
    "\n",
    "\n",
    "resumes_folder = 'C:\\\\Users\\\\PC\\\\Documents\\\\resume-test'\n",
    "resume_files = os.listdir(resumes_folder)\n",
    "\n",
    "matching_percentages = {}\n",
    "\n",
    "for resume_file in resume_files:\n",
    "\n",
    "    resume_path = os.path.join(resumes_folder, resume_file)\n",
    "\n",
    "    new_resume = pdf2Text(resume_path)\n",
    "\n",
    "    new_job_description = pdf2Text('D:\\\\Research Docs\\\\dataset\\\\jd.pdf')\n",
    "\n",
    "    # Step 1: Preprocess the New Data\n",
    "    # Apply any necessary preprocessing steps to the new job description and resume\n",
    "    processed_new_job_description = preprocess_text(new_job_description)\n",
    "    processed_new_resume = preprocess_text(new_resume)\n",
    "\n",
    "    # Step 2: Perform TF-IDF Encoding on the New Data\n",
    "    # Transform the preprocessed new job description and resume into TF-IDF features\n",
    "\n",
    "    new_data_transformed = vectorizer1.transform([processed_new_job_description + \" \" + processed_new_resume])\n",
    "\n",
    "    # Step 3: Make Predictions for the New Data\n",
    "    # Predict the matching percentage for the new data using the trained model\n",
    "    new_data_prediction = stacking_model.predict(new_data_transformed)\n",
    "\n",
    "    # Step 4: get Matching percentage\n",
    "    print(\"Matching Percentage Prediction:\", new_data_prediction)\n",
    "\n",
    "#sort outputs\n",
    "sorted_matching_percentages = sorted(matching_percentages.items(), key=lambda x: x[1], reverse=True)\n",
    "\n",
    "# Print the ranked resumes\n",
    "for resume_file, matching_percentage in sorted_matching_percentages:\n",
    "    print(f\"Resume: {resume_file}\")\n",
    "    print(\"Matching Percentage:\", matching_percentage)\n",
    "    print()"
   ]
  },
  {
   "cell_type": "code",
   "execution_count": null,
   "id": "bc0b3ba9",
   "metadata": {},
   "outputs": [],
   "source": []
  },
  {
   "cell_type": "code",
   "execution_count": null,
   "id": "4afe248d",
   "metadata": {},
   "outputs": [],
   "source": []
  },
  {
   "cell_type": "code",
   "execution_count": null,
   "id": "6e20a4b9",
   "metadata": {},
   "outputs": [],
   "source": []
  }
 ],
 "metadata": {
  "kernelspec": {
   "display_name": "Python 3 (ipykernel)",
   "language": "python",
   "name": "python3"
  },
  "language_info": {
   "codemirror_mode": {
    "name": "ipython",
    "version": 3
   },
   "file_extension": ".py",
   "mimetype": "text/x-python",
   "name": "python",
   "nbconvert_exporter": "python",
   "pygments_lexer": "ipython3",
   "version": "3.8.16"
  }
 },
 "nbformat": 4,
 "nbformat_minor": 5
}
