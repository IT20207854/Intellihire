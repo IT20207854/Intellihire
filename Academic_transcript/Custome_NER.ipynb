{
  "cells": [
    {
      "cell_type": "markdown",
      "source": [
        "# Importing necessary Libraries"
      ],
      "metadata": {
        "id": "Ln6T2wP9aBIo"
      }
    },
    {
      "cell_type": "code",
      "execution_count": null,
      "metadata": {
        "id": "xV_kMAbhvdeL"
      },
      "outputs": [],
      "source": [
        "import spacy\n",
        "import random\n",
        "import pandas as pd\n",
        "from spacy.util import minibatch, compounding\n",
        "from spacy.training.example import Example\n",
        "from spacy import displacy\n",
        "from spacy.tokens import DocBin\n",
        "from tqdm import tqdm"
      ]
    },
    {
      "cell_type": "markdown",
      "source": [
        "# load a new spacy model"
      ],
      "metadata": {
        "id": "unGMnz5xaHSv"
      }
    },
    {
      "cell_type": "code",
      "execution_count": null,
      "metadata": {
        "id": "CGjUGgH42Y6k"
      },
      "outputs": [],
      "source": [
        "nlp = spacy.blank(\"en\") # load a new spacy model"
      ]
    },
    {
      "cell_type": "markdown",
      "source": [
        "# Load the blank English language model in spaCy"
      ],
      "metadata": {
        "id": "SJMOoH1CaI5f"
      }
    },
    {
      "cell_type": "code",
      "execution_count": null,
      "metadata": {
        "id": "K8vgFYtHvq6-"
      },
      "outputs": [],
      "source": [
        "# Load the blank English language model in spaCy\n",
        "nlp = spacy.blank(\"en\")"
      ]
    },
    {
      "cell_type": "markdown",
      "source": [
        "# Create a new entity type for your custom NER"
      ],
      "metadata": {
        "id": "Xi8zx2gUaKCP"
      }
    },
    {
      "cell_type": "code",
      "execution_count": null,
      "metadata": {
        "colab": {
          "base_uri": "https://localhost:8080/"
        },
        "id": "J3e1KMJ0vshV",
        "outputId": "b25a49a6-0bba-431f-e229-cac06351d1d0"
      },
      "outputs": [
        {
          "output_type": "execute_result",
          "data": {
            "text/plain": [
              "<spacy.pipeline.ner.EntityRecognizer at 0x7f4ab38f5ee0>"
            ]
          },
          "metadata": {},
          "execution_count": 4
        }
      ],
      "source": [
        "# Create a new entity type for your custom NER\n",
        "ner = nlp.create_pipe(\"ner\")\n",
        "nlp.add_pipe('ner')\n"
      ]
    },
    {
      "cell_type": "markdown",
      "source": [
        "# Adding the Labels"
      ],
      "metadata": {
        "id": "r7yiFWnbaNJw"
      }
    },
    {
      "cell_type": "code",
      "execution_count": null,
      "metadata": {
        "colab": {
          "base_uri": "https://localhost:8080/"
        },
        "id": "PCaeLuJvxPFA",
        "outputId": "fe1971e4-520f-4c85-9e29-30af61cb803e"
      },
      "outputs": [
        {
          "output_type": "execute_result",
          "data": {
            "text/plain": [
              "1"
            ]
          },
          "metadata": {},
          "execution_count": 5
        }
      ],
      "source": [
        "ner.add_label(\"CODE\")\n",
        "ner.add_label(\"MODULE_TITLE\")\n",
        "ner.add_label(\"SEMESTER\")\n",
        "ner.add_label(\"PERIOD\")\n",
        "ner.add_label(\"CREDITS\")\n",
        "ner.add_label(\"GRADE\")"
      ]
    },
    {
      "cell_type": "markdown",
      "source": [
        "# Loading the dataset"
      ],
      "metadata": {
        "id": "fAWya-doaQ1k"
      }
    },
    {
      "cell_type": "code",
      "execution_count": null,
      "metadata": {
        "id": "hmrZx_nWwmVD"
      },
      "outputs": [],
      "source": [
        "# Define your custom labels and their corresponding examples\n",
        "TRAIN_DATA = []\n",
        "df = pd.read_csv(\"Custom NER dataset module titles transcript(AutoRecovered).csv\")\n"
      ]
    },
    {
      "cell_type": "markdown",
      "source": [
        "# Define the Entities"
      ],
      "metadata": {
        "id": "cvezoOqzaT_q"
      }
    },
    {
      "cell_type": "code",
      "execution_count": null,
      "metadata": {
        "id": "ukLkw-hExBe-"
      },
      "outputs": [],
      "source": [
        "for index, row in df.iterrows():\n",
        "    code = str(row[\"Code\"])\n",
        "    module_title = str(row[\"Module Title\"])\n",
        "    semester = str(row[\"Semester\"])\n",
        "    period = str(row[\"Period\"])\n",
        "    credits = str(row[\"Credits\"])\n",
        "    grade = str(row[\"Grade\"])\n",
        "    \n",
        "    text = code + \" \" + module_title + \" \" + semester + \" \" + period + \" \" + credits + \" \" + grade\n",
        "\n",
        "    entities = []\n",
        "    current_pos = 0\n",
        "    entities.append((current_pos, current_pos + len(code), \"CODE\"))\n",
        "    current_pos += len(code) + 1\n",
        "    entities.append((current_pos, current_pos + len(module_title), \"MODULE_TITLE\"))\n",
        "    current_pos += len(module_title) + 1\n",
        "    entities.append((current_pos, current_pos + len(semester), \"SEMESTER\"))\n",
        "    current_pos += len(semester) + 1\n",
        "    entities.append((current_pos, current_pos + len(period), \"PERIOD\"))\n",
        "    current_pos += len(period) + 1\n",
        "    entities.append((current_pos, current_pos + len(credits), \"CREDITS\"))\n",
        "    current_pos += len(credits) + 1\n",
        "    entities.append((current_pos, current_pos + len(grade), \"GRADE\"))\n",
        "\n",
        "    \n",
        "    TRAIN_DATA.append((text, {\"entities\": entities}))"
      ]
    },
    {
      "cell_type": "markdown",
      "source": [
        "# Disable other pipeline components to focus on NER"
      ],
      "metadata": {
        "id": "_ZGjGO4fap0S"
      }
    },
    {
      "cell_type": "code",
      "execution_count": null,
      "metadata": {
        "id": "SbNTz-CEyk4T"
      },
      "outputs": [],
      "source": [
        "# Disable other pipeline components to focus on NER\n",
        "pipe_exceptions = [\"ner\"]\n",
        "unaffected_pipes = [pipe for pipe in nlp.pipe_names if pipe not in pipe_exceptions]"
      ]
    },
    {
      "cell_type": "markdown",
      "source": [
        "# Train the NER model"
      ],
      "metadata": {
        "id": "orLVZrKJaoqT"
      }
    },
    {
      "cell_type": "code",
      "execution_count": null,
      "metadata": {
        "colab": {
          "base_uri": "https://localhost:8080/"
        },
        "id": "hD1QiIoFyrrU",
        "outputId": "8cd1c463-9939-47ca-a00b-383909fb737e"
      },
      "outputs": [
        {
          "output_type": "stream",
          "name": "stderr",
          "text": [
            "/usr/local/lib/python3.10/dist-packages/spacy/training/iob_utils.py:149: UserWarning: [W030] Some entities could not be aligned in the text \"SE1900 Software Engineering - II  2 18-Jun 4 E\" with entities \"[(0, 6, 'CODE'), (7, 33, 'MODULE_TITLE'), (34, 35,...\". Use `spacy.training.offsets_to_biluo_tags(nlp.make_doc(text), entities)` to check the alignment. Misaligned entities ('-') will be ignored during training.\n",
            "  warnings.warn(\n",
            "/usr/local/lib/python3.10/dist-packages/spacy/training/iob_utils.py:149: UserWarning: [W030] Some entities could not be aligned in the text \"IT2110  Probability & Statistics 2 16-Oct 4 B+\" with entities \"[(0, 7, 'CODE'), (8, 32, 'MODULE_TITLE'), (33, 34,...\". Use `spacy.training.offsets_to_biluo_tags(nlp.make_doc(text), entities)` to check the alignment. Misaligned entities ('-') will be ignored during training.\n",
            "  warnings.warn(\n",
            "/usr/local/lib/python3.10/dist-packages/spacy/training/iob_utils.py:149: UserWarning: [W030] Some entities could not be aligned in the text \"IT2050  Computer Networks 1 17-Apr 4 A+\" with entities \"[(0, 7, 'CODE'), (8, 25, 'MODULE_TITLE'), (26, 27,...\". Use `spacy.training.offsets_to_biluo_tags(nlp.make_doc(text), entities)` to check the alignment. Misaligned entities ('-') will be ignored during training.\n",
            "  warnings.warn(\n",
            "/usr/local/lib/python3.10/dist-packages/spacy/training/iob_utils.py:149: UserWarning: [W030] Some entities could not be aligned in the text \"IT2050  Computer Networks 1 16-Oct 4 B+\" with entities \"[(0, 7, 'CODE'), (8, 25, 'MODULE_TITLE'), (26, 27,...\". Use `spacy.training.offsets_to_biluo_tags(nlp.make_doc(text), entities)` to check the alignment. Misaligned entities ('-') will be ignored during training.\n",
            "  warnings.warn(\n",
            "/usr/local/lib/python3.10/dist-packages/spacy/training/iob_utils.py:149: UserWarning: [W030] Some entities could not be aligned in the text \"SE3026 Network Automation with DevOps Practices an...\" with entities \"[(0, 6, 'CODE'), (7, 58, 'MODULE_TITLE'), (59, 60,...\". Use `spacy.training.offsets_to_biluo_tags(nlp.make_doc(text), entities)` to check the alignment. Misaligned entities ('-') will be ignored during training.\n",
            "  warnings.warn(\n",
            "/usr/local/lib/python3.10/dist-packages/spacy/training/iob_utils.py:149: UserWarning: [W030] Some entities could not be aligned in the text \"EC2440 Data Communications & Computer Networks - I...\" with entities \"[(0, 6, 'CODE'), (7, 52, 'MODULE_TITLE'), (53, 54,...\". Use `spacy.training.offsets_to_biluo_tags(nlp.make_doc(text), entities)` to check the alignment. Misaligned entities ('-') will be ignored during training.\n",
            "  warnings.warn(\n",
            "/usr/local/lib/python3.10/dist-packages/spacy/training/iob_utils.py:149: UserWarning: [W030] Some entities could not be aligned in the text \"IE2041\t Information Systems Analysis 2 16-Jun 4 B-\" with entities \"[(0, 7, 'CODE'), (8, 36, 'MODULE_TITLE'), (37, 38,...\". Use `spacy.training.offsets_to_biluo_tags(nlp.make_doc(text), entities)` to check the alignment. Misaligned entities ('-') will be ignored during training.\n",
            "  warnings.warn(\n",
            "/usr/local/lib/python3.10/dist-packages/spacy/training/iob_utils.py:149: UserWarning: [W030] Some entities could not be aligned in the text \"IT2210 Software Engineering - II  2 16-Oct 4 B+\" with entities \"[(0, 6, 'CODE'), (7, 33, 'MODULE_TITLE'), (34, 35,...\". Use `spacy.training.offsets_to_biluo_tags(nlp.make_doc(text), entities)` to check the alignment. Misaligned entities ('-') will be ignored during training.\n",
            "  warnings.warn(\n"
          ]
        },
        {
          "output_type": "stream",
          "name": "stdout",
          "text": [
            "Losses: {'ner': 1080.9641413251313}\n",
            "Losses: {'ner': 81.69892219707003}\n",
            "Losses: {'ner': 26.13685030728511}\n",
            "Losses: {'ner': 32.97153806471643}\n",
            "Losses: {'ner': 2.39907462387285}\n",
            "Losses: {'ner': 22.977387887101763}\n",
            "Losses: {'ner': 4.599581692964621e-06}\n",
            "Losses: {'ner': 1.9882955234192774e-08}\n",
            "Losses: {'ner': 5.26225924263131e-09}\n",
            "Losses: {'ner': 2.2673915734306062e-07}\n"
          ]
        }
      ],
      "source": [
        "# Train the NER model\n",
        "n_iter = 10\n",
        "optimizer = nlp.begin_training()\n",
        "for i in range(n_iter):\n",
        "    random.shuffle(TRAIN_DATA)\n",
        "    losses = {}\n",
        "    batches = minibatch(TRAIN_DATA, size=compounding(4.0, 32.0, 1.001))\n",
        "    for batch in batches:\n",
        "        examples = []\n",
        "        texts, annotations = zip(*batch)\n",
        "        for i in range(len(texts)):\n",
        "            doc = nlp.make_doc(texts[i])\n",
        "            example = Example.from_dict(doc, annotations[i])\n",
        "            examples.append(example)\n",
        "        nlp.update(examples, sgd=optimizer, losses=losses)\n",
        "    print(\"Losses:\", losses)\n"
      ]
    },
    {
      "cell_type": "markdown",
      "source": [
        "# Save the trained model"
      ],
      "metadata": {
        "id": "6p1N6jgja6Qk"
      }
    },
    {
      "cell_type": "code",
      "execution_count": null,
      "metadata": {
        "id": "Jepb67ClAI9R"
      },
      "outputs": [],
      "source": [
        "from spacy.tokens import DocBin\n",
        "\n",
        "doc_bin = DocBin() # create a DocBin object\n",
        "\n",
        "# Save the trained model\n",
        "nlp.to_disk('IdentifyingModulenamesandgrades')\n",
        "doc_bin.to_disk(\"train.spacy\") # save the docbin object"
      ]
    },
    {
      "cell_type": "markdown",
      "source": [
        "# Loading the custom NER model  and applying it"
      ],
      "metadata": {
        "id": "TMYwm0Aaa7y1"
      }
    },
    {
      "cell_type": "code",
      "execution_count": null,
      "metadata": {
        "id": "Gz8_psJ21-vO",
        "colab": {
          "base_uri": "https://localhost:8080/"
        },
        "outputId": "7e8ca7a2-e431-4899-dca9-0eefb22a6828"
      },
      "outputs": [
        {
          "output_type": "stream",
          "name": "stdout",
          "text": [
            "Entities:\n",
            "IT1010 CODE\n",
            "Introduction to Programming 1 Apr - 2019 4 A\n",
            "IT1020 Introduction to Computer Systems 1 Apr - 2019 4 C+\n",
            "IT1030 Mathematics for Computing 1 Apr - 2019 4 B\n",
            "IT1040 Communication Skills MODULE_TITLE\n",
            "1 Apr - 2019 3 PERIOD\n",
            "A- GRADE\n",
            "IT1050 CODE\n",
            "Object Oriented Concepts MODULE_TITLE\n",
            "2 SEMESTER\n",
            "Oct - 2019 PERIOD\n",
            "2 CREDITS\n",
            "A GRADE\n",
            "IT1060 CODE\n",
            "Software Process Modeling MODULE_TITLE\n",
            "2 SEMESTER\n",
            "Oct - 2019 PERIOD\n",
            "3 CREDITS\n",
            "A GRADE\n",
            "IT1080 CODE\n",
            "English for Academic Purposes MODULE_TITLE\n",
            "2 SEMESTER\n",
            "Oct - 2019 PERIOD\n",
            "3 CREDITS\n",
            "B GRADE\n",
            "IT1090 CODE\n",
            "Information Systems & Data Modeling MODULE_TITLE\n",
            "2 SEMESTER\n",
            "Oct - 2019 4 PERIOD\n",
            "A GRADE\n",
            "IT1100 CODE\n",
            "Internet & Web Technclogies MODULE_TITLE\n",
            "2 SEMESTER\n",
            "Oct - 2019 4 PERIOD\n",
            "A- GRADE\n",
            "IT2020 CODE\n",
            "Software Engineering MODULE_TITLE\n",
            "1 Apr - 2020 4 PERIOD\n",
            "A GRADE\n",
            "IT2030 CODE\n",
            "Object Oriented Programming 1 . Jun - 2020 4 A\n",
            "IT2040 Database Management Systems 1 Apr - 2020 4 A\n",
            "IT2050 Computer Networks MODULE_TITLE\n",
            "1 Jun - 2020 PERIOD\n",
            "4 CREDITS\n",
            "A GRADE\n",
            "IT2060 CODE\n",
            "Operating Systems and System Administration 1 Apr - 2020 4 B+\n",
            "IT2010 Mobile Application Development MODULE_TITLE\n",
            "2 SEMESTER\n",
            "Oct - 2020 PERIOD\n",
            "4 CREDITS\n",
            "B+ GRADE\n",
            "IT2070 CODE\n",
            "Data Structures & Algorithms MODULE_TITLE\n",
            "2 SEMESTER\n",
            "Oct - 2020 PERIOD\n",
            "4 CREDITS\n",
            "A GRADE\n",
            "IT2080 CODE\n",
            "IT Project MODULE_TITLE\n",
            "2 SEMESTER\n",
            "Oct - 2020 PERIOD\n",
            "4 CREDITS\n",
            "A GRADE\n",
            "IT2090 CODE\n",
            "Professional Skills MODULE_TITLE\n",
            "2 SEMESTER\n",
            "Oct - 2020 PERIOD\n",
            "2 CREDITS\n",
            "B+ GRADE\n",
            "1T2100* CODE\n",
            "Employability Skills Development - Seminar MODULE_TITLE\n",
            "2 SEMESTER\n",
            "Oct - 2020 PERIOD\n",
            "Non-Credit C+\n",
            "IT2110 Probability & Statistics MODULE_TITLE\n",
            "2 SEMESTER\n",
            "Oct - 2020 PERIOD\n",
            "3 CREDITS\n",
            "A GRADE\n",
            "IT3031 CODE\n",
            "Database Systems and Data-Driven Application MODULE_TITLE\n",
            "1 Jun - 2022 PERIOD\n",
            "Cc\n",
            "IT3011 Theory and Practices in Statistical Modelling 1 Apr - 2021 4 td\n",
            "IT3021 Data Warehousing and Business Intelligence 1 Apr - 2021 4 -\n",
            "IT3030 Programming Applications and Frameworks MODULE_TITLE\n",
            "1 Apr - 2021 4 PERIOD\n",
            "A GRADE\n",
            "IT3050* CODE\n",
            "Employability Skills Development - Seminar 1 Apr - 2021 1 Cc\n",
            "IT3041 Information Retrieval and Web MODULE_TITLE\n",
            "2 SEMESTER\n",
            "Oct - 2021 PERIOD\n",
            "4 CREDITS\n",
            "B+ GRADE\n",
            "IT3051 CODE\n",
            "Fundamentals of Data Mining MODULE_TITLE\n",
            "2 SEMESTER\n",
            "Oct - 2021 PERIOD\n",
            "4 CREDITS\n",
            "B+ GRADE\n",
            "IT3061 CODE\n",
            "Massive Data Processing and Cloud MODULE_TITLE\n",
            "2 SEMESTER\n",
            "Oct - 2021 PERIOD\n",
            "4 CREDITS\n",
            "B- GRADE\n",
            "IT3071 CODE\n",
            "Machine Learning and Optimization MODULE_TITLE\n",
            "2 SEMESTER\n",
            "Oct - 2021 PERIOD\n",
            "4 CREDITS\n",
            "B- GRADE\n",
            "IT3110* CODE\n",
            "Industry Placement MODULE_TITLE\n",
            "2 SEMESTER\n",
            "Oct - 2021 PERIOD\n",
            "8 CREDITS\n",
            "C GRADE\n",
            "IT4021 CODE\n",
            "Internet of Things and Big Data Analytics MODULE_TITLE\n",
            "1 Jun - 2022 PERIOD\n",
            "4 CREDITS\n",
            "B- GRADE\n",
            "IT4031 CODE\n",
            "Visual Analytics and User Experience Design MODULE_TITLE\n",
            "1 Jun - 2022 PERIOD\n",
            "4 CREDITS\n",
            "A- GRADE\n",
            "IT4070* CODE\n",
            "Preparation for the Professional World MODULE_TITLE\n",
            "1 Jun - 2022 2 PERIOD\n",
            "A GRADE\n",
            "IT4010 CODE\n",
            "Research Project MODULE_TITLE\n",
            "2 SEMESTER\n",
            "Dec - 2022 16 PERIOD\n",
            "B+\n",
            "174011 Database Administration and Storage Systems MODULE_TITLE\n",
            "2 Nov - 2022 4 PERIOD\n",
            "A- GRADE\n",
            "114041 Introduction to Information Security Analytics 2 Dec - 2022 4 A\n",
            "\n",
            " MODULE_TITLE\n"
          ]
        }
      ],
      "source": [
        "# Loading the custom NER model using `nlp_ner`\n",
        "nlp_ner = spacy.load('IdentifyingModulenamesandgrades')\n",
        "\n",
        "# Load the document from the text file\n",
        "with open(\"extracted_sections.txt\", \"r\") as file:\n",
        "    text = file.read()\n",
        "\n",
        "# Process the document with the custom NER model\n",
        "doc = nlp(text)\n",
        "\n",
        "# Extract and print the entities\n",
        "print(\"Entities:\")\n",
        "for ent in doc.ents:\n",
        "    print(ent.text, ent.label_)"
      ]
    },
    {
      "cell_type": "markdown",
      "source": [
        "#Saving the identifying Module Titles andg grades in a CSV file"
      ],
      "metadata": {
        "id": "i57kp6QPbDvk"
      }
    },
    {
      "cell_type": "code",
      "execution_count": null,
      "metadata": {
        "id": "KF3A3WHm27pk",
        "colab": {
          "base_uri": "https://localhost:8080/"
        },
        "outputId": "4d832580-7143-4544-c228-778aecfa0d11"
      },
      "outputs": [
        {
          "output_type": "stream",
          "name": "stdout",
          "text": [
            "Testing NER on file: extracted_sections.txt\n",
            "Entities:\n",
            "Saved extracted data to extracted_data.csv\n"
          ]
        }
      ],
      "source": [
        "import pandas as pd\n",
        "\n",
        "def test_ner_model(file_path, output_file):\n",
        "    with open(file_path, 'r') as file:\n",
        "        lines = file.readlines()\n",
        "\n",
        "    modules = []\n",
        "    grades = []\n",
        "\n",
        "    print(\"Testing NER on file:\", file_path)\n",
        "    print(\"Entities:\")\n",
        "    for line in lines:\n",
        "        doc = nlp_ner(line.strip())\n",
        "        module_title = None\n",
        "        grade = None\n",
        "        for ent in doc.ents:\n",
        "            if ent.label_ == \"MODULE_TITLE\":\n",
        "                module_title = ent.text\n",
        "            elif ent.label_ == \"GRADE\":\n",
        "                grade = ent.text\n",
        "\n",
        "        if module_title and grade:  # Only append if both module title and grade exist\n",
        "            modules.append(module_title)\n",
        "            grades.append(grade)\n",
        "\n",
        "    # Create a DataFrame with modules and grades\n",
        "    data = {\"Module Title\": modules, \"Grade\": grades}\n",
        "    df = pd.DataFrame(data)\n",
        "\n",
        "    # Save the DataFrame to a CSV file\n",
        "    df.to_csv(output_file, index=False)\n",
        "    print(\"Saved extracted data to\", output_file)\n",
        "\n",
        "# Provide the file path to test and output file path\n",
        "file_path = \"extracted_sections.txt\"\n",
        "output_file = \"extracted_data.csv\"\n",
        "test_ner_model(file_path, output_file)\n"
      ]
    }
  ],
  "metadata": {
    "colab": {
      "provenance": [],
      "gpuType": "T4"
    },
    "gpuClass": "standard",
    "kernelspec": {
      "display_name": "Python 3",
      "name": "python3"
    },
    "language_info": {
      "name": "python"
    }
  },
  "nbformat": 4,
  "nbformat_minor": 0
}