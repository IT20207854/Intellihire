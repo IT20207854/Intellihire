{
  "cells": [
    {
      "cell_type": "markdown",
      "metadata": {
        "id": "fQGbfQ_bO5ZV"
      },
      "source": [
        "# Loading the Custom-NER Model"
      ]
    },
    {
      "cell_type": "code",
      "execution_count": null,
      "metadata": {
        "colab": {
          "base_uri": "https://localhost:8080/"
        },
        "id": "Z_O7dyH36eFd",
        "outputId": "92acd31d-bcc0-4b37-b292-996df2a36e2d"
      },
      "outputs": [
        {
          "name": "stdout",
          "output_type": "stream",
          "text": [
            "Archive:  IdentifyingModulesandGrades.zip\n",
            "  inflating: IdentifyingModulesandGrades/config.cfg  \n",
            "  inflating: IdentifyingModulesandGrades/meta.json  \n",
            "   creating: IdentifyingModulesandGrades/ner/\n",
            "  inflating: IdentifyingModulesandGrades/ner/cfg  \n",
            "  inflating: IdentifyingModulesandGrades/ner/model  \n",
            "  inflating: IdentifyingModulesandGrades/ner/moves  \n",
            "  inflating: IdentifyingModulesandGrades/tokenizer  \n",
            "   creating: IdentifyingModulesandGrades/vocab/\n",
            " extracting: IdentifyingModulesandGrades/vocab/key2row  \n",
            " extracting: IdentifyingModulesandGrades/vocab/lookups.bin  \n",
            "  inflating: IdentifyingModulesandGrades/vocab/strings.json  \n",
            "  inflating: IdentifyingModulesandGrades/vocab/vectors  \n",
            " extracting: IdentifyingModulesandGrades/vocab/vectors.cfg  \n"
          ]
        }
      ],
      "source": [
        "!unzip IdentifyingModulesandGrades.zip"
      ]
    },
    {
      "cell_type": "markdown",
      "metadata": {
        "id": "uwl9OYupPWQM"
      },
      "source": [
        "# Installig pytesseract and poppler libraries"
      ]
    },
    {
      "cell_type": "code",
      "execution_count": null,
      "metadata": {
        "colab": {
          "base_uri": "https://localhost:8080/"
        },
        "id": "CQnfB3YCPYk7",
        "outputId": "120625fa-7a13-4c12-b9c3-0f9992f1671e"
      },
      "outputs": [
        {
          "name": "stdout",
          "output_type": "stream",
          "text": [
            "Reading package lists... Done\n",
            "Building dependency tree       \n",
            "Reading state information... Done\n",
            "tesseract-ocr is already the newest version (4.1.1-2build2).\n",
            "0 upgraded, 0 newly installed, 0 to remove and 24 not upgraded.\n",
            "Looking in indexes: https://pypi.org/simple, https://us-python.pkg.dev/colab-wheels/public/simple/\n",
            "Requirement already satisfied: pytesseract in /usr/local/lib/python3.10/dist-packages (0.3.10)\n",
            "Requirement already satisfied: packaging>=21.3 in /usr/local/lib/python3.10/dist-packages (from pytesseract) (23.1)\n",
            "Requirement already satisfied: Pillow>=8.0.0 in /usr/local/lib/python3.10/dist-packages (from pytesseract) (8.4.0)\n",
            "Looking in indexes: https://pypi.org/simple, https://us-python.pkg.dev/colab-wheels/public/simple/\n",
            "Requirement already satisfied: pdf2image in /usr/local/lib/python3.10/dist-packages (1.16.3)\n",
            "Requirement already satisfied: pillow in /usr/local/lib/python3.10/dist-packages (from pdf2image) (8.4.0)\n",
            "Reading package lists... Done\n",
            "Building dependency tree       \n",
            "Reading state information... Done\n",
            "poppler-utils is already the newest version (0.86.1-0ubuntu1.1).\n",
            "0 upgraded, 0 newly installed, 0 to remove and 24 not upgraded.\n"
          ]
        }
      ],
      "source": [
        "!sudo apt install tesseract-ocr\n",
        "!pip install pytesseract\n",
        "!pip install pdf2image\n",
        "!apt-get install poppler-utils"
      ]
    },
    {
      "cell_type": "markdown",
      "metadata": {
        "id": "B79EZltiPBJf"
      },
      "source": [
        "# Importing necessary Libraries"
      ]
    },
    {
      "cell_type": "code",
      "execution_count": null,
      "metadata": {
        "id": "d2GSpVSeOQaS"
      },
      "outputs": [],
      "source": [
        "import spacy\n",
        "import random\n",
        "import pandas as pd\n",
        "from spacy.util import minibatch, compounding\n",
        "from spacy.training.example import Example\n",
        "from spacy import displacy\n",
        "from spacy.tokens import DocBin\n",
        "from tqdm import tqdm\n",
        "import glob\n",
        "import pytesseract\n",
        "from pdf2image import convert_from_path\n",
        "import re\n",
        "import csv"
      ]
    },
    {
      "cell_type": "markdown",
      "metadata": {
        "id": "ulHaQnDIOwng"
      },
      "source": [
        "# Importing the libraries to train the model"
      ]
    },
    {
      "cell_type": "code",
      "execution_count": null,
      "metadata": {
        "colab": {
          "base_uri": "https://localhost:8080/"
        },
        "id": "XBdRYRrVIDIy",
        "outputId": "c3c80042-321d-4f97-f620-42ec9566e807"
      },
      "outputs": [
        {
          "name": "stdout",
          "output_type": "stream",
          "text": [
            "Error : No module named 'swifter' \n"
          ]
        }
      ],
      "source": [
        "try:\n",
        "    import json\n",
        "    import os\n",
        "    \n",
        "    import pandas as  pd\n",
        "    import spacy\n",
        "    \n",
        "    import seaborn as sns\n",
        "    import string\n",
        "\n",
        "    from tqdm import tqdm\n",
        "    from textblob import TextBlob\n",
        "    \n",
        "    from nltk.corpus import stopwords\n",
        "    import nltk\n",
        "    from nltk.stem import WordNetLemmatizer\n",
        "    from nltk import word_tokenize\n",
        "    import re\n",
        "    \n",
        "    \n",
        "    from sklearn.preprocessing import LabelEncoder\n",
        "    from sklearn.feature_extraction.text import CountVectorizer\n",
        "    from sklearn.feature_extraction.text import TfidfTransformer\n",
        "    from sklearn.naive_bayes import MultinomialNB\n",
        "    from sklearn.pipeline import Pipeline\n",
        "    \n",
        "    import matplotlib.pyplot as plt\n",
        "    from sklearn.feature_extraction.text import CountVectorizer\n",
        "    from sklearn.model_selection import GridSearchCV, train_test_split, cross_val_score\n",
        "    from sklearn import svm\n",
        "    from sklearn.svm import SVC\n",
        "    from sklearn.metrics import accuracy_score, confusion_matrix, classification_report\n",
        "    import seaborn as sns\n",
        "    from imblearn.over_sampling import SMOTE\n",
        "    \n",
        "    from sklearn.preprocessing import FunctionTransformer\n",
        "    from sklearn.base import BaseEstimator, TransformerMixin\n",
        "    from sklearn.pipeline import FeatureUnion\n",
        "    from sklearn.feature_extraction import DictVectorizer\n",
        "    \n",
        "    import swifter\n",
        "    \n",
        "    tqdm.pandas()\n",
        "except Exception as e:\n",
        "    print(\"Error : {} \".format(e))"
      ]
    },
    {
      "cell_type": "markdown",
      "metadata": {
        "id": "2upzdjK6W4A6"
      },
      "source": [
        "# Downloading the nltk library"
      ]
    },
    {
      "cell_type": "code",
      "execution_count": null,
      "metadata": {
        "colab": {
          "base_uri": "https://localhost:8080/"
        },
        "id": "kr_BhaN9OwgC",
        "outputId": "80acbd5a-1f4a-4ac5-c340-1b6d76f03f9d"
      },
      "outputs": [
        {
          "name": "stderr",
          "output_type": "stream",
          "text": [
            "[nltk_data] Downloading package punkt to /root/nltk_data...\n",
            "[nltk_data]   Package punkt is already up-to-date!\n",
            "[nltk_data] Downloading package stopwords to /root/nltk_data...\n",
            "[nltk_data]   Package stopwords is already up-to-date!\n",
            "[nltk_data] Downloading package wordnet to /root/nltk_data...\n",
            "[nltk_data]   Package wordnet is already up-to-date!\n",
            "[nltk_data] Downloading package averaged_perceptron_tagger to\n",
            "[nltk_data]     /root/nltk_data...\n",
            "[nltk_data]   Package averaged_perceptron_tagger is already up-to-\n",
            "[nltk_data]       date!\n"
          ]
        },
        {
          "data": {
            "text/plain": [
              "True"
            ]
          },
          "execution_count": 85,
          "metadata": {},
          "output_type": "execute_result"
        }
      ],
      "source": [
        "import nltk\n",
        "nltk.download('punkt')\n",
        "nltk.download('stopwords')\n",
        "nltk.download('wordnet')\n",
        "nltk.download('averaged_perceptron_tagger')"
      ]
    },
    {
      "cell_type": "markdown",
      "metadata": {
        "id": "mowgwNoQW-k0"
      },
      "source": [
        "# Loading the dataset"
      ]
    },
    {
      "cell_type": "code",
      "execution_count": null,
      "metadata": {
        "colab": {
          "base_uri": "https://localhost:8080/",
          "height": 206
        },
        "id": "VDAzT2DDcicm",
        "outputId": "f7a7eb92-eb88-48ea-8d46-b0410d371f19"
      },
      "outputs": [
        {
          "data": {
            "text/html": [
              "\n",
              "  <div id=\"df-2d2b2179-4496-4daa-8edf-5e3578a7e9c3\">\n",
              "    <div class=\"colab-df-container\">\n",
              "      <div>\n",
              "<style scoped>\n",
              "    .dataframe tbody tr th:only-of-type {\n",
              "        vertical-align: middle;\n",
              "    }\n",
              "\n",
              "    .dataframe tbody tr th {\n",
              "        vertical-align: top;\n",
              "    }\n",
              "\n",
              "    .dataframe thead th {\n",
              "        text-align: right;\n",
              "    }\n",
              "</style>\n",
              "<table border=\"1\" class=\"dataframe\">\n",
              "  <thead>\n",
              "    <tr style=\"text-align: right;\">\n",
              "      <th></th>\n",
              "      <th>Skill Area</th>\n",
              "      <th>Module Title</th>\n",
              "      <th>Module Keywords</th>\n",
              "    </tr>\n",
              "  </thead>\n",
              "  <tbody>\n",
              "    <tr>\n",
              "      <th>0</th>\n",
              "      <td>Programming and Software Development</td>\n",
              "      <td>Secure Coding in Perl</td>\n",
              "      <td>Perl programming language, Secure coding pract...</td>\n",
              "    </tr>\n",
              "    <tr>\n",
              "      <th>1</th>\n",
              "      <td>Data Analysis and Visualization</td>\n",
              "      <td>Data Visualization for Project Management</td>\n",
              "      <td>Data visualization, Project management, Visual...</td>\n",
              "    </tr>\n",
              "    <tr>\n",
              "      <th>2</th>\n",
              "      <td>Database Management</td>\n",
              "      <td>Database Capacity Planning and Forecasting</td>\n",
              "      <td>Database capacity planning, Database forecasti...</td>\n",
              "    </tr>\n",
              "    <tr>\n",
              "      <th>3</th>\n",
              "      <td>Programming and Software Development</td>\n",
              "      <td>Secure Coding in PHP</td>\n",
              "      <td>Secure coding, PHP programming, Web applicatio...</td>\n",
              "    </tr>\n",
              "    <tr>\n",
              "      <th>4</th>\n",
              "      <td>Database Management</td>\n",
              "      <td>Database Audit and Compliance Procedures</td>\n",
              "      <td>Database audit, Compliance procedures, Data go...</td>\n",
              "    </tr>\n",
              "  </tbody>\n",
              "</table>\n",
              "</div>\n",
              "      <button class=\"colab-df-convert\" onclick=\"convertToInteractive('df-2d2b2179-4496-4daa-8edf-5e3578a7e9c3')\"\n",
              "              title=\"Convert this dataframe to an interactive table.\"\n",
              "              style=\"display:none;\">\n",
              "        \n",
              "  <svg xmlns=\"http://www.w3.org/2000/svg\" height=\"24px\"viewBox=\"0 0 24 24\"\n",
              "       width=\"24px\">\n",
              "    <path d=\"M0 0h24v24H0V0z\" fill=\"none\"/>\n",
              "    <path d=\"M18.56 5.44l.94 2.06.94-2.06 2.06-.94-2.06-.94-.94-2.06-.94 2.06-2.06.94zm-11 1L8.5 8.5l.94-2.06 2.06-.94-2.06-.94L8.5 2.5l-.94 2.06-2.06.94zm10 10l.94 2.06.94-2.06 2.06-.94-2.06-.94-.94-2.06-.94 2.06-2.06.94z\"/><path d=\"M17.41 7.96l-1.37-1.37c-.4-.4-.92-.59-1.43-.59-.52 0-1.04.2-1.43.59L10.3 9.45l-7.72 7.72c-.78.78-.78 2.05 0 2.83L4 21.41c.39.39.9.59 1.41.59.51 0 1.02-.2 1.41-.59l7.78-7.78 2.81-2.81c.8-.78.8-2.07 0-2.86zM5.41 20L4 18.59l7.72-7.72 1.47 1.35L5.41 20z\"/>\n",
              "  </svg>\n",
              "      </button>\n",
              "      \n",
              "  <style>\n",
              "    .colab-df-container {\n",
              "      display:flex;\n",
              "      flex-wrap:wrap;\n",
              "      gap: 12px;\n",
              "    }\n",
              "\n",
              "    .colab-df-convert {\n",
              "      background-color: #E8F0FE;\n",
              "      border: none;\n",
              "      border-radius: 50%;\n",
              "      cursor: pointer;\n",
              "      display: none;\n",
              "      fill: #1967D2;\n",
              "      height: 32px;\n",
              "      padding: 0 0 0 0;\n",
              "      width: 32px;\n",
              "    }\n",
              "\n",
              "    .colab-df-convert:hover {\n",
              "      background-color: #E2EBFA;\n",
              "      box-shadow: 0px 1px 2px rgba(60, 64, 67, 0.3), 0px 1px 3px 1px rgba(60, 64, 67, 0.15);\n",
              "      fill: #174EA6;\n",
              "    }\n",
              "\n",
              "    [theme=dark] .colab-df-convert {\n",
              "      background-color: #3B4455;\n",
              "      fill: #D2E3FC;\n",
              "    }\n",
              "\n",
              "    [theme=dark] .colab-df-convert:hover {\n",
              "      background-color: #434B5C;\n",
              "      box-shadow: 0px 1px 3px 1px rgba(0, 0, 0, 0.15);\n",
              "      filter: drop-shadow(0px 1px 2px rgba(0, 0, 0, 0.3));\n",
              "      fill: #FFFFFF;\n",
              "    }\n",
              "  </style>\n",
              "\n",
              "      <script>\n",
              "        const buttonEl =\n",
              "          document.querySelector('#df-2d2b2179-4496-4daa-8edf-5e3578a7e9c3 button.colab-df-convert');\n",
              "        buttonEl.style.display =\n",
              "          google.colab.kernel.accessAllowed ? 'block' : 'none';\n",
              "\n",
              "        async function convertToInteractive(key) {\n",
              "          const element = document.querySelector('#df-2d2b2179-4496-4daa-8edf-5e3578a7e9c3');\n",
              "          const dataTable =\n",
              "            await google.colab.kernel.invokeFunction('convertToInteractive',\n",
              "                                                     [key], {});\n",
              "          if (!dataTable) return;\n",
              "\n",
              "          const docLinkHtml = 'Like what you see? Visit the ' +\n",
              "            '<a target=\"_blank\" href=https://colab.research.google.com/notebooks/data_table.ipynb>data table notebook</a>'\n",
              "            + ' to learn more about interactive tables.';\n",
              "          element.innerHTML = '';\n",
              "          dataTable['output_type'] = 'display_data';\n",
              "          await google.colab.output.renderOutput(dataTable, element);\n",
              "          const docLink = document.createElement('div');\n",
              "          docLink.innerHTML = docLinkHtml;\n",
              "          element.appendChild(docLink);\n",
              "        }\n",
              "      </script>\n",
              "    </div>\n",
              "  </div>\n",
              "  "
            ],
            "text/plain": [
              "                             Skill Area  \\\n",
              "0  Programming and Software Development   \n",
              "1       Data Analysis and Visualization   \n",
              "2                   Database Management   \n",
              "3  Programming and Software Development   \n",
              "4                   Database Management   \n",
              "\n",
              "                                 Module Title  \\\n",
              "0                       Secure Coding in Perl   \n",
              "1   Data Visualization for Project Management   \n",
              "2  Database Capacity Planning and Forecasting   \n",
              "3                        Secure Coding in PHP   \n",
              "4    Database Audit and Compliance Procedures   \n",
              "\n",
              "                                     Module Keywords  \n",
              "0  Perl programming language, Secure coding pract...  \n",
              "1  Data visualization, Project management, Visual...  \n",
              "2  Database capacity planning, Database forecasti...  \n",
              "3  Secure coding, PHP programming, Web applicatio...  \n",
              "4  Database audit, Compliance procedures, Data go...  "
            ]
          },
          "execution_count": 86,
          "metadata": {},
          "output_type": "execute_result"
        }
      ],
      "source": [
        "df = pd.read_csv(\"Categorising Modules for prediction.csv\")\n",
        "df.head(5)"
      ]
    },
    {
      "cell_type": "markdown",
      "metadata": {
        "id": "IDlXYn47XBg0"
      },
      "source": [
        "# Visualising the dataset"
      ]
    },
    {
      "cell_type": "code",
      "execution_count": null,
      "metadata": {
        "colab": {
          "base_uri": "https://localhost:8080/",
          "height": 426
        },
        "id": "5vEXv6zheh9j",
        "outputId": "2ea23738-863e-4535-9f1d-4aba77be3a27"
      },
      "outputs": [
        {
          "data": {
            "text/html": [
              "\n",
              "  <div id=\"df-092b7656-999b-458e-a362-c3059ee2c3a9\">\n",
              "    <div class=\"colab-df-container\">\n",
              "      <div>\n",
              "<style scoped>\n",
              "    .dataframe tbody tr th:only-of-type {\n",
              "        vertical-align: middle;\n",
              "    }\n",
              "\n",
              "    .dataframe tbody tr th {\n",
              "        vertical-align: top;\n",
              "    }\n",
              "\n",
              "    .dataframe thead tr th {\n",
              "        text-align: left;\n",
              "    }\n",
              "\n",
              "    .dataframe thead tr:last-of-type th {\n",
              "        text-align: right;\n",
              "    }\n",
              "</style>\n",
              "<table border=\"1\" class=\"dataframe\">\n",
              "  <thead>\n",
              "    <tr>\n",
              "      <th></th>\n",
              "      <th colspan=\"4\" halign=\"left\">Module Title</th>\n",
              "      <th colspan=\"4\" halign=\"left\">Module Keywords</th>\n",
              "    </tr>\n",
              "    <tr>\n",
              "      <th></th>\n",
              "      <th>count</th>\n",
              "      <th>unique</th>\n",
              "      <th>top</th>\n",
              "      <th>freq</th>\n",
              "      <th>count</th>\n",
              "      <th>unique</th>\n",
              "      <th>top</th>\n",
              "      <th>freq</th>\n",
              "    </tr>\n",
              "    <tr>\n",
              "      <th>Skill Area</th>\n",
              "      <th></th>\n",
              "      <th></th>\n",
              "      <th></th>\n",
              "      <th></th>\n",
              "      <th></th>\n",
              "      <th></th>\n",
              "      <th></th>\n",
              "      <th></th>\n",
              "    </tr>\n",
              "  </thead>\n",
              "  <tbody>\n",
              "    <tr>\n",
              "      <th>Artificial Intelligence, Machine Learning and Data Science</th>\n",
              "      <td>672</td>\n",
              "      <td>587</td>\n",
              "      <td>Deep Reinforcement Learning</td>\n",
              "      <td>4</td>\n",
              "      <td>672</td>\n",
              "      <td>590</td>\n",
              "      <td>Deep Reinforcement Learning</td>\n",
              "      <td>4</td>\n",
              "    </tr>\n",
              "    <tr>\n",
              "      <th>Cloud Computing</th>\n",
              "      <td>766</td>\n",
              "      <td>594</td>\n",
              "      <td>Cloud Data Extraction and Loading Methods</td>\n",
              "      <td>10</td>\n",
              "      <td>766</td>\n",
              "      <td>599</td>\n",
              "      <td>Cloud Data Extraction and Loading Methods</td>\n",
              "      <td>10</td>\n",
              "    </tr>\n",
              "    <tr>\n",
              "      <th>Cybersecurity</th>\n",
              "      <td>871</td>\n",
              "      <td>753</td>\n",
              "      <td>Incident Response Plan Documentation and Review</td>\n",
              "      <td>4</td>\n",
              "      <td>871</td>\n",
              "      <td>758</td>\n",
              "      <td>Incident Response Plan Documentation and Review</td>\n",
              "      <td>4</td>\n",
              "    </tr>\n",
              "    <tr>\n",
              "      <th>Data Analysis and Visualization</th>\n",
              "      <td>695</td>\n",
              "      <td>609</td>\n",
              "      <td>Data Visualization with Sentiment Analysis</td>\n",
              "      <td>4</td>\n",
              "      <td>695</td>\n",
              "      <td>615</td>\n",
              "      <td>Data Visualization with Sentiment Analysis</td>\n",
              "      <td>4</td>\n",
              "    </tr>\n",
              "    <tr>\n",
              "      <th>Database Management</th>\n",
              "      <td>1000</td>\n",
              "      <td>486</td>\n",
              "      <td>Database Backup and Recovery Strategies</td>\n",
              "      <td>18</td>\n",
              "      <td>1000</td>\n",
              "      <td>501</td>\n",
              "      <td>Database Backup and Recovery Strategies</td>\n",
              "      <td>18</td>\n",
              "    </tr>\n",
              "    <tr>\n",
              "      <th>IT Infrastructure and Networking</th>\n",
              "      <td>858</td>\n",
              "      <td>621</td>\n",
              "      <td>Network Service Deployment Management</td>\n",
              "      <td>8</td>\n",
              "      <td>858</td>\n",
              "      <td>625</td>\n",
              "      <td>Network Service Deployment Management</td>\n",
              "      <td>8</td>\n",
              "    </tr>\n",
              "    <tr>\n",
              "      <th>Programming and Software Development</th>\n",
              "      <td>728</td>\n",
              "      <td>500</td>\n",
              "      <td>Cloud Serverless Computing with Azure Functions</td>\n",
              "      <td>4</td>\n",
              "      <td>728</td>\n",
              "      <td>511</td>\n",
              "      <td>Cloud Serverless Computing with Azure Functions</td>\n",
              "      <td>4</td>\n",
              "    </tr>\n",
              "    <tr>\n",
              "      <th>Project Management</th>\n",
              "      <td>750</td>\n",
              "      <td>589</td>\n",
              "      <td>Project Integration Management Techniques and ...</td>\n",
              "      <td>5</td>\n",
              "      <td>750</td>\n",
              "      <td>599</td>\n",
              "      <td>Project Integration Management Techniques and ...</td>\n",
              "      <td>5</td>\n",
              "    </tr>\n",
              "    <tr>\n",
              "      <th>System Administration</th>\n",
              "      <td>936</td>\n",
              "      <td>568</td>\n",
              "      <td>Network Load Balancer Configuration and Troubl...</td>\n",
              "      <td>8</td>\n",
              "      <td>936</td>\n",
              "      <td>579</td>\n",
              "      <td>Network Load Balancer Configuration and Troubl...</td>\n",
              "      <td>8</td>\n",
              "    </tr>\n",
              "    <tr>\n",
              "      <th>User Experience and Design</th>\n",
              "      <td>499</td>\n",
              "      <td>362</td>\n",
              "      <td>Designing for Art and Creative Platforms</td>\n",
              "      <td>7</td>\n",
              "      <td>499</td>\n",
              "      <td>363</td>\n",
              "      <td>Designing for Art and Creative Platforms</td>\n",
              "      <td>7</td>\n",
              "    </tr>\n",
              "  </tbody>\n",
              "</table>\n",
              "</div>\n",
              "      <button class=\"colab-df-convert\" onclick=\"convertToInteractive('df-092b7656-999b-458e-a362-c3059ee2c3a9')\"\n",
              "              title=\"Convert this dataframe to an interactive table.\"\n",
              "              style=\"display:none;\">\n",
              "        \n",
              "  <svg xmlns=\"http://www.w3.org/2000/svg\" height=\"24px\"viewBox=\"0 0 24 24\"\n",
              "       width=\"24px\">\n",
              "    <path d=\"M0 0h24v24H0V0z\" fill=\"none\"/>\n",
              "    <path d=\"M18.56 5.44l.94 2.06.94-2.06 2.06-.94-2.06-.94-.94-2.06-.94 2.06-2.06.94zm-11 1L8.5 8.5l.94-2.06 2.06-.94-2.06-.94L8.5 2.5l-.94 2.06-2.06.94zm10 10l.94 2.06.94-2.06 2.06-.94-2.06-.94-.94-2.06-.94 2.06-2.06.94z\"/><path d=\"M17.41 7.96l-1.37-1.37c-.4-.4-.92-.59-1.43-.59-.52 0-1.04.2-1.43.59L10.3 9.45l-7.72 7.72c-.78.78-.78 2.05 0 2.83L4 21.41c.39.39.9.59 1.41.59.51 0 1.02-.2 1.41-.59l7.78-7.78 2.81-2.81c.8-.78.8-2.07 0-2.86zM5.41 20L4 18.59l7.72-7.72 1.47 1.35L5.41 20z\"/>\n",
              "  </svg>\n",
              "      </button>\n",
              "      \n",
              "  <style>\n",
              "    .colab-df-container {\n",
              "      display:flex;\n",
              "      flex-wrap:wrap;\n",
              "      gap: 12px;\n",
              "    }\n",
              "\n",
              "    .colab-df-convert {\n",
              "      background-color: #E8F0FE;\n",
              "      border: none;\n",
              "      border-radius: 50%;\n",
              "      cursor: pointer;\n",
              "      display: none;\n",
              "      fill: #1967D2;\n",
              "      height: 32px;\n",
              "      padding: 0 0 0 0;\n",
              "      width: 32px;\n",
              "    }\n",
              "\n",
              "    .colab-df-convert:hover {\n",
              "      background-color: #E2EBFA;\n",
              "      box-shadow: 0px 1px 2px rgba(60, 64, 67, 0.3), 0px 1px 3px 1px rgba(60, 64, 67, 0.15);\n",
              "      fill: #174EA6;\n",
              "    }\n",
              "\n",
              "    [theme=dark] .colab-df-convert {\n",
              "      background-color: #3B4455;\n",
              "      fill: #D2E3FC;\n",
              "    }\n",
              "\n",
              "    [theme=dark] .colab-df-convert:hover {\n",
              "      background-color: #434B5C;\n",
              "      box-shadow: 0px 1px 3px 1px rgba(0, 0, 0, 0.15);\n",
              "      filter: drop-shadow(0px 1px 2px rgba(0, 0, 0, 0.3));\n",
              "      fill: #FFFFFF;\n",
              "    }\n",
              "  </style>\n",
              "\n",
              "      <script>\n",
              "        const buttonEl =\n",
              "          document.querySelector('#df-092b7656-999b-458e-a362-c3059ee2c3a9 button.colab-df-convert');\n",
              "        buttonEl.style.display =\n",
              "          google.colab.kernel.accessAllowed ? 'block' : 'none';\n",
              "\n",
              "        async function convertToInteractive(key) {\n",
              "          const element = document.querySelector('#df-092b7656-999b-458e-a362-c3059ee2c3a9');\n",
              "          const dataTable =\n",
              "            await google.colab.kernel.invokeFunction('convertToInteractive',\n",
              "                                                     [key], {});\n",
              "          if (!dataTable) return;\n",
              "\n",
              "          const docLinkHtml = 'Like what you see? Visit the ' +\n",
              "            '<a target=\"_blank\" href=https://colab.research.google.com/notebooks/data_table.ipynb>data table notebook</a>'\n",
              "            + ' to learn more about interactive tables.';\n",
              "          element.innerHTML = '';\n",
              "          dataTable['output_type'] = 'display_data';\n",
              "          await google.colab.output.renderOutput(dataTable, element);\n",
              "          const docLink = document.createElement('div');\n",
              "          docLink.innerHTML = docLinkHtml;\n",
              "          element.appendChild(docLink);\n",
              "        }\n",
              "      </script>\n",
              "    </div>\n",
              "  </div>\n",
              "  "
            ],
            "text/plain": [
              "                                                   Module Title         \\\n",
              "                                                          count unique   \n",
              "Skill Area                                                               \n",
              "Artificial Intelligence, Machine Learning and D...          672    587   \n",
              "Cloud Computing                                             766    594   \n",
              "Cybersecurity                                               871    753   \n",
              "Data Analysis and Visualization                             695    609   \n",
              "Database Management                                        1000    486   \n",
              "IT Infrastructure and Networking                            858    621   \n",
              "Programming and Software Development                        728    500   \n",
              "Project Management                                          750    589   \n",
              "System Administration                                       936    568   \n",
              "User Experience and Design                                  499    362   \n",
              "\n",
              "                                                                                                       \\\n",
              "                                                                                                  top   \n",
              "Skill Area                                                                                              \n",
              "Artificial Intelligence, Machine Learning and D...                        Deep Reinforcement Learning   \n",
              "Cloud Computing                                             Cloud Data Extraction and Loading Methods   \n",
              "Cybersecurity                                         Incident Response Plan Documentation and Review   \n",
              "Data Analysis and Visualization                            Data Visualization with Sentiment Analysis   \n",
              "Database Management                                           Database Backup and Recovery Strategies   \n",
              "IT Infrastructure and Networking                                Network Service Deployment Management   \n",
              "Programming and Software Development                  Cloud Serverless Computing with Azure Functions   \n",
              "Project Management                                  Project Integration Management Techniques and ...   \n",
              "System Administration                               Network Load Balancer Configuration and Troubl...   \n",
              "User Experience and Design                                   Designing for Art and Creative Platforms   \n",
              "\n",
              "                                                        Module Keywords  \\\n",
              "                                                   freq           count   \n",
              "Skill Area                                                                \n",
              "Artificial Intelligence, Machine Learning and D...    4             672   \n",
              "Cloud Computing                                      10             766   \n",
              "Cybersecurity                                         4             871   \n",
              "Data Analysis and Visualization                       4             695   \n",
              "Database Management                                  18            1000   \n",
              "IT Infrastructure and Networking                      8             858   \n",
              "Programming and Software Development                  4             728   \n",
              "Project Management                                    5             750   \n",
              "System Administration                                 8             936   \n",
              "User Experience and Design                            7             499   \n",
              "\n",
              "                                                           \\\n",
              "                                                   unique   \n",
              "Skill Area                                                  \n",
              "Artificial Intelligence, Machine Learning and D...    590   \n",
              "Cloud Computing                                       599   \n",
              "Cybersecurity                                         758   \n",
              "Data Analysis and Visualization                       615   \n",
              "Database Management                                   501   \n",
              "IT Infrastructure and Networking                      625   \n",
              "Programming and Software Development                  511   \n",
              "Project Management                                    599   \n",
              "System Administration                                 579   \n",
              "User Experience and Design                            363   \n",
              "\n",
              "                                                                                                       \\\n",
              "                                                                                                  top   \n",
              "Skill Area                                                                                              \n",
              "Artificial Intelligence, Machine Learning and D...                        Deep Reinforcement Learning   \n",
              "Cloud Computing                                             Cloud Data Extraction and Loading Methods   \n",
              "Cybersecurity                                         Incident Response Plan Documentation and Review   \n",
              "Data Analysis and Visualization                            Data Visualization with Sentiment Analysis   \n",
              "Database Management                                           Database Backup and Recovery Strategies   \n",
              "IT Infrastructure and Networking                                Network Service Deployment Management   \n",
              "Programming and Software Development                  Cloud Serverless Computing with Azure Functions   \n",
              "Project Management                                  Project Integration Management Techniques and ...   \n",
              "System Administration                               Network Load Balancer Configuration and Troubl...   \n",
              "User Experience and Design                                   Designing for Art and Creative Platforms   \n",
              "\n",
              "                                                         \n",
              "                                                   freq  \n",
              "Skill Area                                               \n",
              "Artificial Intelligence, Machine Learning and D...    4  \n",
              "Cloud Computing                                      10  \n",
              "Cybersecurity                                         4  \n",
              "Data Analysis and Visualization                       4  \n",
              "Database Management                                  18  \n",
              "IT Infrastructure and Networking                      8  \n",
              "Programming and Software Development                  4  \n",
              "Project Management                                    5  \n",
              "System Administration                                 8  \n",
              "User Experience and Design                            7  "
            ]
          },
          "execution_count": 87,
          "metadata": {},
          "output_type": "execute_result"
        }
      ],
      "source": [
        "df.groupby('Skill Area').describe()"
      ]
    },
    {
      "cell_type": "markdown",
      "metadata": {
        "id": "-mGWlM4cXTXP"
      },
      "source": [
        "# Visualising the count of the dataset"
      ]
    },
    {
      "cell_type": "code",
      "execution_count": null,
      "metadata": {
        "colab": {
          "base_uri": "https://localhost:8080/",
          "height": 926
        },
        "id": "7MvvP9xSe71Q",
        "outputId": "d6f0ef5b-db81-4ed1-b09d-5d52f663f805"
      },
      "outputs": [
        {
          "data": {
            "text/plain": [
              "<Axes: >"
            ]
          },
          "execution_count": 88,
          "metadata": {},
          "output_type": "execute_result"
        },
        {
          "data": {
            "image/png": "[encoded data removed]",
            "text/plain": [
              "<Figure size 1200x600 with 1 Axes>"
            ]
          },
          "metadata": {},
          "output_type": "display_data"
        }
      ],
      "source": [
        "df['Skill Area'].value_counts().plot( kind='bar', figsize=(12,6))"
      ]
    },
    {
      "cell_type": "markdown",
      "metadata": {
        "id": "9tZ8w2RBXZK4"
      },
      "source": [
        "# Exploring the dataset"
      ]
    },
    {
      "cell_type": "code",
      "execution_count": null,
      "metadata": {
        "colab": {
          "base_uri": "https://localhost:8080/"
        },
        "id": "VS7xHZVPfpCR",
        "outputId": "5249c833-5921-45ca-9e2d-b1f654d644cd"
      },
      "outputs": [
        {
          "data": {
            "text/plain": [
              "Skill Area         object\n",
              "Module Title       object\n",
              "Module Keywords    object\n",
              "dtype: object"
            ]
          },
          "execution_count": 89,
          "metadata": {},
          "output_type": "execute_result"
        }
      ],
      "source": [
        "#Explore the data types of the columns\n",
        "df.dtypes"
      ]
    },
    {
      "cell_type": "code",
      "execution_count": null,
      "metadata": {
        "colab": {
          "base_uri": "https://localhost:8080/"
        },
        "id": "3p5HLxuXs3Xb",
        "outputId": "cb166882-3c33-4fa5-94a9-ed2f217d38e2"
      },
      "outputs": [
        {
          "data": {
            "text/plain": [
              "Skill Area         0\n",
              "Module Title       0\n",
              "Module Keywords    0\n",
              "dtype: int64"
            ]
          },
          "execution_count": 90,
          "metadata": {},
          "output_type": "execute_result"
        }
      ],
      "source": [
        "#Checking for null values\n",
        "df.isnull().sum()"
      ]
    },
    {
      "cell_type": "code",
      "execution_count": null,
      "metadata": {
        "colab": {
          "base_uri": "https://localhost:8080/"
        },
        "id": "ktLjCQ9Bs6fq",
        "outputId": "8cc3a978-76bc-4139-bfd2-2950dd99b26b"
      },
      "outputs": [
        {
          "data": {
            "text/plain": [
              "(7775, 3)"
            ]
          },
          "execution_count": 91,
          "metadata": {},
          "output_type": "execute_result"
        }
      ],
      "source": [
        "df.shape"
      ]
    },
    {
      "cell_type": "code",
      "execution_count": null,
      "metadata": {
        "colab": {
          "base_uri": "https://localhost:8080/"
        },
        "id": "gmUdI2YJs8Ri",
        "outputId": "5e1047cb-bf67-42f4-842b-73c2f20f2626"
      },
      "outputs": [
        {
          "name": "stdout",
          "output_type": "stream",
          "text": [
            "39346\n",
            "40366\n"
          ]
        }
      ],
      "source": [
        "print(df['Module Title'].apply(lambda x: len(x.split(' '))).sum())\n",
        "print(df['Module Keywords'].apply(lambda x: len(x.split(' '))).sum())"
      ]
    },
    {
      "cell_type": "markdown",
      "metadata": {
        "id": "6t2IzxJfXdwf"
      },
      "source": [
        "# Preprocessing the dataset"
      ]
    },
    {
      "cell_type": "code",
      "execution_count": null,
      "metadata": {
        "colab": {
          "base_uri": "https://localhost:8080/"
        },
        "id": "d_HhUa0GTdcT",
        "outputId": "1c6ca8ca-ed77-4a5d-ba36-3820e6258d74"
      },
      "outputs": [
        {
          "name": "stderr",
          "output_type": "stream",
          "text": [
            "[nltk_data] Downloading package stopwords to /root/nltk_data...\n",
            "[nltk_data]   Package stopwords is already up-to-date!\n"
          ]
        }
      ],
      "source": [
        "nltk.download('stopwords')\n",
        "\n",
        "special_character_remover = re.compile('[/(){}\\[\\]\\|@,;]')\n",
        "extra_symbol_remover = re.compile('[^0-9a-z #+_]')\n",
        "STOPWORDS = set(stopwords.words('english'))"
      ]
    },
    {
      "cell_type": "code",
      "execution_count": null,
      "metadata": {
        "id": "tG0pQUoCtQ-T"
      },
      "outputs": [],
      "source": [
        "def clean_text(text):\n",
        "    text = text.lower()\n",
        "    text = special_character_remover.sub(' ', text)\n",
        "    text = extra_symbol_remover.sub('', text)\n",
        "    text = ' '.join(word for word in text.split() if word not in STOPWORDS)\n",
        "    return text\n",
        "    \n",
        "df['Module Title'] = df['Module Title'].apply(clean_text)\n",
        "df['Module Keywords'] = df['Module Keywords'].apply(clean_text)"
      ]
    },
    {
      "cell_type": "code",
      "execution_count": null,
      "metadata": {
        "colab": {
          "base_uri": "https://localhost:8080/"
        },
        "id": "azAJmKcGtU_P",
        "outputId": "e745eed6-4c67-45ba-ee5b-a528feb5a238"
      },
      "outputs": [
        {
          "name": "stdout",
          "output_type": "stream",
          "text": [
            "33144\n",
            "34275\n"
          ]
        }
      ],
      "source": [
        "print(df['Module Title'].apply(lambda x: len(x.split(' '))).sum())\n",
        "print(df['Module Keywords'].apply(lambda x: len(x.split(' '))).sum())"
      ]
    },
    {
      "cell_type": "markdown",
      "metadata": {
        "id": "Qg3OvO3hXkvy"
      },
      "source": [
        "# Splitting the dataset into training and testing"
      ]
    },
    {
      "cell_type": "code",
      "execution_count": null,
      "metadata": {
        "id": "vNjXiXUmeU-p"
      },
      "outputs": [],
      "source": [
        "from sklearn.model_selection import train_test_split\n",
        "x = df['Module Title'].str.lower() + ' ' + df['Module Keywords'].str.lower()\n",
        "y = df['Skill Area']\n",
        "x_train, x_test, y_train, y_test = train_test_split(x, y, test_size=0.2, random_state = 42)"
      ]
    },
    {
      "cell_type": "markdown",
      "metadata": {},
      "source": [
        "## Installing additional libraries"
      ]
    },
    {
      "cell_type": "code",
      "execution_count": null,
      "metadata": {},
      "outputs": [],
      "source": [
        "!pip install transformers"
      ]
    },
    {
      "cell_type": "markdown",
      "metadata": {},
      "source": [
        "# Applying the Logistic Regression algorithm to train the model"
      ]
    },
    {
      "cell_type": "code",
      "execution_count": null,
      "metadata": {},
      "outputs": [],
      "source": [
        "import gensim\n",
        "from sklearn.feature_extraction.text import TfidfVectorizer\n",
        "from sklearn.preprocessing import LabelEncoder\n",
        "from sklearn.model_selection import train_test_split\n",
        "from sklearn.metrics import accuracy_score\n",
        "from sklearn.linear_model import LogisticRegression\n",
        "\n",
        "# Train Word2Vec model\n",
        "sentences = [text.split() for text in x_train]\n",
        "word2vec_model = gensim.models.Word2Vec(sentences, vector_size=100, window=5, min_count=1, workers=4)\n",
        "\n",
        "# Create document vectors using Word2Vec\n",
        "document_vectors = []\n",
        "for text in sentences:\n",
        "    vectors = [word2vec_model.wv[word] for word in text if word in word2vec_model.wv]\n",
        "    if vectors:\n",
        "        document_vectors.append(sum(vectors) / len(vectors))\n",
        "    else:\n",
        "        document_vectors.append([0] * 100)\n",
        "\n",
        "import numpy as np\n",
        "\n",
        "# Create document vectors using Word2Vec\n",
        "document_vectors = [np.mean([word2vec_model.wv[word] for word in sentence], axis=0) for sentence in sentences]\n",
        "\n",
        "# Convert document vectors to numpy array\n",
        "X_train = np.array(document_vectors)\n",
        "\n",
        "# Encode class labels\n",
        "label_encoder = LabelEncoder()\n",
        "y_train_encoded = label_encoder.fit_transform(y_train)\n",
        "\n",
        "\n",
        "# Split into training and testing data\n",
        "X_train, X_test, y_train_encoded, y_test_encoded = train_test_split(X_train, y_train_encoded, test_size=0.2, random_state=42)\n",
        "\n",
        "# Train a logistic regression classifier\n",
        "classifier = LogisticRegression()\n",
        "classifier.fit(X_train, y_train_encoded)\n",
        "\n",
        "# Predict and evaluate\n",
        "X_test_vectors = []\n",
        "for text in x_test:\n",
        "    vectors = [word2vec_model.wv[word] for word in text.split() if word in word2vec_model.wv]\n",
        "    if vectors:\n",
        "        X_test_vectors.append(sum(vectors) / len(vectors))\n",
        "    else:\n",
        "        X_test_vectors.append([0] * 100)\n",
        "X_test_vectors = np.array(X_test_vectors)\n",
        "\n",
        "y_pred_encoded = classifier.predict(X_test_vectors)\n",
        "y_pred = label_encoder.inverse_transform(y_pred_encoded)\n",
        "\n",
        "accuracy = accuracy_score(y_pred, y_test)\n",
        "print(f'Accuracy: {accuracy:.4f}')"
      ]
    },
    {
      "cell_type": "markdown",
      "metadata": {
        "id": "DydkMSD4XqzZ"
      },
      "source": [
        "# Applying the Naive Bayes algorithm to train the model"
      ]
    },
    {
      "cell_type": "code",
      "execution_count": null,
      "metadata": {
        "colab": {
          "base_uri": "https://localhost:8080/"
        },
        "id": "tvRdUvqDtfEk",
        "outputId": "66f51f42-38be-4369-9c5c-c40365123525"
      },
      "outputs": [
        {
          "name": "stdout",
          "output_type": "stream",
          "text": [
            "Accuracy: 0.7980707395498392\n"
          ]
        }
      ],
      "source": [
        "from sklearn.naive_bayes import MultinomialNB\n",
        "from sklearn.pipeline import Pipeline\n",
        "from sklearn.feature_extraction.text import CountVectorizer, TfidfTransformer\n",
        "from sklearn.metrics import accuracy_score\n",
        "from sklearn.preprocessing import LabelEncoder\n",
        "\n",
        "# Encode class labels\n",
        "label_encoder = LabelEncoder()\n",
        "y_train_encoded = label_encoder.fit_transform(y_train)\n",
        "\n",
        "# Create the pipeline\n",
        "naivebayes = Pipeline([\n",
        "    ('vect', CountVectorizer()),\n",
        "    ('tfidf', TfidfTransformer()),\n",
        "    ('clf', MultinomialNB()),\n",
        "])\n",
        "\n",
        "# Fit the pipeline\n",
        "naivebayes.fit(x_train, y_train_encoded)\n",
        "\n",
        "# Predict and evaluate\n",
        "y_pred_encoded = naivebayes.predict(x_test)\n",
        "\n",
        "# Decode predicted labels\n",
        "y_pred = label_encoder.inverse_transform(y_pred_encoded)\n",
        "\n",
        "accuracy = accuracy_score(y_pred, y_test)\n",
        "print(f'Accuracy: {accuracy}')\n"
      ]
    },
    {
      "cell_type": "markdown",
      "metadata": {
        "id": "AXWCNGaEX4Ui"
      },
      "source": [
        "# Applying the XGBoost Algorithm to train the model"
      ]
    },
    {
      "cell_type": "code",
      "execution_count": null,
      "metadata": {
        "colab": {
          "base_uri": "https://localhost:8080/"
        },
        "id": "uSPerOymtgBi",
        "outputId": "4f1aea82-41d2-49d4-b875-8908e2f55bf0"
      },
      "outputs": [
        {
          "name": "stdout",
          "output_type": "stream",
          "text": [
            "Accuracy: 0.862379421221865\n"
          ]
        }
      ],
      "source": [
        "from sklearn.preprocessing import LabelEncoder\n",
        "from xgboost import XGBClassifier\n",
        "from sklearn.pipeline import Pipeline\n",
        "from sklearn.feature_extraction.text import CountVectorizer, TfidfTransformer\n",
        "from sklearn.metrics import accuracy_score\n",
        "\n",
        "# Encode class labels\n",
        "label_encoder = LabelEncoder()\n",
        "y_train_encoded = label_encoder.fit_transform(y_train)\n",
        "\n",
        "xgboost = Pipeline([\n",
        "    ('vect', CountVectorizer()),\n",
        "    ('tfidf', TfidfTransformer()),\n",
        "    ('clf', XGBClassifier())\n",
        "])\n",
        "\n",
        "xgboost.fit(x_train, y_train_encoded)\n",
        "\n",
        "y_pred_encoded = xgboost.predict(x_test)\n",
        "\n",
        "# Decode predicted labels\n",
        "y_pred = label_encoder.inverse_transform(y_pred_encoded)\n",
        "\n",
        "accuracy = accuracy_score(y_pred, y_test)\n",
        "print(f'Accuracy: {accuracy}')\n"
      ]
    },
    {
      "cell_type": "markdown",
      "metadata": {},
      "source": [
        "# Applying the Random Forest Algorithm to train the model"
      ]
    },
    {
      "cell_type": "code",
      "execution_count": null,
      "metadata": {},
      "outputs": [],
      "source": [
        "from sklearn.feature_extraction.text import CountVectorizer\n",
        "from sklearn.ensemble import RandomForestClassifier\n",
        "from sklearn.metrics import accuracy_score\n",
        "\n",
        "# Preprocess the data\n",
        "nltk.download('stopwords')\n",
        "STOPWORDS = set(stopwords.words('english'))\n",
        "\n",
        "def clean_text(text):\n",
        "    text = text.lower()\n",
        "    text = re.sub('[/(){}\\[\\]\\|@,;]', ' ', text)\n",
        "    text = re.sub('[^0-9a-z #+_]', '', text)\n",
        "    text = ' '.join(word for word in text.split() if word not in STOPWORDS)\n",
        "    return text\n",
        "\n",
        "df['Module Title'] = df['Module Title'].apply(clean_text)\n",
        "df['Module Keywords'] = df['Module Keywords'].apply(clean_text)\n",
        "\n",
        "# Split the dataset into training and testing\n",
        "x = df['Module Title'].str.lower() + ' ' + df['Module Keywords'].str.lower()\n",
        "y = df['Skill Area']\n",
        "x_train, x_test, y_train, y_test = train_test_split(x, y, test_size=0.2, random_state=42)\n",
        "\n",
        "# Initialize CountVectorizer\n",
        "countvect = CountVectorizer()\n",
        "\n",
        "# Prepare the feature matrix\n",
        "x_train_encoded = countvect.fit_transform(x_train.tolist())\n",
        "x_test_encoded = countvect.transform(x_test.tolist())\n",
        "\n",
        "# Train the Random Forest model\n",
        "random_forest = RandomForestClassifier(n_estimators=100, random_state=42)\n",
        "random_forest.fit(x_train_encoded, y_train_encoded)\n",
        "\n",
        "# Predict on the test set\n",
        "y_pred_encoded = random_forest.predict(x_test_encoded)\n",
        "y_pred = label_encoder.inverse_transform(y_pred_encoded)\n",
        "\n",
        "# Evaluate the model\n",
        "accuracy = accuracy_score(y_pred, y_test)\n",
        "print(f'Accuracy: {accuracy}')\n"
      ]
    },
    {
      "cell_type": "markdown",
      "metadata": {
        "id": "Jt8yWxnCYAvv"
      },
      "source": [
        "# Vectorizing the train columns using Countvectorizer"
      ]
    },
    {
      "cell_type": "code",
      "execution_count": null,
      "metadata": {
        "id": "zZ1B-S8seFvL"
      },
      "outputs": [],
      "source": [
        "countvect = CountVectorizer()\n",
        "x_train = countvect.fit_transform(x_train)\n",
        "x_test = countvect.transform(x_test)"
      ]
    },
    {
      "cell_type": "code",
      "execution_count": null,
      "metadata": {
        "id": "anh3ZNiQneiA"
      },
      "outputs": [],
      "source": [
        "X_train = pd.DataFrame(x_train)\n",
        "x_resample, y_resample = SMOTE().fit_resample(x_train, y_train)"
      ]
    },
    {
      "cell_type": "markdown",
      "metadata": {
        "id": "A3-hA3vCYI0E"
      },
      "source": [
        "# Applying the Support Vector Machine(SVM) Algorithm to train the model"
      ]
    },
    {
      "cell_type": "code",
      "execution_count": null,
      "metadata": {
        "colab": {
          "base_uri": "https://localhost:8080/",
          "height": 75
        },
        "id": "CjvIqbx16HEb",
        "outputId": "5f4486c4-2d07-4fe7-e597-d88eb1ff9695"
      },
      "outputs": [
        {
          "data": {
            "text/html": [
              "<style>#sk-container-id-3 {color: black;background-color: white;}#sk-container-id-3 pre{padding: 0;}#sk-container-id-3 div.sk-toggleable {background-color: white;}#sk-container-id-3 label.sk-toggleable__label {cursor: pointer;display: block;width: 100%;margin-bottom: 0;padding: 0.3em;box-sizing: border-box;text-align: center;}#sk-container-id-3 label.sk-toggleable__label-arrow:before {content: \"▸\";float: left;margin-right: 0.25em;color: #696969;}#sk-container-id-3 label.sk-toggleable__label-arrow:hover:before {color: black;}#sk-container-id-3 div.sk-estimator:hover label.sk-toggleable__label-arrow:before {color: black;}#sk-container-id-3 div.sk-toggleable__content {max-height: 0;max-width: 0;overflow: hidden;text-align: left;background-color: #f0f8ff;}#sk-container-id-3 div.sk-toggleable__content pre {margin: 0.2em;color: black;border-radius: 0.25em;background-color: #f0f8ff;}#sk-container-id-3 input.sk-toggleable__control:checked~div.sk-toggleable__content {max-height: 200px;max-width: 100%;overflow: auto;}#sk-container-id-3 input.sk-toggleable__control:checked~label.sk-toggleable__label-arrow:before {content: \"▾\";}#sk-container-id-3 div.sk-estimator input.sk-toggleable__control:checked~label.sk-toggleable__label {background-color: #d4ebff;}#sk-container-id-3 div.sk-label input.sk-toggleable__control:checked~label.sk-toggleable__label {background-color: #d4ebff;}#sk-container-id-3 input.sk-hidden--visually {border: 0;clip: rect(1px 1px 1px 1px);clip: rect(1px, 1px, 1px, 1px);height: 1px;margin: -1px;overflow: hidden;padding: 0;position: absolute;width: 1px;}#sk-container-id-3 div.sk-estimator {font-family: monospace;background-color: #f0f8ff;border: 1px dotted black;border-radius: 0.25em;box-sizing: border-box;margin-bottom: 0.5em;}#sk-container-id-3 div.sk-estimator:hover {background-color: #d4ebff;}#sk-container-id-3 div.sk-parallel-item::after {content: \"\";width: 100%;border-bottom: 1px solid gray;flex-grow: 1;}#sk-container-id-3 div.sk-label:hover label.sk-toggleable__label {background-color: #d4ebff;}#sk-container-id-3 div.sk-serial::before {content: \"\";position: absolute;border-left: 1px solid gray;box-sizing: border-box;top: 0;bottom: 0;left: 50%;z-index: 0;}#sk-container-id-3 div.sk-serial {display: flex;flex-direction: column;align-items: center;background-color: white;padding-right: 0.2em;padding-left: 0.2em;position: relative;}#sk-container-id-3 div.sk-item {position: relative;z-index: 1;}#sk-container-id-3 div.sk-parallel {display: flex;align-items: stretch;justify-content: center;background-color: white;position: relative;}#sk-container-id-3 div.sk-item::before, #sk-container-id-3 div.sk-parallel-item::before {content: \"\";position: absolute;border-left: 1px solid gray;box-sizing: border-box;top: 0;bottom: 0;left: 50%;z-index: -1;}#sk-container-id-3 div.sk-parallel-item {display: flex;flex-direction: column;z-index: 1;position: relative;background-color: white;}#sk-container-id-3 div.sk-parallel-item:first-child::after {align-self: flex-end;width: 50%;}#sk-container-id-3 div.sk-parallel-item:last-child::after {align-self: flex-start;width: 50%;}#sk-container-id-3 div.sk-parallel-item:only-child::after {width: 0;}#sk-container-id-3 div.sk-dashed-wrapped {border: 1px dashed gray;margin: 0 0.4em 0.5em 0.4em;box-sizing: border-box;padding-bottom: 0.4em;background-color: white;}#sk-container-id-3 div.sk-label label {font-family: monospace;font-weight: bold;display: inline-block;line-height: 1.2em;}#sk-container-id-3 div.sk-label-container {text-align: center;}#sk-container-id-3 div.sk-container {/* jupyter's `normalize.less` sets `[hidden] { display: none; }` but bootstrap.min.css set `[hidden] { display: none !important; }` so we also need the `!important` here to be able to override the default hidden behavior on the sphinx rendered scikit-learn.org. See: https://github.com/scikit-learn/scikit-learn/issues/21755 */display: inline-block !important;position: relative;}#sk-container-id-3 div.sk-text-repr-fallback {display: none;}</style><div id=\"sk-container-id-3\" class=\"sk-top-container\"><div class=\"sk-text-repr-fallback\"><pre>SVC(random_state=0)</pre><b>In a Jupyter environment, please rerun this cell to show the HTML representation or trust the notebook. <br />On GitHub, the HTML representation is unable to render, please try loading this page with nbviewer.org.</b></div><div class=\"sk-container\" hidden><div class=\"sk-item\"><div class=\"sk-estimator sk-toggleable\"><input class=\"sk-toggleable__control sk-hidden--visually\" id=\"sk-estimator-id-3\" type=\"checkbox\" checked><label for=\"sk-estimator-id-3\" class=\"sk-toggleable__label sk-toggleable__label-arrow\">SVC</label><div class=\"sk-toggleable__content\"><pre>SVC(random_state=0)</pre></div></div></div></div></div>"
            ],
            "text/plain": [
              "SVC(random_state=0)"
            ]
          },
          "execution_count": 101,
          "metadata": {},
          "output_type": "execute_result"
        }
      ],
      "source": [
        "svm_model = SVC(kernel='rbf', random_state = 0)\n",
        "svm_model.fit(x_resample,y_resample)"
      ]
    },
    {
      "cell_type": "code",
      "execution_count": null,
      "metadata": {
        "colab": {
          "base_uri": "https://localhost:8080/"
        },
        "id": "kowXcRpF6p06",
        "outputId": "9b8237f6-e22a-4ffd-8c65-4b2d11a36e29"
      },
      "outputs": [
        {
          "data": {
            "text/plain": [
              "0.8745980707395499"
            ]
          },
          "execution_count": 102,
          "metadata": {},
          "output_type": "execute_result"
        }
      ],
      "source": [
        "#svm_model.score(x_test, y_test)\n",
        "prediction = svm_model.predict(x_test)\n",
        "accuracy_score(y_test,prediction)"
      ]
    },
    {
      "cell_type": "code",
      "execution_count": null,
      "metadata": {
        "colab": {
          "base_uri": "https://localhost:8080/",
          "height": 449
        },
        "id": "I4iS4fIS6u97",
        "outputId": "f859a6a6-0da5-4418-ccfc-cad66220c7ed"
      },
      "outputs": [
        {
          "data": {
            "image/png": "[encoded data removed]",
            "text/plain": [
              "<Figure size 640x480 with 2 Axes>"
            ]
          },
          "metadata": {},
          "output_type": "display_data"
        }
      ],
      "source": [
        "sns.heatmap(confusion_matrix(y_test,prediction),annot=True,fmt=\"g\")\n",
        "plt.xlabel(\"Predicted\")\n",
        "plt.ylabel(\"Actual\")\n",
        "plt.show()"
      ]
    },
    {
      "cell_type": "code",
      "execution_count": null,
      "metadata": {
        "colab": {
          "base_uri": "https://localhost:8080/"
        },
        "id": "khHNVoP46163",
        "outputId": "44fd35e1-e3de-442b-e641-88799449d015"
      },
      "outputs": [
        {
          "name": "stdout",
          "output_type": "stream",
          "text": [
            "                                                            precision    recall  f1-score   support\n",
            "\n",
            "Artificial Intelligence, Machine Learning and Data Science       0.85      0.89      0.87       133\n",
            "                                           Cloud Computing       0.83      0.96      0.89       145\n",
            "                                             Cybersecurity       0.88      0.77      0.82       178\n",
            "                           Data Analysis and Visualization       0.79      0.81      0.80       153\n",
            "                                       Database Management       0.89      0.90      0.90       206\n",
            "                          IT Infrastructure and Networking       0.89      0.96      0.93       193\n",
            "                      Programming and Software Development       0.75      0.69      0.72       137\n",
            "                                        Project Management       0.99      0.99      0.99       143\n",
            "                                     System Administration       0.91      0.85      0.88       183\n",
            "                                User Experience and Design       0.98      0.94      0.96        84\n",
            "\n",
            "                                                  accuracy                           0.87      1555\n",
            "                                                 macro avg       0.88      0.88      0.87      1555\n",
            "                                              weighted avg       0.87      0.87      0.87      1555\n",
            "\n"
          ]
        }
      ],
      "source": [
        "print(classification_report(y_test,prediction))"
      ]
    },
    {
      "cell_type": "markdown",
      "metadata": {
        "id": "Wc3ax3YZYVwv"
      },
      "source": [
        "# Saving the model"
      ]
    },
    {
      "cell_type": "code",
      "execution_count": null,
      "metadata": {
        "id": "IvKZHLvEm5c7"
      },
      "outputs": [],
      "source": [
        "import pickle\n",
        "\n",
        "# Assuming you have a trained model object named 'model'\n",
        "# Save the model to a file\n",
        "with open('trained_model1.pkl', 'wb') as file:\n",
        "    pickle.dump(svm_model, file)\n"
      ]
    },
    {
      "cell_type": "markdown",
      "metadata": {
        "id": "Te7c4sYtYZpF"
      },
      "source": [
        "# Loading the model"
      ]
    },
    {
      "cell_type": "code",
      "execution_count": null,
      "metadata": {
        "id": "rWyE6zCAn1yE"
      },
      "outputs": [],
      "source": [
        "import joblib\n",
        "\n",
        "# Load the trained model from file\n",
        "classification_model = joblib.load(\"trained_model1.pkl\")\n"
      ]
    },
    {
      "cell_type": "markdown",
      "metadata": {
        "id": "uoGBi17UPHpH"
      },
      "source": [
        "## Load the blank English language model in spaCy"
      ]
    },
    {
      "cell_type": "code",
      "execution_count": null,
      "metadata": {
        "id": "K8vgFYtHvq6-"
      },
      "outputs": [],
      "source": [
        "# Load the blank English language model in spaCy\n",
        "nlp = spacy.blank(\"en\")"
      ]
    },
    {
      "cell_type": "code",
      "execution_count": null,
      "metadata": {
        "colab": {
          "base_uri": "https://localhost:8080/"
        },
        "id": "J3e1KMJ0vshV",
        "outputId": "b2a8e1d9-11bc-453a-dd82-9745b0878ca9"
      },
      "outputs": [
        {
          "data": {
            "text/plain": [
              "<spacy.pipeline.ner.EntityRecognizer at 0x7f0aacbe6570>"
            ]
          },
          "execution_count": 108,
          "metadata": {},
          "output_type": "execute_result"
        }
      ],
      "source": [
        "# Create a new entity type for your custom NER\n",
        "ner = nlp.create_pipe(\"ner\")\n",
        "nlp.add_pipe('ner')\n"
      ]
    },
    {
      "cell_type": "code",
      "execution_count": null,
      "metadata": {
        "id": "SbNTz-CEyk4T"
      },
      "outputs": [],
      "source": [
        "# Disable other pipeline components to focus on NER\n",
        "pipe_exceptions = [\"ner\"]\n",
        "unaffected_pipes = [pipe for pipe in nlp.pipe_names if pipe not in pipe_exceptions]"
      ]
    },
    {
      "cell_type": "markdown",
      "metadata": {
        "id": "KRt-dOeEPkTv"
      },
      "source": [
        "# Extracting the text from an Academic Transcript"
      ]
    },
    {
      "cell_type": "code",
      "execution_count": null,
      "metadata": {
        "id": "YyQ2LL4sWgJU"
      },
      "outputs": [],
      "source": [
        "# List all PDF files in the directory\n",
        "pdf_paths = glob.glob(r\"Tharindu.pdf\")\n",
        "\n",
        "# Specify the path and name of the text file\n",
        "text_file_path = \"all_extracted_data.txt\"\n",
        "\n",
        "# Open the text file in append mode\n",
        "with open(text_file_path, \"a\") as text_file:\n",
        "    for pdf_path in pdf_paths:\n",
        "        pages = convert_from_path(pdf_path, 500)\n",
        "\n",
        "        for pageNum, imBlob in enumerate(pages):\n",
        "            text = pytesseract.image_to_string(imBlob, lang='eng')\n",
        "\n",
        "            # Write the extracted text to the file\n",
        "            text_file.write(text)\n",
        "\n",
        "# Read the contents of the text file\n",
        "with open('all_extracted_data.txt', 'r') as file:\n",
        "    transcript = file.read()\n"
      ]
    },
    {
      "cell_type": "markdown",
      "metadata": {
        "id": "E5dzdG0kQbH5"
      },
      "source": [
        "# Preprocessing and extracting the Necessary sections"
      ]
    },
    {
      "cell_type": "code",
      "execution_count": null,
      "metadata": {
        "colab": {
          "base_uri": "https://localhost:8080/"
        },
        "id": "GHl8tsLtyzyy",
        "outputId": "86eef98d-bb9b-40f7-cdaa-f2b93f75232e"
      },
      "outputs": [
        {
          "name": "stdout",
          "output_type": "stream",
          "text": [
            "Extracted sections saved to extracted_sections.txt\n"
          ]
        }
      ],
      "source": [
        "\n",
        "# Read the contents of the text file\n",
        "with open('all_extracted_data.txt', 'r') as file:\n",
        "    transcript = file.read()\n",
        "\n",
        "# Adjusted regular expressions with optional whitespace\n",
        "#year1_section = re.search(r'YEAR\\s*1\\n([\\s\\S]+?)\\nYear\\s*1\\s*Credits=', transcript, re.IGNORECASE).group(1)\n",
        "#year2_section = re.search(r'YEAR\\s*2\\n([\\s\\S]+?)\\nYear\\s*2\\s*Credits=', transcript, re.IGNORECASE).group(1)\n",
        "#year3_section = re.search(r'YEAR\\s*3\\n([\\s\\S]+?)\\nYear\\s*3\\s*Credits=', transcript, re.IGNORECASE).group(1)\n",
        "#year4_section = re.search(r'YEAR\\s*4\\n([\\s\\S]+?)\\nYear\\s*4\\s*Credits=', transcript, re.IGNORECASE).group(1)\n",
        "\n",
        "#sections = [year1_section, year2_section, year3_section, year4_section]\n",
        "\n",
        "# Define the pattern to extract the sections\n",
        "pattern = r'YEAR (\\d+)\\n([\\s\\S]+?)\\nYear \\1 Credits='\n",
        "\n",
        "# Find all the sections using the pattern\n",
        "matches = re.findall(pattern, transcript)\n",
        "\n",
        "# Create a list of sections\n",
        "sections = [match[1] for match in matches]\n",
        "\n",
        "# Save sections to a text file\n",
        "output_text_file_path = \"extracted_sections.txt\"\n",
        "with open(output_text_file_path, \"w\") as output_text_file:\n",
        "    for section in sections:\n",
        "        output_text_file.write(section + \"\\n\\n\")\n",
        "\n",
        "# Print a message indicating the successful save\n",
        "print(\"Extracted sections saved to\", output_text_file_path)"
      ]
    },
    {
      "cell_type": "markdown",
      "metadata": {
        "id": "PJiTyBQ2Q0hz"
      },
      "source": [
        "# Load the trained NER model from disk"
      ]
    },
    {
      "cell_type": "code",
      "execution_count": null,
      "metadata": {
        "colab": {
          "base_uri": "https://localhost:8080/"
        },
        "id": "FeYaI0oM7Hbj",
        "outputId": "e1789736-2d40-48ae-e4c1-6b4ec5042ee3"
      },
      "outputs": [
        {
          "name": "stderr",
          "output_type": "stream",
          "text": [
            "/usr/local/lib/python3.10/dist-packages/spacy/util.py:887: UserWarning: [W095] Model 'en_pipeline' (0.0.0) was trained with spaCy v3.5 and may not be 100% compatible with the current version (3.5.2). If you see errors or degraded performance, download a newer compatible model or retrain your custom model with the current spaCy version. For more details and available updates, run: python -m spacy validate\n",
            "  warnings.warn(warn_msg)\n"
          ]
        }
      ],
      "source": [
        "# Load the trained NER model from disk\n",
        "nlp_ner = spacy.load('IdentifyingModulesandGrades')"
      ]
    },
    {
      "cell_type": "markdown",
      "metadata": {
        "id": "djppkduRQ3dE"
      },
      "source": [
        "# Applying the custom NER model to identify Module Titles and the Grades"
      ]
    },
    {
      "cell_type": "code",
      "execution_count": null,
      "metadata": {
        "colab": {
          "base_uri": "https://localhost:8080/"
        },
        "id": "Gz8_psJ21-vO",
        "outputId": "adbbd167-df74-41be-f972-a4ae1366563a"
      },
      "outputs": [
        {
          "name": "stdout",
          "output_type": "stream",
          "text": [
            "Entities:\n",
            "Module Title\n",
            "\n",
            "Software Engineering\n",
            "Object Oriented Programming\n",
            "_ Database Management Systems\n",
            "| Networks\n",
            "Systems and System Administration\n",
            "\n",
            " \n",
            "\fvi Applications and Frameworks\n",
            "roject Management\n",
            "Employability Skills Development - Seminar\n",
            "Human Computer Interaction Oct - 2021\n",
            "Oct - MODULE_TITLE\n",
            "2021\n",
            "Oct - MODULE_TITLE\n",
            "2021\n",
            "Oct - MODULE_TITLE\n",
            "2021\n",
            "\n",
            "Oct - MODULE_TITLE\n",
            "2021\n",
            "\n",
            "Information Assurance & Security\n",
            "Data Science & Analytics\n",
            "Business Management for IT\n",
            "\n",
            "mmoNYMN NY NY NY S| S| Se os oS\n",
            "\n",
            "Industry Placement\n",
            "\n",
            "Year 3 Credits=30.00 Year 3 Grade Points=88.80\n",
            "\n",
            " MODULE_TITLE\n",
            "1T3050* CODE\n",
            "& IT3110* MODULE_TITLE\n",
            "- Non GPA Modules\n",
            "STATUS : Completed YEAR 3\n",
            "\n",
            "Module Title Semester\n",
            "\n",
            "Machine Learning se Dec é MODULE_TITLE\n",
            "2022\n",
            "\n",
            "Modern Topics in IT Jun - MODULE_TITLE\n",
            "2022\n",
            "Preparation for the Professional World Jun - MODULE_TITLE\n",
            "2022\n",
            "Research Project Nov - MODULE_TITLE\n",
            "2022\n",
            "Cloud Computing Nov - MODULE_TITLE\n",
            "2022\n",
            "\n",
            "Knowledge Management Nov - MODULE_TITLE\n",
            "2022\n",
            "\n",
            "Year 4 Grade Points=94.80\n",
            "\n",
            "STATUS : Completed YEAR 4\n",
            "\n",
            " MODULE_TITLE\n",
            "Year3-30 PERIOD\n",
            "% SEMESTER\n",
            "Year4-50 PERIOD\n",
            "% CODE\n",
            ")\n",
            "3 MODULE_TITLE\n",
            "141.00 GRADE\n",
            "D REQUIREMENTS FOR THE AWARD OF THE DEGRI\n",
            "\n",
            " \n",
            "\f    \n",
            "  \n",
            " \n",
            "\n",
            "   \n",
            "\n",
            "seh\n",
            "\n",
            " \n",
            "   \n",
            "    \n",
            "    \n",
            "\n",
            "    \n",
            "\n",
            "Grade Points\n",
            "\n",
            "®\n",
            "+\n",
            "\n",
            ":\n",
            ":\n",
            "\n",
            "60 - 64\n",
            "\n",
            "45 - 54\n",
            "40 - 44\n",
            "\n",
            "f\n",
            ":\n",
            "-\n",
            "\n",
            "|\n",
            ".\n",
            "\n",
            "IC Incomplete\n",
            "Conceded Pass\n",
            "\n",
            " \n",
            " \n",
            "\n",
            "Note: Grades C to A+ &PC - Pass\n",
            "Grades E to C- - Fail ds | sa\n",
            "\n",
            "   \n",
            "  \n",
            "    \n",
            "   \n",
            " \n",
            "\n",
            " \n",
            "\n",
            "Weighted Grade Point Average (WGPA)\n",
            "\n",
            "The class of degree to be awarded shall be determined on the basis of a Weighted Grade Point Average. Year MODULE_TITLE\n",
            "2, Year 3 and Year 4x asim\n",
            "GPA’s are assigned with 20%, 30% and 50% weights respectively for Weighted GPA computation. ae\n",
            "\n",
            "cere ACO OAIOLDOE sexemanesestneausenneeente ere TTC Tn\n",
            "\n",
            "easeueeeucdespenesesrseseessvesisharessinsnensonerisusenstesnnnnrnvearnnssnenennnrnTTennnT enn\n",
            "\n",
            "SLIIT Qualification Framework -Faculty of Computing\n",
            "\n",
            "   \n",
            "  \n",
            "     \n",
            "\n",
            "Qualification\n",
            "\n",
            " \n",
            "\n",
            "Level of Completion\n",
            "Higher Diploma\n",
            "\n",
            "BSc (Hons) Degree\n",
            "\n",
            "  \n",
            "    \n",
            "\n",
            "Honours\n",
            "\fThuiyalage Chamodhi Hansana\n",
            "Bachelor of Science Honours in Information\n",
            "Information Technology\n",
            "\n",
            "English\n",
            "\n",
            "1719213118\n",
            "\n",
            "January, 2019\n",
            "\n",
            "“Jun - 2019\n",
            "Jun - 2019\n",
            "Jun - 2019\n",
            "Jun - 2019\n",
            "Oct - 2019\n",
            "Oct - 2019\n",
            "Oct - 2019\n",
            "Oct - 2019\n",
            "Oct - 2019\n",
            "\n",
            "Introduction to Programming\n",
            "Introduction to Computer Systems\n",
            "Mathematics for Computing\n",
            "171040 Communication Skills\n",
            "1T1050 Object Oriented Concepts\n",
            "IT1060 Software Process Modeling\n",
            "1T1080 English for Academic Purposes\n",
            "1T1090 Information Systems & Data Modeling\n",
            "171100 © Internet & Web Technologies\n",
            "\n",
            " MODULE_TITLE\n",
            "1 CREDITS\n",
            "1 CREDITS\n",
            "1 CREDITS\n",
            "1 CREDITS\n",
            "2 SEMESTER\n",
            "2 CREDITS\n",
            "2 CREDITS\n",
            "2 CREDITS\n",
            "2 CREDITS\n",
            "Module Title Semester\n",
            "\n",
            "Machine Learning se Dec é MODULE_TITLE\n",
            "2022\n",
            "\n",
            "Modern Topics in IT Jun - MODULE_TITLE\n",
            "2022\n",
            "Preparation for the Professional World Jun - MODULE_TITLE\n",
            "2022\n",
            "Research Project Nov - MODULE_TITLE\n",
            "2022\n",
            "Cloud Computing Nov - MODULE_TITLE\n",
            "2022\n",
            "\n",
            "Knowledge Management Nov - MODULE_TITLE\n",
            "2022\n",
            "\n",
            "Year 4 Grade Points=94.80\n",
            "\n",
            "STATUS : Completed YEAR 4\n",
            "\n",
            " MODULE_TITLE\n",
            "Year3-30 PERIOD\n",
            "% SEMESTER\n",
            "Year4-50 PERIOD\n",
            "% CODE\n",
            ")\n",
            "3 MODULE_TITLE\n",
            "141.00 GRADE\n",
            "D REQUIREMENTS FOR THE AWARD OF THE DEGRI\n",
            "\n",
            " \n",
            "\f    \n",
            "  \n",
            " \n",
            "\n",
            "   \n",
            "\n",
            "seh\n",
            "\n",
            " \n",
            "   \n",
            "    \n",
            "    \n",
            "\n",
            "    \n",
            "\n",
            "Grade Points\n",
            "\n",
            "®\n",
            "+\n",
            "\n",
            ":\n",
            ":\n",
            "\n",
            "60 - 64\n",
            "\n",
            "45 - 54\n",
            "40 - 44\n",
            "\n",
            "f\n",
            ":\n",
            "-\n",
            "\n",
            "|\n",
            ".\n",
            "\n",
            "IC Incomplete\n",
            "Conceded Pass\n",
            "\n",
            " \n",
            " \n",
            "\n",
            "Note: Grades C to A+ &PC - Pass\n",
            "Grades E to C- - Fail ds | sa\n",
            "\n",
            "   \n",
            "  \n",
            "    \n",
            "   \n",
            " \n",
            "\n",
            " \n",
            "\n",
            "Weighted Grade Point Average (WGPA)\n",
            "\n",
            "The class of degree to be awarded shall be determined on the basis of a Weighted Grade Point Average. Year MODULE_TITLE\n",
            "2, Year 3 and Year 4x asim\n",
            "GPA’s are assigned with 20%, 30% and 50% weights respectively for Weighted GPA computation. ae\n",
            "\n",
            "cere ACO OAIOLDOE sexemanesestneausenneeente ere TTC Tn\n",
            "\n",
            "easeueeeucdespenesesrseseessvesisharessinsnensonerisusenstesnnnnrnvearnnssnenennnrnTTennnT enn\n",
            "\n",
            "SLIIT Qualification Framework -Faculty of Computing\n",
            "\n",
            "   \n",
            "  \n",
            "     \n",
            "\n",
            "Qualification\n",
            "\n",
            " \n",
            "\n",
            "Level of Completion\n",
            "Higher Diploma\n",
            "\n",
            "BSc (Hons) Degree\n",
            "\n",
            "  \n",
            "    \n",
            "\n",
            "Honours\n",
            "\f \n",
            "\n",
            "SRI LANKA\n",
            "INSTITUTE OF INFORMATION TECHNOLOGY\n",
            "\n",
            "This is to certify that\n",
            "\n",
            " \n",
            "\n",
            "having successfully completed\n",
            "the prescribed course of study and the examinations\n",
            "of the Sri Lanka Institute of Information Technology\n",
            "on the Ist day of January 2023\n",
            "was admitted to\n",
            "\n",
            "the Honours Degree of\n",
            "\n",
            "Bachelor of Science in Information Technology\n",
            "\n",
            "at the Convocation held in Colombo\n",
            "witness our hands\n",
            "\n",
            "March 2023\n",
            "\n",
            "CO\n",
            "\n",
            "Vice-Chancellor\n",
            "Professor Lalith Gamage\n",
            "\n",
            "et\n",
            "\n",
            "ProVitce-Chancellor (Compas\n",
            "\n",
            "Professor Chandimal Jayawardena A Uh\n",
            "ee Ne\n",
            "\n",
            "Director, Academic Affairs\n",
            "Yashas Mallawarachehs\n",
            "\n",
            " \n",
            "\n",
            "Keyistration No: 11191627046\n",
            "\n",
            "Certificate No: WSCTT 10015\n",
            "\f \n",
            "\n",
            " \n",
            "\n",
            "   \n",
            "  \n",
            "   \n",
            " \n",
            "  \n",
            "   \n",
            "  \n",
            "     \n",
            "\n",
            "ACADEMIC TRANSCRIPT\n",
            "NAME OF CANDIDATE Meegasthenne Walawwe Srisinghe Siriwardana Mudiyanselage Tharindu Maheesha Bandara\n",
            "Munasinghe\n",
            "PROGRAMME Bachelor of Science Honours in Information Technology\n",
            "FIELD OF SPECIALIZATION Data Science\n",
            "| MEDIUM OF INSTRUCTION English\n",
            "REGISTRATION NO 1119162706\n",
            "MONTH & YEAR OF ADMISSION January, 2019\n",
            "ey ae cet eee\n",
            "YEAR MODULE_TITLE\n",
            "1\n",
            "1T1010 Introduction to Programming MODULE_TITLE\n",
            "1 SEMESTER\n",
            "Apr - 2019 PERIOD\n",
            "4 CREDITS\n",
            "A GRADE\n",
            "171020 CODE\n",
            "Introduction to Computer Systems MODULE_TITLE\n",
            "1 SEMESTER\n",
            "Apr - 2019 PERIOD\n",
            "4 CREDITS\n",
            "C+ GRADE\n",
            "1T1030 CODE\n",
            "Mathematics for Computing MODULE_TITLE\n",
            "1 SEMESTER\n",
            "Apr - 2019 PERIOD\n",
            "4 CREDITS\n",
            "B GRADE\n",
            "171040 CODE\n",
            "Communication Skills MODULE_TITLE\n",
            "1 SEMESTER\n",
            "Apr - 2019 PERIOD\n",
            "3 CREDITS\n",
            "A- GRADE\n",
            "171050 CODE\n",
            "Object Oriented Concepts MODULE_TITLE\n",
            "2 SEMESTER\n",
            "Oct - 2019 PERIOD\n",
            "2 CREDITS\n",
            "A GRADE\n",
            "IT1060 CODE\n",
            "Software Process Modeling MODULE_TITLE\n",
            "2 SEMESTER\n",
            "Oct - 2019 PERIOD\n",
            "3 CREDITS\n",
            "A GRADE\n",
            "| 1T1080 English for Academic Purposes MODULE_TITLE\n",
            "2 SEMESTER\n",
            "Oct - 2019 PERIOD\n",
            "3 CREDITS\n",
            "B GRADE\n",
            ". 1T1090 Information Systems & Data Modeling MODULE_TITLE\n",
            "2 SEMESTER\n",
            "Oct - 2019 PERIOD\n",
            "4 CREDITS\n",
            "| 1T1100 Internet & Web Technclogies MODULE_TITLE\n",
            "2 SEMESTER\n",
            "Oct - 2019 PERIOD\n",
            "4 CREDITS\n",
            "A- GRADE\n",
            ". Year MODULE_TITLE\n",
            "1 Credits=31.00 Year 1 Grade Points=108.10 Year MODULE_TITLE\n",
            "1 SEMESTER\n",
            "GPA=3.49 GRADE\n",
            "STATUS: Completed YEAR 1\n",
            "Dean's List Recognition 2nd Semester\n",
            "YEAR MODULE_TITLE\n",
            "2 SEMESTER\n",
            "172020 CODE\n",
            "Software Engineering MODULE_TITLE\n",
            "1 SEMESTER\n",
            "Apr - 2020 PERIOD\n",
            "4 CREDITS\n",
            "A GRADE\n",
            "172030 CODE\n",
            "Object Oriented Programming 1 . Jun - 2020 MODULE_TITLE\n",
            "4 CREDITS\n",
            "A GRADE\n",
            "1T2040 CODE\n",
            "Database Management Systems MODULE_TITLE\n",
            "1 SEMESTER\n",
            "Apr - 2020 PERIOD\n",
            "4 CREDITS\n",
            "A GRADE\n",
            "172050 CODE\n",
            "Computer Networks MODULE_TITLE\n",
            "1 SEMESTER\n",
            "Jun - 2020 PERIOD\n",
            "4 CREDITS\n",
            "A GRADE\n",
            "IT2060 CODE\n",
            "Operating Systems and System Administration MODULE_TITLE\n",
            "1 SEMESTER\n",
            "Apr - 2020 PERIOD\n",
            "4 CREDITS\n",
            "B+ GRADE\n",
            "| 172010 Mobile Application Development MODULE_TITLE\n",
            "2 SEMESTER\n",
            "Oct - 2020 PERIOD\n",
            "4 CREDITS\n",
            "B+ GRADE\n",
            "172070 CODE\n",
            "Data Structures & Algorithms MODULE_TITLE\n",
            "2 SEMESTER\n",
            "Oct - 2020 PERIOD\n",
            "4 CREDITS\n",
            "A GRADE\n",
            "172080 CODE\n",
            "IT Project MODULE_TITLE\n",
            "2 SEMESTER\n",
            "Oct - 2020 PERIOD\n",
            "4 CREDITS\n",
            "A GRADE\n",
            "172090 Professional Skills MODULE_TITLE\n",
            "2 SEMESTER\n",
            "Oct - 2020 PERIOD\n",
            "2 CREDITS\n",
            "B+ GRADE\n",
            "1T2100* CODE\n",
            "Employability Skills Development - Seminar MODULE_TITLE\n",
            "2 SEMESTER\n",
            "Oct - 2020 PERIOD\n",
            "Non-Credit C+\n",
            "172110 Probability & Statistics MODULE_TITLE\n",
            "2 SEMESTER\n",
            "Oct - 2020 PERIOD\n",
            "3 CREDITS\n",
            "A GRADE\n",
            "‘Year MODULE_TITLE\n",
            "2 SEMESTER\n",
            "Credits=37.00 Year MODULE_TITLE\n",
            "2 SEMESTER\n",
            "Grade Points=141.00 Year MODULE_TITLE\n",
            "2 SEMESTER\n",
            "GPA=3.81 GRADE\n",
            "100 PERIOD\n",
            "* CREDITS\n",
            "-Non-GPA Module\n",
            "Ang STATUS: Completed YEAR MODULE_TITLE\n",
            "2 SEMESTER\n",
            "Dean's List Recognition 1st Semester & 2nd Semester\n",
            "\n",
            "Nous SLIIT Malabe Campus, New Kandy Road, Malabe. ss\n",
            "Tel : +94(0)11 2413900 Fax : +94(0)11 2413901 E-mail : info@sliit.lk URL : www.stiithe * MODULE_TITLE\n",
            "%* CODE\n",
            "i ri o MODULE_TITLE\n",
            "2 SEMESTER\n",
            "hal .\n",
            "ma Dis Alves pele\":\n",
            "\n",
            "'\n",
            "\n",
            "ae\n",
            "«\n",
            "\n",
            "   \n",
            "\n",
            "waceGiehvtiad eior a bl.\n",
            "\fSRI LANKA INSTITUTE OF INFORMATION TECHNOLOGY\n",
            "\n",
            " \n",
            "\n",
            " PERIOD\n",
            "4\n",
            "ne of Candidate : ere Walawwe Srisinghe Siriwardana Mudiyanselage Tharindu Maheesha Bandara _— Registration No:IT19162706\n",
            "singhe\n",
            "YEAR 3\n",
            "173031 Database Systems and Data-Driven Application MODULE_TITLE\n",
            "1 SEMESTER\n",
            "Jun - 2022 PERIOD\n",
            "A Cc\n",
            "173011 Theory and Practices in Statistical Modelling MODULE_TITLE\n",
            "1 SEMESTER\n",
            "Apr - 2021 PERIOD\n",
            "4 CREDITS\n",
            "i CODE\n",
            "d\n",
            "173021 Data Warehousing and Business Intelligence MODULE_TITLE\n",
            "1 SEMESTER\n",
            "Apr - 2021 PERIOD\n",
            "4 CREDITS\n",
            "dd GRADE\n",
            "1T3030 CODE\n",
            "Programming Applications and Frameworks MODULE_TITLE\n",
            "1 SEMESTER\n",
            "Apr - 2021 PERIOD\n",
            "4 CREDITS\n",
            "A GRADE\n",
            "IT3050* CODE\n",
            "Employability Skills Development - Seminar MODULE_TITLE\n",
            "1 SEMESTER\n",
            "Apr - 2021 PERIOD\n",
            "1 CREDITS\n",
            "C GRADE\n",
            "T3041 CODE\n",
            "Information Retrieval and Web MODULE_TITLE\n",
            "2 SEMESTER\n",
            "Oct - 2021 PERIOD\n",
            "4 CREDITS\n",
            "B+ GRADE\n",
            "T3051 CODE\n",
            "Fundamentals of Data Mining MODULE_TITLE\n",
            "2 SEMESTER\n",
            "Oct - 2021 PERIOD\n",
            "4 CREDITS\n",
            "B+ GRADE\n",
            "T3061 CODE\n",
            "Massive Data Processing and Cloud MODULE_TITLE\n",
            "2 SEMESTER\n",
            "Oct - 2021 PERIOD\n",
            "4 CREDITS\n",
            "B- GRADE\n",
            "T3071 CODE\n",
            "Machine Learning and Optimization MODULE_TITLE\n",
            "2 SEMESTER\n",
            "Oct - 2021 PERIOD\n",
            "4 CREDITS\n",
            "B- GRADE\n",
            "1T3110* CODE\n",
            "Industry Placement MODULE_TITLE\n",
            "2 SEMESTER\n",
            "Oct - 2021 PERIOD\n",
            "8 CREDITS\n",
            "C GRADE\n",
            "YEAR 4 CODE\n",
            "174021 CODE\n",
            "Internet of Things and Big Data Analytics MODULE_TITLE\n",
            "1 SEMESTER\n",
            "Jun - 2022 PERIOD\n",
            "4 CREDITS\n",
            "B- GRADE\n",
            "114031 CODE\n",
            "Visual Analytics and User Experience Design MODULE_TITLE\n",
            "1 SEMESTER\n",
            "Jun - 2022 PERIOD\n",
            "4 CREDITS\n",
            "A- GRADE\n",
            "1T4070* CODE\n",
            "Preparation for the Professional World MODULE_TITLE\n",
            "1 SEMESTER\n",
            "Jun - 2022 PERIOD\n",
            "2 CREDITS\n",
            "A GRADE\n",
            "1T4010 CODE\n",
            "Research Project MODULE_TITLE\n",
            "2 SEMESTER\n",
            "Dec - 2022 PERIOD\n",
            "16 CREDITS\n",
            "B+ GRADE\n",
            "174011 Database Administration and Storage Systems MODULE_TITLE\n",
            "2 SEMESTER\n",
            "Nov - 2022 PERIOD\n",
            "4 CREDITS\n",
            "A- GRADE\n",
            "174041 Introduction to Information Security Analytics MODULE_TITLE\n",
            "2 SEMESTER\n",
            "Dec - 2022 PERIOD\n",
            "4 CREDITS\n",
            "A GRADE\n",
            "Year MODULE_TITLE\n",
            "4 Credits=32.00 Year 4 Grade Points=109.20 Year 4 GPA=3.41\n",
            "1T4070 MODULE_TITLE\n",
            "* CREDITS\n",
            "-Non-GPA Module\n",
            "STATUS: Completed YEAR 4\n",
            "GPA SUMMARY\n",
            "WGPA YEARLY WEIGHTS\n",
            "(Year MODULE_TITLE\n",
            "2 SEMESTER\n",
            "- GRADE\n",
            "20 PERIOD\n",
            "% CREDITS\n",
            "Year3-30 PERIOD\n",
            "% SEMESTER\n",
            "Year4-50 PERIOD\n",
            "% CODE\n",
            ") Weighted GPA =3.39\n",
            "\n",
            "TOTAL CREDITS 143.00\n",
            "\n",
            "STATUS: COMPLETED PRESCRIBED REQUIREMENTS FOR THE AWARD OF THE DEGREE IN BACHELOR OF SCIENCE HONOURS IN\n",
            "INFORMATION TECHNOLOGY WITH THE SECOND-CLASS HONOURS UPPER DIVISION ON THE 15? OF JANUARY 2023.\n",
            "\n",
            "Date: £2923 [04 [ MODULE_TITLE\n",
            "26 sdssboobetessestebennds\n",
            "\n",
            "  \n",
            " \n",
            "\n",
            " PERIOD\n",
            "Prepared by: .......ayZ. Sigoosssooveecaocasostooes eee (Ca Z nr C\n",
            "Checked by3 ...0c<-Riicgpecccsoefoceccecscccsseesscossoneoe Senior Manager Academic Affairs (Registry & Examinations)\n",
            "Sahien Dathienan\n",
            "Certified by: .......44.... Sesooneoee soneoeeee snaneonecconeee Penne ase\n",
            "Senior Manager Academic (Res'stry 4 ‘ong)\n",
            "~End of Transcript~ © myLot\n",
            "Page MODULE_TITLE\n",
            "2 SEMESTER\n",
            "of GRADE\n",
            "3 CREDITS\n",
            "Tet: 230 1904-4 ban: MODULE_TITLE\n",
            "250 SEMESTER\n",
            "1906 b mail info a slitth\n",
            "\n",
            "URL: wow stiittk\n",
            "\f \n",
            "\n",
            "SRI LANKA\n",
            "INSTITUTE OF INFORMATION TECHNOLOGY PERIOD\n",
            "This is to certify that\n",
            "\n",
            " \n",
            "\n",
            "having successfully completed\n",
            "the prescribed course of study and the examinations\n",
            "of the Sri Lanka Institute of Information Technology\n",
            "on the Ist day of January 2023\n",
            "was admitted to\n",
            "\n",
            "the Honours Degree of\n",
            "\n",
            "Bachelor of Science in Information Technology\n",
            "\n",
            "at the Convocation held in Colombo\n",
            "witness our hands\n",
            "\n",
            "March 2023\n",
            "\n",
            "CO\n",
            "\n",
            "Vice-Chancellor\n",
            "Professor Lalith Gamage\n",
            "\n",
            "et\n",
            "\n",
            "ProVitce-Chancellor (Compas\n",
            "\n",
            "Professor Chandimal Jayawardena A Uh\n",
            "ee Ne\n",
            "\n",
            "Director, Academic Affairs\n",
            "Yashas Mallawarachehs\n",
            "\n",
            " \n",
            "\n",
            "Keyistration No: 11191627046\n",
            "\n",
            "Certificate No: WSCTT 10015\n",
            "\f \n",
            "\n",
            " \n",
            "\n",
            "   \n",
            "  \n",
            "   \n",
            " \n",
            "  \n",
            "   \n",
            "  \n",
            "     \n",
            "\n",
            "ACADEMIC TRANSCRIPT\n",
            "NAME OF CANDIDATE Meegasthenne Walawwe Srisinghe Siriwardana Mudiyanselage Tharindu Maheesha Bandara\n",
            "Munasinghe\n",
            "PROGRAMME Bachelor of Science Honours in Information Technology\n",
            "FIELD OF SPECIALIZATION Data Science\n",
            "| MEDIUM OF INSTRUCTION English\n",
            "REGISTRATION NO 1119162706\n",
            "MONTH & YEAR OF ADMISSION January, 2019\n",
            "ey ae cet eee\n",
            "YEAR MODULE_TITLE\n",
            "1\n",
            "1T1010 Introduction to Programming MODULE_TITLE\n",
            "1 SEMESTER\n",
            "Apr - 2019 PERIOD\n",
            "4 CREDITS\n",
            "A GRADE\n",
            "171020 CODE\n",
            "Introduction to Computer Systems MODULE_TITLE\n",
            "1 SEMESTER\n",
            "Apr - 2019 PERIOD\n",
            "4 CREDITS\n",
            "C+ GRADE\n",
            "1T1030 CODE\n",
            "Mathematics for Computing MODULE_TITLE\n",
            "1 SEMESTER\n",
            "Apr - 2019 PERIOD\n",
            "4 CREDITS\n",
            "B GRADE\n",
            "171040 CODE\n",
            "Communication Skills MODULE_TITLE\n",
            "1 SEMESTER\n",
            "Apr - 2019 PERIOD\n",
            "3 CREDITS\n",
            "A- GRADE\n",
            "171050 CODE\n",
            "Object Oriented Concepts MODULE_TITLE\n",
            "2 SEMESTER\n",
            "Oct - 2019 PERIOD\n",
            "2 CREDITS\n",
            "A GRADE\n",
            "IT1060 CODE\n",
            "Software Process Modeling MODULE_TITLE\n",
            "2 SEMESTER\n",
            "Oct - 2019 PERIOD\n",
            "3 CREDITS\n",
            "A GRADE\n",
            "| 1T1080 English for Academic Purposes MODULE_TITLE\n",
            "2 SEMESTER\n",
            "Oct - 2019 PERIOD\n",
            "3 CREDITS\n",
            "B GRADE\n",
            ". 1T1090 Information Systems & Data Modeling MODULE_TITLE\n",
            "2 SEMESTER\n",
            "Oct - 2019 PERIOD\n",
            "4 CREDITS\n",
            "| 1T1100 Internet & Web Technclogies MODULE_TITLE\n",
            "2 SEMESTER\n",
            "Oct - 2019 PERIOD\n",
            "4 CREDITS\n",
            "A- GRADE\n",
            ". Year MODULE_TITLE\n",
            "1 Credits=31.00 Year 1 Grade Points=108.10 Year MODULE_TITLE\n",
            "1 SEMESTER\n",
            "GPA=3.49 GRADE\n",
            "STATUS: Completed YEAR 1\n",
            "Dean's List Recognition 2nd Semester\n",
            "YEAR MODULE_TITLE\n",
            "2 SEMESTER\n",
            "172020 CODE\n",
            "Software Engineering MODULE_TITLE\n",
            "1 SEMESTER\n",
            "Apr - 2020 PERIOD\n",
            "4 CREDITS\n",
            "A GRADE\n",
            "172030 CODE\n",
            "Object Oriented Programming 1 . Jun - 2020 MODULE_TITLE\n",
            "4 CREDITS\n",
            "A GRADE\n",
            "1T2040 CODE\n",
            "Database Management Systems MODULE_TITLE\n",
            "1 SEMESTER\n",
            "Apr - 2020 PERIOD\n",
            "4 CREDITS\n",
            "A GRADE\n",
            "172050 CODE\n",
            "Computer Networks MODULE_TITLE\n",
            "1 SEMESTER\n",
            "Jun - 2020 PERIOD\n",
            "4 CREDITS\n",
            "A GRADE\n",
            "IT2060 CODE\n",
            "Operating Systems and System Administration MODULE_TITLE\n",
            "1 SEMESTER\n",
            "Apr - 2020 PERIOD\n",
            "4 CREDITS\n",
            "B+ GRADE\n",
            "| 172010 Mobile Application Development MODULE_TITLE\n",
            "2 SEMESTER\n",
            "Oct - 2020 PERIOD\n",
            "4 CREDITS\n",
            "B+ GRADE\n",
            "172070 CODE\n",
            "Data Structures & Algorithms MODULE_TITLE\n",
            "2 SEMESTER\n",
            "Oct - 2020 PERIOD\n",
            "4 CREDITS\n",
            "A GRADE\n",
            "172080 CODE\n",
            "IT Project MODULE_TITLE\n",
            "2 SEMESTER\n",
            "Oct - 2020 PERIOD\n",
            "4 CREDITS\n",
            "A GRADE\n",
            "172090 Professional Skills MODULE_TITLE\n",
            "2 SEMESTER\n",
            "Oct - 2020 PERIOD\n",
            "2 CREDITS\n",
            "B+ GRADE\n",
            "1T2100* CODE\n",
            "Employability Skills Development - Seminar MODULE_TITLE\n",
            "2 SEMESTER\n",
            "Oct - 2020 PERIOD\n",
            "Non-Credit C+\n",
            "172110 Probability & Statistics MODULE_TITLE\n",
            "2 SEMESTER\n",
            "Oct - 2020 PERIOD\n",
            "3 CREDITS\n",
            "A GRADE\n",
            "‘Year MODULE_TITLE\n",
            "2 SEMESTER\n",
            "Credits=37.00 Year MODULE_TITLE\n",
            "2 SEMESTER\n",
            "Grade Points=141.00 Year MODULE_TITLE\n",
            "2 SEMESTER\n",
            "GPA=3.81 GRADE\n",
            "100 PERIOD\n",
            "* CREDITS\n",
            "-Non-GPA Module\n",
            "Ang STATUS: Completed YEAR MODULE_TITLE\n",
            "2 SEMESTER\n",
            "Dean's List Recognition 1st Semester & 2nd Semester\n",
            "\n",
            "Nous SLIIT Malabe Campus, New Kandy Road, Malabe. ss\n",
            "Tel : +94(0)11 2413900 Fax : +94(0)11 2413901 E-mail : info@sliit.lk URL : www.stiithe * MODULE_TITLE\n",
            "%* CODE\n",
            "i ri o MODULE_TITLE\n",
            "2 SEMESTER\n",
            "hal .\n",
            "ma Dis Alves pele\":\n",
            "\n",
            "'\n",
            "\n",
            "ae\n",
            "«\n",
            "\n",
            "   \n",
            "\n",
            "waceGiehvtiad eior a bl.\n",
            "\fSRI LANKA INSTITUTE OF INFORMATION TECHNOLOGY\n",
            "\n",
            " \n",
            "\n",
            " PERIOD\n",
            "4\n",
            "ne of Candidate : ere Walawwe Srisinghe Siriwardana Mudiyanselage Tharindu Maheesha Bandara _— Registration No:IT19162706\n",
            "singhe\n",
            "YEAR 3\n",
            "173031 Database Systems and Data-Driven Application MODULE_TITLE\n",
            "1 SEMESTER\n",
            "Jun - 2022 PERIOD\n",
            "A Cc\n",
            "173011 Theory and Practices in Statistical Modelling MODULE_TITLE\n",
            "1 SEMESTER\n",
            "Apr - 2021 PERIOD\n",
            "4 CREDITS\n",
            "i CODE\n",
            "d\n",
            "173021 Data Warehousing and Business Intelligence MODULE_TITLE\n",
            "1 SEMESTER\n",
            "Apr - 2021 PERIOD\n",
            "4 CREDITS\n",
            "dd GRADE\n",
            "1T3030 CODE\n",
            "Programming Applications and Frameworks MODULE_TITLE\n",
            "1 SEMESTER\n",
            "Apr - 2021 PERIOD\n",
            "4 CREDITS\n",
            "A GRADE\n",
            "IT3050* CODE\n",
            "Employability Skills Development - Seminar MODULE_TITLE\n",
            "1 SEMESTER\n",
            "Apr - 2021 PERIOD\n",
            "1 CREDITS\n",
            "C GRADE\n",
            "T3041 CODE\n",
            "Information Retrieval and Web MODULE_TITLE\n",
            "2 SEMESTER\n",
            "Oct - 2021 PERIOD\n",
            "4 CREDITS\n",
            "B+ GRADE\n",
            "T3051 CODE\n",
            "Fundamentals of Data Mining MODULE_TITLE\n",
            "2 SEMESTER\n",
            "Oct - 2021 PERIOD\n",
            "4 CREDITS\n",
            "B+ GRADE\n",
            "T3061 CODE\n",
            "Massive Data Processing and Cloud MODULE_TITLE\n",
            "2 SEMESTER\n",
            "Oct - 2021 PERIOD\n",
            "4 CREDITS\n",
            "B- GRADE\n",
            "T3071 CODE\n",
            "Machine Learning and Optimization MODULE_TITLE\n",
            "2 SEMESTER\n",
            "Oct - 2021 PERIOD\n",
            "4 CREDITS\n",
            "B- GRADE\n",
            "1T3110* CODE\n",
            "Industry Placement MODULE_TITLE\n",
            "2 SEMESTER\n",
            "Oct - 2021 PERIOD\n",
            "8 CREDITS\n",
            "C GRADE\n",
            "174021 CODE\n",
            "Internet of Things and Big Data Analytics MODULE_TITLE\n",
            "1 SEMESTER\n",
            "Jun - 2022 PERIOD\n",
            "4 CREDITS\n",
            "B- GRADE\n",
            "114031 CODE\n",
            "Visual Analytics and User Experience Design MODULE_TITLE\n",
            "1 SEMESTER\n",
            "Jun - 2022 PERIOD\n",
            "4 CREDITS\n",
            "A- GRADE\n",
            "1T4070* CODE\n",
            "Preparation for the Professional World MODULE_TITLE\n",
            "1 SEMESTER\n",
            "Jun - 2022 PERIOD\n",
            "2 CREDITS\n",
            "A GRADE\n",
            "1T4010 CODE\n",
            "Research Project MODULE_TITLE\n",
            "2 SEMESTER\n",
            "Dec - 2022 PERIOD\n",
            "16 CREDITS\n",
            "B+ GRADE\n",
            "174011 Database Administration and Storage Systems MODULE_TITLE\n",
            "2 SEMESTER\n",
            "Nov - 2022 PERIOD\n",
            "4 CREDITS\n",
            "A- GRADE\n",
            "174041 Introduction to Information Security Analytics MODULE_TITLE\n",
            "2 SEMESTER\n",
            "Dec - 2022 PERIOD\n",
            "4 CREDITS\n",
            "A GRADE\n"
          ]
        }
      ],
      "source": [
        "# Load the document from the text file\n",
        "with open(\"extracted_sections.txt\", \"r\") as file:\n",
        "    text = file.read()\n",
        "\n",
        "# Process the document with the custom NER model\n",
        "doc = nlp_ner(text)\n",
        "\n",
        "# Extract and print the entities\n",
        "print(\"Entities:\")\n",
        "for ent in doc.ents:\n",
        "    print(ent.text, ent.label_)"
      ]
    },
    {
      "cell_type": "markdown",
      "metadata": {
        "id": "3k2XCYVQRGTK"
      },
      "source": [
        "# Getting the Module Titles and the Grades to a seperate CSV File"
      ]
    },
    {
      "cell_type": "code",
      "execution_count": null,
      "metadata": {
        "colab": {
          "base_uri": "https://localhost:8080/"
        },
        "id": "KF3A3WHm27pk",
        "outputId": "9dd2586d-4ec2-4325-d1a8-aaabf7553c5a"
      },
      "outputs": [
        {
          "name": "stdout",
          "output_type": "stream",
          "text": [
            "Testing NER on file: extracted_sections.txt\n",
            "Entities:\n",
            "Saved extracted data to extracted_data.csv\n"
          ]
        }
      ],
      "source": [
        "import pandas as pd\n",
        "\n",
        "def test_ner_model(file_path, output_file):\n",
        "    with open(file_path, 'r') as file:\n",
        "        lines = file.readlines()\n",
        "\n",
        "    modules = []\n",
        "    grades = []\n",
        "\n",
        "    print(\"Testing NER on file:\", file_path)\n",
        "    print(\"Entities:\")\n",
        "    for line in lines:\n",
        "        doc = nlp_ner(line.strip())\n",
        "        module_title = None\n",
        "        grade = None\n",
        "        for ent in doc.ents:\n",
        "            if ent.label_ == \"MODULE_TITLE\":\n",
        "                module_title = ent.text\n",
        "            elif ent.label_ == \"GRADE\":\n",
        "                grade = ent.text\n",
        "\n",
        "        if module_title and grade:  # Only append if both module title and grade exist\n",
        "            modules.append(module_title)\n",
        "            grades.append(grade)\n",
        "\n",
        "    # Create a DataFrame with modules and grades\n",
        "    data = {\"Module Title\": modules, \"Grade\": grades}\n",
        "    df = pd.DataFrame(data)\n",
        "\n",
        "    # Save the DataFrame to a CSV file\n",
        "    df.to_csv(output_file, index=False)\n",
        "    print(\"Saved extracted data to\", output_file)\n",
        "\n",
        "# Provide the file path to test and output file path\n",
        "file_path = \"extracted_sections.txt\"\n",
        "output_file = \"extracted_data.csv\"\n",
        "test_ner_model(file_path, output_file)\n"
      ]
    },
    {
      "cell_type": "markdown",
      "metadata": {
        "id": "X9cCiW7MWYdL"
      },
      "source": [
        "# Categorsing the Module Titles and Module Keywords into Skill Areas"
      ]
    },
    {
      "cell_type": "code",
      "execution_count": null,
      "metadata": {
        "colab": {
          "base_uri": "https://localhost:8080/",
          "height": 815
        },
        "id": "5hU_7pB9obk7",
        "outputId": "9e5fb3e8-c33e-4994-b391-f6e934d96fff"
      },
      "outputs": [
        {
          "name": "stderr",
          "output_type": "stream",
          "text": [
            "<ipython-input-115-66c063b19390>:49: FutureWarning: The default value of regex will change from True to False in a future version.\n",
            "  skill_area_table['Module Keywords'] = skill_area_table['Module Keywords'].str.replace(r'\\n', ',')\n",
            "<ipython-input-115-66c063b19390>:49: SettingWithCopyWarning: \n",
            "A value is trying to be set on a copy of a slice from a DataFrame.\n",
            "Try using .loc[row_indexer,col_indexer] = value instead\n",
            "\n",
            "See the caveats in the documentation: https://pandas.pydata.org/pandas-docs/stable/user_guide/indexing.html#returning-a-view-versus-a-copy\n",
            "  skill_area_table['Module Keywords'] = skill_area_table['Module Keywords'].str.replace(r'\\n', ',')\n"
          ]
        },
        {
          "data": {
            "text/html": [
              "\n",
              "  <div id=\"df-2227c485-3d66-4028-a733-271df70b67c6\">\n",
              "    <div class=\"colab-df-container\">\n",
              "      <div>\n",
              "<style scoped>\n",
              "    .dataframe tbody tr th:only-of-type {\n",
              "        vertical-align: middle;\n",
              "    }\n",
              "\n",
              "    .dataframe tbody tr th {\n",
              "        vertical-align: top;\n",
              "    }\n",
              "\n",
              "    .dataframe thead th {\n",
              "        text-align: right;\n",
              "    }\n",
              "</style>\n",
              "<table border=\"1\" class=\"dataframe\">\n",
              "  <thead>\n",
              "    <tr style=\"text-align: right;\">\n",
              "      <th></th>\n",
              "      <th>Category</th>\n",
              "      <th>Module Title</th>\n",
              "      <th>Module Keywords</th>\n",
              "      <th>Weighted Grade</th>\n",
              "    </tr>\n",
              "  </thead>\n",
              "  <tbody>\n",
              "    <tr>\n",
              "      <th>0</th>\n",
              "      <td>Programming and Software Development</td>\n",
              "      <td>introduction programming</td>\n",
              "      <td>data types, control structures, functions, poi...</td>\n",
              "      <td>9.0</td>\n",
              "    </tr>\n",
              "    <tr>\n",
              "      <th>1</th>\n",
              "      <td>Artificial Intelligence, Machine Learning and ...</td>\n",
              "      <td>introduction computer systems</td>\n",
              "      <td>computer systems, computer organization, combi...</td>\n",
              "      <td>4.0</td>\n",
              "    </tr>\n",
              "    <tr>\n",
              "      <th>2</th>\n",
              "      <td>Artificial Intelligence, Machine Learning and ...</td>\n",
              "      <td>mathematics computing</td>\n",
              "      <td>Logic Control, Number Systems, Differentiation...</td>\n",
              "      <td>6.0</td>\n",
              "    </tr>\n",
              "    <tr>\n",
              "      <th>4</th>\n",
              "      <td>Programming and Software Development</td>\n",
              "      <td>object oriented concepts</td>\n",
              "      <td>Object Oriented Programming, design solutions,...</td>\n",
              "      <td>9.0</td>\n",
              "    </tr>\n",
              "    <tr>\n",
              "      <th>5</th>\n",
              "      <td>Programming and Software Development</td>\n",
              "      <td>software process modeling</td>\n",
              "      <td>Software Engineering, requirement specificatio...</td>\n",
              "      <td>9.0</td>\n",
              "    </tr>\n",
              "    <tr>\n",
              "      <th>9</th>\n",
              "      <td>Programming and Software Development</td>\n",
              "      <td>software engineering</td>\n",
              "      <td>Object-oriented, Design pattern, Software test...</td>\n",
              "      <td>9.0</td>\n",
              "    </tr>\n",
              "    <tr>\n",
              "      <th>11</th>\n",
              "      <td>Database Management</td>\n",
              "      <td>database management systems</td>\n",
              "      <td>Database design, Hands-on experience, Schema r...</td>\n",
              "      <td>9.0</td>\n",
              "    </tr>\n",
              "    <tr>\n",
              "      <th>12</th>\n",
              "      <td>Artificial Intelligence, Machine Learning and ...</td>\n",
              "      <td>computer networks</td>\n",
              "      <td>Configuration TCP, TCP/IP operation, Switching...</td>\n",
              "      <td>9.0</td>\n",
              "    </tr>\n",
              "    <tr>\n",
              "      <th>13</th>\n",
              "      <td>System Administration</td>\n",
              "      <td>operating systems system administration</td>\n",
              "      <td>System administration, Lecture tutorial lab, K...</td>\n",
              "      <td>7.0</td>\n",
              "    </tr>\n",
              "    <tr>\n",
              "      <th>15</th>\n",
              "      <td>Programming and Software Development</td>\n",
              "      <td>data structures algorithms</td>\n",
              "      <td>Data structures,Stacks,Queues,Linked lists,Tre...</td>\n",
              "      <td>9.0</td>\n",
              "    </tr>\n",
              "    <tr>\n",
              "      <th>16</th>\n",
              "      <td>Project Management</td>\n",
              "      <td>project</td>\n",
              "      <td>Final report writing,System testing activity,G...</td>\n",
              "      <td>9.0</td>\n",
              "    </tr>\n",
              "    <tr>\n",
              "      <th>18</th>\n",
              "      <td>Artificial Intelligence, Machine Learning and ...</td>\n",
              "      <td>probability statistics</td>\n",
              "      <td>Descriptive statistics, Statistical techniques...</td>\n",
              "      <td>9.0</td>\n",
              "    </tr>\n",
              "    <tr>\n",
              "      <th>20</th>\n",
              "      <td>Data Analysis and Visualization</td>\n",
              "      <td>data warehousing business intelligence</td>\n",
              "      <td>Data integration,Business intelligence,Data qu...</td>\n",
              "      <td>NaN</td>\n",
              "    </tr>\n",
              "    <tr>\n",
              "      <th>21</th>\n",
              "      <td>Programming and Software Development</td>\n",
              "      <td>programming applications frameworks</td>\n",
              "      <td>Enterprise systems engineering,Web-based appli...</td>\n",
              "      <td>9.0</td>\n",
              "    </tr>\n",
              "    <tr>\n",
              "      <th>24</th>\n",
              "      <td>Data Analysis and Visualization</td>\n",
              "      <td>fundamentals data mining</td>\n",
              "      <td>Theory,Practices,Data mining applications,Data...</td>\n",
              "      <td>7.0</td>\n",
              "    </tr>\n",
              "    <tr>\n",
              "      <th>28</th>\n",
              "      <td>Data Analysis and Visualization</td>\n",
              "      <td>internet things big data analytics</td>\n",
              "      <td>Internet of Things (IoT),IoT architectures,Dat...</td>\n",
              "      <td>5.0</td>\n",
              "    </tr>\n",
              "    <tr>\n",
              "      <th>29</th>\n",
              "      <td>User Experience and Design</td>\n",
              "      <td>visual analytics user experience design</td>\n",
              "      <td>Visual analytics,User experience design,Analyt...</td>\n",
              "      <td>8.0</td>\n",
              "    </tr>\n",
              "    <tr>\n",
              "      <th>31</th>\n",
              "      <td>Project Management</td>\n",
              "      <td>research project</td>\n",
              "      <td>engineering industry, software engineering ind...</td>\n",
              "      <td>7.0</td>\n",
              "    </tr>\n",
              "    <tr>\n",
              "      <th>32</th>\n",
              "      <td>Database Management</td>\n",
              "      <td>database administration storage systems</td>\n",
              "      <td>Database administration,Storage systems,Oracle...</td>\n",
              "      <td>8.0</td>\n",
              "    </tr>\n",
              "    <tr>\n",
              "      <th>37</th>\n",
              "      <td>Programming and Software Development</td>\n",
              "      <td>introduction programming</td>\n",
              "      <td>data types, control structures, functions, poi...</td>\n",
              "      <td>9.0</td>\n",
              "    </tr>\n",
              "  </tbody>\n",
              "</table>\n",
              "</div>\n",
              "      <button class=\"colab-df-convert\" onclick=\"convertToInteractive('df-2227c485-3d66-4028-a733-271df70b67c6')\"\n",
              "              title=\"Convert this dataframe to an interactive table.\"\n",
              "              style=\"display:none;\">\n",
              "        \n",
              "  <svg xmlns=\"http://www.w3.org/2000/svg\" height=\"24px\"viewBox=\"0 0 24 24\"\n",
              "       width=\"24px\">\n",
              "    <path d=\"M0 0h24v24H0V0z\" fill=\"none\"/>\n",
              "    <path d=\"M18.56 5.44l.94 2.06.94-2.06 2.06-.94-2.06-.94-.94-2.06-.94 2.06-2.06.94zm-11 1L8.5 8.5l.94-2.06 2.06-.94-2.06-.94L8.5 2.5l-.94 2.06-2.06.94zm10 10l.94 2.06.94-2.06 2.06-.94-2.06-.94-.94-2.06-.94 2.06-2.06.94z\"/><path d=\"M17.41 7.96l-1.37-1.37c-.4-.4-.92-.59-1.43-.59-.52 0-1.04.2-1.43.59L10.3 9.45l-7.72 7.72c-.78.78-.78 2.05 0 2.83L4 21.41c.39.39.9.59 1.41.59.51 0 1.02-.2 1.41-.59l7.78-7.78 2.81-2.81c.8-.78.8-2.07 0-2.86zM5.41 20L4 18.59l7.72-7.72 1.47 1.35L5.41 20z\"/>\n",
              "  </svg>\n",
              "      </button>\n",
              "      \n",
              "  <style>\n",
              "    .colab-df-container {\n",
              "      display:flex;\n",
              "      flex-wrap:wrap;\n",
              "      gap: 12px;\n",
              "    }\n",
              "\n",
              "    .colab-df-convert {\n",
              "      background-color: #E8F0FE;\n",
              "      border: none;\n",
              "      border-radius: 50%;\n",
              "      cursor: pointer;\n",
              "      display: none;\n",
              "      fill: #1967D2;\n",
              "      height: 32px;\n",
              "      padding: 0 0 0 0;\n",
              "      width: 32px;\n",
              "    }\n",
              "\n",
              "    .colab-df-convert:hover {\n",
              "      background-color: #E2EBFA;\n",
              "      box-shadow: 0px 1px 2px rgba(60, 64, 67, 0.3), 0px 1px 3px 1px rgba(60, 64, 67, 0.15);\n",
              "      fill: #174EA6;\n",
              "    }\n",
              "\n",
              "    [theme=dark] .colab-df-convert {\n",
              "      background-color: #3B4455;\n",
              "      fill: #D2E3FC;\n",
              "    }\n",
              "\n",
              "    [theme=dark] .colab-df-convert:hover {\n",
              "      background-color: #434B5C;\n",
              "      box-shadow: 0px 1px 3px 1px rgba(0, 0, 0, 0.15);\n",
              "      filter: drop-shadow(0px 1px 2px rgba(0, 0, 0, 0.3));\n",
              "      fill: #FFFFFF;\n",
              "    }\n",
              "  </style>\n",
              "\n",
              "      <script>\n",
              "        const buttonEl =\n",
              "          document.querySelector('#df-2227c485-3d66-4028-a733-271df70b67c6 button.colab-df-convert');\n",
              "        buttonEl.style.display =\n",
              "          google.colab.kernel.accessAllowed ? 'block' : 'none';\n",
              "\n",
              "        async function convertToInteractive(key) {\n",
              "          const element = document.querySelector('#df-2227c485-3d66-4028-a733-271df70b67c6');\n",
              "          const dataTable =\n",
              "            await google.colab.kernel.invokeFunction('convertToInteractive',\n",
              "                                                     [key], {});\n",
              "          if (!dataTable) return;\n",
              "\n",
              "          const docLinkHtml = 'Like what you see? Visit the ' +\n",
              "            '<a target=\"_blank\" href=https://colab.research.google.com/notebooks/data_table.ipynb>data table notebook</a>'\n",
              "            + ' to learn more about interactive tables.';\n",
              "          element.innerHTML = '';\n",
              "          dataTable['output_type'] = 'display_data';\n",
              "          await google.colab.output.renderOutput(dataTable, element);\n",
              "          const docLink = document.createElement('div');\n",
              "          docLink.innerHTML = docLinkHtml;\n",
              "          element.appendChild(docLink);\n",
              "        }\n",
              "      </script>\n",
              "    </div>\n",
              "  </div>\n",
              "  "
            ],
            "text/plain": [
              "                                             Category  \\\n",
              "0                Programming and Software Development   \n",
              "1   Artificial Intelligence, Machine Learning and ...   \n",
              "2   Artificial Intelligence, Machine Learning and ...   \n",
              "4                Programming and Software Development   \n",
              "5                Programming and Software Development   \n",
              "9                Programming and Software Development   \n",
              "11                                Database Management   \n",
              "12  Artificial Intelligence, Machine Learning and ...   \n",
              "13                              System Administration   \n",
              "15               Programming and Software Development   \n",
              "16                                 Project Management   \n",
              "18  Artificial Intelligence, Machine Learning and ...   \n",
              "20                    Data Analysis and Visualization   \n",
              "21               Programming and Software Development   \n",
              "24                    Data Analysis and Visualization   \n",
              "28                    Data Analysis and Visualization   \n",
              "29                         User Experience and Design   \n",
              "31                                 Project Management   \n",
              "32                                Database Management   \n",
              "37               Programming and Software Development   \n",
              "\n",
              "                               Module Title  \\\n",
              "0                  introduction programming   \n",
              "1             introduction computer systems   \n",
              "2                     mathematics computing   \n",
              "4                  object oriented concepts   \n",
              "5                 software process modeling   \n",
              "9                      software engineering   \n",
              "11              database management systems   \n",
              "12                        computer networks   \n",
              "13  operating systems system administration   \n",
              "15               data structures algorithms   \n",
              "16                                  project   \n",
              "18                   probability statistics   \n",
              "20   data warehousing business intelligence   \n",
              "21      programming applications frameworks   \n",
              "24                 fundamentals data mining   \n",
              "28       internet things big data analytics   \n",
              "29  visual analytics user experience design   \n",
              "31                         research project   \n",
              "32  database administration storage systems   \n",
              "37                 introduction programming   \n",
              "\n",
              "                                      Module Keywords  Weighted Grade  \n",
              "0   data types, control structures, functions, poi...             9.0  \n",
              "1   computer systems, computer organization, combi...             4.0  \n",
              "2   Logic Control, Number Systems, Differentiation...             6.0  \n",
              "4   Object Oriented Programming, design solutions,...             9.0  \n",
              "5   Software Engineering, requirement specificatio...             9.0  \n",
              "9   Object-oriented, Design pattern, Software test...             9.0  \n",
              "11  Database design, Hands-on experience, Schema r...             9.0  \n",
              "12  Configuration TCP, TCP/IP operation, Switching...             9.0  \n",
              "13  System administration, Lecture tutorial lab, K...             7.0  \n",
              "15  Data structures,Stacks,Queues,Linked lists,Tre...             9.0  \n",
              "16  Final report writing,System testing activity,G...             9.0  \n",
              "18  Descriptive statistics, Statistical techniques...             9.0  \n",
              "20  Data integration,Business intelligence,Data qu...             NaN  \n",
              "21  Enterprise systems engineering,Web-based appli...             9.0  \n",
              "24  Theory,Practices,Data mining applications,Data...             7.0  \n",
              "28  Internet of Things (IoT),IoT architectures,Dat...             5.0  \n",
              "29  Visual analytics,User experience design,Analyt...             8.0  \n",
              "31  engineering industry, software engineering ind...             7.0  \n",
              "32  Database administration,Storage systems,Oracle...             8.0  \n",
              "37  data types, control structures, functions, poi...             9.0  "
            ]
          },
          "execution_count": 115,
          "metadata": {},
          "output_type": "execute_result"
        }
      ],
      "source": [
        "import pandas as pd\n",
        "\n",
        "# Read the extracted data CSV file\n",
        "extracted_data_df = pd.read_csv(\"extracted_data.csv\")\n",
        "\n",
        "# Preprocess the module titles in the extracted data\n",
        "extracted_data_df['Module Title'] = extracted_data_df['Module Title'].apply(clean_text)\n",
        "\n",
        "# Read the module outline CSV file\n",
        "module_outline_df = pd.read_csv(\"Module Keywords.csv\")\n",
        "\n",
        "# Preprocess the module titles in the module outline\n",
        "module_outline_df['Module Title'] = module_outline_df['Module Title'].apply(clean_text)\n",
        "\n",
        "# Vectorize the module titles using CountVectorizer\n",
        "module_title_vectors_extracted = countvect.transform(extracted_data_df['Module Title'])\n",
        "module_title_vectors_outline = countvect.transform(module_outline_df['Module Title'])\n",
        "\n",
        "# Predict the categories for the module titles in the extracted data using the trained classification model\n",
        "predicted_categories = classification_model.predict(module_title_vectors_extracted)\n",
        "\n",
        "# Map the module titles from the extracted data to the module titles in the module outline\n",
        "extracted_data_df['Category'] = predicted_categories\n",
        "merged_df = extracted_data_df.merge(module_outline_df, on='Module Title', how='left')\n",
        "\n",
        "# Define the grade weighting dictionary\n",
        "grade_weighting = {\n",
        "    'A+': 10,\n",
        "    'A': 9,\n",
        "    'A-': 8,\n",
        "    'B+': 7,\n",
        "    'B': 6,\n",
        "    'B-': 5,\n",
        "    'C+': 4,\n",
        "    'C': 3,\n",
        "    'C-': 2,\n",
        "    'D+': 1,\n",
        "    'D': 1,\n",
        "    'E': 1\n",
        "}\n",
        "\n",
        "# Calculate the weighted grades based on the grade weighting dictionary\n",
        "merged_df['Weighted Grade'] = merged_df['Grade'].map(grade_weighting)\n",
        "\n",
        "# Create a table with the skill areas, module titles, module descriptions, and weighted grades\n",
        "skill_area_table = merged_df[['Category', 'Module Title', 'Module Keywords', 'Weighted Grade']]\n",
        "\n",
        "# Replace '\\n' with line breaks in module keywords\n",
        "skill_area_table['Module Keywords'] = skill_area_table['Module Keywords'].str.replace(r'\\n', ',')\n",
        "\n",
        "\n",
        "#Exclude module titles not present in the module outline CSV file\n",
        "skill_area_table = skill_area_table.dropna(subset=['Module Keywords'])\n",
        "\n",
        "# Display the skill area table\n",
        "skill_area_table.head(20)\n"
      ]
    },
    {
      "cell_type": "markdown",
      "metadata": {
        "id": "DUREhG7mWkDD"
      },
      "source": [
        "# Calcuating the weight of each category and displaying it"
      ]
    },
    {
      "cell_type": "code",
      "execution_count": null,
      "metadata": {
        "colab": {
          "base_uri": "https://localhost:8080/",
          "height": 1000
        },
        "id": "vULpdQshQ93C",
        "outputId": "432e0d01-0487-4414-b2e6-4dc269b88f82"
      },
      "outputs": [
        {
          "name": "stdout",
          "output_type": "stream",
          "text": [
            "Category\n",
            "Programming and Software Development                          186.0\n",
            "Artificial Intelligence, Machine Learning and Data Science    132.0\n",
            "Data Analysis and Visualization                                42.0\n",
            "Database Management                                            34.0\n",
            "Project Management                                             32.0\n",
            "User Experience and Design                                     16.0\n",
            "System Administration                                          14.0\n",
            "Name: Weighted Grade, dtype: float64\n"
          ]
        },
        {
          "data": {
            "image/png": "[encoded data removed]",
            "text/plain": [
              "<Figure size 1000x600 with 1 Axes>"
            ]
          },
          "metadata": {},
          "output_type": "display_data"
        }
      ],
      "source": [
        "# Group the skill area table by the 'Category' column and calculate the sum of the 'Weighted Grade' column for each category\n",
        "category_totals = merged_df.groupby('Category')['Weighted Grade'].sum()\n",
        "\n",
        "# Sort the categories by their total weighted grades in descending order\n",
        "category_totals = category_totals.sort_values(ascending=False)\n",
        "\n",
        "# Display the category totals table\n",
        "print(category_totals)\n",
        "\n",
        "# Exclude 'Core Competencies' category from category_totals\n",
        "category_totals = category_totals[category_totals.index != 'core competencies and soft skills']\n",
        "\n",
        "# Plot the bar graph of weighted grades in each category\n",
        "plt.figure(figsize=(10, 6))\n",
        "category_totals.plot(kind='bar')\n",
        "plt.xlabel('Category')\n",
        "plt.ylabel('Weighted Grade')\n",
        "plt.title('Total Weighted Grades by Category')\n",
        "\n",
        "plt.show()"
      ]
    },
    {
      "cell_type": "markdown",
      "metadata": {
        "id": "5C2-FkVJWqiS"
      },
      "source": [
        "# Displaying the skill areas using a pie chart"
      ]
    },
    {
      "cell_type": "code",
      "execution_count": null,
      "metadata": {
        "colab": {
          "base_uri": "https://localhost:8080/",
          "height": 765
        },
        "id": "rA46mCxnEbhn",
        "outputId": "5d13e2ea-6841-4492-ca33-e010aa23b0a6"
      },
      "outputs": [
        {
          "data": {
            "image/png": "[encoded data removed]",
            "text/plain": [
              "<Figure size 1400x1400 with 1 Axes>"
            ]
          },
          "metadata": {},
          "output_type": "display_data"
        }
      ],
      "source": [
        "import matplotlib.pyplot as plt\n",
        "\n",
        "# Generate the pie chart\n",
        "plt.figure(figsize=(14, 14))\n",
        "plt.pie(category_totals, labels=None, autopct='%1.1f%%', startangle=90)\n",
        "\n",
        "# Set colors for each category\n",
        "colors = ['red', 'green', 'lightcoral', 'orange', 'yellow', 'pink', 'lightblue', 'gray', 'lavender', 'salmon']\n",
        "\n",
        "# Customize colors for each pie slice\n",
        "for i, wedge in enumerate(plt.gca().patches):\n",
        "    wedge.set_facecolor(colors[i % len(colors)])\n",
        "\n",
        "# Add a legend with categories and colors\n",
        "legend_labels = category_totals.index\n",
        "legend_colors = colors[:len(legend_labels)]\n",
        "plt.legend(legend_labels, loc='center left', bbox_to_anchor=(1, 0.5), title='Skill Areas', labelcolor='black')\n",
        "\n",
        "# Add a title\n",
        "plt.title('Skill Areas of the Candidate')\n",
        "\n",
        "# Adjust layout to make room for the legend\n",
        "plt.tight_layout(rect=(0, 0, 0.85, 1))\n",
        "\n",
        "plt.show()\n",
        "\n"
      ]
    },
    {
      "cell_type": "markdown",
      "metadata": {
        "id": "FcRR-GJyWvmW"
      },
      "source": [
        "# Displaying the Skill Areas using a Radar Graph"
      ]
    },
    {
      "cell_type": "code",
      "execution_count": null,
      "metadata": {
        "colab": {
          "base_uri": "https://localhost:8080/",
          "height": 711
        },
        "id": "17JWPqdbXSM8",
        "outputId": "e61abac0-b69b-48cc-d9c4-ff32ee358c87"
      },
      "outputs": [
        {
          "data": {
            "image/png": "[encoded data removed]",
            "text/plain": [
              "<Figure size 800x800 with 1 Axes>"
            ]
          },
          "metadata": {},
          "output_type": "display_data"
        }
      ],
      "source": [
        "import numpy as np\n",
        "import matplotlib.pyplot as plt\n",
        "\n",
        "# Calculate the number of categories and angles\n",
        "num_categories = len(category_totals)\n",
        "angles = np.linspace(0, 2 * np.pi, num_categories, endpoint=False).tolist()\n",
        "\n",
        "# Get the weighted grades and category names\n",
        "grades = category_totals.values\n",
        "category_names = category_totals.index\n",
        "\n",
        "# Plot the radar graph\n",
        "fig, ax = plt.subplots(figsize=(8, 8), subplot_kw={'projection': 'polar'})\n",
        "ax.fill(angles, grades, color='skyblue', alpha=0.75)\n",
        "ax.set_xticks(angles)\n",
        "ax.set_xticklabels(category_names)\n",
        "ax.set_yticklabels([])\n",
        "ax.set_title('Total Weighted Grades by Category')\n",
        "\n",
        "plt.show()\n"
      ]
    }
  ],
  "metadata": {
    "colab": {
      "gpuType": "T4",
      "provenance": []
    },
    "gpuClass": "standard",
    "kernelspec": {
      "display_name": "Python 3",
      "name": "python3"
    },
    "language_info": {
      "name": "python",
      "version": "3.10.6"
    }
  },
  "nbformat": 4,
  "nbformat_minor": 0
}
