{
 "cells": [
  {
   "cell_type": "code",
   "execution_count": 7,
   "metadata": {},
   "outputs": [
    {
     "name": "stdout",
     "output_type": "stream",
     "text": [
      "Predicted Job Category: Insfastructure and Operations\n"
     ]
    }
   ],
   "source": [
    "import requests\n",
    "import pickle\n",
    "from ScrapeLinkedIn import scrape_linkedin_skills\n",
    "\n",
    "model = pickle.load(open(\"model.pkl\", \"rb\"))\n",
    "fitted_vectorizer = pickle.load(open(\"fitted_vectorizer.pkl\", \"rb\"))\n",
    "# linkedin_profile_url = 'https://www.linkedin.com/in/chanuxbro/'\n",
    "\n",
    "def scrape_linkedin_skills(linkedin_profile_url):\n",
    "    api_key = 'f-lU6GZbwRXk9GWghrhDQw'\n",
    "    api_endpoint = 'https://nubela.co/proxycurl/api/v2/linkedin'\n",
    "    headers = {'Authorization': 'Bearer ' + api_key}\n",
    "\n",
    "    response = requests.get(api_endpoint,\n",
    "                            params={'url': linkedin_profile_url, 'skills': 'include'},\n",
    "                            headers=headers)\n",
    "\n",
    "    profile_data = response.json()\n",
    "\n",
    "    if 'skills' in profile_data:\n",
    "        return profile_data['skills']\n",
    "        \n",
    "    else:\n",
    "        return []\n",
    "\n",
    "# Example LinkedIn profile URL\n",
    "linkedin_profile_url = 'https://www.linkedin.com/in/chanuxbro/'\n",
    "\n",
    "# Call the function to get skills\n",
    "skills = scrape_linkedin_skills(linkedin_profile_url)\n",
    "\n",
    "predicted_category = model.predict(fitted_vectorizer.transform(skills))\n",
    "result = f\"Predicted Job Category: {predicted_category[0]}\"\n",
    "\n",
    "print(result)"
   ]
  }
 ],
 "metadata": {
  "kernelspec": {
   "display_name": "Python 3",
   "language": "python",
   "name": "python3"
  },
  "language_info": {
   "codemirror_mode": {
    "name": "ipython",
    "version": 3
   },
   "file_extension": ".py",
   "mimetype": "text/x-python",
   "name": "python",
   "nbconvert_exporter": "python",
   "pygments_lexer": "ipython3",
   "version": "3.9.6"
  },
  "orig_nbformat": 4
 },
 "nbformat": 4,
 "nbformat_minor": 2
}
