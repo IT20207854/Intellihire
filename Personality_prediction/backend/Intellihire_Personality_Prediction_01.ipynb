{
  "cells": [
    {
      "cell_type": "markdown",
      "metadata": {
        "id": "BmZxL5mHVw3Q"
      },
      "source": [
        "# Importing necessary libraries"
      ]
    },
    {
      "cell_type": "code",
      "execution_count": null,
      "metadata": {
        "id": "C-Mmi7fE1PAX"
      },
      "outputs": [
        {
          "ename": "",
          "evalue": "",
          "output_type": "error",
          "traceback": [
            "\u001b[1;31mRunning cells with 'myenv' requires the ipykernel package.\n",
            "\u001b[1;31mRun the following command to install 'ipykernel' into the Python environment. \n",
            "\u001b[1;31mCommand: 'c:/Users/malee/Desktop/SLIIT/RP/2023-098/myenv/Scripts/python.exe -m pip install ipykernel -U --force-reinstall'"
          ]
        }
      ],
      "source": [
        "import numpy as np\n",
        "import pandas as pd\n",
        "import matplotlib.pyplot as plt\n",
        "import seaborn as sns\n",
        "import os\n",
        "\n",
        "\n",
        "#validation\n",
        "from sklearn.metrics import calinski_harabasz_score"
      ]
    },
    {
      "cell_type": "markdown",
      "metadata": {
        "id": "P-0LuoaUV8zK"
      },
      "source": [
        "# Loading the Data Set"
      ]
    },
    {
      "cell_type": "code",
      "execution_count": null,
      "metadata": {
        "id": "eaxVFg9zarEY"
      },
      "outputs": [
        {
          "ename": "",
          "evalue": "",
          "output_type": "error",
          "traceback": [
            "\u001b[1;31mRunning cells with 'myenv' requires the ipykernel package.\n",
            "\u001b[1;31mRun the following command to install 'ipykernel' into the Python environment. \n",
            "\u001b[1;31mCommand: 'c:/Users/malee/Desktop/SLIIT/RP/2023-098/myenv/Scripts/python.exe -m pip install ipykernel -U --force-reinstall'"
          ]
        }
      ],
      "source": [
        "# loading the dataset into a dataframe\n",
        "data_df = pd.read_csv('data-final.csv')"
      ]
    },
    {
      "cell_type": "markdown",
      "metadata": {
        "id": "VEyJa78fB4Lw"
      },
      "source": [
        "# Data Preprocessing"
      ]
    },
    {
      "cell_type": "code",
      "execution_count": null,
      "metadata": {
        "colab": {
          "base_uri": "https://localhost:8080/"
        },
        "id": "nw_jfDV1bIvv",
        "outputId": "f87feeb7-f209-4c5b-b9b4-ca3a640e8381"
      },
      "outputs": [
        {
          "ename": "",
          "evalue": "",
          "output_type": "error",
          "traceback": [
            "\u001b[1;31mRunning cells with 'myenv' requires the ipykernel package.\n",
            "\u001b[1;31mRun the following command to install 'ipykernel' into the Python environment. \n",
            "\u001b[1;31mCommand: 'c:/Users/malee/Desktop/SLIIT/RP/2023-098/myenv/Scripts/python.exe -m pip install ipykernel -U --force-reinstall'"
          ]
        }
      ],
      "source": [
        "# get the number of columns\n",
        "num_columns = len(data_df.columns)\n",
        "\n",
        "# print the number of columns\n",
        "print(\"Number of columns:\", num_columns)"
      ]
    },
    {
      "cell_type": "code",
      "execution_count": null,
      "metadata": {
        "colab": {
          "base_uri": "https://localhost:8080/",
          "height": 456
        },
        "id": "qiseNU2yXMKG",
        "outputId": "d0e8432f-1184-464b-bd7b-887736511578"
      },
      "outputs": [
        {
          "ename": "",
          "evalue": "",
          "output_type": "error",
          "traceback": [
            "\u001b[1;31mRunning cells with 'myenv' requires the ipykernel package.\n",
            "\u001b[1;31mRun the following command to install 'ipykernel' into the Python environment. \n",
            "\u001b[1;31mCommand: 'c:/Users/malee/Desktop/SLIIT/RP/2023-098/myenv/Scripts/python.exe -m pip install ipykernel -U --force-reinstall'"
          ]
        }
      ],
      "source": [
        "# select the necessary columns\n",
        "data_df.drop(data_df.columns[50:107], axis=1, inplace=True)\n",
        "data_df.drop(data_df.columns[51:], axis=1, inplace=True)\n",
        "\n",
        "# show the first 5 rows of the new dataframe\n",
        "data_df.head(10)"
      ]
    },
    {
      "cell_type": "code",
      "execution_count": null,
      "metadata": {
        "colab": {
          "base_uri": "https://localhost:8080/"
        },
        "id": "vvcZ8HuyZAqT",
        "outputId": "47d4bf9e-b3a8-41c3-f18b-4bbfc8398aec"
      },
      "outputs": [
        {
          "ename": "",
          "evalue": "",
          "output_type": "error",
          "traceback": [
            "\u001b[1;31mRunning cells with 'myenv' requires the ipykernel package.\n",
            "\u001b[1;31mRun the following command to install 'ipykernel' into the Python environment. \n",
            "\u001b[1;31mCommand: 'c:/Users/malee/Desktop/SLIIT/RP/2023-098/myenv/Scripts/python.exe -m pip install ipykernel -U --force-reinstall'"
          ]
        }
      ],
      "source": [
        "# view the number of participants who responded to the survey\n",
        "print('Number of participants: ', len(data_df))"
      ]
    },
    {
      "cell_type": "code",
      "execution_count": null,
      "metadata": {
        "colab": {
          "base_uri": "https://localhost:8080/"
        },
        "id": "GwhJeftXZTfU",
        "outputId": "9ab4d709-b226-4729-f9cf-029461da1d45"
      },
      "outputs": [
        {
          "ename": "",
          "evalue": "",
          "output_type": "error",
          "traceback": [
            "\u001b[1;31mRunning cells with 'myenv' requires the ipykernel package.\n",
            "\u001b[1;31mRun the following command to install 'ipykernel' into the Python environment. \n",
            "\u001b[1;31mCommand: 'c:/Users/malee/Desktop/SLIIT/RP/2023-098/myenv/Scripts/python.exe -m pip install ipykernel -U --force-reinstall'"
          ]
        }
      ],
      "source": [
        "# handling missing values\n",
        "\n",
        "print('Number of missing values: ', data_df.isnull().values.sum())\n",
        "data_df.dropna(inplace=True)"
      ]
    },
    {
      "cell_type": "code",
      "execution_count": null,
      "metadata": {
        "id": "MXRuH0ZeKvhT"
      },
      "outputs": [
        {
          "ename": "",
          "evalue": "",
          "output_type": "error",
          "traceback": [
            "\u001b[1;31mRunning cells with 'myenv' requires the ipykernel package.\n",
            "\u001b[1;31mRun the following command to install 'ipykernel' into the Python environment. \n",
            "\u001b[1;31mCommand: 'c:/Users/malee/Desktop/SLIIT/RP/2023-098/myenv/Scripts/python.exe -m pip install ipykernel -U --force-reinstall'"
          ]
        }
      ],
      "source": [
        "# create a new dataframe without null values containing only the necessary columns\n",
        "\n",
        "clean_df = data_df.drop('country', axis=1)\n",
        "columns = list(clean_df.columns)"
      ]
    },
    {
      "cell_type": "code",
      "execution_count": null,
      "metadata": {
        "colab": {
          "base_uri": "https://localhost:8080/",
          "height": 456
        },
        "id": "ec8Ct8ocQZkJ",
        "outputId": "35448711-0b33-400b-edfe-bfe286da336b"
      },
      "outputs": [
        {
          "ename": "",
          "evalue": "",
          "output_type": "error",
          "traceback": [
            "\u001b[1;31mRunning cells with 'myenv' requires the ipykernel package.\n",
            "\u001b[1;31mRun the following command to install 'ipykernel' into the Python environment. \n",
            "\u001b[1;31mCommand: 'c:/Users/malee/Desktop/SLIIT/RP/2023-098/myenv/Scripts/python.exe -m pip install ipykernel -U --force-reinstall'"
          ]
        }
      ],
      "source": [
        "clean_df.head(10)"
      ]
    },
    {
      "cell_type": "code",
      "execution_count": null,
      "metadata": {
        "id": "TwrSEtLyFJ6A"
      },
      "outputs": [
        {
          "ename": "",
          "evalue": "",
          "output_type": "error",
          "traceback": [
            "\u001b[1;31mRunning cells with 'myenv' requires the ipykernel package.\n",
            "\u001b[1;31mRun the following command to install 'ipykernel' into the Python environment. \n",
            "\u001b[1;31mCommand: 'c:/Users/malee/Desktop/SLIIT/RP/2023-098/myenv/Scripts/python.exe -m pip install ipykernel -U --force-reinstall'"
          ]
        }
      ],
      "source": [
        "# save the clean data into a new csv file for future use\n",
        "\n",
        "clean_df.to_csv('clean_data.csv', index=False)"
      ]
    },
    {
      "cell_type": "code",
      "execution_count": null,
      "metadata": {
        "colab": {
          "base_uri": "https://localhost:8080/",
          "height": 456
        },
        "id": "zEHFYqRiF_On",
        "outputId": "f672404e-3bce-4a29-f62f-1f93f98cc145"
      },
      "outputs": [
        {
          "ename": "",
          "evalue": "",
          "output_type": "error",
          "traceback": [
            "\u001b[1;31mRunning cells with 'myenv' requires the ipykernel package.\n",
            "\u001b[1;31mRun the following command to install 'ipykernel' into the Python environment. \n",
            "\u001b[1;31mCommand: 'c:/Users/malee/Desktop/SLIIT/RP/2023-098/myenv/Scripts/python.exe -m pip install ipykernel -U --force-reinstall'"
          ]
        }
      ],
      "source": [
        "# loading the clean dataset into a dataframe\n",
        "\n",
        "df = pd.read_csv('clean_data.csv')\n",
        "df.head(10)"
      ]
    },
    {
      "cell_type": "code",
      "execution_count": null,
      "metadata": {
        "id": "eeIxvJd0Btgm"
      },
      "outputs": [
        {
          "ename": "",
          "evalue": "",
          "output_type": "error",
          "traceback": [
            "\u001b[1;31mRunning cells with 'myenv' requires the ipykernel package.\n",
            "\u001b[1;31mRun the following command to install 'ipykernel' into the Python environment. \n",
            "\u001b[1;31mCommand: 'c:/Users/malee/Desktop/SLIIT/RP/2023-098/myenv/Scripts/python.exe -m pip install ipykernel -U --force-reinstall'"
          ]
        }
      ],
      "source": [
        "# Groups and Questions\n",
        "ext_questions = {'EXT1' : 'I am the life of the party',\n",
        "                 'EXT2' : 'I dont talk a lot',\n",
        "                 'EXT3' : 'I feel comfortable around people',\n",
        "                 'EXT4' : 'I keep in the background',\n",
        "                 'EXT5' : 'I start conversations',\n",
        "                 'EXT6' : 'I have little to say',\n",
        "                 'EXT7' : 'I talk to a lot of different people at parties',\n",
        "                 'EXT8' : 'I dont like to draw attention to myself',\n",
        "                 'EXT9' : 'I dont mind being the center of attention',\n",
        "                 'EXT10': 'I am quiet around strangers'}\n",
        "\n",
        "est_questions = {'EST1' : 'I get stressed out easily',\n",
        "                 'EST2' : 'I am relaxed most of the time',\n",
        "                 'EST3' : 'I worry about things',\n",
        "                 'EST4' : 'I seldom feel blue',\n",
        "                 'EST5' : 'I am easily disturbed',\n",
        "                 'EST6' : 'I get upset easily',\n",
        "                 'EST7' : 'I change my mood a lot',\n",
        "                 'EST8' : 'I have frequent mood swings',\n",
        "                 'EST9' : 'I get irritated easily',\n",
        "                 'EST10': 'I often feel blue'}\n",
        "\n",
        "agr_questions = {'AGR1' : 'I feel little concern for others',\n",
        "                 'AGR2' : 'I am interested in people',\n",
        "                 'AGR3' : 'I insult people',\n",
        "                 'AGR4' : 'I sympathize with others feelings',\n",
        "                 'AGR5' : 'I am not interested in other peoples problems',\n",
        "                 'AGR6' : 'I have a soft heart',\n",
        "                 'AGR7' : 'I am not really interested in others',\n",
        "                 'AGR8' : 'I take time out for others',\n",
        "                 'AGR9' : 'I feel others emotions',\n",
        "                 'AGR10': 'I make people feel at ease'}\n",
        "\n",
        "csn_questions = {'CSN1' : 'I am always prepared',\n",
        "                 'CSN2' : 'I leave my belongings around',\n",
        "                 'CSN3' : 'I pay attention to details',\n",
        "                 'CSN4' : 'I make a mess of things',\n",
        "                 'CSN5' : 'I get chores done right away',\n",
        "                 'CSN6' : 'I often forget to put things back in their proper place',\n",
        "                 'CSN7' : 'I like order',\n",
        "                 'CSN8' : 'I shirk my duties',\n",
        "                 'CSN9' : 'I follow a schedule',\n",
        "                 'CSN10' : 'I am exacting in my work'}\n",
        "\n",
        "opn_questions = {'OPN1' : 'I have a rich vocabulary',\n",
        "                 'OPN2' : 'I have difficulty understanding abstract ideas',\n",
        "                 'OPN3' : 'I have a vivid imagination',\n",
        "                 'OPN4' : 'I am not interested in abstract ideas',\n",
        "                 'OPN5' : 'I have excellent ideas',\n",
        "                 'OPN6' : 'I do not have a good imagination',\n",
        "                 'OPN7' : 'I am quick to understand things',\n",
        "                 'OPN8' : 'I use difficult words',\n",
        "                 'OPN9' : 'I spend time reflecting on things',\n",
        "                 'OPN10': 'I am full of ideas'}\n",
        "\n",
        "\n",
        "# group names and columns\n",
        "\n",
        "EXT = [column for column in df if column.startswith('EXT')]\n",
        "EST = [column for column in df if column.startswith('EST')]\n",
        "AGR = [column for column in df if column.startswith('AGR')]\n",
        "CSN = [column for column in df if column.startswith('CSN')]\n",
        "OPN = [column for column in df if column.startswith('OPN')]"
      ]
    },
    {
      "cell_type": "markdown",
      "metadata": {
        "id": "dlfrRW5URCKr"
      },
      "source": [
        "# Explanatory Data Analysis"
      ]
    },
    {
      "cell_type": "code",
      "execution_count": null,
      "metadata": {
        "colab": {
          "base_uri": "https://localhost:8080/",
          "height": 353
        },
        "id": "yjvOw9zhTeyD",
        "outputId": "9d10a77a-e330-491c-ddb3-6b78d55e5324"
      },
      "outputs": [
        {
          "ename": "",
          "evalue": "",
          "output_type": "error",
          "traceback": [
            "\u001b[1;31mRunning cells with 'myenv' requires the ipykernel package.\n",
            "\u001b[1;31mRun the following command to install 'ipykernel' into the Python environment. \n",
            "\u001b[1;31mCommand: 'c:/Users/malee/Desktop/SLIIT/RP/2023-098/myenv/Scripts/python.exe -m pip install ipykernel -U --force-reinstall'"
          ]
        }
      ],
      "source": [
        "# Participants' Nationality Distriution\n",
        "\n",
        "countries = pd.DataFrame(data_df['country'].value_counts())\n",
        "countries_5000 = countries[countries['country'] >= 5000]\n",
        "plt.figure(figsize=(15,5))\n",
        "sns.barplot(data=countries_5000, x=countries_5000.index, y='country')\n",
        "plt.title('Participants\\' Nationality Distriution')\n",
        "plt.ylabel('Participants');\n",
        "plt.ylabel('Nationality');"
      ]
    },
    {
      "cell_type": "code",
      "execution_count": null,
      "metadata": {
        "colab": {
          "base_uri": "https://localhost:8080/"
        },
        "id": "-jrsoWAKZsL2",
        "outputId": "c048c3a3-05ab-497c-9ccc-742e75f8492b"
      },
      "outputs": [
        {
          "ename": "",
          "evalue": "",
          "output_type": "error",
          "traceback": [
            "\u001b[1;31mRunning cells with 'myenv' requires the ipykernel package.\n",
            "\u001b[1;31mRun the following command to install 'ipykernel' into the Python environment. \n",
            "\u001b[1;31mCommand: 'c:/Users/malee/Desktop/SLIIT/RP/2023-098/myenv/Scripts/python.exe -m pip install ipykernel -U --force-reinstall'"
          ]
        }
      ],
      "source": [
        "print('Number of responses after handling missing values: ', len(df))"
      ]
    },
    {
      "cell_type": "code",
      "execution_count": null,
      "metadata": {
        "id": "NL2QemyQCFRi"
      },
      "outputs": [
        {
          "ename": "",
          "evalue": "",
          "output_type": "error",
          "traceback": [
            "\u001b[1;31mRunning cells with 'myenv' requires the ipykernel package.\n",
            "\u001b[1;31mRun the following command to install 'ipykernel' into the Python environment. \n",
            "\u001b[1;31mCommand: 'c:/Users/malee/Desktop/SLIIT/RP/2023-098/myenv/Scripts/python.exe -m pip install ipykernel -U --force-reinstall'"
          ]
        }
      ],
      "source": [
        "# funtion to visualize the answer distribution for the questions\n",
        "\n",
        "def vis_questions(groupname, questions, color):\n",
        "    plt.figure(figsize=(40,60))\n",
        "    for i in range(1, 11):\n",
        "        plt.subplot(10,5,i)\n",
        "        plt.hist(df[groupname[i-1]], bins=14, color= color, alpha=.5)\n",
        "        plt.title(questions[groupname[i-1]], fontsize=18)"
      ]
    },
    {
      "cell_type": "code",
      "execution_count": null,
      "metadata": {
        "colab": {
          "base_uri": "https://localhost:8080/",
          "height": 328
        },
        "id": "EBcUA9GpG5R8",
        "outputId": "dcf490d8-8518-454b-8b7c-ab2fca6dad2c"
      },
      "outputs": [
        {
          "ename": "",
          "evalue": "",
          "output_type": "error",
          "traceback": [
            "\u001b[1;31mRunning cells with 'myenv' requires the ipykernel package.\n",
            "\u001b[1;31mRun the following command to install 'ipykernel' into the Python environment. \n",
            "\u001b[1;31mCommand: 'c:/Users/malee/Desktop/SLIIT/RP/2023-098/myenv/Scripts/python.exe -m pip install ipykernel -U --force-reinstall'"
          ]
        }
      ],
      "source": [
        "# OPENNESS\n",
        "\n",
        "print('Q&As Related to Openness Personality\\n')\n",
        "vis_questions(OPN, opn_questions, 'orange')"
      ]
    },
    {
      "cell_type": "code",
      "execution_count": null,
      "metadata": {
        "colab": {
          "base_uri": "https://localhost:8080/",
          "height": 328
        },
        "id": "jKeUQ3CaI3J-",
        "outputId": "97c8286f-b035-42ec-9cc2-fcee524fadfa"
      },
      "outputs": [
        {
          "ename": "",
          "evalue": "",
          "output_type": "error",
          "traceback": [
            "\u001b[1;31mRunning cells with 'myenv' requires the ipykernel package.\n",
            "\u001b[1;31mRun the following command to install 'ipykernel' into the Python environment. \n",
            "\u001b[1;31mCommand: 'c:/Users/malee/Desktop/SLIIT/RP/2023-098/myenv/Scripts/python.exe -m pip install ipykernel -U --force-reinstall'"
          ]
        }
      ],
      "source": [
        "# CONSCIENTIOUS\n",
        "\n",
        "print('Q&As Related to Conscientious Personality\\n')\n",
        "vis_questions(CSN, csn_questions, 'purple')"
      ]
    },
    {
      "cell_type": "code",
      "execution_count": null,
      "metadata": {
        "colab": {
          "base_uri": "https://localhost:8080/",
          "height": 328
        },
        "id": "VcBAB6xPIrTc",
        "outputId": "712f5899-fb25-4e73-c1ef-755c00c18523"
      },
      "outputs": [
        {
          "ename": "",
          "evalue": "",
          "output_type": "error",
          "traceback": [
            "\u001b[1;31mRunning cells with 'myenv' requires the ipykernel package.\n",
            "\u001b[1;31mRun the following command to install 'ipykernel' into the Python environment. \n",
            "\u001b[1;31mCommand: 'c:/Users/malee/Desktop/SLIIT/RP/2023-098/myenv/Scripts/python.exe -m pip install ipykernel -U --force-reinstall'"
          ]
        }
      ],
      "source": [
        "# EXTROVERSION\n",
        "\n",
        "print('Q&As Related to Extroversion Personality\\n')\n",
        "vis_questions(EXT, ext_questions, 'red')"
      ]
    },
    {
      "cell_type": "code",
      "execution_count": null,
      "metadata": {
        "colab": {
          "base_uri": "https://localhost:8080/",
          "height": 326
        },
        "id": "F-ovVop-JWWl",
        "outputId": "28e344f4-c350-4d03-cd92-343ec339b71e"
      },
      "outputs": [
        {
          "ename": "",
          "evalue": "",
          "output_type": "error",
          "traceback": [
            "\u001b[1;31mRunning cells with 'myenv' requires the ipykernel package.\n",
            "\u001b[1;31mRun the following command to install 'ipykernel' into the Python environment. \n",
            "\u001b[1;31mCommand: 'c:/Users/malee/Desktop/SLIIT/RP/2023-098/myenv/Scripts/python.exe -m pip install ipykernel -U --force-reinstall'"
          ]
        }
      ],
      "source": [
        "# AGREEABLENESS\n",
        "\n",
        "print('Q&As Related to Agreeable Personality\\n')\n",
        "vis_questions(AGR, agr_questions, 'blue')"
      ]
    },
    {
      "cell_type": "code",
      "execution_count": null,
      "metadata": {
        "colab": {
          "base_uri": "https://localhost:8080/",
          "height": 328
        },
        "id": "nfuMC_k-Jp_i",
        "outputId": "f703c986-915c-4c45-dff5-88095c158053"
      },
      "outputs": [
        {
          "ename": "",
          "evalue": "",
          "output_type": "error",
          "traceback": [
            "\u001b[1;31mRunning cells with 'myenv' requires the ipykernel package.\n",
            "\u001b[1;31mRun the following command to install 'ipykernel' into the Python environment. \n",
            "\u001b[1;31mCommand: 'c:/Users/malee/Desktop/SLIIT/RP/2023-098/myenv/Scripts/python.exe -m pip install ipykernel -U --force-reinstall'"
          ]
        }
      ],
      "source": [
        "# NEUROTICISM\n",
        "\n",
        "print('Q&As Related to Neuroticism Personality\\n')\n",
        "vis_questions(EST, est_questions, 'green')"
      ]
    },
    {
      "cell_type": "markdown",
      "metadata": {
        "id": "nNDrnkuFCRpj"
      },
      "source": [
        "# K-means Clustering"
      ]
    },
    {
      "cell_type": "markdown",
      "metadata": {
        "id": "2XondzGnlllG"
      },
      "source": [
        "## Elbow Visualization"
      ]
    },
    {
      "cell_type": "code",
      "execution_count": null,
      "metadata": {
        "id": "BkAFuiKbSfm3"
      },
      "outputs": [
        {
          "ename": "",
          "evalue": "",
          "output_type": "error",
          "traceback": [
            "\u001b[1;31mRunning cells with 'myenv' requires the ipykernel package.\n",
            "\u001b[1;31mRun the following command to install 'ipykernel' into the Python environment. \n",
            "\u001b[1;31mCommand: 'c:/Users/malee/Desktop/SLIIT/RP/2023-098/myenv/Scripts/python.exe -m pip install ipykernel -U --force-reinstall'"
          ]
        }
      ],
      "source": [
        "# For ease of calculation lets scale all the values between 0-1 and take a sample of 5000\n",
        "from sklearn.preprocessing import MinMaxScaler\n",
        "\n",
        "columns = list(clean_df.columns)\n",
        "\n",
        "scaler = MinMaxScaler(feature_range=(0,1))\n",
        "df = scaler.fit_transform(df)\n",
        "df = pd.DataFrame(df, columns=columns)\n",
        "df_sample = df[:5000]"
      ]
    },
    {
      "cell_type": "code",
      "execution_count": null,
      "metadata": {
        "colab": {
          "base_uri": "https://localhost:8080/",
          "height": 1000
        },
        "id": "T_NKzktUSfm3",
        "outputId": "9973c4d3-70e9-405a-faee-dffa5bc394d2"
      },
      "outputs": [
        {
          "ename": "",
          "evalue": "",
          "output_type": "error",
          "traceback": [
            "\u001b[1;31mRunning cells with 'myenv' requires the ipykernel package.\n",
            "\u001b[1;31mRun the following command to install 'ipykernel' into the Python environment. \n",
            "\u001b[1;31mCommand: 'c:/Users/malee/Desktop/SLIIT/RP/2023-098/myenv/Scripts/python.exe -m pip install ipykernel -U --force-reinstall'"
          ]
        }
      ],
      "source": [
        "# Visualize the elbow\n",
        "from sklearn.cluster import KMeans\n",
        "from yellowbrick.cluster import KElbowVisualizer\n",
        "\n",
        "kmeans = KMeans()\n",
        "visualizer = KElbowVisualizer(kmeans, k=(2,15))\n",
        "visualizer.fit(df_sample)\n",
        "visualizer.poof()"
      ]
    },
    {
      "cell_type": "markdown",
      "metadata": {
        "id": "7JYutwPfLaRv"
      },
      "source": [
        "**As you can see 5 clusters looks optimum for the data set.**"
      ]
    },
    {
      "cell_type": "code",
      "execution_count": null,
      "metadata": {
        "colab": {
          "base_uri": "https://localhost:8080/"
        },
        "id": "o6WeJIEeLnsJ",
        "outputId": "a1330b8a-bcde-43fc-b2b2-a119217e7414"
      },
      "outputs": [
        {
          "ename": "",
          "evalue": "",
          "output_type": "error",
          "traceback": [
            "\u001b[1;31mRunning cells with 'myenv' requires the ipykernel package.\n",
            "\u001b[1;31mRun the following command to install 'ipykernel' into the Python environment. \n",
            "\u001b[1;31mCommand: 'c:/Users/malee/Desktop/SLIIT/RP/2023-098/myenv/Scripts/python.exe -m pip install ipykernel -U --force-reinstall'"
          ]
        }
      ],
      "source": [
        "# create the K-means Cluster Model\n",
        "from sklearn.cluster import KMeans\n",
        "\n",
        "# define 5 clusters and fit the model\n",
        "kmeans = KMeans(n_clusters=5)\n",
        "k_fit = kmeans.fit(clean_df)"
      ]
    },
    {
      "cell_type": "code",
      "execution_count": null,
      "metadata": {
        "colab": {
          "base_uri": "https://localhost:8080/",
          "height": 927
        },
        "id": "bdwa032iVBcK",
        "outputId": "1915fe37-2d6c-4727-b386-ad35f77464c3"
      },
      "outputs": [
        {
          "ename": "",
          "evalue": "",
          "output_type": "error",
          "traceback": [
            "\u001b[1;31mRunning cells with 'myenv' requires the ipykernel package.\n",
            "\u001b[1;31mRun the following command to install 'ipykernel' into the Python environment. \n",
            "\u001b[1;31mCommand: 'c:/Users/malee/Desktop/SLIIT/RP/2023-098/myenv/Scripts/python.exe -m pip install ipykernel -U --force-reinstall'"
          ]
        }
      ],
      "source": [
        "# predicting the clusters for the dataset\n",
        "\n",
        "# pd.options.display.max_columns = 10\n",
        "predictions = k_fit.labels_\n",
        "clean_df['cluster'] = predictions\n",
        "clean_df.head(25)"
      ]
    },
    {
      "cell_type": "code",
      "execution_count": null,
      "metadata": {
        "id": "sTijysdxpdim"
      },
      "outputs": [
        {
          "ename": "",
          "evalue": "",
          "output_type": "error",
          "traceback": [
            "\u001b[1;31mRunning cells with 'myenv' requires the ipykernel package.\n",
            "\u001b[1;31mRun the following command to install 'ipykernel' into the Python environment. \n",
            "\u001b[1;31mCommand: 'c:/Users/malee/Desktop/SLIIT/RP/2023-098/myenv/Scripts/python.exe -m pip install ipykernel -U --force-reinstall'"
          ]
        }
      ],
      "source": [
        "clean_df.to_csv('Personality_clusters.csv', index=False)"
      ]
    },
    {
      "cell_type": "markdown",
      "metadata": {
        "id": "8OojzdSnVlPe"
      },
      "source": [
        "##Analysing the Model and Predictions"
      ]
    },
    {
      "cell_type": "code",
      "execution_count": null,
      "metadata": {
        "colab": {
          "base_uri": "https://localhost:8080/"
        },
        "id": "1Va4byBfVoW9",
        "outputId": "a7dddd2a-3990-47e5-ae8d-34fc3b1108e1"
      },
      "outputs": [
        {
          "ename": "",
          "evalue": "",
          "output_type": "error",
          "traceback": [
            "\u001b[1;31mRunning cells with 'myenv' requires the ipykernel package.\n",
            "\u001b[1;31mRun the following command to install 'ipykernel' into the Python environment. \n",
            "\u001b[1;31mCommand: 'c:/Users/malee/Desktop/SLIIT/RP/2023-098/myenv/Scripts/python.exe -m pip install ipykernel -U --force-reinstall'"
          ]
        }
      ],
      "source": [
        "# get the number of individuals for each cluster\n",
        "\n",
        "clean_df.cluster.value_counts()"
      ]
    },
    {
      "cell_type": "code",
      "execution_count": null,
      "metadata": {
        "colab": {
          "base_uri": "https://localhost:8080/",
          "height": 302
        },
        "id": "lbApPxhxj61V",
        "outputId": "b0cab46a-cdf7-44a8-bb07-48a60486af4b"
      },
      "outputs": [
        {
          "ename": "",
          "evalue": "",
          "output_type": "error",
          "traceback": [
            "\u001b[1;31mRunning cells with 'myenv' requires the ipykernel package.\n",
            "\u001b[1;31mRun the following command to install 'ipykernel' into the Python environment. \n",
            "\u001b[1;31mCommand: 'c:/Users/malee/Desktop/SLIIT/RP/2023-098/myenv/Scripts/python.exe -m pip install ipykernel -U --force-reinstall'"
          ]
        }
      ],
      "source": [
        "# get the average answer to the each question group for each cluster.\n",
        "\n",
        "pd.options.display.max_columns = 150\n",
        "clean_df.groupby('cluster').mean()"
      ]
    },
    {
      "cell_type": "code",
      "execution_count": null,
      "metadata": {
        "colab": {
          "base_uri": "https://localhost:8080/",
          "height": 238
        },
        "id": "z2iqU-GvIbkC",
        "outputId": "fa6dfff9-4fdd-4b7b-c2a8-35b1cca816e3"
      },
      "outputs": [
        {
          "ename": "",
          "evalue": "",
          "output_type": "error",
          "traceback": [
            "\u001b[1;31mRunning cells with 'myenv' requires the ipykernel package.\n",
            "\u001b[1;31mRun the following command to install 'ipykernel' into the Python environment. \n",
            "\u001b[1;31mCommand: 'c:/Users/malee/Desktop/SLIIT/RP/2023-098/myenv/Scripts/python.exe -m pip install ipykernel -U --force-reinstall'"
          ]
        }
      ],
      "source": [
        "# get the average answer to the each question group for each response\n",
        "\n",
        "col_list = list(clean_df)\n",
        "ext = col_list[0:10]\n",
        "est = col_list[10:20]\n",
        "agr = col_list[20:30]\n",
        "csn = col_list[30:40]\n",
        "opn = col_list[40:50]\n",
        "\n",
        "data = pd.DataFrame()\n",
        "data['openness'] = clean_df[opn].sum(axis=1)/10\n",
        "data['conscientiousness'] = clean_df[csn].sum(axis=1)/10\n",
        "data['extraversion'] = clean_df[ext].sum(axis=1)/10\n",
        "data['agreeableness'] = clean_df[agr].sum(axis=1)/10\n",
        "data['neuroticism'] = clean_df[est].sum(axis=1)/10\n",
        "data['cluster'] = predictions\n",
        "data.groupby('cluster').mean()"
      ]
    },
    {
      "cell_type": "code",
      "execution_count": null,
      "metadata": {
        "colab": {
          "base_uri": "https://localhost:8080/",
          "height": 338
        },
        "id": "Wg3pPd1rj_aX",
        "outputId": "c50ef58b-779d-4a38-c404-ffdec70d234f"
      },
      "outputs": [
        {
          "ename": "",
          "evalue": "",
          "output_type": "error",
          "traceback": [
            "\u001b[1;31mRunning cells with 'myenv' requires the ipykernel package.\n",
            "\u001b[1;31mRun the following command to install 'ipykernel' into the Python environment. \n",
            "\u001b[1;31mCommand: 'c:/Users/malee/Desktop/SLIIT/RP/2023-098/myenv/Scripts/python.exe -m pip install ipykernel -U --force-reinstall'"
          ]
        }
      ],
      "source": [
        "# visualize the obtained the distribution of the Big Five personality ratings for each of the five clusters\n",
        "\n",
        "dataclusters = data.groupby('cluster').mean()\n",
        "plt.figure(figsize=(22,3))\n",
        "for i in range(0, 5):\n",
        "    plt.subplot(1,5,i+1)\n",
        "    plt.bar(dataclusters.columns, dataclusters.iloc[i, :], color='green', alpha=0.2)\n",
        "    plt.plot(dataclusters.columns, dataclusters.iloc[i, :], color='red')\n",
        "    plt.title('Cluster ' + str(i))\n",
        "    plt.xticks(rotation=45)\n",
        "    plt.ylim(0,4);\n",
        "\n",
        "print(dataclusters)"
      ]
    },
    {
      "cell_type": "markdown",
      "metadata": {
        "id": "vkQKKg1Mp6rT"
      },
      "source": [
        "##Visualizing the Clusters"
      ]
    },
    {
      "cell_type": "code",
      "execution_count": null,
      "metadata": {
        "colab": {
          "base_uri": "https://localhost:8080/",
          "height": 206
        },
        "id": "OaxUlHOWuAn1",
        "outputId": "1f1887ac-57ec-422e-b079-94b0c71ec72c"
      },
      "outputs": [
        {
          "ename": "",
          "evalue": "",
          "output_type": "error",
          "traceback": [
            "\u001b[1;31mRunning cells with 'myenv' requires the ipykernel package.\n",
            "\u001b[1;31mRun the following command to install 'ipykernel' into the Python environment. \n",
            "\u001b[1;31mCommand: 'c:/Users/malee/Desktop/SLIIT/RP/2023-098/myenv/Scripts/python.exe -m pip install ipykernel -U --force-reinstall'"
          ]
        }
      ],
      "source": [
        "# applying PCA to the data matrix to obtain the principal components - PCA is used for dimensionality reduction before applying k-means clustering\n",
        "from sklearn.decomposition import PCA\n",
        "\n",
        "pca = PCA(n_components=2)\n",
        "pca_fit = pca.fit_transform(clean_df)\n",
        "\n",
        "df_pca = pd.DataFrame(data=pca_fit, columns=['PCA1', 'PCA2'])\n",
        "df_pca['cluster'] = predictions\n",
        "df_pca.head()"
      ]
    },
    {
      "cell_type": "code",
      "execution_count": null,
      "metadata": {
        "colab": {
          "base_uri": "https://localhost:8080/",
          "height": 870
        },
        "id": "YE0WmVND8lmf",
        "outputId": "59091b0e-78b0-4838-c610-71d6b4798a29"
      },
      "outputs": [
        {
          "ename": "",
          "evalue": "",
          "output_type": "error",
          "traceback": [
            "\u001b[1;31mRunning cells with 'myenv' requires the ipykernel package.\n",
            "\u001b[1;31mRun the following command to install 'ipykernel' into the Python environment. \n",
            "\u001b[1;31mCommand: 'c:/Users/malee/Desktop/SLIIT/RP/2023-098/myenv/Scripts/python.exe -m pip install ipykernel -U --force-reinstall'"
          ]
        }
      ],
      "source": [
        "# visualize the five personality clusters after applying PCA\n",
        "\n",
        "plt.figure(figsize=(10,10))\n",
        "sns.scatterplot(data=df_pca, x='PCA1', y='PCA2', hue='cluster', palette='Set2', alpha=0.8)\n",
        "plt.title('Personality Clusters after PCA');"
      ]
    },
    {
      "cell_type": "markdown",
      "metadata": {
        "id": "p2Gcar5qp3H-"
      },
      "source": [
        "# Saving the model"
      ]
    },
    {
      "cell_type": "code",
      "execution_count": null,
      "metadata": {
        "colab": {
          "base_uri": "https://localhost:8080/"
        },
        "id": "ZuyogN8vTsB7",
        "outputId": "6c651b90-efc4-4493-9a6f-1c484d7a4993"
      },
      "outputs": [
        {
          "ename": "",
          "evalue": "",
          "output_type": "error",
          "traceback": [
            "\u001b[1;31mRunning cells with 'myenv' requires the ipykernel package.\n",
            "\u001b[1;31mRun the following command to install 'ipykernel' into the Python environment. \n",
            "\u001b[1;31mCommand: 'c:/Users/malee/Desktop/SLIIT/RP/2023-098/myenv/Scripts/python.exe -m pip install ipykernel -U --force-reinstall'"
          ]
        }
      ],
      "source": [
        "import pickle\n",
        "from sklearn.cluster import KMeans\n",
        "\n",
        "# Save the model to a pickle file\n",
        "with open('kmeans_model.pkl', 'wb') as file:\n",
        "    pickle.dump(k_fit, file)\n",
        "\n",
        "print(\"K-means model saved successfully.\")"
      ]
    },
    {
      "cell_type": "code",
      "execution_count": null,
      "metadata": {
        "id": "ta1Z6PU-c6hr"
      },
      "outputs": [
        {
          "ename": "",
          "evalue": "",
          "output_type": "error",
          "traceback": [
            "\u001b[1;31mRunning cells with 'myenv' requires the ipykernel package.\n",
            "\u001b[1;31mRun the following command to install 'ipykernel' into the Python environment. \n",
            "\u001b[1;31mCommand: 'c:/Users/malee/Desktop/SLIIT/RP/2023-098/myenv/Scripts/python.exe -m pip install ipykernel -U --force-reinstall'"
          ]
        }
      ],
      "source": [
        "#######################################################################################################################"
      ]
    },
    {
      "cell_type": "code",
      "execution_count": null,
      "metadata": {
        "colab": {
          "base_uri": "https://localhost:8080/"
        },
        "id": "Y_s5D5qOSwZ3",
        "outputId": "7fd8985d-2f19-48f4-9527-8adf66e2dc8d"
      },
      "outputs": [
        {
          "ename": "",
          "evalue": "",
          "output_type": "error",
          "traceback": [
            "\u001b[1;31mRunning cells with 'myenv' requires the ipykernel package.\n",
            "\u001b[1;31mRun the following command to install 'ipykernel' into the Python environment. \n",
            "\u001b[1;31mCommand: 'c:/Users/malee/Desktop/SLIIT/RP/2023-098/myenv/Scripts/python.exe -m pip install ipykernel -U --force-reinstall'"
          ]
        }
      ],
      "source": [
        "# connecting to google drive\n",
        "\n",
        "from google.colab import drive\n",
        "drive.mount('/content/drive')\n",
        "\n",
        "%cd /content/drive/MyDrive/Intellihire"
      ]
    },
    {
      "cell_type": "code",
      "execution_count": null,
      "metadata": {
        "colab": {
          "base_uri": "https://localhost:8080/",
          "height": 176
        },
        "id": "cNZz2LXyXR_R",
        "outputId": "0612b37a-6a11-4521-90a9-97c7867d0192"
      },
      "outputs": [
        {
          "ename": "",
          "evalue": "",
          "output_type": "error",
          "traceback": [
            "\u001b[1;31mRunning cells with 'myenv' requires the ipykernel package.\n",
            "\u001b[1;31mRun the following command to install 'ipykernel' into the Python environment. \n",
            "\u001b[1;31mCommand: 'c:/Users/malee/Desktop/SLIIT/RP/2023-098/myenv/Scripts/python.exe -m pip install ipykernel -U --force-reinstall'"
          ]
        }
      ],
      "source": [
        "# load the CSV file into a Pandas DataFrame\n",
        "\n",
        "responses = pd.read_csv('/content/drive/MyDrive/Intellihire/Responses.csv', header=None)\n",
        "responses"
      ]
    },
    {
      "cell_type": "code",
      "execution_count": null,
      "metadata": {
        "colab": {
          "base_uri": "https://localhost:8080/"
        },
        "id": "KHUuWngocl_u",
        "outputId": "c7f75421-e4a8-4835-c24e-e9f7ce486b6c"
      },
      "outputs": [
        {
          "ename": "",
          "evalue": "",
          "output_type": "error",
          "traceback": [
            "\u001b[1;31mRunning cells with 'myenv' requires the ipykernel package.\n",
            "\u001b[1;31mRun the following command to install 'ipykernel' into the Python environment. \n",
            "\u001b[1;31mCommand: 'c:/Users/malee/Desktop/SLIIT/RP/2023-098/myenv/Scripts/python.exe -m pip install ipykernel -U --force-reinstall'"
          ]
        }
      ],
      "source": [
        "import pickle\n",
        "\n",
        "# Load the model from the pickle file\n",
        "model = pickle.load(open('kmeans_model.pkl', 'rb'))\n",
        "print(model.predict([[4,3,2,1,3,3,2,2,1,4,3,5,5,4,5,5,5,4,4,4,5,3,3,4,5,4,3,2,1,3,3,2,2,1,4,3,5,5,4,5,5,5,4,4,4,5,3,3,4,5]]))"
      ]
    }
  ],
  "metadata": {
    "accelerator": "GPU",
    "colab": {
      "provenance": [],
      "toc_visible": true
    },
    "gpuClass": "standard",
    "kernelspec": {
      "display_name": "Python 3",
      "name": "python3"
    },
    "language_info": {
      "name": "python",
      "version": "3.10.5"
    }
  },
  "nbformat": 4,
  "nbformat_minor": 0
}
