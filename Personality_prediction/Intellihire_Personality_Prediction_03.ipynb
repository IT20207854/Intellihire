{
  "nbformat": 4,
  "nbformat_minor": 0,
  "metadata": {
    "colab": {
      "provenance": [],
      "toc_visible": true
    },
    "kernelspec": {
      "name": "python3",
      "display_name": "Python 3"
    },
    "language_info": {
      "name": "python"
    }
  },
  "cells": [
    {
      "cell_type": "markdown",
      "source": [
        "# Importing necessary libraries and downloading necessary packages"
      ],
      "metadata": {
        "id": "NtbNmSwzY1ea"
      }
    },
    {
      "cell_type": "code",
      "source": [
        "import pandas as pd\n",
        "import numpy as np\n",
        "import matplotlib.pyplot as plt\n",
        "import pickle\n",
        "\n",
        "# model training\n",
        "import xgboost as xgb\n",
        "from sklearn.ensemble import RandomForestClassifier\n",
        "from sklearn.svm import SVC\n",
        "from sklearn.naive_bayes import GaussianNB\n",
        "from sklearn.model_selection import cross_val_score\n",
        "from sklearn.model_selection import train_test_split\n",
        "from sklearn.metrics import accuracy_score"
      ],
      "metadata": {
        "id": "3DH3NPrVhQez"
      },
      "execution_count": 30,
      "outputs": []
    },
    {
      "cell_type": "markdown",
      "source": [
        "# Preparing the Data"
      ],
      "metadata": {
        "id": "fEwcZ45ngk33"
      }
    },
    {
      "cell_type": "markdown",
      "source": [
        "##Loading the Expected Personality Requirement"
      ],
      "metadata": {
        "id": "pbXfIDsxBuhp"
      }
    },
    {
      "cell_type": "code",
      "source": [
        "# connecting to google drive\n",
        "\n",
        "from google.colab import drive\n",
        "drive.mount('/content/drive')\n",
        "\n",
        "%cd /content/drive/MyDrive/Intellihire"
      ],
      "metadata": {
        "colab": {
          "base_uri": "https://localhost:8080/"
        },
        "id": "ILSqMa_zgh4x",
        "outputId": "2522bdcd-473c-41ac-a868-87a671196fb1"
      },
      "execution_count": 31,
      "outputs": [
        {
          "output_type": "stream",
          "name": "stdout",
          "text": [
            "Drive already mounted at /content/drive; to attempt to forcibly remount, call drive.mount(\"/content/drive\", force_remount=True).\n",
            "/content/drive/MyDrive/Intellihire\n"
          ]
        }
      ]
    },
    {
      "cell_type": "code",
      "source": [
        "# # Load the CSV file into a Pandas DataFrame\n",
        "\n",
        "df = pd.read_csv('Personality_Requirements.csv')"
      ],
      "metadata": {
        "id": "b5zTdY60gjWx"
      },
      "execution_count": 32,
      "outputs": []
    },
    {
      "cell_type": "code",
      "source": [
        "# df = pd.DataFrame({\n",
        "#     'Position of Interest': 'Associate Software Engineer',\n",
        "#     'Innovative': [5],\n",
        "#     'Fast learner': [4],\n",
        "#     'Organization skills': [3],\n",
        "#     'Attention to detail': [4],\n",
        "#     'Assertiveness':  [2],\n",
        "#     'Leadership skills':  [2],\n",
        "#     'Team Player':  [5],\n",
        "#     'Communication skills':  [3],\n",
        "#     'Confidence':  [3],\n",
        "#     'Adaptability to changes':  [4] \n",
        "# })"
      ],
      "metadata": {
        "id": "zxDJ8-d6jsqq"
      },
      "execution_count": 33,
      "outputs": []
    },
    {
      "cell_type": "code",
      "source": [
        "# print the data  without the first column\n",
        "\n",
        "# data = (df.iloc[:, 1:])\n",
        "data = (df.iloc[1, 1:])\n",
        "print(data)"
      ],
      "metadata": {
        "colab": {
          "base_uri": "https://localhost:8080/"
        },
        "id": "IXDhItEVgKMN",
        "outputId": "c806dd52-75c0-4f1d-f3b7-44d743acc291"
      },
      "execution_count": 34,
      "outputs": [
        {
          "output_type": "stream",
          "name": "stdout",
          "text": [
            "Innovative                 3\n",
            "Fast learner               2\n",
            "Organization skills        5\n",
            "Attention to detail        2\n",
            "Assertiveness              4\n",
            "Leadership skills          5\n",
            "Team Player                5\n",
            "Communication skills       5\n",
            "Confidence                 4\n",
            "Adaptability to changes    3\n",
            "Name: 1, dtype: object\n"
          ]
        }
      ]
    },
    {
      "cell_type": "markdown",
      "source": [
        "##Mapping the Expected Personality Requirements with the Big Five Traits"
      ],
      "metadata": {
        "id": "p0hdhhCkiBOA"
      }
    },
    {
      "cell_type": "code",
      "source": [
        "# OPENNESS:\n",
        "# Fast learner\t\n",
        "# Innovative\n",
        "\n",
        "# CONCIENTIOUSSNESS:\n",
        "# Attention to Detail\n",
        "# Organization skills\t\n",
        "\n",
        "# EXTRAVERSION:\n",
        "# Communication skills\t\n",
        "# Team Player\t\n",
        "\n",
        "# AGREEABLENESS:\n",
        "# Interpersonal Skills\t\n",
        "# Analytical and Problem Solving Skills\t\n",
        "\n",
        "# NEUROTICISM:\n",
        "# Adaptability to changes\t\n",
        "# Confidence"
      ],
      "metadata": {
        "id": "YJmhATtxkTQr"
      },
      "execution_count": 35,
      "outputs": []
    },
    {
      "cell_type": "code",
      "source": [
        "# create an empty dataframe to hold the final expected values for the Big Five traits \n",
        "expected = pd.DataFrame()"
      ],
      "metadata": {
        "id": "46sxVBuClm-Z"
      },
      "execution_count": 36,
      "outputs": []
    },
    {
      "cell_type": "code",
      "source": [
        "# Map the personality requirements with Big Five Traits\n",
        "\n",
        "expected['openness'] = [(data['Fast learner'] + data['Innovative'])/2]\n",
        "expected['conscientiousness'] = [(data['Attention to detail'] + data['Organization skills'])/2]\n",
        "expected['extraversion'] = [(data['Assertiveness'] + data['Leadership skills'])/2]\n",
        "expected['agreeableness'] = [(data['Team Player'] + data['Communication skills'])/2]\n",
        "expected['neuroticism'] = [(data['Confidence'] + data['Adaptability to changes'])/2]\n",
        "\n",
        "# Show the updated DataFrame\n",
        "print(expected)"
      ],
      "metadata": {
        "colab": {
          "base_uri": "https://localhost:8080/"
        },
        "id": "8mC-0hOLk_-2",
        "outputId": "df07f9aa-7d6e-4157-cf8f-73e7260490cf"
      },
      "execution_count": 37,
      "outputs": [
        {
          "output_type": "stream",
          "name": "stdout",
          "text": [
            "   openness  conscientiousness  extraversion  agreeableness  neuroticism\n",
            "0       2.5                3.5           4.5            5.0          3.5\n"
          ]
        }
      ]
    },
    {
      "cell_type": "markdown",
      "source": [
        "##Loading the Candidate Personality"
      ],
      "metadata": {
        "id": "cSpDdIVFroYP"
      }
    },
    {
      "cell_type": "code",
      "source": [
        "# Load the CSV file containing candidate score for mcq questions\n",
        "mcq_scores = pd.read_csv('mcq_scores.csv')\n",
        "mcq_scores"
      ],
      "metadata": {
        "id": "pKSp_WKnYEW6",
        "colab": {
          "base_uri": "https://localhost:8080/",
          "height": 81
        },
        "outputId": "9e918fda-bd99-4655-808f-50af46b533a2"
      },
      "execution_count": 38,
      "outputs": [
        {
          "output_type": "execute_result",
          "data": {
            "text/plain": [
              "   openness  conscientiousness  extraversion  agreeableness  neuroticism\n",
              "0       3.4                3.3           2.9            3.2          2.6"
            ],
            "text/html": [
              "\n",
              "  <div id=\"df-76209709-3214-4ea8-b89d-5f3d5ebcb37e\">\n",
              "    <div class=\"colab-df-container\">\n",
              "      <div>\n",
              "<style scoped>\n",
              "    .dataframe tbody tr th:only-of-type {\n",
              "        vertical-align: middle;\n",
              "    }\n",
              "\n",
              "    .dataframe tbody tr th {\n",
              "        vertical-align: top;\n",
              "    }\n",
              "\n",
              "    .dataframe thead th {\n",
              "        text-align: right;\n",
              "    }\n",
              "</style>\n",
              "<table border=\"1\" class=\"dataframe\">\n",
              "  <thead>\n",
              "    <tr style=\"text-align: right;\">\n",
              "      <th></th>\n",
              "      <th>openness</th>\n",
              "      <th>conscientiousness</th>\n",
              "      <th>extraversion</th>\n",
              "      <th>agreeableness</th>\n",
              "      <th>neuroticism</th>\n",
              "    </tr>\n",
              "  </thead>\n",
              "  <tbody>\n",
              "    <tr>\n",
              "      <th>0</th>\n",
              "      <td>3.4</td>\n",
              "      <td>3.3</td>\n",
              "      <td>2.9</td>\n",
              "      <td>3.2</td>\n",
              "      <td>2.6</td>\n",
              "    </tr>\n",
              "  </tbody>\n",
              "</table>\n",
              "</div>\n",
              "      <button class=\"colab-df-convert\" onclick=\"convertToInteractive('df-76209709-3214-4ea8-b89d-5f3d5ebcb37e')\"\n",
              "              title=\"Convert this dataframe to an interactive table.\"\n",
              "              style=\"display:none;\">\n",
              "        \n",
              "  <svg xmlns=\"http://www.w3.org/2000/svg\" height=\"24px\"viewBox=\"0 0 24 24\"\n",
              "       width=\"24px\">\n",
              "    <path d=\"M0 0h24v24H0V0z\" fill=\"none\"/>\n",
              "    <path d=\"M18.56 5.44l.94 2.06.94-2.06 2.06-.94-2.06-.94-.94-2.06-.94 2.06-2.06.94zm-11 1L8.5 8.5l.94-2.06 2.06-.94-2.06-.94L8.5 2.5l-.94 2.06-2.06.94zm10 10l.94 2.06.94-2.06 2.06-.94-2.06-.94-.94-2.06-.94 2.06-2.06.94z\"/><path d=\"M17.41 7.96l-1.37-1.37c-.4-.4-.92-.59-1.43-.59-.52 0-1.04.2-1.43.59L10.3 9.45l-7.72 7.72c-.78.78-.78 2.05 0 2.83L4 21.41c.39.39.9.59 1.41.59.51 0 1.02-.2 1.41-.59l7.78-7.78 2.81-2.81c.8-.78.8-2.07 0-2.86zM5.41 20L4 18.59l7.72-7.72 1.47 1.35L5.41 20z\"/>\n",
              "  </svg>\n",
              "      </button>\n",
              "      \n",
              "  <style>\n",
              "    .colab-df-container {\n",
              "      display:flex;\n",
              "      flex-wrap:wrap;\n",
              "      gap: 12px;\n",
              "    }\n",
              "\n",
              "    .colab-df-convert {\n",
              "      background-color: #E8F0FE;\n",
              "      border: none;\n",
              "      border-radius: 50%;\n",
              "      cursor: pointer;\n",
              "      display: none;\n",
              "      fill: #1967D2;\n",
              "      height: 32px;\n",
              "      padding: 0 0 0 0;\n",
              "      width: 32px;\n",
              "    }\n",
              "\n",
              "    .colab-df-convert:hover {\n",
              "      background-color: #E2EBFA;\n",
              "      box-shadow: 0px 1px 2px rgba(60, 64, 67, 0.3), 0px 1px 3px 1px rgba(60, 64, 67, 0.15);\n",
              "      fill: #174EA6;\n",
              "    }\n",
              "\n",
              "    [theme=dark] .colab-df-convert {\n",
              "      background-color: #3B4455;\n",
              "      fill: #D2E3FC;\n",
              "    }\n",
              "\n",
              "    [theme=dark] .colab-df-convert:hover {\n",
              "      background-color: #434B5C;\n",
              "      box-shadow: 0px 1px 3px 1px rgba(0, 0, 0, 0.15);\n",
              "      filter: drop-shadow(0px 1px 2px rgba(0, 0, 0, 0.3));\n",
              "      fill: #FFFFFF;\n",
              "    }\n",
              "  </style>\n",
              "\n",
              "      <script>\n",
              "        const buttonEl =\n",
              "          document.querySelector('#df-76209709-3214-4ea8-b89d-5f3d5ebcb37e button.colab-df-convert');\n",
              "        buttonEl.style.display =\n",
              "          google.colab.kernel.accessAllowed ? 'block' : 'none';\n",
              "\n",
              "        async function convertToInteractive(key) {\n",
              "          const element = document.querySelector('#df-76209709-3214-4ea8-b89d-5f3d5ebcb37e');\n",
              "          const dataTable =\n",
              "            await google.colab.kernel.invokeFunction('convertToInteractive',\n",
              "                                                     [key], {});\n",
              "          if (!dataTable) return;\n",
              "\n",
              "          const docLinkHtml = 'Like what you see? Visit the ' +\n",
              "            '<a target=\"_blank\" href=https://colab.research.google.com/notebooks/data_table.ipynb>data table notebook</a>'\n",
              "            + ' to learn more about interactive tables.';\n",
              "          element.innerHTML = '';\n",
              "          dataTable['output_type'] = 'display_data';\n",
              "          await google.colab.output.renderOutput(dataTable, element);\n",
              "          const docLink = document.createElement('div');\n",
              "          docLink.innerHTML = docLinkHtml;\n",
              "          element.appendChild(docLink);\n",
              "        }\n",
              "      </script>\n",
              "    </div>\n",
              "  </div>\n",
              "  "
            ]
          },
          "metadata": {},
          "execution_count": 38
        }
      ]
    },
    {
      "cell_type": "code",
      "source": [
        "# Load the CSV file containing candidate score for open-ended questions\n",
        "open_ended_scores = pd.read_csv('candidate_scores.csv')\n",
        "open_ended_scores"
      ],
      "metadata": {
        "colab": {
          "base_uri": "https://localhost:8080/",
          "height": 81
        },
        "id": "ubLdS1yeRYcS",
        "outputId": "68667d01-16e4-4b75-a97c-2145c24391f6"
      },
      "execution_count": 39,
      "outputs": [
        {
          "output_type": "execute_result",
          "data": {
            "text/plain": [
              "   openness  conscientiousness  extraversion  agreeableness  neuroticism\n",
              "0  2.857143                2.5      1.666667            3.5     1.666667"
            ],
            "text/html": [
              "\n",
              "  <div id=\"df-bfb65753-633a-4713-a6fa-62b3151b31b8\">\n",
              "    <div class=\"colab-df-container\">\n",
              "      <div>\n",
              "<style scoped>\n",
              "    .dataframe tbody tr th:only-of-type {\n",
              "        vertical-align: middle;\n",
              "    }\n",
              "\n",
              "    .dataframe tbody tr th {\n",
              "        vertical-align: top;\n",
              "    }\n",
              "\n",
              "    .dataframe thead th {\n",
              "        text-align: right;\n",
              "    }\n",
              "</style>\n",
              "<table border=\"1\" class=\"dataframe\">\n",
              "  <thead>\n",
              "    <tr style=\"text-align: right;\">\n",
              "      <th></th>\n",
              "      <th>openness</th>\n",
              "      <th>conscientiousness</th>\n",
              "      <th>extraversion</th>\n",
              "      <th>agreeableness</th>\n",
              "      <th>neuroticism</th>\n",
              "    </tr>\n",
              "  </thead>\n",
              "  <tbody>\n",
              "    <tr>\n",
              "      <th>0</th>\n",
              "      <td>2.857143</td>\n",
              "      <td>2.5</td>\n",
              "      <td>1.666667</td>\n",
              "      <td>3.5</td>\n",
              "      <td>1.666667</td>\n",
              "    </tr>\n",
              "  </tbody>\n",
              "</table>\n",
              "</div>\n",
              "      <button class=\"colab-df-convert\" onclick=\"convertToInteractive('df-bfb65753-633a-4713-a6fa-62b3151b31b8')\"\n",
              "              title=\"Convert this dataframe to an interactive table.\"\n",
              "              style=\"display:none;\">\n",
              "        \n",
              "  <svg xmlns=\"http://www.w3.org/2000/svg\" height=\"24px\"viewBox=\"0 0 24 24\"\n",
              "       width=\"24px\">\n",
              "    <path d=\"M0 0h24v24H0V0z\" fill=\"none\"/>\n",
              "    <path d=\"M18.56 5.44l.94 2.06.94-2.06 2.06-.94-2.06-.94-.94-2.06-.94 2.06-2.06.94zm-11 1L8.5 8.5l.94-2.06 2.06-.94-2.06-.94L8.5 2.5l-.94 2.06-2.06.94zm10 10l.94 2.06.94-2.06 2.06-.94-2.06-.94-.94-2.06-.94 2.06-2.06.94z\"/><path d=\"M17.41 7.96l-1.37-1.37c-.4-.4-.92-.59-1.43-.59-.52 0-1.04.2-1.43.59L10.3 9.45l-7.72 7.72c-.78.78-.78 2.05 0 2.83L4 21.41c.39.39.9.59 1.41.59.51 0 1.02-.2 1.41-.59l7.78-7.78 2.81-2.81c.8-.78.8-2.07 0-2.86zM5.41 20L4 18.59l7.72-7.72 1.47 1.35L5.41 20z\"/>\n",
              "  </svg>\n",
              "      </button>\n",
              "      \n",
              "  <style>\n",
              "    .colab-df-container {\n",
              "      display:flex;\n",
              "      flex-wrap:wrap;\n",
              "      gap: 12px;\n",
              "    }\n",
              "\n",
              "    .colab-df-convert {\n",
              "      background-color: #E8F0FE;\n",
              "      border: none;\n",
              "      border-radius: 50%;\n",
              "      cursor: pointer;\n",
              "      display: none;\n",
              "      fill: #1967D2;\n",
              "      height: 32px;\n",
              "      padding: 0 0 0 0;\n",
              "      width: 32px;\n",
              "    }\n",
              "\n",
              "    .colab-df-convert:hover {\n",
              "      background-color: #E2EBFA;\n",
              "      box-shadow: 0px 1px 2px rgba(60, 64, 67, 0.3), 0px 1px 3px 1px rgba(60, 64, 67, 0.15);\n",
              "      fill: #174EA6;\n",
              "    }\n",
              "\n",
              "    [theme=dark] .colab-df-convert {\n",
              "      background-color: #3B4455;\n",
              "      fill: #D2E3FC;\n",
              "    }\n",
              "\n",
              "    [theme=dark] .colab-df-convert:hover {\n",
              "      background-color: #434B5C;\n",
              "      box-shadow: 0px 1px 3px 1px rgba(0, 0, 0, 0.15);\n",
              "      filter: drop-shadow(0px 1px 2px rgba(0, 0, 0, 0.3));\n",
              "      fill: #FFFFFF;\n",
              "    }\n",
              "  </style>\n",
              "\n",
              "      <script>\n",
              "        const buttonEl =\n",
              "          document.querySelector('#df-bfb65753-633a-4713-a6fa-62b3151b31b8 button.colab-df-convert');\n",
              "        buttonEl.style.display =\n",
              "          google.colab.kernel.accessAllowed ? 'block' : 'none';\n",
              "\n",
              "        async function convertToInteractive(key) {\n",
              "          const element = document.querySelector('#df-bfb65753-633a-4713-a6fa-62b3151b31b8');\n",
              "          const dataTable =\n",
              "            await google.colab.kernel.invokeFunction('convertToInteractive',\n",
              "                                                     [key], {});\n",
              "          if (!dataTable) return;\n",
              "\n",
              "          const docLinkHtml = 'Like what you see? Visit the ' +\n",
              "            '<a target=\"_blank\" href=https://colab.research.google.com/notebooks/data_table.ipynb>data table notebook</a>'\n",
              "            + ' to learn more about interactive tables.';\n",
              "          element.innerHTML = '';\n",
              "          dataTable['output_type'] = 'display_data';\n",
              "          await google.colab.output.renderOutput(dataTable, element);\n",
              "          const docLink = document.createElement('div');\n",
              "          docLink.innerHTML = docLinkHtml;\n",
              "          element.appendChild(docLink);\n",
              "        }\n",
              "      </script>\n",
              "    </div>\n",
              "  </div>\n",
              "  "
            ]
          },
          "metadata": {},
          "execution_count": 39
        }
      ]
    },
    {
      "cell_type": "code",
      "source": [
        "# Combining the 2 scores to get a final score for the candidate's Big Five Traits\n",
        "candidate_scores = pd.DataFrame()\n",
        "candidate_scores['openness'] = (mcq_scores['openness'] + open_ended_scores['openness'])/2\n",
        "candidate_scores['conscientiousness'] = (mcq_scores['conscientiousness'] + open_ended_scores['conscientiousness'])/2\n",
        "candidate_scores['extraversion'] = (mcq_scores['extraversion'] + open_ended_scores['extraversion'])/2\n",
        "candidate_scores['agreeableness'] = (mcq_scores['agreeableness'] + open_ended_scores['agreeableness'])/2\n",
        "candidate_scores['neuroticism'] = (mcq_scores['neuroticism'] + open_ended_scores['neuroticism'])/2"
      ],
      "metadata": {
        "id": "QDyQZ0WkR3zY"
      },
      "execution_count": 40,
      "outputs": []
    },
    {
      "cell_type": "code",
      "source": [
        "candidate_scores"
      ],
      "metadata": {
        "colab": {
          "base_uri": "https://localhost:8080/",
          "height": 81
        },
        "id": "PhgB4kczS7My",
        "outputId": "d0bec775-52ad-4c9f-8a94-6e72ed2447f2"
      },
      "execution_count": 41,
      "outputs": [
        {
          "output_type": "execute_result",
          "data": {
            "text/plain": [
              "   openness  conscientiousness  extraversion  agreeableness  neuroticism\n",
              "0  3.128571                2.9      2.283333           3.35     2.133333"
            ],
            "text/html": [
              "\n",
              "  <div id=\"df-90040ef2-a8e1-41c4-b741-15c08fb9981f\">\n",
              "    <div class=\"colab-df-container\">\n",
              "      <div>\n",
              "<style scoped>\n",
              "    .dataframe tbody tr th:only-of-type {\n",
              "        vertical-align: middle;\n",
              "    }\n",
              "\n",
              "    .dataframe tbody tr th {\n",
              "        vertical-align: top;\n",
              "    }\n",
              "\n",
              "    .dataframe thead th {\n",
              "        text-align: right;\n",
              "    }\n",
              "</style>\n",
              "<table border=\"1\" class=\"dataframe\">\n",
              "  <thead>\n",
              "    <tr style=\"text-align: right;\">\n",
              "      <th></th>\n",
              "      <th>openness</th>\n",
              "      <th>conscientiousness</th>\n",
              "      <th>extraversion</th>\n",
              "      <th>agreeableness</th>\n",
              "      <th>neuroticism</th>\n",
              "    </tr>\n",
              "  </thead>\n",
              "  <tbody>\n",
              "    <tr>\n",
              "      <th>0</th>\n",
              "      <td>3.128571</td>\n",
              "      <td>2.9</td>\n",
              "      <td>2.283333</td>\n",
              "      <td>3.35</td>\n",
              "      <td>2.133333</td>\n",
              "    </tr>\n",
              "  </tbody>\n",
              "</table>\n",
              "</div>\n",
              "      <button class=\"colab-df-convert\" onclick=\"convertToInteractive('df-90040ef2-a8e1-41c4-b741-15c08fb9981f')\"\n",
              "              title=\"Convert this dataframe to an interactive table.\"\n",
              "              style=\"display:none;\">\n",
              "        \n",
              "  <svg xmlns=\"http://www.w3.org/2000/svg\" height=\"24px\"viewBox=\"0 0 24 24\"\n",
              "       width=\"24px\">\n",
              "    <path d=\"M0 0h24v24H0V0z\" fill=\"none\"/>\n",
              "    <path d=\"M18.56 5.44l.94 2.06.94-2.06 2.06-.94-2.06-.94-.94-2.06-.94 2.06-2.06.94zm-11 1L8.5 8.5l.94-2.06 2.06-.94-2.06-.94L8.5 2.5l-.94 2.06-2.06.94zm10 10l.94 2.06.94-2.06 2.06-.94-2.06-.94-.94-2.06-.94 2.06-2.06.94z\"/><path d=\"M17.41 7.96l-1.37-1.37c-.4-.4-.92-.59-1.43-.59-.52 0-1.04.2-1.43.59L10.3 9.45l-7.72 7.72c-.78.78-.78 2.05 0 2.83L4 21.41c.39.39.9.59 1.41.59.51 0 1.02-.2 1.41-.59l7.78-7.78 2.81-2.81c.8-.78.8-2.07 0-2.86zM5.41 20L4 18.59l7.72-7.72 1.47 1.35L5.41 20z\"/>\n",
              "  </svg>\n",
              "      </button>\n",
              "      \n",
              "  <style>\n",
              "    .colab-df-container {\n",
              "      display:flex;\n",
              "      flex-wrap:wrap;\n",
              "      gap: 12px;\n",
              "    }\n",
              "\n",
              "    .colab-df-convert {\n",
              "      background-color: #E8F0FE;\n",
              "      border: none;\n",
              "      border-radius: 50%;\n",
              "      cursor: pointer;\n",
              "      display: none;\n",
              "      fill: #1967D2;\n",
              "      height: 32px;\n",
              "      padding: 0 0 0 0;\n",
              "      width: 32px;\n",
              "    }\n",
              "\n",
              "    .colab-df-convert:hover {\n",
              "      background-color: #E2EBFA;\n",
              "      box-shadow: 0px 1px 2px rgba(60, 64, 67, 0.3), 0px 1px 3px 1px rgba(60, 64, 67, 0.15);\n",
              "      fill: #174EA6;\n",
              "    }\n",
              "\n",
              "    [theme=dark] .colab-df-convert {\n",
              "      background-color: #3B4455;\n",
              "      fill: #D2E3FC;\n",
              "    }\n",
              "\n",
              "    [theme=dark] .colab-df-convert:hover {\n",
              "      background-color: #434B5C;\n",
              "      box-shadow: 0px 1px 3px 1px rgba(0, 0, 0, 0.15);\n",
              "      filter: drop-shadow(0px 1px 2px rgba(0, 0, 0, 0.3));\n",
              "      fill: #FFFFFF;\n",
              "    }\n",
              "  </style>\n",
              "\n",
              "      <script>\n",
              "        const buttonEl =\n",
              "          document.querySelector('#df-90040ef2-a8e1-41c4-b741-15c08fb9981f button.colab-df-convert');\n",
              "        buttonEl.style.display =\n",
              "          google.colab.kernel.accessAllowed ? 'block' : 'none';\n",
              "\n",
              "        async function convertToInteractive(key) {\n",
              "          const element = document.querySelector('#df-90040ef2-a8e1-41c4-b741-15c08fb9981f');\n",
              "          const dataTable =\n",
              "            await google.colab.kernel.invokeFunction('convertToInteractive',\n",
              "                                                     [key], {});\n",
              "          if (!dataTable) return;\n",
              "\n",
              "          const docLinkHtml = 'Like what you see? Visit the ' +\n",
              "            '<a target=\"_blank\" href=https://colab.research.google.com/notebooks/data_table.ipynb>data table notebook</a>'\n",
              "            + ' to learn more about interactive tables.';\n",
              "          element.innerHTML = '';\n",
              "          dataTable['output_type'] = 'display_data';\n",
              "          await google.colab.output.renderOutput(dataTable, element);\n",
              "          const docLink = document.createElement('div');\n",
              "          docLink.innerHTML = docLinkHtml;\n",
              "          element.appendChild(docLink);\n",
              "        }\n",
              "      </script>\n",
              "    </div>\n",
              "  </div>\n",
              "  "
            ]
          },
          "metadata": {},
          "execution_count": 41
        }
      ]
    },
    {
      "cell_type": "markdown",
      "source": [
        "# Expected vs Candidate Traits"
      ],
      "metadata": {
        "id": "usRxwhtdmFb_"
      }
    },
    {
      "cell_type": "markdown",
      "source": [
        "##Plotting the Expected Personality Traits"
      ],
      "metadata": {
        "id": "LJxzXSbtA0IB"
      }
    },
    {
      "cell_type": "code",
      "source": [
        "# Create a vertical bar plot\n",
        "plt.bar(x=expected.columns, height=expected.values[0], color='green')\n",
        "\n",
        "# Set the y-axis label\n",
        "plt.ylabel('Score')\n",
        "\n",
        "# Rotate the x-axis labels\n",
        "plt.xticks(rotation=90)\n",
        "\n",
        "# Add a title to the plot\n",
        "plt.title('Expected Personality Traits')\n",
        "\n",
        "# Show the plot\n",
        "plt.show()"
      ],
      "metadata": {
        "colab": {
          "base_uri": "https://localhost:8080/",
          "height": 564
        },
        "id": "j_iX0wdveZQO",
        "outputId": "7535ffee-05bd-4941-af95-08f28f9f0b05"
      },
      "execution_count": 42,
      "outputs": [
        {
          "output_type": "display_data",
          "data": {
            "text/plain": [
              "<Figure size 640x480 with 1 Axes>"
            ],
            "image/png": "[encoded data removed]"
          },
          "metadata": {}
        }
      ]
    },
    {
      "cell_type": "markdown",
      "source": [
        "##Plotting the Candididate Personality Traits"
      ],
      "metadata": {
        "id": "ooI8B96BBOOp"
      }
    },
    {
      "cell_type": "code",
      "source": [
        "# Create a vertical bar plot\n",
        "plt.bar(x=candidate_scores.columns, height=candidate_scores.values[0], color='orange')\n",
        "\n",
        "# Set the y-axis label\n",
        "plt.ylabel('Score')\n",
        "\n",
        "# Rotate the x-axis labels\n",
        "plt.xticks(rotation=90)\n",
        "\n",
        "# Add a title to the plot\n",
        "plt.title('Candidate Personality Traits')\n",
        "\n",
        "# Show the plot\n",
        "plt.show()"
      ],
      "metadata": {
        "colab": {
          "base_uri": "https://localhost:8080/",
          "height": 564
        },
        "id": "sEWw8FGjcb2G",
        "outputId": "7ae2ad16-68a4-4997-bca3-894a96e8cc37"
      },
      "execution_count": 43,
      "outputs": [
        {
          "output_type": "display_data",
          "data": {
            "text/plain": [
              "<Figure size 640x480 with 1 Axes>"
            ],
            "image/png": "[encoded data removed]"
          },
          "metadata": {}
        }
      ]
    },
    {
      "cell_type": "code",
      "source": [
        "# Create a list of column names for the data frames\n",
        "columns = list(expected.columns)\n",
        "\n",
        "# Add the first column name to the end of the list to create a closed loop for the radar chart\n",
        "columns.append(columns[0])\n",
        "\n",
        "# Get the values of the data frames as arrays\n",
        "values1 = np.array(expected.iloc[0])\n",
        "values2 = np.array(candidate_scores.iloc[0])\n",
        "\n",
        "# Add the first value to the end of the array to create a closed loop for the radar chart\n",
        "values1 = np.append(values1, values1[0])\n",
        "values2 = np.append(values2, values2[0])\n",
        "\n",
        "# Set the angle values for the radar chart\n",
        "angles = np.linspace(0, 2 * np.pi, len(columns), endpoint=False)\n",
        "\n",
        "# Create a radar chart for the first data frame\n",
        "fig = plt.figure(figsize=(6, 6))\n",
        "ax = fig.add_subplot(111, polar=True)\n",
        "ax.plot(angles, values1, 'o-', linewidth=2, label=\"Expected Scores\")\n",
        "ax.fill(angles, values1, alpha=0.25)\n",
        "ax.set_thetagrids(angles * 180/np.pi, columns)\n",
        "ax.set_title(\"Big Five Trait Distribution: Expected vs Candidate\", fontsize=16)\n",
        "ax.legend(loc='upper right', bbox_to_anchor=(0.1, 0.1))\n",
        "ax.grid(True)\n",
        "\n",
        "# Create a radar chart for the second data frame\n",
        "ax.plot(angles, values2, 'o-', linewidth=2, label=\"Candidate Scores\")\n",
        "ax.fill(angles, values2, alpha=0.25)\n",
        "ax.legend(loc='upper right', bbox_to_anchor=(0.1, 0.1))\n",
        "\n",
        "# Show the radar chart\n",
        "plt.show()\n"
      ],
      "metadata": {
        "id": "1_urgIUHmhg6",
        "colab": {
          "base_uri": "https://localhost:8080/",
          "height": 530
        },
        "outputId": "54195c4d-f467-4706-bc86-76cfb3e767c8"
      },
      "execution_count": 44,
      "outputs": [
        {
          "output_type": "display_data",
          "data": {
            "text/plain": [
              "<Figure size 600x600 with 1 Axes>"
            ],
            "image/png": "[encoded data removed]"
          },
          "metadata": {}
        }
      ]
    },
    {
      "cell_type": "code",
      "source": [
        "import matplotlib.pyplot as plt\n",
        "\n",
        "# Extract the column names from the data frames\n",
        "columns = candidate_scores.columns\n",
        "\n",
        "# Create a scatter plot for each column\n",
        "for col in columns:\n",
        "    plt.scatter(expected[col], candidate_scores[col], label=col)\n",
        "\n",
        "# Add a horizontal line at the middle of the plot\n",
        "plt.plot([0, 5], [0, 5], linestyle='--', color='grey')\n",
        "\n",
        "# Add labels and legend  \n",
        "plt.xlabel('EXPECTED SCORE')\n",
        "plt.ylabel('CANDIDATE SCORE')\n",
        "plt.legend()\n",
        "\n",
        "# Display the plot\n",
        "plt.show()\n"
      ],
      "metadata": {
        "id": "d-pDyLCwkOy_",
        "colab": {
          "base_uri": "https://localhost:8080/",
          "height": 449
        },
        "outputId": "a52cdd2a-ab15-4e14-8128-3f234db4d10e"
      },
      "execution_count": 45,
      "outputs": [
        {
          "output_type": "display_data",
          "data": {
            "text/plain": [
              "<Figure size 640x480 with 1 Axes>"
            ],
            "image/png": "[encoded data removed]"
          },
          "metadata": {}
        }
      ]
    },
    {
      "cell_type": "markdown",
      "source": [
        "# Supervised Learning Models to Predict Personality Cluster"
      ],
      "metadata": {
        "id": "SwvC_mG6r-pw"
      }
    },
    {
      "cell_type": "code",
      "source": [
        "# load the dataset created from K-means model\n",
        "clusters_df = pd.read_csv('Personality_clusters.csv')"
      ],
      "metadata": {
        "id": "9wAZQPydsphR"
      },
      "execution_count": 46,
      "outputs": []
    },
    {
      "cell_type": "code",
      "source": [
        "clusters_df"
      ],
      "metadata": {
        "colab": {
          "base_uri": "https://localhost:8080/",
          "height": 424
        },
        "id": "otwHQbl-tYht",
        "outputId": "391688db-f1f5-480a-ce69-873f6bba1a83"
      },
      "execution_count": 47,
      "outputs": [
        {
          "output_type": "execute_result",
          "data": {
            "text/plain": [
              "         openness  conscientiousness  extraversion  agreeableness  \\\n",
              "0             3.3                3.2           3.0            3.1   \n",
              "1             2.7                3.1           3.4            3.2   \n",
              "2             3.1                2.8           2.9            2.8   \n",
              "3             3.1                2.7           2.6            3.2   \n",
              "4             3.6                3.2           3.5            3.0   \n",
              "...           ...                ...           ...            ...   \n",
              "1013476       2.9                3.1           3.2            3.6   \n",
              "1013477       3.3                2.8           3.4            3.3   \n",
              "1013478       3.6                3.3           3.3            3.5   \n",
              "1013479       3.5                3.0           2.8            3.1   \n",
              "1013480       3.5                2.8           3.1            3.4   \n",
              "\n",
              "         neuroticism  cluster  \n",
              "0                2.4        1  \n",
              "1                2.1        1  \n",
              "2                2.6        1  \n",
              "3                2.7        1  \n",
              "4                2.3        1  \n",
              "...              ...      ...  \n",
              "1013476          3.3        4  \n",
              "1013477          4.0        3  \n",
              "1013478          2.7        2  \n",
              "1013479          3.3        4  \n",
              "1013480          2.9        2  \n",
              "\n",
              "[1013481 rows x 6 columns]"
            ],
            "text/html": [
              "\n",
              "  <div id=\"df-7a895c2d-85b5-477e-805f-e5eeaf3753b0\">\n",
              "    <div class=\"colab-df-container\">\n",
              "      <div>\n",
              "<style scoped>\n",
              "    .dataframe tbody tr th:only-of-type {\n",
              "        vertical-align: middle;\n",
              "    }\n",
              "\n",
              "    .dataframe tbody tr th {\n",
              "        vertical-align: top;\n",
              "    }\n",
              "\n",
              "    .dataframe thead th {\n",
              "        text-align: right;\n",
              "    }\n",
              "</style>\n",
              "<table border=\"1\" class=\"dataframe\">\n",
              "  <thead>\n",
              "    <tr style=\"text-align: right;\">\n",
              "      <th></th>\n",
              "      <th>openness</th>\n",
              "      <th>conscientiousness</th>\n",
              "      <th>extraversion</th>\n",
              "      <th>agreeableness</th>\n",
              "      <th>neuroticism</th>\n",
              "      <th>cluster</th>\n",
              "    </tr>\n",
              "  </thead>\n",
              "  <tbody>\n",
              "    <tr>\n",
              "      <th>0</th>\n",
              "      <td>3.3</td>\n",
              "      <td>3.2</td>\n",
              "      <td>3.0</td>\n",
              "      <td>3.1</td>\n",
              "      <td>2.4</td>\n",
              "      <td>1</td>\n",
              "    </tr>\n",
              "    <tr>\n",
              "      <th>1</th>\n",
              "      <td>2.7</td>\n",
              "      <td>3.1</td>\n",
              "      <td>3.4</td>\n",
              "      <td>3.2</td>\n",
              "      <td>2.1</td>\n",
              "      <td>1</td>\n",
              "    </tr>\n",
              "    <tr>\n",
              "      <th>2</th>\n",
              "      <td>3.1</td>\n",
              "      <td>2.8</td>\n",
              "      <td>2.9</td>\n",
              "      <td>2.8</td>\n",
              "      <td>2.6</td>\n",
              "      <td>1</td>\n",
              "    </tr>\n",
              "    <tr>\n",
              "      <th>3</th>\n",
              "      <td>3.1</td>\n",
              "      <td>2.7</td>\n",
              "      <td>2.6</td>\n",
              "      <td>3.2</td>\n",
              "      <td>2.7</td>\n",
              "      <td>1</td>\n",
              "    </tr>\n",
              "    <tr>\n",
              "      <th>4</th>\n",
              "      <td>3.6</td>\n",
              "      <td>3.2</td>\n",
              "      <td>3.5</td>\n",
              "      <td>3.0</td>\n",
              "      <td>2.3</td>\n",
              "      <td>1</td>\n",
              "    </tr>\n",
              "    <tr>\n",
              "      <th>...</th>\n",
              "      <td>...</td>\n",
              "      <td>...</td>\n",
              "      <td>...</td>\n",
              "      <td>...</td>\n",
              "      <td>...</td>\n",
              "      <td>...</td>\n",
              "    </tr>\n",
              "    <tr>\n",
              "      <th>1013476</th>\n",
              "      <td>2.9</td>\n",
              "      <td>3.1</td>\n",
              "      <td>3.2</td>\n",
              "      <td>3.6</td>\n",
              "      <td>3.3</td>\n",
              "      <td>4</td>\n",
              "    </tr>\n",
              "    <tr>\n",
              "      <th>1013477</th>\n",
              "      <td>3.3</td>\n",
              "      <td>2.8</td>\n",
              "      <td>3.4</td>\n",
              "      <td>3.3</td>\n",
              "      <td>4.0</td>\n",
              "      <td>3</td>\n",
              "    </tr>\n",
              "    <tr>\n",
              "      <th>1013478</th>\n",
              "      <td>3.6</td>\n",
              "      <td>3.3</td>\n",
              "      <td>3.3</td>\n",
              "      <td>3.5</td>\n",
              "      <td>2.7</td>\n",
              "      <td>2</td>\n",
              "    </tr>\n",
              "    <tr>\n",
              "      <th>1013479</th>\n",
              "      <td>3.5</td>\n",
              "      <td>3.0</td>\n",
              "      <td>2.8</td>\n",
              "      <td>3.1</td>\n",
              "      <td>3.3</td>\n",
              "      <td>4</td>\n",
              "    </tr>\n",
              "    <tr>\n",
              "      <th>1013480</th>\n",
              "      <td>3.5</td>\n",
              "      <td>2.8</td>\n",
              "      <td>3.1</td>\n",
              "      <td>3.4</td>\n",
              "      <td>2.9</td>\n",
              "      <td>2</td>\n",
              "    </tr>\n",
              "  </tbody>\n",
              "</table>\n",
              "<p>1013481 rows × 6 columns</p>\n",
              "</div>\n",
              "      <button class=\"colab-df-convert\" onclick=\"convertToInteractive('df-7a895c2d-85b5-477e-805f-e5eeaf3753b0')\"\n",
              "              title=\"Convert this dataframe to an interactive table.\"\n",
              "              style=\"display:none;\">\n",
              "        \n",
              "  <svg xmlns=\"http://www.w3.org/2000/svg\" height=\"24px\"viewBox=\"0 0 24 24\"\n",
              "       width=\"24px\">\n",
              "    <path d=\"M0 0h24v24H0V0z\" fill=\"none\"/>\n",
              "    <path d=\"M18.56 5.44l.94 2.06.94-2.06 2.06-.94-2.06-.94-.94-2.06-.94 2.06-2.06.94zm-11 1L8.5 8.5l.94-2.06 2.06-.94-2.06-.94L8.5 2.5l-.94 2.06-2.06.94zm10 10l.94 2.06.94-2.06 2.06-.94-2.06-.94-.94-2.06-.94 2.06-2.06.94z\"/><path d=\"M17.41 7.96l-1.37-1.37c-.4-.4-.92-.59-1.43-.59-.52 0-1.04.2-1.43.59L10.3 9.45l-7.72 7.72c-.78.78-.78 2.05 0 2.83L4 21.41c.39.39.9.59 1.41.59.51 0 1.02-.2 1.41-.59l7.78-7.78 2.81-2.81c.8-.78.8-2.07 0-2.86zM5.41 20L4 18.59l7.72-7.72 1.47 1.35L5.41 20z\"/>\n",
              "  </svg>\n",
              "      </button>\n",
              "      \n",
              "  <style>\n",
              "    .colab-df-container {\n",
              "      display:flex;\n",
              "      flex-wrap:wrap;\n",
              "      gap: 12px;\n",
              "    }\n",
              "\n",
              "    .colab-df-convert {\n",
              "      background-color: #E8F0FE;\n",
              "      border: none;\n",
              "      border-radius: 50%;\n",
              "      cursor: pointer;\n",
              "      display: none;\n",
              "      fill: #1967D2;\n",
              "      height: 32px;\n",
              "      padding: 0 0 0 0;\n",
              "      width: 32px;\n",
              "    }\n",
              "\n",
              "    .colab-df-convert:hover {\n",
              "      background-color: #E2EBFA;\n",
              "      box-shadow: 0px 1px 2px rgba(60, 64, 67, 0.3), 0px 1px 3px 1px rgba(60, 64, 67, 0.15);\n",
              "      fill: #174EA6;\n",
              "    }\n",
              "\n",
              "    [theme=dark] .colab-df-convert {\n",
              "      background-color: #3B4455;\n",
              "      fill: #D2E3FC;\n",
              "    }\n",
              "\n",
              "    [theme=dark] .colab-df-convert:hover {\n",
              "      background-color: #434B5C;\n",
              "      box-shadow: 0px 1px 3px 1px rgba(0, 0, 0, 0.15);\n",
              "      filter: drop-shadow(0px 1px 2px rgba(0, 0, 0, 0.3));\n",
              "      fill: #FFFFFF;\n",
              "    }\n",
              "  </style>\n",
              "\n",
              "      <script>\n",
              "        const buttonEl =\n",
              "          document.querySelector('#df-7a895c2d-85b5-477e-805f-e5eeaf3753b0 button.colab-df-convert');\n",
              "        buttonEl.style.display =\n",
              "          google.colab.kernel.accessAllowed ? 'block' : 'none';\n",
              "\n",
              "        async function convertToInteractive(key) {\n",
              "          const element = document.querySelector('#df-7a895c2d-85b5-477e-805f-e5eeaf3753b0');\n",
              "          const dataTable =\n",
              "            await google.colab.kernel.invokeFunction('convertToInteractive',\n",
              "                                                     [key], {});\n",
              "          if (!dataTable) return;\n",
              "\n",
              "          const docLinkHtml = 'Like what you see? Visit the ' +\n",
              "            '<a target=\"_blank\" href=https://colab.research.google.com/notebooks/data_table.ipynb>data table notebook</a>'\n",
              "            + ' to learn more about interactive tables.';\n",
              "          element.innerHTML = '';\n",
              "          dataTable['output_type'] = 'display_data';\n",
              "          await google.colab.output.renderOutput(dataTable, element);\n",
              "          const docLink = document.createElement('div');\n",
              "          docLink.innerHTML = docLinkHtml;\n",
              "          element.appendChild(docLink);\n",
              "        }\n",
              "      </script>\n",
              "    </div>\n",
              "  </div>\n",
              "  "
            ]
          },
          "metadata": {},
          "execution_count": 47
        }
      ]
    },
    {
      "cell_type": "markdown",
      "source": [
        "##Splitting Data into Training and Testing"
      ],
      "metadata": {
        "id": "Kdyu8hzsu_r0"
      }
    },
    {
      "cell_type": "code",
      "source": [
        "X = clusters_df[['openness', 'conscientiousness', 'extraversion', 'agreeableness', 'neuroticism']]\n",
        "y = clusters_df['cluster']\n",
        "\n",
        "# Split the dataset into training and testing sets\n",
        "X_train, X_test, y_train, y_test = train_test_split(X, y, test_size=0.2, random_state=42)"
      ],
      "metadata": {
        "id": "Lxbgk8awu_Pc"
      },
      "execution_count": 48,
      "outputs": []
    },
    {
      "cell_type": "markdown",
      "source": [
        "##RandomForest Model"
      ],
      "metadata": {
        "id": "ufYywP6Nt9bK"
      }
    },
    {
      "cell_type": "code",
      "source": [
        "# Instantiate the Random Forest Classifier\n",
        "rf_classifier = RandomForestClassifier()\n",
        "\n",
        "# Fit the model to the training data\n",
        "rf_classifier.fit(X_train, y_train)\n",
        "\n",
        "# Predict cluster labels for the test data\n",
        "y_pred = rf_classifier.predict(X_test)\n",
        "\n",
        "# Evaluate the model's performance\n",
        "accuracy = accuracy_score(y_test, y_pred)\n",
        "print(\"Accuracy:\", accuracy)\n"
      ],
      "metadata": {
        "colab": {
          "base_uri": "https://localhost:8080/"
        },
        "id": "HwLuFU-qsGuf",
        "outputId": "ef5bf95a-70f6-4447-b862-0869c5c06560"
      },
      "execution_count": 49,
      "outputs": [
        {
          "output_type": "stream",
          "name": "stdout",
          "text": [
            "Accuracy: 0.9910556150313029\n"
          ]
        }
      ]
    },
    {
      "cell_type": "markdown",
      "source": [
        "**Accuracy is too high - Overfitting**"
      ],
      "metadata": {
        "id": "GNUe5wZl60N9"
      }
    },
    {
      "cell_type": "markdown",
      "source": [
        "## XGBoost Model"
      ],
      "metadata": {
        "id": "cFElyF-xuSr0"
      }
    },
    {
      "cell_type": "code",
      "source": [
        "# Convert the data to DMatrix format\n",
        "dtrain = xgb.DMatrix(X_train, label=y_train)\n",
        "dtest = xgb.DMatrix(X_test, label=y_test)\n",
        "\n",
        "num_classes = len(clusters_df['cluster'].unique())\n",
        "\n",
        "# Set the parameters for XGBoost\n",
        "params = {\n",
        "    'objective': 'multi:softmax',\n",
        "    'num_class': num_classes,\n",
        "    'seed': 42\n",
        "}\n",
        "\n",
        "# Train the XGBoost model\n",
        "xgb_model = xgb.train(params, dtrain)\n",
        "\n",
        "# Predict cluster labels for the test data\n",
        "y_pred = xgb_model.predict(dtest)\n",
        "\n",
        "# Convert the predicted labels to integers\n",
        "y_pred = y_pred.astype(int)\n",
        "\n",
        "# Evaluate the model's performance\n",
        "accuracy = accuracy_score(y_test, y_pred)\n",
        "print(\"Accuracy:\", accuracy)"
      ],
      "metadata": {
        "id": "TklZbo47ueqB",
        "colab": {
          "base_uri": "https://localhost:8080/"
        },
        "outputId": "448d73ee-b003-4777-bb3d-7fc8bb90279e"
      },
      "execution_count": 50,
      "outputs": [
        {
          "output_type": "stream",
          "name": "stdout",
          "text": [
            "Accuracy: 0.9538769690720632\n"
          ]
        }
      ]
    },
    {
      "cell_type": "markdown",
      "source": [
        "##Naive-Bayes"
      ],
      "metadata": {
        "id": "pHXeUXn45XHj"
      }
    },
    {
      "cell_type": "code",
      "source": [
        "# Instantiate the Naive Bayes classifier\n",
        "nb_classifier = GaussianNB()\n",
        "\n",
        "# Fit the model to the training data\n",
        "nb_classifier.fit(X_train, y_train)\n",
        "\n",
        "# Predict cluster labels for the test data\n",
        "y_pred = nb_classifier.predict(X_test)\n",
        "\n",
        "# Evaluate the model's performance\n",
        "accuracy = accuracy_score(y_test, y_pred)\n",
        "print(\"Accuracy:\", accuracy)\n"
      ],
      "metadata": {
        "id": "_B30Qu_15Idv",
        "colab": {
          "base_uri": "https://localhost:8080/"
        },
        "outputId": "ef10fe3f-680d-46b9-8db5-a2c50bec0b29"
      },
      "execution_count": 51,
      "outputs": [
        {
          "output_type": "stream",
          "name": "stdout",
          "text": [
            "Accuracy: 0.9573155991455227\n"
          ]
        }
      ]
    },
    {
      "cell_type": "markdown",
      "source": [
        "##Save the Cross Validated XGBoost model"
      ],
      "metadata": {
        "id": "a3J7tz56wS48"
      }
    },
    {
      "cell_type": "code",
      "source": [
        "# Save the trained model to a pickle file\n",
        "filename = 'xgboost_model.pkl'\n",
        "with open(filename, 'wb') as file:\n",
        "    pickle.dump(xgb_model, file)\n"
      ],
      "metadata": {
        "id": "w-Grmvl3yELL"
      },
      "execution_count": 52,
      "outputs": []
    },
    {
      "cell_type": "markdown",
      "source": [
        "##Predict the Personality Clusters"
      ],
      "metadata": {
        "id": "NxSEFwppwv0b"
      }
    },
    {
      "cell_type": "markdown",
      "source": [
        "##Load the saved XGBoost model"
      ],
      "metadata": {
        "id": "FenhQ4Tqy2M9"
      }
    },
    {
      "cell_type": "code",
      "source": [
        "# Load the saved XGBoost model from the pickle file\n",
        "filename = 'xgboost_model.pkl'\n",
        "with open(filename, 'rb') as file:\n",
        "    xgb_model = pickle.load(file)"
      ],
      "metadata": {
        "id": "_XiGX99ey8uL"
      },
      "execution_count": 53,
      "outputs": []
    },
    {
      "cell_type": "code",
      "source": [
        "# predict the personality cluster for Candidate's personality\n",
        "\n",
        "# Convert the candidate_scores DataFrame to DMatrix format\n",
        "dnew = xgb.DMatrix(candidate_scores)\n",
        "\n",
        "# Make predictions using the XGBoost model\n",
        "predictions = xgb_model.predict(dnew)\n",
        "\n",
        "print(\"Candidate Personality Cluster:\", predictions)"
      ],
      "metadata": {
        "id": "v0sM2erOCfP4",
        "colab": {
          "base_uri": "https://localhost:8080/"
        },
        "outputId": "6c71f9eb-363a-4bb3-d24a-7e839fbd2ec1"
      },
      "execution_count": 54,
      "outputs": [
        {
          "output_type": "stream",
          "name": "stdout",
          "text": [
            "Candidate Personality Cluster: [1.]\n"
          ]
        }
      ]
    },
    {
      "cell_type": "code",
      "source": [
        "# predict the personality cluster for Candidate's personality\n",
        "\n",
        "# Convert the candidate_scores DataFrame to DMatrix format\n",
        "dnew = xgb.DMatrix(expected)\n",
        "\n",
        "# Make predictions using the XGBoost model\n",
        "predictions = xgb_model.predict(dnew)\n",
        "\n",
        "print(\"Candidate Personality Cluster:\", predictions)"
      ],
      "metadata": {
        "id": "jcc4fNZMTi5G",
        "colab": {
          "base_uri": "https://localhost:8080/"
        },
        "outputId": "ce49de15-ac57-4ae2-9bad-3193187c63c8"
      },
      "execution_count": 55,
      "outputs": [
        {
          "output_type": "stream",
          "name": "stdout",
          "text": [
            "Candidate Personality Cluster: [3.]\n"
          ]
        }
      ]
    },
    {
      "cell_type": "markdown",
      "source": [
        "# Score for Expected vs Candidate Traits"
      ],
      "metadata": {
        "id": "wFuRrHvMu-sh"
      }
    },
    {
      "cell_type": "code",
      "source": [
        "# Score = ((OE/OC + CC/CE + EC/EE + AC/AE + NC/NE)/5)*100"
      ],
      "metadata": {
        "id": "kVhgwWaxvB0u"
      },
      "execution_count": 56,
      "outputs": []
    },
    {
      "cell_type": "code",
      "source": [
        "# Add a new column with the sum of 'Fast learner' and 'Innovative'\n",
        "\n",
        "O = candidate_scores['openness']/expected['openness']\n",
        "C = candidate_scores['conscientiousness']/expected['conscientiousness']\n",
        "E = candidate_scores['extraversion']/expected['extraversion']\n",
        "A = candidate_scores['agreeableness']/expected['agreeableness']\n",
        "N = 1 - (candidate_scores['neuroticism']/expected['neuroticism'])\n",
        "\n",
        "# print('O: ', O)\n",
        "# print('C: ', C)\n",
        "# print('E: ', E)\n",
        "# print('A', A)\n",
        "# print('N', N)\n",
        "\n",
        "score = ((O + C + E + A + N)/5)*100\n",
        "\n",
        "# Show the updated DataFrame\n",
        "print('Candidate personality score: ', score)"
      ],
      "metadata": {
        "id": "ylv4biPUv6NE",
        "colab": {
          "base_uri": "https://localhost:8080/"
        },
        "outputId": "262eee09-b750-41cc-d12f-501fec192a96"
      },
      "execution_count": 57,
      "outputs": [
        {
          "output_type": "stream",
          "name": "stdout",
          "text": [
            "Candidate personality score:  0    72.957672\n",
            "dtype: float64\n"
          ]
        }
      ]
    }
  ]
}